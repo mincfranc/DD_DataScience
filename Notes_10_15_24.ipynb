{
  "nbformat": 4,
  "nbformat_minor": 0,
  "metadata": {
    "colab": {
      "provenance": [],
      "toc_visible": true,
      "authorship_tag": "ABX9TyNZXhsx1HPsE8gsduUA09bd",
      "include_colab_link": true
    },
    "kernelspec": {
      "name": "python3",
      "display_name": "Python 3"
    },
    "language_info": {
      "name": "python"
    }
  },
  "cells": [
    {
      "cell_type": "markdown",
      "metadata": {
        "id": "view-in-github",
        "colab_type": "text"
      },
      "source": [
        "<a href=\"https://colab.research.google.com/github/mincfranc/DD_DataScience/blob/main/Notes_10_15_24.ipynb\" target=\"_parent\"><img src=\"https://colab.research.google.com/assets/colab-badge.svg\" alt=\"Open In Colab\"/></a>"
      ]
    },
    {
      "cell_type": "markdown",
      "source": [
        "#10-15-24 NOTES"
      ],
      "metadata": {
        "id": "7kt6SF25IM4H"
      }
    },
    {
      "cell_type": "markdown",
      "source": [
        "2nd_iteration_10_14_24_Project2.DRAFT.ipynb\n",
        "```\n",
        "created notebook for class and shared on huddle thread and to cohort-datascience15\n",
        "*  10_15_24_HW_Review_.ipynb\n",
        "```\n",
        "\n",
        "*  https://colab.research.google.com/drive/1Wz13Cwmt8MGVqQ6oNDlx3dVHfUsm7fHN?usp=sharing\n",
        "\n",
        "*  https://colab.research.google.com/drive/1Wz13Cwmt8MGVqQ6oNDlx3dVHfUsm7fHN?usp=drive_link\n",
        "\n",
        "\n",
        "\n",
        "```\n",
        "*   From Robert in huddle thread:\n",
        "Here’s a prompt to try out in Gemini, ChatGPT, etc.\n",
        "What are some ways to get the inverse of isna() in pandas?\n",
        "    *  df.notna()\n",
        "    *  ~df.isna()\n",
        "    *  df.notnull()\n",
        "    *  df[df.notna()]\n",
        "\n",
        "```\n",
        "\n",
        "\n"
      ],
      "metadata": {
        "id": "u5NwL1bBIM1P"
      }
    },
    {
      "cell_type": "markdown",
      "source": [
        "From: Mel on thread\n",
        "\n",
        "```\n",
        "# Get categorical columns\n",
        "categorical_cols = house_orig.select_dtypes(include=['object']).columns\n",
        "# Loop through each categorical column\n",
        "for col in categorical_cols:\n",
        "    print(f\"\\nValue counts for column '{col}':\")\n",
        "    # Get value counts for each category within the column\n",
        "    value_counts_series = house_orig[col].value_counts()\n",
        "    # Print the value counts\n",
        "    print(value_counts_series)\n",
        "```\n",
        "```\n",
        "THEN:    # Find columns with nulls\n",
        "cols_with_nulls = house_orig.columns[house_orig.isnull().any()].tolist()\n",
        "# Calculate and print percentage of nulls for each column\n",
        "for col in cols_with_nulls:\n",
        "    null_percentage = (house_orig[col].isnull().sum() / len(house_orig)) * 100\n",
        "    print(f\"Column '{col}': {null_percentage:.2f}% nulls\")\n",
        "\n",
        "```\n",
        "\n",
        "```\n",
        "pairs = ['Street', 'Heating'] #and... how many pairs are there in a symmetrical matrix? (don't include the diagonal, itself with itself) 43x43 - 43(take out diagonals)/2 (because only need one triangle of the matrix): 43x21 = 903 possible pairs\n",
        "house_orig[pairs].value_counts()/house_orig[pairs].value_counts().sum()*100\n",
        "```\n",
        "\n",
        "Robert Citek:\n",
        "```\n",
        "Substitute the name of your data frame for sale_df.  For example,\n",
        "\n",
        "sale_df = your_df\n",
        "\n",
        "```\n",
        "\n",
        "\n",
        "\n",
        "\n"
      ],
      "metadata": {
        "id": "VUMTXTqeJYMz"
      }
    },
    {
      "cell_type": "markdown",
      "source": [],
      "metadata": {
        "id": "m7kg2KSBJX_c"
      }
    },
    {
      "cell_type": "markdown",
      "source": [],
      "metadata": {
        "id": "Sf8j5wkIJXSA"
      }
    },
    {
      "cell_type": "markdown",
      "source": [
        "#NOTES 10_14_24"
      ],
      "metadata": {
        "id": "UdBm7Qb0mHyv"
      }
    },
    {
      "cell_type": "markdown",
      "source": [
        "10/14/24  notes nominal data- one-hot encoding to change to 0, 1\n",
        "ordinal encoder\n",
        "\n",
        "first step looking at dataset- look for target, if there's a target it's a supervised problem, and if the target is numerical then it's a supervised regression problem, if target is categorical then it's a supervised classification problem\n",
        "\n",
        "---\n",
        "floats are better than integers and integers are better than categorical\n",
        "\n",
        "---\n",
        "\n",
        "drop as many\n",
        "\n",
        "---\n",
        "\n",
        "residual runs\n",
        "\n",
        "---\n"
      ],
      "metadata": {
        "id": "JskyfGyUmHvu"
      }
    },
    {
      "cell_type": "markdown",
      "source": [
        "###10_14_24_2d-Advanced_Pandas\n",
        "filter based on this criteria\n",
        "will locate values\n",
        "output as list\n",
        "pass that list into drop and remove it\n",
        "\n",
        "or pass it into iloc and extract it\n",
        "\n",
        "essentially getting the rows that you want, to do something with them\n",
        "\n",
        "---\n",
        "\n",
        "Accessor Methods\n",
        "Accessors are used to access methods that correspond to certain data types. We are going to focus on two commonly used accessors:\n",
        "\n",
        "str (string)\n",
        "dt (datetime)\n",
        "\n",
        "datatypes- string, integers, floats, booleans, datetime\n"
      ],
      "metadata": {
        "id": "ly4gkQ9RmHrC"
      }
    },
    {
      "cell_type": "markdown",
      "source": [
        "###10_14_24_2d-Advanced_Pandas"
      ],
      "metadata": {
        "id": "hoLN89FgmaC1"
      }
    },
    {
      "cell_type": "markdown",
      "source": [
        "###10_14_24_8d-Pandas.Unnest.ipynb\n"
      ],
      "metadata": {
        "id": "laDSf3RsmZ5T"
      }
    },
    {
      "cell_type": "markdown",
      "source": [
        "###10_14_24_8e-Pandas.Unpivot"
      ],
      "metadata": {
        "id": "HIijBY-xovTC"
      }
    },
    {
      "cell_type": "markdown",
      "source": [
        "###playing.with.pdfs.ipynb"
      ],
      "metadata": {
        "id": "1soHfyTBou2u"
      }
    },
    {
      "cell_type": "markdown",
      "source": [
        "###10_14_24_3a-Regularization\n",
        "Powerpoint presentation\n",
        "STANDARD, MIN MAX, ROBUST Scaling\n"
      ],
      "metadata": {
        "id": "adX-gfSFmHN7"
      }
    },
    {
      "cell_type": "markdown",
      "source": [
        "###10_14_24_3b-Regularization_Example.ipynb\n",
        "\n",
        "this is exactly what we have to do for project 2"
      ],
      "metadata": {
        "id": "1FICTmzsmZ2K"
      }
    },
    {
      "cell_type": "markdown",
      "source": [
        "for project 2 drop all the categorical variables and run regression etc for first iteration\n",
        "\n",
        "then one-hot encode in the next one\n",
        "\n",
        "and an additonal feature/function to the 3rd iteration\n",
        "\n",
        "model validation and continuous response notebook 1b"
      ],
      "metadata": {
        "id": "QuDOYEyBuy6T"
      }
    },
    {
      "cell_type": "markdown",
      "source": [
        "##10_14_24_3c-Feature_Selection\n"
      ],
      "metadata": {
        "id": "CBMl_yXK0_9E"
      }
    },
    {
      "cell_type": "markdown",
      "source": [
        "##10_14_24_4a-Plotly_Express."
      ],
      "metadata": {
        "id": "zxM4IYIF1Aba"
      }
    },
    {
      "cell_type": "markdown",
      "source": [
        "##10_14_24_5a-Box_Cox.ipyn"
      ],
      "metadata": {
        "id": "Zhy-pIHGDRiQ"
      }
    },
    {
      "cell_type": "markdown",
      "source": [],
      "metadata": {
        "id": "NsFIU5RZDRCH"
      }
    }
  ]
}