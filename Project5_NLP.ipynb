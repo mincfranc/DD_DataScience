{
  "cells": [
    {
      "cell_type": "markdown",
      "metadata": {
        "id": "view-in-github",
        "colab_type": "text"
      },
      "source": [
        "<a href=\"https://colab.research.google.com/github/mincfranc/DD_DataScience/blob/main/Project_5.ipynb\" target=\"_parent\"><img src=\"https://colab.research.google.com/assets/colab-badge.svg\" alt=\"Open In Colab\"/></a>"
      ]
    },
    {
      "cell_type": "markdown",
      "metadata": {
        "id": "mt3xkAmfG08h"
      },
      "source": [
        "#Project 5. Natural Language Processing"
      ]
    },
    {
      "cell_type": "markdown",
      "metadata": {
        "id": "m4v8k7j2s7Xf"
      },
      "source": [
        "#Part 1) NLP-Based Similarity and Sentiment Analysis of Person Overviews"
      ]
    },
    {
      "cell_type": "markdown",
      "source": [
        "Aim:\n",
        "\n",
        "-For user to pick any one person from list as input and output the 10 other people who's overview are \"closest\" to the person in a Natural Language Processing sense.\n",
        "\n",
        "-Also output the sentiment of the overview of the person."
      ],
      "metadata": {
        "id": "mhshkb2UrIQz"
      }
    },
    {
      "cell_type": "markdown",
      "source": [
        "```\n",
        "1. Imported my libraries & saved CSV file as dataframe\n",
        "```"
      ],
      "metadata": {
        "id": "ABqJMlwlgdRP"
      }
    },
    {
      "cell_type": "markdown",
      "source": [
        "```\n",
        "-pandas and numpy are used for data manipulation and working with arrays.\n",
        "-nltk (Natural Language Toolkit) is used for text processing, including stopwords and sentiment analysis.\n",
        "-TfidfVectorizer and NearestNeighbors from sklearn are used for text vectorization (converting text into numerical data)\n",
        "and finding nearest neighbors based on that vectorization.\n",
        "-TextBlob is used to perform sentiment analysis.\n",
        "-re is used for regular expressions to clean the text data.\n",
        "-nltk.download('stopwords') ensures the stopwords (common words like \"the\", \"and\", etc.) are downloaded and available.\n",
        "-stop_words = set(stopwords.words('english')) creates a set of stopwords in English to filter out these words from the text.\n",
        "\n",
        "```"
      ],
      "metadata": {
        "id": "s1-VwpQQHPNn"
      }
    },
    {
      "cell_type": "code",
      "execution_count": 1,
      "metadata": {
        "id": "yHBJAbrGviBT",
        "colab": {
          "base_uri": "https://localhost:8080/"
        },
        "outputId": "9c253f88-6fd7-4f4e-dfc2-66398bc7c529"
      },
      "outputs": [
        {
          "output_type": "stream",
          "name": "stderr",
          "text": [
            "[nltk_data] Downloading package stopwords to /root/nltk_data...\n",
            "[nltk_data]   Package stopwords is already up-to-date!\n",
            "[nltk_data] Downloading package vader_lexicon to /root/nltk_data...\n",
            "[nltk_data]   Package vader_lexicon is already up-to-date!\n",
            "[nltk_data] Downloading package punkt_tab to /root/nltk_data...\n",
            "[nltk_data]   Package punkt_tab is already up-to-date!\n"
          ]
        },
        {
          "output_type": "execute_result",
          "data": {
            "text/plain": [
              "True"
            ]
          },
          "metadata": {},
          "execution_count": 1
        }
      ],
      "source": [
        "#Part 1\n",
        "import pandas as pd\n",
        "import numpy as np\n",
        "import matplotlib.pyplot as plt\n",
        "import nltk\n",
        "from nltk.corpus import stopwords\n",
        "nltk.download('stopwords')\n",
        "stop_words = set(stopwords.words('english'))\n",
        "from sklearn.feature_extraction.text import TfidfVectorizer\n",
        "from sklearn.neighbors import NearestNeighbors\n",
        "import re\n",
        "from textblob import TextBlob\n",
        "import random\n",
        "import urllib.parse  # To handle URL decoding\n",
        "\n",
        "pd.options.display.max_columns = 100\n",
        "\n",
        "\n",
        "\n",
        "#Part 2\n",
        "import requests\n",
        "from textblob import TextBlob\n",
        "import spacy\n",
        "from sklearn.metrics.pairwise import cosine_similarity\n",
        "from sklearn.feature_extraction.text import CountVectorizer\n",
        "from collections import Counter\n",
        "nltk.download('vader_lexicon')  # Download VADER lexicon for sentiment analysis\n",
        "from nltk.sentiment.vader import SentimentIntensityAnalyzer\n",
        "import matplotlib as mpl\n",
        "\n",
        "nltk.download('punkt_tab')\n",
        "\n",
        "\n",
        "\n"
      ]
    },
    {
      "cell_type": "code",
      "execution_count": 2,
      "metadata": {
        "id": "2zfS7P7n3Bvw"
      },
      "outputs": [],
      "source": [
        "%%capture\n",
        "# Install textblob\n",
        "!pip install -U textblob\n",
        "from textblob import TextBlob"
      ]
    },
    {
      "cell_type": "code",
      "execution_count": 3,
      "metadata": {
        "id": "vkssa0lN3Bt8"
      },
      "outputs": [],
      "source": [
        "%%capture\n",
        "# Download corpora\n",
        "!python -m textblob.download_corpora"
      ]
    },
    {
      "cell_type": "code",
      "execution_count": 4,
      "metadata": {
        "id": "cquWtTroj7yb"
      },
      "outputs": [],
      "source": [
        "%%capture output\n",
        "#install Wikipedia API\n",
        "!pip3 install wikipedia-api\n",
        "import wikipediaapi"
      ]
    },
    {
      "cell_type": "markdown",
      "metadata": {
        "id": "g0mktlu3HAbZ"
      },
      "source": [
        "Data Collection: URL"
      ]
    },
    {
      "cell_type": "code",
      "execution_count": 5,
      "metadata": {
        "id": "c8mNCYjK3Bq4"
      },
      "outputs": [],
      "source": [
        "url= \"https://ddc-datascience.s3.amazonaws.com/Projects/Project.5-NLP/Data/NLP.csv\"\n",
        "nlp = pd.read_csv(url)\n",
        "step1= nlp.copy()"
      ]
    },
    {
      "cell_type": "markdown",
      "metadata": {
        "id": "qNEw6Iu9HK0I"
      },
      "source": [
        "Data Storage: Original dataframe \"nlp\" and working copy \"step1\""
      ]
    },
    {
      "cell_type": "code",
      "execution_count": 6,
      "metadata": {
        "id": "5cV7pkyE3Boo",
        "colab": {
          "base_uri": "https://localhost:8080/"
        },
        "outputId": "3490b848-4864-4c80-8775-32fcd0732155"
      },
      "outputs": [
        {
          "output_type": "stream",
          "name": "stdout",
          "text": [
            "<class 'pandas.core.frame.DataFrame'>\n",
            "RangeIndex: 42786 entries, 0 to 42785\n",
            "Data columns (total 3 columns):\n",
            " #   Column  Non-Null Count  Dtype \n",
            "---  ------  --------------  ----- \n",
            " 0   URI     42786 non-null  object\n",
            " 1   name    42786 non-null  object\n",
            " 2   text    42786 non-null  object\n",
            "dtypes: object(3)\n",
            "memory usage: 1002.9+ KB\n",
            "<class 'pandas.core.frame.DataFrame'>\n",
            "RangeIndex: 42786 entries, 0 to 42785\n",
            "Data columns (total 3 columns):\n",
            " #   Column  Non-Null Count  Dtype \n",
            "---  ------  --------------  ----- \n",
            " 0   URI     42786 non-null  object\n",
            " 1   name    42786 non-null  object\n",
            " 2   text    42786 non-null  object\n",
            "dtypes: object(3)\n",
            "memory usage: 1002.9+ KB\n"
          ]
        }
      ],
      "source": [
        "nlp.info()\n",
        "step1.info()"
      ]
    },
    {
      "cell_type": "markdown",
      "source": [
        "```\n",
        "2. Reviewed data structure\n",
        "```"
      ],
      "metadata": {
        "id": "GxKIUrhMhrqm"
      }
    },
    {
      "cell_type": "markdown",
      "metadata": {
        "id": "qz_Shzan3oaH"
      },
      "source": [
        "Data Structure\n",
        "\n",
        "* Cell content is object/string data type.\n",
        "\n",
        "* \"URI\" column appears to be an ID and will not be used for vectorization, will use for Part 2\n",
        "\n",
        "* \"text\" column to be used for vectorization"
      ]
    },
    {
      "cell_type": "code",
      "execution_count": 7,
      "metadata": {
        "id": "srCYuMSv3BmW",
        "colab": {
          "base_uri": "https://localhost:8080/",
          "height": 206
        },
        "outputId": "25868d7e-2b87-4ea5-a611-19347d8f7710"
      },
      "outputs": [
        {
          "output_type": "execute_result",
          "data": {
            "text/plain": [
              "                                                 URI                 name  \\\n",
              "0        <http://dbpedia.org/resource/Digby_Morrell>        Digby Morrell   \n",
              "1       <http://dbpedia.org/resource/Alfred_J._Lewy>       Alfred J. Lewy   \n",
              "2        <http://dbpedia.org/resource/Harpdog_Brown>        Harpdog Brown   \n",
              "3  <http://dbpedia.org/resource/Franz_Rottensteiner>  Franz Rottensteiner   \n",
              "4               <http://dbpedia.org/resource/G-Enka>               G-Enka   \n",
              "\n",
              "                                                text  \n",
              "0  digby morrell born 10 october 1979 is a former...  \n",
              "1  alfred j lewy aka sandy lewy graduated from un...  \n",
              "2  harpdog brown is a singer and harmonica player...  \n",
              "3  franz rottensteiner born in waidmannsfeld lowe...  \n",
              "4  henry krvits born 30 december 1974 in tallinn ...  "
            ],
            "text/html": [
              "\n",
              "  <div id=\"df-7388db52-1cb4-4b6b-9492-25619d77b1e7\" class=\"colab-df-container\">\n",
              "    <div>\n",
              "<style scoped>\n",
              "    .dataframe tbody tr th:only-of-type {\n",
              "        vertical-align: middle;\n",
              "    }\n",
              "\n",
              "    .dataframe tbody tr th {\n",
              "        vertical-align: top;\n",
              "    }\n",
              "\n",
              "    .dataframe thead th {\n",
              "        text-align: right;\n",
              "    }\n",
              "</style>\n",
              "<table border=\"1\" class=\"dataframe\">\n",
              "  <thead>\n",
              "    <tr style=\"text-align: right;\">\n",
              "      <th></th>\n",
              "      <th>URI</th>\n",
              "      <th>name</th>\n",
              "      <th>text</th>\n",
              "    </tr>\n",
              "  </thead>\n",
              "  <tbody>\n",
              "    <tr>\n",
              "      <th>0</th>\n",
              "      <td>&lt;http://dbpedia.org/resource/Digby_Morrell&gt;</td>\n",
              "      <td>Digby Morrell</td>\n",
              "      <td>digby morrell born 10 october 1979 is a former...</td>\n",
              "    </tr>\n",
              "    <tr>\n",
              "      <th>1</th>\n",
              "      <td>&lt;http://dbpedia.org/resource/Alfred_J._Lewy&gt;</td>\n",
              "      <td>Alfred J. Lewy</td>\n",
              "      <td>alfred j lewy aka sandy lewy graduated from un...</td>\n",
              "    </tr>\n",
              "    <tr>\n",
              "      <th>2</th>\n",
              "      <td>&lt;http://dbpedia.org/resource/Harpdog_Brown&gt;</td>\n",
              "      <td>Harpdog Brown</td>\n",
              "      <td>harpdog brown is a singer and harmonica player...</td>\n",
              "    </tr>\n",
              "    <tr>\n",
              "      <th>3</th>\n",
              "      <td>&lt;http://dbpedia.org/resource/Franz_Rottensteiner&gt;</td>\n",
              "      <td>Franz Rottensteiner</td>\n",
              "      <td>franz rottensteiner born in waidmannsfeld lowe...</td>\n",
              "    </tr>\n",
              "    <tr>\n",
              "      <th>4</th>\n",
              "      <td>&lt;http://dbpedia.org/resource/G-Enka&gt;</td>\n",
              "      <td>G-Enka</td>\n",
              "      <td>henry krvits born 30 december 1974 in tallinn ...</td>\n",
              "    </tr>\n",
              "  </tbody>\n",
              "</table>\n",
              "</div>\n",
              "    <div class=\"colab-df-buttons\">\n",
              "\n",
              "  <div class=\"colab-df-container\">\n",
              "    <button class=\"colab-df-convert\" onclick=\"convertToInteractive('df-7388db52-1cb4-4b6b-9492-25619d77b1e7')\"\n",
              "            title=\"Convert this dataframe to an interactive table.\"\n",
              "            style=\"display:none;\">\n",
              "\n",
              "  <svg xmlns=\"http://www.w3.org/2000/svg\" height=\"24px\" viewBox=\"0 -960 960 960\">\n",
              "    <path d=\"M120-120v-720h720v720H120Zm60-500h600v-160H180v160Zm220 220h160v-160H400v160Zm0 220h160v-160H400v160ZM180-400h160v-160H180v160Zm440 0h160v-160H620v160ZM180-180h160v-160H180v160Zm440 0h160v-160H620v160Z\"/>\n",
              "  </svg>\n",
              "    </button>\n",
              "\n",
              "  <style>\n",
              "    .colab-df-container {\n",
              "      display:flex;\n",
              "      gap: 12px;\n",
              "    }\n",
              "\n",
              "    .colab-df-convert {\n",
              "      background-color: #E8F0FE;\n",
              "      border: none;\n",
              "      border-radius: 50%;\n",
              "      cursor: pointer;\n",
              "      display: none;\n",
              "      fill: #1967D2;\n",
              "      height: 32px;\n",
              "      padding: 0 0 0 0;\n",
              "      width: 32px;\n",
              "    }\n",
              "\n",
              "    .colab-df-convert:hover {\n",
              "      background-color: #E2EBFA;\n",
              "      box-shadow: 0px 1px 2px rgba(60, 64, 67, 0.3), 0px 1px 3px 1px rgba(60, 64, 67, 0.15);\n",
              "      fill: #174EA6;\n",
              "    }\n",
              "\n",
              "    .colab-df-buttons div {\n",
              "      margin-bottom: 4px;\n",
              "    }\n",
              "\n",
              "    [theme=dark] .colab-df-convert {\n",
              "      background-color: #3B4455;\n",
              "      fill: #D2E3FC;\n",
              "    }\n",
              "\n",
              "    [theme=dark] .colab-df-convert:hover {\n",
              "      background-color: #434B5C;\n",
              "      box-shadow: 0px 1px 3px 1px rgba(0, 0, 0, 0.15);\n",
              "      filter: drop-shadow(0px 1px 2px rgba(0, 0, 0, 0.3));\n",
              "      fill: #FFFFFF;\n",
              "    }\n",
              "  </style>\n",
              "\n",
              "    <script>\n",
              "      const buttonEl =\n",
              "        document.querySelector('#df-7388db52-1cb4-4b6b-9492-25619d77b1e7 button.colab-df-convert');\n",
              "      buttonEl.style.display =\n",
              "        google.colab.kernel.accessAllowed ? 'block' : 'none';\n",
              "\n",
              "      async function convertToInteractive(key) {\n",
              "        const element = document.querySelector('#df-7388db52-1cb4-4b6b-9492-25619d77b1e7');\n",
              "        const dataTable =\n",
              "          await google.colab.kernel.invokeFunction('convertToInteractive',\n",
              "                                                    [key], {});\n",
              "        if (!dataTable) return;\n",
              "\n",
              "        const docLinkHtml = 'Like what you see? Visit the ' +\n",
              "          '<a target=\"_blank\" href=https://colab.research.google.com/notebooks/data_table.ipynb>data table notebook</a>'\n",
              "          + ' to learn more about interactive tables.';\n",
              "        element.innerHTML = '';\n",
              "        dataTable['output_type'] = 'display_data';\n",
              "        await google.colab.output.renderOutput(dataTable, element);\n",
              "        const docLink = document.createElement('div');\n",
              "        docLink.innerHTML = docLinkHtml;\n",
              "        element.appendChild(docLink);\n",
              "      }\n",
              "    </script>\n",
              "  </div>\n",
              "\n",
              "\n",
              "<div id=\"df-13a14849-6d7e-4086-8246-4f0cd15bbabb\">\n",
              "  <button class=\"colab-df-quickchart\" onclick=\"quickchart('df-13a14849-6d7e-4086-8246-4f0cd15bbabb')\"\n",
              "            title=\"Suggest charts\"\n",
              "            style=\"display:none;\">\n",
              "\n",
              "<svg xmlns=\"http://www.w3.org/2000/svg\" height=\"24px\"viewBox=\"0 0 24 24\"\n",
              "     width=\"24px\">\n",
              "    <g>\n",
              "        <path d=\"M19 3H5c-1.1 0-2 .9-2 2v14c0 1.1.9 2 2 2h14c1.1 0 2-.9 2-2V5c0-1.1-.9-2-2-2zM9 17H7v-7h2v7zm4 0h-2V7h2v10zm4 0h-2v-4h2v4z\"/>\n",
              "    </g>\n",
              "</svg>\n",
              "  </button>\n",
              "\n",
              "<style>\n",
              "  .colab-df-quickchart {\n",
              "      --bg-color: #E8F0FE;\n",
              "      --fill-color: #1967D2;\n",
              "      --hover-bg-color: #E2EBFA;\n",
              "      --hover-fill-color: #174EA6;\n",
              "      --disabled-fill-color: #AAA;\n",
              "      --disabled-bg-color: #DDD;\n",
              "  }\n",
              "\n",
              "  [theme=dark] .colab-df-quickchart {\n",
              "      --bg-color: #3B4455;\n",
              "      --fill-color: #D2E3FC;\n",
              "      --hover-bg-color: #434B5C;\n",
              "      --hover-fill-color: #FFFFFF;\n",
              "      --disabled-bg-color: #3B4455;\n",
              "      --disabled-fill-color: #666;\n",
              "  }\n",
              "\n",
              "  .colab-df-quickchart {\n",
              "    background-color: var(--bg-color);\n",
              "    border: none;\n",
              "    border-radius: 50%;\n",
              "    cursor: pointer;\n",
              "    display: none;\n",
              "    fill: var(--fill-color);\n",
              "    height: 32px;\n",
              "    padding: 0;\n",
              "    width: 32px;\n",
              "  }\n",
              "\n",
              "  .colab-df-quickchart:hover {\n",
              "    background-color: var(--hover-bg-color);\n",
              "    box-shadow: 0 1px 2px rgba(60, 64, 67, 0.3), 0 1px 3px 1px rgba(60, 64, 67, 0.15);\n",
              "    fill: var(--button-hover-fill-color);\n",
              "  }\n",
              "\n",
              "  .colab-df-quickchart-complete:disabled,\n",
              "  .colab-df-quickchart-complete:disabled:hover {\n",
              "    background-color: var(--disabled-bg-color);\n",
              "    fill: var(--disabled-fill-color);\n",
              "    box-shadow: none;\n",
              "  }\n",
              "\n",
              "  .colab-df-spinner {\n",
              "    border: 2px solid var(--fill-color);\n",
              "    border-color: transparent;\n",
              "    border-bottom-color: var(--fill-color);\n",
              "    animation:\n",
              "      spin 1s steps(1) infinite;\n",
              "  }\n",
              "\n",
              "  @keyframes spin {\n",
              "    0% {\n",
              "      border-color: transparent;\n",
              "      border-bottom-color: var(--fill-color);\n",
              "      border-left-color: var(--fill-color);\n",
              "    }\n",
              "    20% {\n",
              "      border-color: transparent;\n",
              "      border-left-color: var(--fill-color);\n",
              "      border-top-color: var(--fill-color);\n",
              "    }\n",
              "    30% {\n",
              "      border-color: transparent;\n",
              "      border-left-color: var(--fill-color);\n",
              "      border-top-color: var(--fill-color);\n",
              "      border-right-color: var(--fill-color);\n",
              "    }\n",
              "    40% {\n",
              "      border-color: transparent;\n",
              "      border-right-color: var(--fill-color);\n",
              "      border-top-color: var(--fill-color);\n",
              "    }\n",
              "    60% {\n",
              "      border-color: transparent;\n",
              "      border-right-color: var(--fill-color);\n",
              "    }\n",
              "    80% {\n",
              "      border-color: transparent;\n",
              "      border-right-color: var(--fill-color);\n",
              "      border-bottom-color: var(--fill-color);\n",
              "    }\n",
              "    90% {\n",
              "      border-color: transparent;\n",
              "      border-bottom-color: var(--fill-color);\n",
              "    }\n",
              "  }\n",
              "</style>\n",
              "\n",
              "  <script>\n",
              "    async function quickchart(key) {\n",
              "      const quickchartButtonEl =\n",
              "        document.querySelector('#' + key + ' button');\n",
              "      quickchartButtonEl.disabled = true;  // To prevent multiple clicks.\n",
              "      quickchartButtonEl.classList.add('colab-df-spinner');\n",
              "      try {\n",
              "        const charts = await google.colab.kernel.invokeFunction(\n",
              "            'suggestCharts', [key], {});\n",
              "      } catch (error) {\n",
              "        console.error('Error during call to suggestCharts:', error);\n",
              "      }\n",
              "      quickchartButtonEl.classList.remove('colab-df-spinner');\n",
              "      quickchartButtonEl.classList.add('colab-df-quickchart-complete');\n",
              "    }\n",
              "    (() => {\n",
              "      let quickchartButtonEl =\n",
              "        document.querySelector('#df-13a14849-6d7e-4086-8246-4f0cd15bbabb button');\n",
              "      quickchartButtonEl.style.display =\n",
              "        google.colab.kernel.accessAllowed ? 'block' : 'none';\n",
              "    })();\n",
              "  </script>\n",
              "</div>\n",
              "\n",
              "    </div>\n",
              "  </div>\n"
            ],
            "application/vnd.google.colaboratory.intrinsic+json": {
              "type": "dataframe",
              "variable_name": "step1",
              "summary": "{\n  \"name\": \"step1\",\n  \"rows\": 42786,\n  \"fields\": [\n    {\n      \"column\": \"URI\",\n      \"properties\": {\n        \"dtype\": \"string\",\n        \"num_unique_values\": 42786,\n        \"samples\": [\n          \"<http://dbpedia.org/resource/Tom_Bancroft>\",\n          \"<http://dbpedia.org/resource/Bart_Zeller>\",\n          \"<http://dbpedia.org/resource/Caitlin_Morrall>\"\n        ],\n        \"semantic_type\": \"\",\n        \"description\": \"\"\n      }\n    },\n    {\n      \"column\": \"name\",\n      \"properties\": {\n        \"dtype\": \"string\",\n        \"num_unique_values\": 42785,\n        \"samples\": [\n          \"Tom Bancroft\",\n          \"James Holt (scholar)\",\n          \"Chen Tze-chung\"\n        ],\n        \"semantic_type\": \"\",\n        \"description\": \"\"\n      }\n    },\n    {\n      \"column\": \"text\",\n      \"properties\": {\n        \"dtype\": \"string\",\n        \"num_unique_values\": 42786,\n        \"samples\": [\n          \"tom bancroft born 1967 london is a british jazz drummer and composer he began drumming aged seven and started off playing jazz with his father and identical twin brother phil after studying medicine at cambridge university he spent a year studying composition and arranging at mcgill university in montreal canada qualifying as a doctor in 1992 he then worked as a jazz musician and composer supporting his music income with locum work as a hospital doctor until 1998 when he began starting music related companies he is married to singer gina rae and has two children sam and sophie in 2004 he received the creative scotland awardin 1998 he launched caber music with support from the national lottery fund which went on to release over thirty cds over the next seven years to critical acclaim including two bbc jazz awards for best cd and numerous album of the year placings he has subsequently started the company abc creative music with his twin brother phil bancroft which develops creative music education resources which are now being used in more than 500 schools in scotlandas a drummer he has studied with jo morello joey baron and andrew cyrille and played with many musicians including sun ra joakim milder charlie mariano hamiett bluiett liane carroll oliver lake george colligan david berkman tommy smith julian argelles emil vicklicky martin taylor sheila jordan shooglenifty karen mathieson reid anderson billy jenkins bill wells geri allen mr mcfalls chamber and martyn bennetthe is currently the drummer with the dave milligan trio the chick lyall trio and kevin mackenzies vital signs the laura macdonald quartet and octet and plays in an improvising duo with the italian guitarist enzo roccohe is drummer and coleader of trio aab whose first album cold fusion was named an album of 1999 by bbc radio 3 and whose second album wherever i lay my home thats my hat was an album of 2001 in the guardian and picked in a list of 100 essential all time jazz albums by mojo magazine in 2001 they also released stranger things happen at c in 2002 reactivated in 2011 trio aab performed at the delhi jazz festivalas a band leader and composer he has led orchestro interrupto formerly the tom bancroft orchestra a contemporary jazz big band producing the album pieology in 1998 many festival performances a uk tour and a live concert broadcast on bbc radio 3 in 2004 the band toured the uk with geri allen and the tour was broadcast on bbc radio 3 and received five star reviews in the guardian and the scotsman and was voted jazz gig of the year in manchesters city limits and londons time out magazines orchestri interrupto released a cd in 2009 of the music from the geri allen tour with chick lyall on piano entitled the ballad of linda crawford bancroft has also composed for smaller groups including the orange ear ensemble octet and kilt couture a collaboration with french group arfi in 2006 he launched the new tom bancroft 6 pack as well as a spinoff childrens focussed band from the orchestra called kidsamonium which premiered at the gateshead international jazz festival at the sage gateshead and also at the cheltenham jazz festival in 2006 and went on to perform all over europebancrofts compositions have been used in radio film dance television and theatre he has been commissioned by bbc scotland bbc radio 3 glasgow international jazz festival assembly direct birmingham jazz and the national youth jazz orchestra of scotland he has danced in played and composed music for life on the planets surface with kelsey michael and a case for a picnic pt2 tracing houdini and hoops hats acrobats with the choreographer ruby worthhe has led many large scale community and education projects including 150 primary school children performing at the london jazz festival 200 at perth concert hall with classical percussionist colin currie and 100 parents grandparents and children playing drums and percussion at the big stix project at the gateshead jazz festivalbancroft is an active teacher and educator from private drum students to teaching composition and leading big bands he is an apple distinguished educator he has always been active in setting up new ways to promote jazz and improvisation he curated a series of mini festivals for uk and european musicians inside the glasgow jazz festival in the 1990s called clandemonium and europhonium he was active in setting up the scottish jazz federationin 2010 he was musical director of major dance show off kilter which played in major venues across scotland toured scotland with the dave milligan trio and premiered the band of eden malefemale big band to critical acclaimin late 2010 in his role at abc creative music bancroft launched the website abc creative music online to allow scottish schools to teach creative music by smartboard\",\n          \"barton wallace zeller born july 22 1941 is a former professional baseball catcher he played one game in major league baseball in 1970 for the st louis cardinals he recently served as manager of the joliet slammers of the frontier league but was released on september 10 2012zeller was signed by the cardinals in 1963 and spent four years in the cardinals farm system after missing the 1967 season he spent 1968 and 1969 with the lewiston broncs and arkansas travelers respectively zeller played in his only major league game on may 21 1970 against the philadelphia phillies he was inserted to catch the bottom of the ninth inning zeller never had a plate appearance but was credited with one put out on billy mccools strikeout of jim hutto zeller batted and threw righthanded his jersey number was 29 at the time of play he was 6 ft 1 in tall and weighed 185 lbzeller was released as an active player by the cardinals on june 8 but stayed on as a coach for the balance of the 1970 season he played in the minors in 1971 in the milwaukee brewers and new york yankees organizationszeller was the hitting coachthird base coach for the southern illinois miners of the frontier league an independent baseball league zeller began working for the miners in their inaugural 2007 season before coming to the miners zeller spent two seasons with the sioux falls canaries as a bench coach zeller was named as the first manager of slammers in january 2011zeller is currently managing the washington wild things of the frontier league\",\n          \"caitlin shea morrall machol born may 2 1983 is a beauty queen from burlington wisconsin who competed in the 2008 miss usa pageantmorrall who had previously competed in the miss wisconsin america system won the miss wisconsin usa 2007 title in the state pageant held at richland center on 2 september 2006 she competed in the nationally televised miss usa 2007 pageant which was broadcast live from the kodak theatre in hollywood california on march 23 2007 where she placed in top 15 this was the best finish by a contestant from wisconsin in 28 yearsin june 2006 morrall placed first runnerup in the miss wisconsin competition where she competed as miss burlington area chocolatefest she had previously placed 3rd runnerup in 2004 1st runnerup in 2003 and 2nd runnerup in 2002 morrall has held other local titles such as miss racine in 2002 miss milwaukee in 2003 and miss southern wisconsin in 2004 despite being eligible to compete in the miss america system for one more year morrall made the decision to compete in the miss wisconsin usa pageant one week before applications for the pageant closedmorrall is a 2001 graduate of burlington high school wisconsin and is a 2008 graduate of alverno college in milwaukee with a bachelor of arts degree in professional communicationcaitlin is currently the traffic reporter in the morning for wtmjtv 4\"\n        ],\n        \"semantic_type\": \"\",\n        \"description\": \"\"\n      }\n    }\n  ]\n}"
            }
          },
          "metadata": {},
          "execution_count": 7
        }
      ],
      "source": [
        "step1.head()"
      ]
    },
    {
      "cell_type": "markdown",
      "metadata": {
        "id": "sPTVe94G3yD9"
      },
      "source": [
        "* Shape: 3 columns, 42k+rows\n",
        "\n",
        "* Zero nulls, Zero duplicates"
      ]
    },
    {
      "cell_type": "code",
      "execution_count": 8,
      "metadata": {
        "id": "RNSW6syf3BiX",
        "colab": {
          "base_uri": "https://localhost:8080/"
        },
        "outputId": "f8490076-dfa4-4abc-9929-6e38ef01949c"
      },
      "outputs": [
        {
          "output_type": "stream",
          "name": "stdout",
          "text": [
            "(42786, 3)\n",
            "Index(['URI', 'name', 'text'], dtype='object')\n",
            "URI     42786\n",
            "name    42785\n",
            "text    42786\n",
            "dtype: int64\n",
            "False    42786\n",
            "Name: count, dtype: int64\n",
            "URI     0\n",
            "name    0\n",
            "text    0\n",
            "dtype: int64\n"
          ]
        }
      ],
      "source": [
        "print(step1.shape)\n",
        "print(step1.columns)\n",
        "\n",
        "print(step1.nunique())\n",
        "print(step1.duplicated().value_counts())\n",
        "\n",
        "print(step1.isnull().sum())"
      ]
    },
    {
      "cell_type": "markdown",
      "source": [
        "```\n",
        "3. Selected 20 random names from 'name' column using a controlled random process,\n",
        "ensuring reproducibility with the seed_value.\n",
        "  The comments indicate some seed_values I tried & included names I considered using.\n",
        "```"
      ],
      "metadata": {
        "id": "oEYIJE5gTkew"
      }
    },
    {
      "cell_type": "code",
      "source": [
        "import random\n",
        "\n",
        "seed_value= 852  #can change number to reproduce different output\n",
        "random.seed(seed_value)\n",
        "all_names = step1['name'].tolist()\n",
        "twnty_rnds = random.sample(all_names, 20)\n",
        "twnty_rnds\n",
        "\n",
        "# seed_value 1290- quasamodo\n",
        "# 8300 - 'Gangsta Boo'\n",
        "# 18624 - 'Helen Mirren'\n",
        "# 361884 - 'Asaka Kubo'\n",
        "\n",
        "# 'John Hobbs (baseball)' 852"
      ],
      "metadata": {
        "id": "aRXvhtVyrPy7",
        "colab": {
          "base_uri": "https://localhost:8080/"
        },
        "outputId": "aac0e0a3-4919-4d64-b9f0-8110c3728df7"
      },
      "execution_count": 9,
      "outputs": [
        {
          "output_type": "execute_result",
          "data": {
            "text/plain": [
              "['Jay Hein',\n",
              " 'Red Grammer',\n",
              " 'Professor Green',\n",
              " 'Steve Yzerman',\n",
              " 'Amir Kertes',\n",
              " 'David McInerney',\n",
              " 'John Hobbs (baseball)',\n",
              " 'Mervyn Conn',\n",
              " 'Larry Kilgore',\n",
              " 'Mike Straka',\n",
              " 'Clayton Spencer',\n",
              " 'Joshua Trevi%C3%B1o',\n",
              " 'Robert Hillary King',\n",
              " 'Lucy Blackman',\n",
              " 'Ryan North',\n",
              " 'Lew Hunter',\n",
              " 'Alan Foggon',\n",
              " 'Per-Edvin Persson',\n",
              " 'Steve McKevitt',\n",
              " 'Paul Suttell']"
            ]
          },
          "metadata": {},
          "execution_count": 9
        }
      ]
    },
    {
      "cell_type": "markdown",
      "source": [
        "```\n",
        "4. Assigned all names from 'name' column to a list, then picked 20 random names without\n",
        "repeating the picks.\n",
        "   The comments indicate some names I considered selecting.\n",
        "   ```"
      ],
      "metadata": {
        "id": "rja2LXVnUUMj"
      }
    },
    {
      "cell_type": "code",
      "source": [
        "all_names =step1['name'].tolist()\n",
        "randos = random.sample(all_names, 20) #will get different list each time\n",
        "randos\n",
        "\n",
        "# 'Sophie Evans (magician)'\n",
        "# 'Claudia Carrasco'\n",
        "# 'Bunny Matthews'"
      ],
      "metadata": {
        "id": "tZ9p2Lxmsz0N",
        "colab": {
          "base_uri": "https://localhost:8080/"
        },
        "outputId": "2d7a7001-4677-47a1-d520-c37d1d7abf52"
      },
      "execution_count": 10,
      "outputs": [
        {
          "output_type": "execute_result",
          "data": {
            "text/plain": [
              "['Passion Yara',\n",
              " 'John Sibbick',\n",
              " 'Bertrand Lamarche',\n",
              " 'Michal Kindred',\n",
              " 'Thomas Downey',\n",
              " 'Mustafa Hamsho',\n",
              " 'Pratap Chatterjee',\n",
              " 'Jonathan Castroviejo',\n",
              " 'Kenneth McGriff',\n",
              " 'Richard Cordray',\n",
              " 'Karl Mildenberger',\n",
              " 'Stanley F. Schmidt',\n",
              " 'Katherine Benziger',\n",
              " 'Carl Kurlander',\n",
              " 'Giovanni Amighetti',\n",
              " 'Paul Wotton',\n",
              " 'William Haggas',\n",
              " 'David Paton (ophthalmologist)',\n",
              " 'Lynn Rogoff',\n",
              " 'Peter Schwerdtfeger']"
            ]
          },
          "metadata": {},
          "execution_count": 10
        }
      ]
    },
    {
      "cell_type": "markdown",
      "source": [
        "```\n",
        "5. Searched names of people in my short list and their row number.\n",
        "```"
      ],
      "metadata": {
        "id": "DwnAaz3xU57d"
      }
    },
    {
      "source": [
        "person = \"John Hobbs (baseball)\"\n",
        "row_num = step1[step1['name'] == person].index[0]\n",
        "person, row_num"
      ],
      "cell_type": "code",
      "metadata": {
        "colab": {
          "base_uri": "https://localhost:8080/"
        },
        "id": "OIlRfgbV1GkG",
        "outputId": "8f2a2612-1059-40e4-81da-b84b7b96567e"
      },
      "execution_count": 11,
      "outputs": [
        {
          "output_type": "execute_result",
          "data": {
            "text/plain": [
              "('John Hobbs (baseball)', 39607)"
            ]
          },
          "metadata": {},
          "execution_count": 11
        }
      ]
    },
    {
      "cell_type": "markdown",
      "source": [
        "```\n",
        "6. Retrieved 'text' column for each person I wanted to look into by inputting their row number.\n",
        "   The comments indicate the first sentence of person's text to decide my selection.\n",
        "```"
      ],
      "metadata": {
        "id": "qARHSYf_VYUU"
      }
    },
    {
      "cell_type": "code",
      "source": [
        "step1.iloc[8300]['text']\n",
        "\n",
        "# iloc 9910- richard vincent bertollini american antisemite and white sup\n",
        "# 8300 - rubi rubalcaba retired mexican luchador professional wrestler best known ring name adorable rub\n",
        "# 42668 gangsta boo also known lady boo american rapper first female member memphis tennesseebased rap group three 6 mafia\n",
        "# 'Asaka Kubo', 40399  lead vocal singer group ajyuc  posed primarily school uniforms underwear along usual gravure idol photosets also produced semi nude photograph collection\n",
        "# 'Sophie Evans (magician)', 39766 english magician lives works mainly las vegas, also acts magic fire consultant\n",
        "# Claudia Carrasco', 14245 beauty pageant titleholder crowned miss world peru 2009\n",
        "#7539 richard van slater born may 19 1951 better known by his ring name dirty dick slater is a retired american professional wrestler who wrestled in the 1970s 1980s and mid1990s"
      ],
      "metadata": {
        "id": "oweyLjzQnaIx",
        "colab": {
          "base_uri": "https://localhost:8080/",
          "height": 128
        },
        "outputId": "bbf7dfed-ef2c-48c4-afc8-60b5fbf3a4cd",
        "collapsed": true
      },
      "execution_count": 12,
      "outputs": [
        {
          "output_type": "execute_result",
          "data": {
            "text/plain": [
              "'rubi rubalcaba born december 31 1931 is a retired mexican luchador or professional wrestler who is best known under the ring name adorable rub as adorable rub he was one of the pioneers of the exotico wrestling style mixing crossdressing with wrestling to create sexually ambiguous characters the adorable rub character was inspired by dizzy gardenia the first successful exotico character adorable rub sergio el hermoso and bello greco formed a group called ola lila the lilac wave who wrestled all over mexico of the three adorable rub saw the most success in the ring defeating cicln veloz jr to win the mexican national middleweight championship on april 6 1971 rub held the title for 196 days before losing the belt to anbal on june 28 1974 on february 27 1976 empresa mexicana de lucha libre emll bookers decided to make adorable rub the new nwa world light heavyweight champion emlls most prestigious championship rub defeated dr wagner for the title holding it for 231 days before losing the belt to carlos plata on july 16 1976 on october 7 1984 he became the second man to hold the mexican national cruiserweight championship when he defeated ngel blanco to win the title a title he would lose to charro de jalisco in 1986 not long before he retired from professional wrestling'"
            ],
            "application/vnd.google.colaboratory.intrinsic+json": {
              "type": "string"
            }
          },
          "metadata": {},
          "execution_count": 12
        }
      ]
    },
    {
      "cell_type": "code",
      "source": [
        "#richard van slater born may 19 1951 better known by his ring name dirty dick slater is a retired american professional wrestler who wrestled in the 1970s 1980s and mid1990s for various promotions including midatlantic championship wrestling and world championship wrestling wcwslater began wrestling with mike graham at robinson high school in tampa florida he attended the university of tampa with paul orndorff from there he began wrestling in championship wrestling from florida and georgia championship wrestling he worked as a booker in knoxville tennessee after ron fuller sold his promotion to jim barnett he wrestled in midatlantic championship wrestling later world championship wrestling where he appeared on the first starrcade he also worked in midsouth wrestling association where he was managed by dark journey made some trips to the world wrestling council in puerto rico he wrestled briefly in the world wrestling federation as a babyface under a rebel gimmick but soon returned to wcw he wrestled there until receiving his back injury that ended his careerin june 2004 slater was convicted for the stabbing of his former girlfriend theresa halbert he was sentenced to one year of house arrest and two years of probation he blamed the incident on influence from painkillers"
      ],
      "metadata": {
        "id": "UOrul47rVo8v"
      },
      "execution_count": 13,
      "outputs": []
    },
    {
      "cell_type": "markdown",
      "source": [
        "##Preprocessing\n",
        "-Lowercasing\n",
        "-Tokenizing\n",
        "-Removing stopwords\n",
        "-Removing non-alphanumeric characters"
      ],
      "metadata": {
        "id": "cKxKImhQWHAO"
      }
    },
    {
      "cell_type": "code",
      "source": [
        "def preprocess_text(text):\n",
        "    # Decode URL-encoded characters\n",
        "    text = urllib.parse.unquote(text)  # Decode URL-encoded characters (e.g., %C3%A9 -> é)\n",
        "    # Lowercase the text\n",
        "    text = text.lower()\n",
        "    # Remove unwanted characters: parentheses, special characters, punctuation\n",
        "    text = re.sub(r\"[^\\w\\s]\", \"\", text)  # Remove anything that's not a word or whitespace\n",
        "    text = re.sub(r\"\\(|\\)\", \"\", text)    # Remove leftover parentheses explicitly\n",
        "    # Tokenize and remove stopwords\n",
        "    tokens = text.split()\n",
        "    tokens = [word for word in tokens if word not in stop_words]\n",
        "    return \" \".join(tokens)\n",
        "\n",
        "# Preprocess the entire dataset\n",
        "step1['text1'] = step1['text'].apply(preprocess_text)\n",
        "\n",
        "# Apply to the 'name' column\n",
        "step1['name1'] = step1['name'].apply(preprocess_text)\n"
      ],
      "metadata": {
        "id": "5P7tzcF16nm9"
      },
      "execution_count": 14,
      "outputs": []
    },
    {
      "cell_type": "code",
      "source": [
        "# Remove only < > from 'URI' column\n",
        "step1['URI1'] = step1['URI'].str.replace(r\"[<>]\", \"\", regex=True)\n"
      ],
      "metadata": {
        "id": "ccF9e-3F7Qpn"
      },
      "execution_count": 15,
      "outputs": []
    },
    {
      "cell_type": "code",
      "source": [
        "# Create a new DataFrame called clean_df with the preprocessed columns and the original index\n",
        "clean_df = step1[['name1', 'text1', 'URI1']].copy()\n",
        "\n",
        "# Reset the index of clean_df to match the original step1 index\n",
        "clean_df.index = step1.index\n",
        "\n",
        "# Display the first few rows of clean_df to check the result\n",
        "print(clean_df.head())"
      ],
      "metadata": {
        "colab": {
          "base_uri": "https://localhost:8080/"
        },
        "id": "GYD0fj9k6vmq",
        "outputId": "4adf9dff-7e8b-455b-e887-3da07529063b"
      },
      "execution_count": 16,
      "outputs": [
        {
          "output_type": "stream",
          "name": "stdout",
          "text": [
            "                 name1                                              text1  \\\n",
            "0        digby morrell  digby morrell born 10 october 1979 former aust...   \n",
            "1        alfred j lewy  alfred j lewy aka sandy lewy graduated univers...   \n",
            "2        harpdog brown  harpdog brown singer harmonica player active c...   \n",
            "3  franz rottensteiner  franz rottensteiner born waidmannsfeld lower a...   \n",
            "4                genka  henry krvits born 30 december 1974 tallinn bet...   \n",
            "\n",
            "                                              URI1  \n",
            "0        http://dbpedia.org/resource/Digby_Morrell  \n",
            "1       http://dbpedia.org/resource/Alfred_J._Lewy  \n",
            "2        http://dbpedia.org/resource/Harpdog_Brown  \n",
            "3  http://dbpedia.org/resource/Franz_Rottensteiner  \n",
            "4               http://dbpedia.org/resource/G-Enka  \n"
          ]
        }
      ]
    },
    {
      "cell_type": "code",
      "source": [
        "clean_df['URI1']"
      ],
      "metadata": {
        "colab": {
          "base_uri": "https://localhost:8080/",
          "height": 458
        },
        "id": "CJ-zf6CA9-zP",
        "outputId": "1692b17b-6c89-49eb-bc1f-616b1bf5f8da"
      },
      "execution_count": 17,
      "outputs": [
        {
          "output_type": "execute_result",
          "data": {
            "text/plain": [
              "0                http://dbpedia.org/resource/Digby_Morrell\n",
              "1               http://dbpedia.org/resource/Alfred_J._Lewy\n",
              "2                http://dbpedia.org/resource/Harpdog_Brown\n",
              "3          http://dbpedia.org/resource/Franz_Rottensteiner\n",
              "4                       http://dbpedia.org/resource/G-Enka\n",
              "                               ...                        \n",
              "42781       http://dbpedia.org/resource/Motoaki_Takenouchi\n",
              "42782    http://dbpedia.org/resource/Alan_Judge_(footba...\n",
              "42783             http://dbpedia.org/resource/Eduardo_Lara\n",
              "42784     http://dbpedia.org/resource/Tatiana_Faberg%C3%A9\n",
              "42785           http://dbpedia.org/resource/Kenneth_Thomas\n",
              "Name: URI1, Length: 42786, dtype: object"
            ],
            "text/html": [
              "<div>\n",
              "<style scoped>\n",
              "    .dataframe tbody tr th:only-of-type {\n",
              "        vertical-align: middle;\n",
              "    }\n",
              "\n",
              "    .dataframe tbody tr th {\n",
              "        vertical-align: top;\n",
              "    }\n",
              "\n",
              "    .dataframe thead th {\n",
              "        text-align: right;\n",
              "    }\n",
              "</style>\n",
              "<table border=\"1\" class=\"dataframe\">\n",
              "  <thead>\n",
              "    <tr style=\"text-align: right;\">\n",
              "      <th></th>\n",
              "      <th>URI1</th>\n",
              "    </tr>\n",
              "  </thead>\n",
              "  <tbody>\n",
              "    <tr>\n",
              "      <th>0</th>\n",
              "      <td>http://dbpedia.org/resource/Digby_Morrell</td>\n",
              "    </tr>\n",
              "    <tr>\n",
              "      <th>1</th>\n",
              "      <td>http://dbpedia.org/resource/Alfred_J._Lewy</td>\n",
              "    </tr>\n",
              "    <tr>\n",
              "      <th>2</th>\n",
              "      <td>http://dbpedia.org/resource/Harpdog_Brown</td>\n",
              "    </tr>\n",
              "    <tr>\n",
              "      <th>3</th>\n",
              "      <td>http://dbpedia.org/resource/Franz_Rottensteiner</td>\n",
              "    </tr>\n",
              "    <tr>\n",
              "      <th>4</th>\n",
              "      <td>http://dbpedia.org/resource/G-Enka</td>\n",
              "    </tr>\n",
              "    <tr>\n",
              "      <th>...</th>\n",
              "      <td>...</td>\n",
              "    </tr>\n",
              "    <tr>\n",
              "      <th>42781</th>\n",
              "      <td>http://dbpedia.org/resource/Motoaki_Takenouchi</td>\n",
              "    </tr>\n",
              "    <tr>\n",
              "      <th>42782</th>\n",
              "      <td>http://dbpedia.org/resource/Alan_Judge_(footba...</td>\n",
              "    </tr>\n",
              "    <tr>\n",
              "      <th>42783</th>\n",
              "      <td>http://dbpedia.org/resource/Eduardo_Lara</td>\n",
              "    </tr>\n",
              "    <tr>\n",
              "      <th>42784</th>\n",
              "      <td>http://dbpedia.org/resource/Tatiana_Faberg%C3%A9</td>\n",
              "    </tr>\n",
              "    <tr>\n",
              "      <th>42785</th>\n",
              "      <td>http://dbpedia.org/resource/Kenneth_Thomas</td>\n",
              "    </tr>\n",
              "  </tbody>\n",
              "</table>\n",
              "<p>42786 rows × 1 columns</p>\n",
              "</div><br><label><b>dtype:</b> object</label>"
            ]
          },
          "metadata": {},
          "execution_count": 17
        }
      ]
    },
    {
      "cell_type": "code",
      "source": [
        "clean_df.info()"
      ],
      "metadata": {
        "colab": {
          "base_uri": "https://localhost:8080/"
        },
        "id": "gRdmFXDYCFlE",
        "outputId": "4964789e-01c6-4086-ab1a-c5ac5e870b78"
      },
      "execution_count": 18,
      "outputs": [
        {
          "output_type": "stream",
          "name": "stdout",
          "text": [
            "<class 'pandas.core.frame.DataFrame'>\n",
            "RangeIndex: 42786 entries, 0 to 42785\n",
            "Data columns (total 3 columns):\n",
            " #   Column  Non-Null Count  Dtype \n",
            "---  ------  --------------  ----- \n",
            " 0   name1   42786 non-null  object\n",
            " 1   text1   42786 non-null  object\n",
            " 2   URI1    42786 non-null  object\n",
            "dtypes: object(3)\n",
            "memory usage: 1002.9+ KB\n"
          ]
        }
      ]
    },
    {
      "cell_type": "code",
      "source": [
        "clean_df['name1'].tail()"
      ],
      "metadata": {
        "colab": {
          "base_uri": "https://localhost:8080/",
          "height": 241
        },
        "id": "Lb7BaGitFT-W",
        "outputId": "832953e1-9628-4511-d022-50c70981b9e7"
      },
      "execution_count": 19,
      "outputs": [
        {
          "output_type": "execute_result",
          "data": {
            "text/plain": [
              "42781                 motoaki takenouchi\n",
              "42782    alan judge footballer born 1960\n",
              "42783                       eduardo lara\n",
              "42784                    tatiana fabergé\n",
              "42785                     kenneth thomas\n",
              "Name: name1, dtype: object"
            ],
            "text/html": [
              "<div>\n",
              "<style scoped>\n",
              "    .dataframe tbody tr th:only-of-type {\n",
              "        vertical-align: middle;\n",
              "    }\n",
              "\n",
              "    .dataframe tbody tr th {\n",
              "        vertical-align: top;\n",
              "    }\n",
              "\n",
              "    .dataframe thead th {\n",
              "        text-align: right;\n",
              "    }\n",
              "</style>\n",
              "<table border=\"1\" class=\"dataframe\">\n",
              "  <thead>\n",
              "    <tr style=\"text-align: right;\">\n",
              "      <th></th>\n",
              "      <th>name1</th>\n",
              "    </tr>\n",
              "  </thead>\n",
              "  <tbody>\n",
              "    <tr>\n",
              "      <th>42781</th>\n",
              "      <td>motoaki takenouchi</td>\n",
              "    </tr>\n",
              "    <tr>\n",
              "      <th>42782</th>\n",
              "      <td>alan judge footballer born 1960</td>\n",
              "    </tr>\n",
              "    <tr>\n",
              "      <th>42783</th>\n",
              "      <td>eduardo lara</td>\n",
              "    </tr>\n",
              "    <tr>\n",
              "      <th>42784</th>\n",
              "      <td>tatiana fabergé</td>\n",
              "    </tr>\n",
              "    <tr>\n",
              "      <th>42785</th>\n",
              "      <td>kenneth thomas</td>\n",
              "    </tr>\n",
              "  </tbody>\n",
              "</table>\n",
              "</div><br><label><b>dtype:</b> object</label>"
            ]
          },
          "metadata": {},
          "execution_count": 19
        }
      ]
    },
    {
      "cell_type": "code",
      "source": [
        "clean_df.columns"
      ],
      "metadata": {
        "colab": {
          "base_uri": "https://localhost:8080/"
        },
        "id": "7n81xeKvO_Rd",
        "outputId": "9c229501-d5fe-43a0-c752-0f65166c4342"
      },
      "execution_count": 20,
      "outputs": [
        {
          "output_type": "execute_result",
          "data": {
            "text/plain": [
              "Index(['name1', 'text1', 'URI1'], dtype='object')"
            ]
          },
          "metadata": {},
          "execution_count": 20
        }
      ]
    },
    {
      "cell_type": "markdown",
      "source": [
        "```\n",
        "7. Assigned row search code to a variable to examine singularly.\n",
        "```"
      ],
      "metadata": {
        "id": "_moguArTWh9V"
      }
    },
    {
      "cell_type": "markdown",
      "source": [
        "###***The interactive portion starts here per Part 3 Aims.**\n",
        "\n",
        "- Input a person's index # in first row and the remainder of the notebook will run vectorization, find nearest neighbors, calculate sentiment analyses for target and for nearest neighbors, plot it, rank nearness, and store results in new dataframe, per Part 1.\n",
        "\n",
        "- It will also prompt completion of Part 2's Wikipedia Search Aims using the new dataframe."
      ],
      "metadata": {
        "id": "dm5Z72bKyKLA"
      }
    },
    {
      "cell_type": "code",
      "source": [
        "person_index = 8300  # Replace with your desired index\n",
        "person_text = clean_df.iloc[person_index]['text1']\n",
        "person_name = clean_df.iloc[person_index]['name1']\n",
        "person_text"
      ],
      "metadata": {
        "id": "BVcNrLbxAUfQ",
        "colab": {
          "base_uri": "https://localhost:8080/",
          "height": 128
        },
        "collapsed": true,
        "outputId": "acc6faee-8d9c-42a8-ae70-4c43a9ffd16b"
      },
      "execution_count": 21,
      "outputs": [
        {
          "output_type": "execute_result",
          "data": {
            "text/plain": [
              "'rubi rubalcaba born december 31 1931 retired mexican luchador professional wrestler best known ring name adorable rub adorable rub one pioneers exotico wrestling style mixing crossdressing wrestling create sexually ambiguous characters adorable rub character inspired dizzy gardenia first successful exotico character adorable rub sergio el hermoso bello greco formed group called ola lila lilac wave wrestled mexico three adorable rub saw success ring defeating cicln veloz jr win mexican national middleweight championship april 6 1971 rub held title 196 days losing belt anbal june 28 1974 february 27 1976 empresa mexicana de lucha libre emll bookers decided make adorable rub new nwa world light heavyweight champion emlls prestigious championship rub defeated dr wagner title holding 231 days losing belt carlos plata july 16 1976 october 7 1984 became second man hold mexican national cruiserweight championship defeated ngel blanco win title title would lose charro de jalisco 1986 long retired professional wrestling'"
            ],
            "application/vnd.google.colaboratory.intrinsic+json": {
              "type": "string"
            }
          },
          "metadata": {},
          "execution_count": 21
        }
      ]
    },
    {
      "cell_type": "code",
      "source": [
        "print(person_name)"
      ],
      "metadata": {
        "colab": {
          "base_uri": "https://localhost:8080/"
        },
        "id": "8w7ahCp54NCW",
        "outputId": "fde53605-e278-42c2-f1d5-5386b1c1de7e"
      },
      "execution_count": 22,
      "outputs": [
        {
          "output_type": "stream",
          "name": "stdout",
          "text": [
            "adorable rubí\n"
          ]
        }
      ]
    },
    {
      "cell_type": "markdown",
      "source": [
        "```\n",
        "  -I chose Rubi Rubalcaba row 8300\n",
        "  ```"
      ],
      "metadata": {
        "id": "UqWN3A9LX5pf"
      }
    },
    {
      "cell_type": "markdown",
      "source": [
        "```\n",
        "9. Calculated sentiment analysis on preprocessed text for target person variable.\n",
        "```"
      ],
      "metadata": {
        "id": "5G_Ee9t9uzHA"
      }
    },
    {
      "cell_type": "code",
      "source": [
        "person_feels = person_text\n",
        "person_feels = TextBlob(person_feels).sentiment.polarity\n",
        "person_feels"
      ],
      "metadata": {
        "id": "GcZ_2ewp7GYF",
        "colab": {
          "base_uri": "https://localhost:8080/"
        },
        "outputId": "7c1b86e3-b34e-483b-c462-839808430520"
      },
      "execution_count": 23,
      "outputs": [
        {
          "output_type": "execute_result",
          "data": {
            "text/plain": [
              "0.36756198347107444"
            ]
          },
          "metadata": {},
          "execution_count": 23
        }
      ]
    },
    {
      "cell_type": "code",
      "source": [
        "person_feels1 = person_text\n",
        "person_feels1 = TextBlob(person_feels1).sentiment\n",
        "print(person_feels1)"
      ],
      "metadata": {
        "colab": {
          "base_uri": "https://localhost:8080/"
        },
        "id": "Pnyz7TD5SF0J",
        "outputId": "4603c8c5-7b77-4016-b4b1-1ecbc9071ef6"
      },
      "execution_count": 24,
      "outputs": [
        {
          "output_type": "stream",
          "name": "stdout",
          "text": [
            "Sentiment(polarity=0.36756198347107444, subjectivity=0.49869146005509646)\n"
          ]
        }
      ]
    },
    {
      "cell_type": "markdown",
      "metadata": {
        "id": "X1RQuK4ACqeT"
      },
      "source": [
        "##Term Frequency-Inverse Document Frequency (TF-IDF)"
      ]
    },
    {
      "cell_type": "markdown",
      "source": [
        "```\n",
        "10. Converted 'text' column data for clean_df and person variable into numerical vectors.\n",
        "    and\n",
        "    Compared person vector to clean_df['clean'] vectors.\n",
        "```"
      ],
      "metadata": {
        "id": "Rlw3mG2xcDTk"
      }
    },
    {
      "cell_type": "code",
      "source": [
        "tfidf_vectorizer = TfidfVectorizer()\n",
        "tfidf_vec = tfidf_vectorizer.fit_transform(clean_df['text1'])\n",
        "person_vec = tfidf_vectorizer.transform([person_text])"
      ],
      "metadata": {
        "id": "KiKYkCMXvWey"
      },
      "execution_count": 25,
      "outputs": []
    },
    {
      "cell_type": "markdown",
      "metadata": {
        "id": "MG0T0ZWVDT9x"
      },
      "source": [
        "##Nearest Neighbors Model"
      ]
    },
    {
      "cell_type": "markdown",
      "source": [
        "```\n",
        "11. Fit the NearestNeighbors model to analyze sentiment of specified overview\n",
        "```"
      ],
      "metadata": {
        "id": "oa-Q8xpi9FKz"
      }
    },
    {
      "cell_type": "code",
      "source": [
        "nn= NearestNeighbors(n_neighbors=11)\n",
        "nn.fit(tfidf_vectorizer.transform(clean_df['text1']))"
      ],
      "metadata": {
        "id": "ai33lN7bvmWK",
        "colab": {
          "base_uri": "https://localhost:8080/",
          "height": 80
        },
        "outputId": "a380941f-bb02-4a09-efbc-222c1f9fb156"
      },
      "execution_count": 26,
      "outputs": [
        {
          "output_type": "execute_result",
          "data": {
            "text/plain": [
              "NearestNeighbors(n_neighbors=11)"
            ],
            "text/html": [
              "<style>#sk-container-id-1 {\n",
              "  /* Definition of color scheme common for light and dark mode */\n",
              "  --sklearn-color-text: black;\n",
              "  --sklearn-color-line: gray;\n",
              "  /* Definition of color scheme for unfitted estimators */\n",
              "  --sklearn-color-unfitted-level-0: #fff5e6;\n",
              "  --sklearn-color-unfitted-level-1: #f6e4d2;\n",
              "  --sklearn-color-unfitted-level-2: #ffe0b3;\n",
              "  --sklearn-color-unfitted-level-3: chocolate;\n",
              "  /* Definition of color scheme for fitted estimators */\n",
              "  --sklearn-color-fitted-level-0: #f0f8ff;\n",
              "  --sklearn-color-fitted-level-1: #d4ebff;\n",
              "  --sklearn-color-fitted-level-2: #b3dbfd;\n",
              "  --sklearn-color-fitted-level-3: cornflowerblue;\n",
              "\n",
              "  /* Specific color for light theme */\n",
              "  --sklearn-color-text-on-default-background: var(--sg-text-color, var(--theme-code-foreground, var(--jp-content-font-color1, black)));\n",
              "  --sklearn-color-background: var(--sg-background-color, var(--theme-background, var(--jp-layout-color0, white)));\n",
              "  --sklearn-color-border-box: var(--sg-text-color, var(--theme-code-foreground, var(--jp-content-font-color1, black)));\n",
              "  --sklearn-color-icon: #696969;\n",
              "\n",
              "  @media (prefers-color-scheme: dark) {\n",
              "    /* Redefinition of color scheme for dark theme */\n",
              "    --sklearn-color-text-on-default-background: var(--sg-text-color, var(--theme-code-foreground, var(--jp-content-font-color1, white)));\n",
              "    --sklearn-color-background: var(--sg-background-color, var(--theme-background, var(--jp-layout-color0, #111)));\n",
              "    --sklearn-color-border-box: var(--sg-text-color, var(--theme-code-foreground, var(--jp-content-font-color1, white)));\n",
              "    --sklearn-color-icon: #878787;\n",
              "  }\n",
              "}\n",
              "\n",
              "#sk-container-id-1 {\n",
              "  color: var(--sklearn-color-text);\n",
              "}\n",
              "\n",
              "#sk-container-id-1 pre {\n",
              "  padding: 0;\n",
              "}\n",
              "\n",
              "#sk-container-id-1 input.sk-hidden--visually {\n",
              "  border: 0;\n",
              "  clip: rect(1px 1px 1px 1px);\n",
              "  clip: rect(1px, 1px, 1px, 1px);\n",
              "  height: 1px;\n",
              "  margin: -1px;\n",
              "  overflow: hidden;\n",
              "  padding: 0;\n",
              "  position: absolute;\n",
              "  width: 1px;\n",
              "}\n",
              "\n",
              "#sk-container-id-1 div.sk-dashed-wrapped {\n",
              "  border: 1px dashed var(--sklearn-color-line);\n",
              "  margin: 0 0.4em 0.5em 0.4em;\n",
              "  box-sizing: border-box;\n",
              "  padding-bottom: 0.4em;\n",
              "  background-color: var(--sklearn-color-background);\n",
              "}\n",
              "\n",
              "#sk-container-id-1 div.sk-container {\n",
              "  /* jupyter's `normalize.less` sets `[hidden] { display: none; }`\n",
              "     but bootstrap.min.css set `[hidden] { display: none !important; }`\n",
              "     so we also need the `!important` here to be able to override the\n",
              "     default hidden behavior on the sphinx rendered scikit-learn.org.\n",
              "     See: https://github.com/scikit-learn/scikit-learn/issues/21755 */\n",
              "  display: inline-block !important;\n",
              "  position: relative;\n",
              "}\n",
              "\n",
              "#sk-container-id-1 div.sk-text-repr-fallback {\n",
              "  display: none;\n",
              "}\n",
              "\n",
              "div.sk-parallel-item,\n",
              "div.sk-serial,\n",
              "div.sk-item {\n",
              "  /* draw centered vertical line to link estimators */\n",
              "  background-image: linear-gradient(var(--sklearn-color-text-on-default-background), var(--sklearn-color-text-on-default-background));\n",
              "  background-size: 2px 100%;\n",
              "  background-repeat: no-repeat;\n",
              "  background-position: center center;\n",
              "}\n",
              "\n",
              "/* Parallel-specific style estimator block */\n",
              "\n",
              "#sk-container-id-1 div.sk-parallel-item::after {\n",
              "  content: \"\";\n",
              "  width: 100%;\n",
              "  border-bottom: 2px solid var(--sklearn-color-text-on-default-background);\n",
              "  flex-grow: 1;\n",
              "}\n",
              "\n",
              "#sk-container-id-1 div.sk-parallel {\n",
              "  display: flex;\n",
              "  align-items: stretch;\n",
              "  justify-content: center;\n",
              "  background-color: var(--sklearn-color-background);\n",
              "  position: relative;\n",
              "}\n",
              "\n",
              "#sk-container-id-1 div.sk-parallel-item {\n",
              "  display: flex;\n",
              "  flex-direction: column;\n",
              "}\n",
              "\n",
              "#sk-container-id-1 div.sk-parallel-item:first-child::after {\n",
              "  align-self: flex-end;\n",
              "  width: 50%;\n",
              "}\n",
              "\n",
              "#sk-container-id-1 div.sk-parallel-item:last-child::after {\n",
              "  align-self: flex-start;\n",
              "  width: 50%;\n",
              "}\n",
              "\n",
              "#sk-container-id-1 div.sk-parallel-item:only-child::after {\n",
              "  width: 0;\n",
              "}\n",
              "\n",
              "/* Serial-specific style estimator block */\n",
              "\n",
              "#sk-container-id-1 div.sk-serial {\n",
              "  display: flex;\n",
              "  flex-direction: column;\n",
              "  align-items: center;\n",
              "  background-color: var(--sklearn-color-background);\n",
              "  padding-right: 1em;\n",
              "  padding-left: 1em;\n",
              "}\n",
              "\n",
              "\n",
              "/* Toggleable style: style used for estimator/Pipeline/ColumnTransformer box that is\n",
              "clickable and can be expanded/collapsed.\n",
              "- Pipeline and ColumnTransformer use this feature and define the default style\n",
              "- Estimators will overwrite some part of the style using the `sk-estimator` class\n",
              "*/\n",
              "\n",
              "/* Pipeline and ColumnTransformer style (default) */\n",
              "\n",
              "#sk-container-id-1 div.sk-toggleable {\n",
              "  /* Default theme specific background. It is overwritten whether we have a\n",
              "  specific estimator or a Pipeline/ColumnTransformer */\n",
              "  background-color: var(--sklearn-color-background);\n",
              "}\n",
              "\n",
              "/* Toggleable label */\n",
              "#sk-container-id-1 label.sk-toggleable__label {\n",
              "  cursor: pointer;\n",
              "  display: block;\n",
              "  width: 100%;\n",
              "  margin-bottom: 0;\n",
              "  padding: 0.5em;\n",
              "  box-sizing: border-box;\n",
              "  text-align: center;\n",
              "}\n",
              "\n",
              "#sk-container-id-1 label.sk-toggleable__label-arrow:before {\n",
              "  /* Arrow on the left of the label */\n",
              "  content: \"▸\";\n",
              "  float: left;\n",
              "  margin-right: 0.25em;\n",
              "  color: var(--sklearn-color-icon);\n",
              "}\n",
              "\n",
              "#sk-container-id-1 label.sk-toggleable__label-arrow:hover:before {\n",
              "  color: var(--sklearn-color-text);\n",
              "}\n",
              "\n",
              "/* Toggleable content - dropdown */\n",
              "\n",
              "#sk-container-id-1 div.sk-toggleable__content {\n",
              "  max-height: 0;\n",
              "  max-width: 0;\n",
              "  overflow: hidden;\n",
              "  text-align: left;\n",
              "  /* unfitted */\n",
              "  background-color: var(--sklearn-color-unfitted-level-0);\n",
              "}\n",
              "\n",
              "#sk-container-id-1 div.sk-toggleable__content.fitted {\n",
              "  /* fitted */\n",
              "  background-color: var(--sklearn-color-fitted-level-0);\n",
              "}\n",
              "\n",
              "#sk-container-id-1 div.sk-toggleable__content pre {\n",
              "  margin: 0.2em;\n",
              "  border-radius: 0.25em;\n",
              "  color: var(--sklearn-color-text);\n",
              "  /* unfitted */\n",
              "  background-color: var(--sklearn-color-unfitted-level-0);\n",
              "}\n",
              "\n",
              "#sk-container-id-1 div.sk-toggleable__content.fitted pre {\n",
              "  /* unfitted */\n",
              "  background-color: var(--sklearn-color-fitted-level-0);\n",
              "}\n",
              "\n",
              "#sk-container-id-1 input.sk-toggleable__control:checked~div.sk-toggleable__content {\n",
              "  /* Expand drop-down */\n",
              "  max-height: 200px;\n",
              "  max-width: 100%;\n",
              "  overflow: auto;\n",
              "}\n",
              "\n",
              "#sk-container-id-1 input.sk-toggleable__control:checked~label.sk-toggleable__label-arrow:before {\n",
              "  content: \"▾\";\n",
              "}\n",
              "\n",
              "/* Pipeline/ColumnTransformer-specific style */\n",
              "\n",
              "#sk-container-id-1 div.sk-label input.sk-toggleable__control:checked~label.sk-toggleable__label {\n",
              "  color: var(--sklearn-color-text);\n",
              "  background-color: var(--sklearn-color-unfitted-level-2);\n",
              "}\n",
              "\n",
              "#sk-container-id-1 div.sk-label.fitted input.sk-toggleable__control:checked~label.sk-toggleable__label {\n",
              "  background-color: var(--sklearn-color-fitted-level-2);\n",
              "}\n",
              "\n",
              "/* Estimator-specific style */\n",
              "\n",
              "/* Colorize estimator box */\n",
              "#sk-container-id-1 div.sk-estimator input.sk-toggleable__control:checked~label.sk-toggleable__label {\n",
              "  /* unfitted */\n",
              "  background-color: var(--sklearn-color-unfitted-level-2);\n",
              "}\n",
              "\n",
              "#sk-container-id-1 div.sk-estimator.fitted input.sk-toggleable__control:checked~label.sk-toggleable__label {\n",
              "  /* fitted */\n",
              "  background-color: var(--sklearn-color-fitted-level-2);\n",
              "}\n",
              "\n",
              "#sk-container-id-1 div.sk-label label.sk-toggleable__label,\n",
              "#sk-container-id-1 div.sk-label label {\n",
              "  /* The background is the default theme color */\n",
              "  color: var(--sklearn-color-text-on-default-background);\n",
              "}\n",
              "\n",
              "/* On hover, darken the color of the background */\n",
              "#sk-container-id-1 div.sk-label:hover label.sk-toggleable__label {\n",
              "  color: var(--sklearn-color-text);\n",
              "  background-color: var(--sklearn-color-unfitted-level-2);\n",
              "}\n",
              "\n",
              "/* Label box, darken color on hover, fitted */\n",
              "#sk-container-id-1 div.sk-label.fitted:hover label.sk-toggleable__label.fitted {\n",
              "  color: var(--sklearn-color-text);\n",
              "  background-color: var(--sklearn-color-fitted-level-2);\n",
              "}\n",
              "\n",
              "/* Estimator label */\n",
              "\n",
              "#sk-container-id-1 div.sk-label label {\n",
              "  font-family: monospace;\n",
              "  font-weight: bold;\n",
              "  display: inline-block;\n",
              "  line-height: 1.2em;\n",
              "}\n",
              "\n",
              "#sk-container-id-1 div.sk-label-container {\n",
              "  text-align: center;\n",
              "}\n",
              "\n",
              "/* Estimator-specific */\n",
              "#sk-container-id-1 div.sk-estimator {\n",
              "  font-family: monospace;\n",
              "  border: 1px dotted var(--sklearn-color-border-box);\n",
              "  border-radius: 0.25em;\n",
              "  box-sizing: border-box;\n",
              "  margin-bottom: 0.5em;\n",
              "  /* unfitted */\n",
              "  background-color: var(--sklearn-color-unfitted-level-0);\n",
              "}\n",
              "\n",
              "#sk-container-id-1 div.sk-estimator.fitted {\n",
              "  /* fitted */\n",
              "  background-color: var(--sklearn-color-fitted-level-0);\n",
              "}\n",
              "\n",
              "/* on hover */\n",
              "#sk-container-id-1 div.sk-estimator:hover {\n",
              "  /* unfitted */\n",
              "  background-color: var(--sklearn-color-unfitted-level-2);\n",
              "}\n",
              "\n",
              "#sk-container-id-1 div.sk-estimator.fitted:hover {\n",
              "  /* fitted */\n",
              "  background-color: var(--sklearn-color-fitted-level-2);\n",
              "}\n",
              "\n",
              "/* Specification for estimator info (e.g. \"i\" and \"?\") */\n",
              "\n",
              "/* Common style for \"i\" and \"?\" */\n",
              "\n",
              ".sk-estimator-doc-link,\n",
              "a:link.sk-estimator-doc-link,\n",
              "a:visited.sk-estimator-doc-link {\n",
              "  float: right;\n",
              "  font-size: smaller;\n",
              "  line-height: 1em;\n",
              "  font-family: monospace;\n",
              "  background-color: var(--sklearn-color-background);\n",
              "  border-radius: 1em;\n",
              "  height: 1em;\n",
              "  width: 1em;\n",
              "  text-decoration: none !important;\n",
              "  margin-left: 1ex;\n",
              "  /* unfitted */\n",
              "  border: var(--sklearn-color-unfitted-level-1) 1pt solid;\n",
              "  color: var(--sklearn-color-unfitted-level-1);\n",
              "}\n",
              "\n",
              ".sk-estimator-doc-link.fitted,\n",
              "a:link.sk-estimator-doc-link.fitted,\n",
              "a:visited.sk-estimator-doc-link.fitted {\n",
              "  /* fitted */\n",
              "  border: var(--sklearn-color-fitted-level-1) 1pt solid;\n",
              "  color: var(--sklearn-color-fitted-level-1);\n",
              "}\n",
              "\n",
              "/* On hover */\n",
              "div.sk-estimator:hover .sk-estimator-doc-link:hover,\n",
              ".sk-estimator-doc-link:hover,\n",
              "div.sk-label-container:hover .sk-estimator-doc-link:hover,\n",
              ".sk-estimator-doc-link:hover {\n",
              "  /* unfitted */\n",
              "  background-color: var(--sklearn-color-unfitted-level-3);\n",
              "  color: var(--sklearn-color-background);\n",
              "  text-decoration: none;\n",
              "}\n",
              "\n",
              "div.sk-estimator.fitted:hover .sk-estimator-doc-link.fitted:hover,\n",
              ".sk-estimator-doc-link.fitted:hover,\n",
              "div.sk-label-container:hover .sk-estimator-doc-link.fitted:hover,\n",
              ".sk-estimator-doc-link.fitted:hover {\n",
              "  /* fitted */\n",
              "  background-color: var(--sklearn-color-fitted-level-3);\n",
              "  color: var(--sklearn-color-background);\n",
              "  text-decoration: none;\n",
              "}\n",
              "\n",
              "/* Span, style for the box shown on hovering the info icon */\n",
              ".sk-estimator-doc-link span {\n",
              "  display: none;\n",
              "  z-index: 9999;\n",
              "  position: relative;\n",
              "  font-weight: normal;\n",
              "  right: .2ex;\n",
              "  padding: .5ex;\n",
              "  margin: .5ex;\n",
              "  width: min-content;\n",
              "  min-width: 20ex;\n",
              "  max-width: 50ex;\n",
              "  color: var(--sklearn-color-text);\n",
              "  box-shadow: 2pt 2pt 4pt #999;\n",
              "  /* unfitted */\n",
              "  background: var(--sklearn-color-unfitted-level-0);\n",
              "  border: .5pt solid var(--sklearn-color-unfitted-level-3);\n",
              "}\n",
              "\n",
              ".sk-estimator-doc-link.fitted span {\n",
              "  /* fitted */\n",
              "  background: var(--sklearn-color-fitted-level-0);\n",
              "  border: var(--sklearn-color-fitted-level-3);\n",
              "}\n",
              "\n",
              ".sk-estimator-doc-link:hover span {\n",
              "  display: block;\n",
              "}\n",
              "\n",
              "/* \"?\"-specific style due to the `<a>` HTML tag */\n",
              "\n",
              "#sk-container-id-1 a.estimator_doc_link {\n",
              "  float: right;\n",
              "  font-size: 1rem;\n",
              "  line-height: 1em;\n",
              "  font-family: monospace;\n",
              "  background-color: var(--sklearn-color-background);\n",
              "  border-radius: 1rem;\n",
              "  height: 1rem;\n",
              "  width: 1rem;\n",
              "  text-decoration: none;\n",
              "  /* unfitted */\n",
              "  color: var(--sklearn-color-unfitted-level-1);\n",
              "  border: var(--sklearn-color-unfitted-level-1) 1pt solid;\n",
              "}\n",
              "\n",
              "#sk-container-id-1 a.estimator_doc_link.fitted {\n",
              "  /* fitted */\n",
              "  border: var(--sklearn-color-fitted-level-1) 1pt solid;\n",
              "  color: var(--sklearn-color-fitted-level-1);\n",
              "}\n",
              "\n",
              "/* On hover */\n",
              "#sk-container-id-1 a.estimator_doc_link:hover {\n",
              "  /* unfitted */\n",
              "  background-color: var(--sklearn-color-unfitted-level-3);\n",
              "  color: var(--sklearn-color-background);\n",
              "  text-decoration: none;\n",
              "}\n",
              "\n",
              "#sk-container-id-1 a.estimator_doc_link.fitted:hover {\n",
              "  /* fitted */\n",
              "  background-color: var(--sklearn-color-fitted-level-3);\n",
              "}\n",
              "</style><div id=\"sk-container-id-1\" class=\"sk-top-container\"><div class=\"sk-text-repr-fallback\"><pre>NearestNeighbors(n_neighbors=11)</pre><b>In a Jupyter environment, please rerun this cell to show the HTML representation or trust the notebook. <br />On GitHub, the HTML representation is unable to render, please try loading this page with nbviewer.org.</b></div><div class=\"sk-container\" hidden><div class=\"sk-item\"><div class=\"sk-estimator fitted sk-toggleable\"><input class=\"sk-toggleable__control sk-hidden--visually\" id=\"sk-estimator-id-1\" type=\"checkbox\" checked><label for=\"sk-estimator-id-1\" class=\"sk-toggleable__label fitted sk-toggleable__label-arrow fitted\">&nbsp;&nbsp;NearestNeighbors<a class=\"sk-estimator-doc-link fitted\" rel=\"noreferrer\" target=\"_blank\" href=\"https://scikit-learn.org/1.5/modules/generated/sklearn.neighbors.NearestNeighbors.html\">?<span>Documentation for NearestNeighbors</span></a><span class=\"sk-estimator-doc-link fitted\">i<span>Fitted</span></span></label><div class=\"sk-toggleable__content fitted\"><pre>NearestNeighbors(n_neighbors=11)</pre></div> </div></div></div></div>"
            ]
          },
          "metadata": {},
          "execution_count": 26
        }
      ]
    },
    {
      "cell_type": "markdown",
      "source": [
        "```\n",
        "12. Searched for nearest neighbors to target person by distance and corresponding row numbers.\n",
        "```"
      ],
      "metadata": {
        "id": "BeTqj0Zl97rA"
      }
    },
    {
      "cell_type": "code",
      "source": [
        "#Find the nearest neighbors\n",
        "distances, indices = nn.kneighbors(X=person_vec)"
      ],
      "metadata": {
        "id": "TfLMiZr6vmbX"
      },
      "execution_count": 27,
      "outputs": []
    },
    {
      "cell_type": "markdown",
      "source": [
        "```\n",
        "13. Extracted row numbers for the 10 nearest neighbors to target.\n",
        "```"
      ],
      "metadata": {
        "id": "f-Ia4uKm-oiD"
      }
    },
    {
      "cell_type": "code",
      "source": [
        "#Get the indices of the 10 nearest neighbors (excluding person)\n",
        "nn_indices = indices[0][1:]"
      ],
      "metadata": {
        "id": "ngQnyae9O_JJ"
      },
      "execution_count": 28,
      "outputs": []
    },
    {
      "cell_type": "markdown",
      "source": [
        "```\n",
        "14. Extracted text descriptions of the 10 nearest neighbors from step1 df.\n",
        "```"
      ],
      "metadata": {
        "id": "TgVoZQGJ_GOT"
      }
    },
    {
      "cell_type": "code",
      "source": [
        "nn_text = clean_df['text1'].iloc[nn_indices].tolist()"
      ],
      "metadata": {
        "id": "3X9Co4NSoVg3"
      },
      "execution_count": 29,
      "outputs": []
    },
    {
      "cell_type": "markdown",
      "metadata": {
        "id": "LW-npsUWDZSX"
      },
      "source": [
        "## Output sentiment"
      ]
    },
    {
      "cell_type": "markdown",
      "source": [
        "```\n",
        "15. Calculated Sentiment Analysis for 10 nearest neighbors\n",
        "\n",
        "```"
      ],
      "metadata": {
        "id": "LiMoN4OFXPAP"
      }
    },
    {
      "cell_type": "code",
      "source": [
        "# Sentiment analysis for the 10 nearest neighbors\n",
        "nn_feels1= nn_text\n",
        "nn_feels1 = [TextBlob(text).sentiment for text in nn_text]\n",
        "print(nn_feels1)"
      ],
      "metadata": {
        "colab": {
          "base_uri": "https://localhost:8080/"
        },
        "id": "rGeWHMp1FyFW",
        "outputId": "dc34ff4f-830a-4f72-f1c4-de6a93cb0944"
      },
      "execution_count": 30,
      "outputs": [
        {
          "output_type": "stream",
          "name": "stdout",
          "text": [
            "[Sentiment(polarity=0.15940719696969693, subjectivity=0.39582954545454546), Sentiment(polarity=-0.027857142857142855, subjectivity=0.3076190476190476), Sentiment(polarity=0.18224242424242423, subjectivity=0.3803636363636364), Sentiment(polarity=0.21625, subjectivity=0.40458333333333335), Sentiment(polarity=0.11346801346801347, subjectivity=0.23409090909090904), Sentiment(polarity=0.10219298245614032, subjectivity=0.35482456140350876), Sentiment(polarity=0.05343137254901961, subjectivity=0.385840874811463), Sentiment(polarity=0.14835145474680358, subjectivity=0.4071755763616228), Sentiment(polarity=0.19938016528925617, subjectivity=0.348258559622196), Sentiment(polarity=0.06743777056277056, subjectivity=0.2781655844155844)]\n"
          ]
        }
      ]
    },
    {
      "cell_type": "code",
      "source": [
        "nn_feels = [TextBlob(text).sentiment.polarity for text in nn_text]\n",
        "nn_feels"
      ],
      "metadata": {
        "colab": {
          "base_uri": "https://localhost:8080/"
        },
        "id": "XR007ghzH5f-",
        "outputId": "af2cc458-848e-47c7-f831-2715e5a6ec54"
      },
      "execution_count": 31,
      "outputs": [
        {
          "output_type": "execute_result",
          "data": {
            "text/plain": [
              "[0.15940719696969693,\n",
              " -0.027857142857142855,\n",
              " 0.18224242424242423,\n",
              " 0.21625,\n",
              " 0.11346801346801347,\n",
              " 0.10219298245614032,\n",
              " 0.05343137254901961,\n",
              " 0.14835145474680358,\n",
              " 0.19938016528925617,\n",
              " 0.06743777056277056]"
            ]
          },
          "metadata": {},
          "execution_count": 31
        }
      ]
    },
    {
      "cell_type": "markdown",
      "source": [
        "```\n",
        "16. Classified polarity as Positive, Negative or Neutral.\n",
        "```"
      ],
      "metadata": {
        "id": "pcmkCKVlXnDa"
      }
    },
    {
      "cell_type": "code",
      "source": [
        "# Define a function to classify sentiment based on polarity\n",
        "def classify_feels(polarity):\n",
        "    if polarity > 0:\n",
        "        return 'positive'\n",
        "    elif polarity < 0:\n",
        "        return 'negative'\n",
        "    else:\n",
        "        return 'neutral'\n",
        "\n",
        "# Apply classification to the nn_feels list\n",
        "nn_feels_class = [classify_feels(feel) for feel in nn_feels]\n"
      ],
      "metadata": {
        "id": "qQ1etJbv60PU"
      },
      "execution_count": 32,
      "outputs": []
    },
    {
      "cell_type": "markdown",
      "source": [
        "```\n",
        "17. Created df with nearest neighbors sentiment class\n",
        "```"
      ],
      "metadata": {
        "id": "dv6J2uTJumxM"
      }
    },
    {
      "cell_type": "code",
      "source": [
        "# Create a DataFrame for the nearest neighbors' text, polarity, api wikipedia, and classification\n",
        "nn_feels_df = pd.DataFrame({\n",
        "    'index': nn_indices,  # Indices of the neighbors\n",
        "    'name': clean_df['name1'].iloc[nn_indices].tolist(),\n",
        "    'sentiment_polarity': nn_feels,  # Polarity values\n",
        "    'sentiment_class': nn_feels_class,  # Classified sentiments\n",
        "    'text': nn_text,  # Text of the neighbors\n",
        "    'wiki_page': clean_df['URI1'].iloc[nn_indices].tolist()\n",
        "})\n",
        "nn_feels_df.head(10)"
      ],
      "metadata": {
        "colab": {
          "base_uri": "https://localhost:8080/",
          "height": 363
        },
        "id": "YsvUDQFZMZAJ",
        "outputId": "dd7ec78c-c215-4051-bf2f-a380f09c64fc"
      },
      "execution_count": 33,
      "outputs": [
        {
          "output_type": "execute_result",
          "data": {
            "text/plain": [
              "   index                   name  sentiment_polarity sentiment_class  \\\n",
              "0  42506            cosmo baker            0.159407        positive   \n",
              "1   7539            dick slater           -0.027857        negative   \n",
              "2   9483            ricky blues            0.182242        positive   \n",
              "3  20060          pedro morales            0.216250        positive   \n",
              "4  40587        knuckles nelson            0.113468        positive   \n",
              "5  38612           gino martino            0.102193        positive   \n",
              "6   3743          drew mcintyre            0.053431        positive   \n",
              "7  42747           jason rumble            0.148351        positive   \n",
              "8  32251              road dogg            0.199380        positive   \n",
              "9    610  gary michael cappetta            0.067438        positive   \n",
              "\n",
              "                                                text  \\\n",
              "0  cosmo baker new york based dj music producer t...   \n",
              "1  richard van slater born may 19 1951 better kno...   \n",
              "2  william perry blake iii better known ring name...   \n",
              "3  pedro morales born october 22 1942 retired pue...   \n",
              "4  brendan higgins born september 26 1963 best kn...   \n",
              "5  john ferraro born november 28 american profess...   \n",
              "6  andrew drew galloway born 6 june 1985 scottish...   \n",
              "7  jason dellagatta born 1971 american profession...   \n",
              "8  brian girard bg james born may 20 1969 america...   \n",
              "9  gary michael cappetta born december 12 1952 am...   \n",
              "\n",
              "                                           wiki_page  \n",
              "0            http://dbpedia.org/resource/Cosmo_Baker  \n",
              "1            http://dbpedia.org/resource/Dick_Slater  \n",
              "2            http://dbpedia.org/resource/Ricky_Blues  \n",
              "3          http://dbpedia.org/resource/Pedro_Morales  \n",
              "4        http://dbpedia.org/resource/Knuckles_Nelson  \n",
              "5           http://dbpedia.org/resource/Gino_Martino  \n",
              "6          http://dbpedia.org/resource/Drew_McIntyre  \n",
              "7           http://dbpedia.org/resource/Jason_Rumble  \n",
              "8              http://dbpedia.org/resource/Road_Dogg  \n",
              "9  http://dbpedia.org/resource/Gary_Michael_Cappetta  "
            ],
            "text/html": [
              "\n",
              "  <div id=\"df-52452c4a-b9d5-4e93-8f2b-58553b0357ff\" class=\"colab-df-container\">\n",
              "    <div>\n",
              "<style scoped>\n",
              "    .dataframe tbody tr th:only-of-type {\n",
              "        vertical-align: middle;\n",
              "    }\n",
              "\n",
              "    .dataframe tbody tr th {\n",
              "        vertical-align: top;\n",
              "    }\n",
              "\n",
              "    .dataframe thead th {\n",
              "        text-align: right;\n",
              "    }\n",
              "</style>\n",
              "<table border=\"1\" class=\"dataframe\">\n",
              "  <thead>\n",
              "    <tr style=\"text-align: right;\">\n",
              "      <th></th>\n",
              "      <th>index</th>\n",
              "      <th>name</th>\n",
              "      <th>sentiment_polarity</th>\n",
              "      <th>sentiment_class</th>\n",
              "      <th>text</th>\n",
              "      <th>wiki_page</th>\n",
              "    </tr>\n",
              "  </thead>\n",
              "  <tbody>\n",
              "    <tr>\n",
              "      <th>0</th>\n",
              "      <td>42506</td>\n",
              "      <td>cosmo baker</td>\n",
              "      <td>0.159407</td>\n",
              "      <td>positive</td>\n",
              "      <td>cosmo baker new york based dj music producer t...</td>\n",
              "      <td>http://dbpedia.org/resource/Cosmo_Baker</td>\n",
              "    </tr>\n",
              "    <tr>\n",
              "      <th>1</th>\n",
              "      <td>7539</td>\n",
              "      <td>dick slater</td>\n",
              "      <td>-0.027857</td>\n",
              "      <td>negative</td>\n",
              "      <td>richard van slater born may 19 1951 better kno...</td>\n",
              "      <td>http://dbpedia.org/resource/Dick_Slater</td>\n",
              "    </tr>\n",
              "    <tr>\n",
              "      <th>2</th>\n",
              "      <td>9483</td>\n",
              "      <td>ricky blues</td>\n",
              "      <td>0.182242</td>\n",
              "      <td>positive</td>\n",
              "      <td>william perry blake iii better known ring name...</td>\n",
              "      <td>http://dbpedia.org/resource/Ricky_Blues</td>\n",
              "    </tr>\n",
              "    <tr>\n",
              "      <th>3</th>\n",
              "      <td>20060</td>\n",
              "      <td>pedro morales</td>\n",
              "      <td>0.216250</td>\n",
              "      <td>positive</td>\n",
              "      <td>pedro morales born october 22 1942 retired pue...</td>\n",
              "      <td>http://dbpedia.org/resource/Pedro_Morales</td>\n",
              "    </tr>\n",
              "    <tr>\n",
              "      <th>4</th>\n",
              "      <td>40587</td>\n",
              "      <td>knuckles nelson</td>\n",
              "      <td>0.113468</td>\n",
              "      <td>positive</td>\n",
              "      <td>brendan higgins born september 26 1963 best kn...</td>\n",
              "      <td>http://dbpedia.org/resource/Knuckles_Nelson</td>\n",
              "    </tr>\n",
              "    <tr>\n",
              "      <th>5</th>\n",
              "      <td>38612</td>\n",
              "      <td>gino martino</td>\n",
              "      <td>0.102193</td>\n",
              "      <td>positive</td>\n",
              "      <td>john ferraro born november 28 american profess...</td>\n",
              "      <td>http://dbpedia.org/resource/Gino_Martino</td>\n",
              "    </tr>\n",
              "    <tr>\n",
              "      <th>6</th>\n",
              "      <td>3743</td>\n",
              "      <td>drew mcintyre</td>\n",
              "      <td>0.053431</td>\n",
              "      <td>positive</td>\n",
              "      <td>andrew drew galloway born 6 june 1985 scottish...</td>\n",
              "      <td>http://dbpedia.org/resource/Drew_McIntyre</td>\n",
              "    </tr>\n",
              "    <tr>\n",
              "      <th>7</th>\n",
              "      <td>42747</td>\n",
              "      <td>jason rumble</td>\n",
              "      <td>0.148351</td>\n",
              "      <td>positive</td>\n",
              "      <td>jason dellagatta born 1971 american profession...</td>\n",
              "      <td>http://dbpedia.org/resource/Jason_Rumble</td>\n",
              "    </tr>\n",
              "    <tr>\n",
              "      <th>8</th>\n",
              "      <td>32251</td>\n",
              "      <td>road dogg</td>\n",
              "      <td>0.199380</td>\n",
              "      <td>positive</td>\n",
              "      <td>brian girard bg james born may 20 1969 america...</td>\n",
              "      <td>http://dbpedia.org/resource/Road_Dogg</td>\n",
              "    </tr>\n",
              "    <tr>\n",
              "      <th>9</th>\n",
              "      <td>610</td>\n",
              "      <td>gary michael cappetta</td>\n",
              "      <td>0.067438</td>\n",
              "      <td>positive</td>\n",
              "      <td>gary michael cappetta born december 12 1952 am...</td>\n",
              "      <td>http://dbpedia.org/resource/Gary_Michael_Cappetta</td>\n",
              "    </tr>\n",
              "  </tbody>\n",
              "</table>\n",
              "</div>\n",
              "    <div class=\"colab-df-buttons\">\n",
              "\n",
              "  <div class=\"colab-df-container\">\n",
              "    <button class=\"colab-df-convert\" onclick=\"convertToInteractive('df-52452c4a-b9d5-4e93-8f2b-58553b0357ff')\"\n",
              "            title=\"Convert this dataframe to an interactive table.\"\n",
              "            style=\"display:none;\">\n",
              "\n",
              "  <svg xmlns=\"http://www.w3.org/2000/svg\" height=\"24px\" viewBox=\"0 -960 960 960\">\n",
              "    <path d=\"M120-120v-720h720v720H120Zm60-500h600v-160H180v160Zm220 220h160v-160H400v160Zm0 220h160v-160H400v160ZM180-400h160v-160H180v160Zm440 0h160v-160H620v160ZM180-180h160v-160H180v160Zm440 0h160v-160H620v160Z\"/>\n",
              "  </svg>\n",
              "    </button>\n",
              "\n",
              "  <style>\n",
              "    .colab-df-container {\n",
              "      display:flex;\n",
              "      gap: 12px;\n",
              "    }\n",
              "\n",
              "    .colab-df-convert {\n",
              "      background-color: #E8F0FE;\n",
              "      border: none;\n",
              "      border-radius: 50%;\n",
              "      cursor: pointer;\n",
              "      display: none;\n",
              "      fill: #1967D2;\n",
              "      height: 32px;\n",
              "      padding: 0 0 0 0;\n",
              "      width: 32px;\n",
              "    }\n",
              "\n",
              "    .colab-df-convert:hover {\n",
              "      background-color: #E2EBFA;\n",
              "      box-shadow: 0px 1px 2px rgba(60, 64, 67, 0.3), 0px 1px 3px 1px rgba(60, 64, 67, 0.15);\n",
              "      fill: #174EA6;\n",
              "    }\n",
              "\n",
              "    .colab-df-buttons div {\n",
              "      margin-bottom: 4px;\n",
              "    }\n",
              "\n",
              "    [theme=dark] .colab-df-convert {\n",
              "      background-color: #3B4455;\n",
              "      fill: #D2E3FC;\n",
              "    }\n",
              "\n",
              "    [theme=dark] .colab-df-convert:hover {\n",
              "      background-color: #434B5C;\n",
              "      box-shadow: 0px 1px 3px 1px rgba(0, 0, 0, 0.15);\n",
              "      filter: drop-shadow(0px 1px 2px rgba(0, 0, 0, 0.3));\n",
              "      fill: #FFFFFF;\n",
              "    }\n",
              "  </style>\n",
              "\n",
              "    <script>\n",
              "      const buttonEl =\n",
              "        document.querySelector('#df-52452c4a-b9d5-4e93-8f2b-58553b0357ff button.colab-df-convert');\n",
              "      buttonEl.style.display =\n",
              "        google.colab.kernel.accessAllowed ? 'block' : 'none';\n",
              "\n",
              "      async function convertToInteractive(key) {\n",
              "        const element = document.querySelector('#df-52452c4a-b9d5-4e93-8f2b-58553b0357ff');\n",
              "        const dataTable =\n",
              "          await google.colab.kernel.invokeFunction('convertToInteractive',\n",
              "                                                    [key], {});\n",
              "        if (!dataTable) return;\n",
              "\n",
              "        const docLinkHtml = 'Like what you see? Visit the ' +\n",
              "          '<a target=\"_blank\" href=https://colab.research.google.com/notebooks/data_table.ipynb>data table notebook</a>'\n",
              "          + ' to learn more about interactive tables.';\n",
              "        element.innerHTML = '';\n",
              "        dataTable['output_type'] = 'display_data';\n",
              "        await google.colab.output.renderOutput(dataTable, element);\n",
              "        const docLink = document.createElement('div');\n",
              "        docLink.innerHTML = docLinkHtml;\n",
              "        element.appendChild(docLink);\n",
              "      }\n",
              "    </script>\n",
              "  </div>\n",
              "\n",
              "\n",
              "<div id=\"df-58b17f1c-f69a-48ee-9f82-5d202c69650d\">\n",
              "  <button class=\"colab-df-quickchart\" onclick=\"quickchart('df-58b17f1c-f69a-48ee-9f82-5d202c69650d')\"\n",
              "            title=\"Suggest charts\"\n",
              "            style=\"display:none;\">\n",
              "\n",
              "<svg xmlns=\"http://www.w3.org/2000/svg\" height=\"24px\"viewBox=\"0 0 24 24\"\n",
              "     width=\"24px\">\n",
              "    <g>\n",
              "        <path d=\"M19 3H5c-1.1 0-2 .9-2 2v14c0 1.1.9 2 2 2h14c1.1 0 2-.9 2-2V5c0-1.1-.9-2-2-2zM9 17H7v-7h2v7zm4 0h-2V7h2v10zm4 0h-2v-4h2v4z\"/>\n",
              "    </g>\n",
              "</svg>\n",
              "  </button>\n",
              "\n",
              "<style>\n",
              "  .colab-df-quickchart {\n",
              "      --bg-color: #E8F0FE;\n",
              "      --fill-color: #1967D2;\n",
              "      --hover-bg-color: #E2EBFA;\n",
              "      --hover-fill-color: #174EA6;\n",
              "      --disabled-fill-color: #AAA;\n",
              "      --disabled-bg-color: #DDD;\n",
              "  }\n",
              "\n",
              "  [theme=dark] .colab-df-quickchart {\n",
              "      --bg-color: #3B4455;\n",
              "      --fill-color: #D2E3FC;\n",
              "      --hover-bg-color: #434B5C;\n",
              "      --hover-fill-color: #FFFFFF;\n",
              "      --disabled-bg-color: #3B4455;\n",
              "      --disabled-fill-color: #666;\n",
              "  }\n",
              "\n",
              "  .colab-df-quickchart {\n",
              "    background-color: var(--bg-color);\n",
              "    border: none;\n",
              "    border-radius: 50%;\n",
              "    cursor: pointer;\n",
              "    display: none;\n",
              "    fill: var(--fill-color);\n",
              "    height: 32px;\n",
              "    padding: 0;\n",
              "    width: 32px;\n",
              "  }\n",
              "\n",
              "  .colab-df-quickchart:hover {\n",
              "    background-color: var(--hover-bg-color);\n",
              "    box-shadow: 0 1px 2px rgba(60, 64, 67, 0.3), 0 1px 3px 1px rgba(60, 64, 67, 0.15);\n",
              "    fill: var(--button-hover-fill-color);\n",
              "  }\n",
              "\n",
              "  .colab-df-quickchart-complete:disabled,\n",
              "  .colab-df-quickchart-complete:disabled:hover {\n",
              "    background-color: var(--disabled-bg-color);\n",
              "    fill: var(--disabled-fill-color);\n",
              "    box-shadow: none;\n",
              "  }\n",
              "\n",
              "  .colab-df-spinner {\n",
              "    border: 2px solid var(--fill-color);\n",
              "    border-color: transparent;\n",
              "    border-bottom-color: var(--fill-color);\n",
              "    animation:\n",
              "      spin 1s steps(1) infinite;\n",
              "  }\n",
              "\n",
              "  @keyframes spin {\n",
              "    0% {\n",
              "      border-color: transparent;\n",
              "      border-bottom-color: var(--fill-color);\n",
              "      border-left-color: var(--fill-color);\n",
              "    }\n",
              "    20% {\n",
              "      border-color: transparent;\n",
              "      border-left-color: var(--fill-color);\n",
              "      border-top-color: var(--fill-color);\n",
              "    }\n",
              "    30% {\n",
              "      border-color: transparent;\n",
              "      border-left-color: var(--fill-color);\n",
              "      border-top-color: var(--fill-color);\n",
              "      border-right-color: var(--fill-color);\n",
              "    }\n",
              "    40% {\n",
              "      border-color: transparent;\n",
              "      border-right-color: var(--fill-color);\n",
              "      border-top-color: var(--fill-color);\n",
              "    }\n",
              "    60% {\n",
              "      border-color: transparent;\n",
              "      border-right-color: var(--fill-color);\n",
              "    }\n",
              "    80% {\n",
              "      border-color: transparent;\n",
              "      border-right-color: var(--fill-color);\n",
              "      border-bottom-color: var(--fill-color);\n",
              "    }\n",
              "    90% {\n",
              "      border-color: transparent;\n",
              "      border-bottom-color: var(--fill-color);\n",
              "    }\n",
              "  }\n",
              "</style>\n",
              "\n",
              "  <script>\n",
              "    async function quickchart(key) {\n",
              "      const quickchartButtonEl =\n",
              "        document.querySelector('#' + key + ' button');\n",
              "      quickchartButtonEl.disabled = true;  // To prevent multiple clicks.\n",
              "      quickchartButtonEl.classList.add('colab-df-spinner');\n",
              "      try {\n",
              "        const charts = await google.colab.kernel.invokeFunction(\n",
              "            'suggestCharts', [key], {});\n",
              "      } catch (error) {\n",
              "        console.error('Error during call to suggestCharts:', error);\n",
              "      }\n",
              "      quickchartButtonEl.classList.remove('colab-df-spinner');\n",
              "      quickchartButtonEl.classList.add('colab-df-quickchart-complete');\n",
              "    }\n",
              "    (() => {\n",
              "      let quickchartButtonEl =\n",
              "        document.querySelector('#df-58b17f1c-f69a-48ee-9f82-5d202c69650d button');\n",
              "      quickchartButtonEl.style.display =\n",
              "        google.colab.kernel.accessAllowed ? 'block' : 'none';\n",
              "    })();\n",
              "  </script>\n",
              "</div>\n",
              "\n",
              "    </div>\n",
              "  </div>\n"
            ],
            "application/vnd.google.colaboratory.intrinsic+json": {
              "type": "dataframe",
              "variable_name": "nn_feels_df",
              "summary": "{\n  \"name\": \"nn_feels_df\",\n  \"rows\": 10,\n  \"fields\": [\n    {\n      \"column\": \"index\",\n      \"properties\": {\n        \"dtype\": \"number\",\n        \"std\": 17336,\n        \"min\": 610,\n        \"max\": 42747,\n        \"num_unique_values\": 10,\n        \"samples\": [\n          32251,\n          7539,\n          38612\n        ],\n        \"semantic_type\": \"\",\n        \"description\": \"\"\n      }\n    },\n    {\n      \"column\": \"name\",\n      \"properties\": {\n        \"dtype\": \"string\",\n        \"num_unique_values\": 10,\n        \"samples\": [\n          \"road dogg\",\n          \"dick slater\",\n          \"gino martino\"\n        ],\n        \"semantic_type\": \"\",\n        \"description\": \"\"\n      }\n    },\n    {\n      \"column\": \"sentiment_polarity\",\n      \"properties\": {\n        \"dtype\": \"number\",\n        \"std\": 0.07541833338505495,\n        \"min\": -0.027857142857142855,\n        \"max\": 0.21625,\n        \"num_unique_values\": 10,\n        \"samples\": [\n          0.19938016528925617,\n          -0.027857142857142855,\n          0.10219298245614032\n        ],\n        \"semantic_type\": \"\",\n        \"description\": \"\"\n      }\n    },\n    {\n      \"column\": \"sentiment_class\",\n      \"properties\": {\n        \"dtype\": \"category\",\n        \"num_unique_values\": 2,\n        \"samples\": [\n          \"negative\",\n          \"positive\"\n        ],\n        \"semantic_type\": \"\",\n        \"description\": \"\"\n      }\n    },\n    {\n      \"column\": \"text\",\n      \"properties\": {\n        \"dtype\": \"string\",\n        \"num_unique_values\": 10,\n        \"samples\": [\n          \"brian girard bg james born may 20 1969 american professional wrestler former united states marine currently signed wwe james returned wwe producer 2011 since wrestled sporadicallyjames best known appearances world wrestling federation wwf wwe roadie 1994 1995 road dogg jesse james simply road dogg 1996 2001 also known appearances total nonstop action wrestling bg james 2002 2009 also made appearances several promotions smoky mountain wrestling world championship wrestling united states wrestling association catch wrestling association world wrestling allstarsjames held numerous championships course career wwfe found greatest success tag team wrestler six time tag team champion wwf tag team championship five times wwe tag team championship billy gunn new age outlaws became part dgeneration x additionally james found success singles competition becoming one time intercontinental champion one time hardcore champion following departure wwf james became inaugural world wrestling allstars wwa world heavyweight champion finding success tag team wrestler total nonstop action wrestling two time national wrestling alliance nwa world tag team champion konnan ron killings freebird rule 3live kru ultimately wwe described james one popular superstars wwes attitude erajames second generation wrestler father bob wrestled brothers scott brad steve\",\n          \"richard van slater born may 19 1951 better known ring name dirty dick slater retired american professional wrestler wrestled 1970s 1980s mid1990s various promotions including midatlantic championship wrestling world championship wrestling wcwslater began wrestling mike graham robinson high school tampa florida attended university tampa paul orndorff began wrestling championship wrestling florida georgia championship wrestling worked booker knoxville tennessee ron fuller sold promotion jim barnett wrestled midatlantic championship wrestling later world championship wrestling appeared first starrcade also worked midsouth wrestling association managed dark journey made trips world wrestling council puerto rico wrestled briefly world wrestling federation babyface rebel gimmick soon returned wcw wrestled receiving back injury ended careerin june 2004 slater convicted stabbing former girlfriend theresa halbert sentenced one year house arrest two years probation blamed incident influence painkillers\"\n        ],\n        \"semantic_type\": \"\",\n        \"description\": \"\"\n      }\n    },\n    {\n      \"column\": \"wiki_page\",\n      \"properties\": {\n        \"dtype\": \"string\",\n        \"num_unique_values\": 10,\n        \"samples\": [\n          \"http://dbpedia.org/resource/Road_Dogg\",\n          \"http://dbpedia.org/resource/Dick_Slater\"\n        ],\n        \"semantic_type\": \"\",\n        \"description\": \"\"\n      }\n    }\n  ]\n}"
            }
          },
          "metadata": {},
          "execution_count": 33
        }
      ]
    },
    {
      "cell_type": "code",
      "source": [
        "nn_feels_df.info()"
      ],
      "metadata": {
        "colab": {
          "base_uri": "https://localhost:8080/"
        },
        "id": "gFr4ck55UoWc",
        "outputId": "e1f674a9-818e-43e6-82e2-775ea2dfd162"
      },
      "execution_count": 34,
      "outputs": [
        {
          "output_type": "stream",
          "name": "stdout",
          "text": [
            "<class 'pandas.core.frame.DataFrame'>\n",
            "RangeIndex: 10 entries, 0 to 9\n",
            "Data columns (total 6 columns):\n",
            " #   Column              Non-Null Count  Dtype  \n",
            "---  ------              --------------  -----  \n",
            " 0   index               10 non-null     int64  \n",
            " 1   name                10 non-null     object \n",
            " 2   sentiment_polarity  10 non-null     float64\n",
            " 3   sentiment_class     10 non-null     object \n",
            " 4   text                10 non-null     object \n",
            " 5   wiki_page           10 non-null     object \n",
            "dtypes: float64(1), int64(1), object(4)\n",
            "memory usage: 608.0+ bytes\n"
          ]
        }
      ]
    },
    {
      "cell_type": "markdown",
      "source": [
        "```\n",
        "18. Created df for target person with sinlge row and 5 columns to match nearest neighbors df.\n",
        "```"
      ],
      "metadata": {
        "id": "CgUODCEQYLqn"
      }
    },
    {
      "source": [
        "# Create a DataFrame for target person with single row\n",
        "target_feels_df = pd.DataFrame({\n",
        "    'index': [person_index],  # Index of the target person\n",
        "    'name': [person_name],  # Name of the target person\n",
        "    'sentiment_polarity': [TextBlob(person_text).sentiment.polarity],  # Polarity for target\n",
        "    'sentiment_class': [classify_feels(TextBlob(person_text).sentiment.polarity)],  # Class for target\n",
        "    'text': [person_text],  # Text for target\n",
        "    'wiki_page': [clean_df.iloc[person_index]['URI1']]  # Wiki page for target\n",
        "})"
      ],
      "cell_type": "code",
      "metadata": {
        "id": "9YLUEGr6RkDC"
      },
      "execution_count": 35,
      "outputs": []
    },
    {
      "cell_type": "markdown",
      "source": [
        "```\n",
        "19. Concatenated target and nearest neighbor data for Scatterplot\n",
        "```"
      ],
      "metadata": {
        "id": "dm5uWZV4vuyx"
      }
    },
    {
      "cell_type": "code",
      "source": [
        "# Concatenate target person's data with nearest neighbors' data\n",
        "nn_feels_df1 = pd.concat([target_feels_df, nn_feels_df], ignore_index=True)\n",
        "# 'sentiment_polarity' 'index' 'sentiment_class'\n",
        "nn_feels_df1[['name', 'wiki_page']].head(11)"
      ],
      "metadata": {
        "colab": {
          "base_uri": "https://localhost:8080/",
          "height": 394
        },
        "id": "HT7DeMVtv208",
        "outputId": "2b761fa8-c31f-45cc-8669-019de604ea84"
      },
      "execution_count": 36,
      "outputs": [
        {
          "output_type": "execute_result",
          "data": {
            "text/plain": [
              "                     name                                          wiki_page\n",
              "0           adorable rubí     http://dbpedia.org/resource/Adorable_Rub%C3%AD\n",
              "1             cosmo baker            http://dbpedia.org/resource/Cosmo_Baker\n",
              "2             dick slater            http://dbpedia.org/resource/Dick_Slater\n",
              "3             ricky blues            http://dbpedia.org/resource/Ricky_Blues\n",
              "4           pedro morales          http://dbpedia.org/resource/Pedro_Morales\n",
              "5         knuckles nelson        http://dbpedia.org/resource/Knuckles_Nelson\n",
              "6            gino martino           http://dbpedia.org/resource/Gino_Martino\n",
              "7           drew mcintyre          http://dbpedia.org/resource/Drew_McIntyre\n",
              "8            jason rumble           http://dbpedia.org/resource/Jason_Rumble\n",
              "9               road dogg              http://dbpedia.org/resource/Road_Dogg\n",
              "10  gary michael cappetta  http://dbpedia.org/resource/Gary_Michael_Cappetta"
            ],
            "text/html": [
              "\n",
              "  <div id=\"df-ef991c9d-018d-4db8-8fbd-af10cab2a527\" class=\"colab-df-container\">\n",
              "    <div>\n",
              "<style scoped>\n",
              "    .dataframe tbody tr th:only-of-type {\n",
              "        vertical-align: middle;\n",
              "    }\n",
              "\n",
              "    .dataframe tbody tr th {\n",
              "        vertical-align: top;\n",
              "    }\n",
              "\n",
              "    .dataframe thead th {\n",
              "        text-align: right;\n",
              "    }\n",
              "</style>\n",
              "<table border=\"1\" class=\"dataframe\">\n",
              "  <thead>\n",
              "    <tr style=\"text-align: right;\">\n",
              "      <th></th>\n",
              "      <th>name</th>\n",
              "      <th>wiki_page</th>\n",
              "    </tr>\n",
              "  </thead>\n",
              "  <tbody>\n",
              "    <tr>\n",
              "      <th>0</th>\n",
              "      <td>adorable rubí</td>\n",
              "      <td>http://dbpedia.org/resource/Adorable_Rub%C3%AD</td>\n",
              "    </tr>\n",
              "    <tr>\n",
              "      <th>1</th>\n",
              "      <td>cosmo baker</td>\n",
              "      <td>http://dbpedia.org/resource/Cosmo_Baker</td>\n",
              "    </tr>\n",
              "    <tr>\n",
              "      <th>2</th>\n",
              "      <td>dick slater</td>\n",
              "      <td>http://dbpedia.org/resource/Dick_Slater</td>\n",
              "    </tr>\n",
              "    <tr>\n",
              "      <th>3</th>\n",
              "      <td>ricky blues</td>\n",
              "      <td>http://dbpedia.org/resource/Ricky_Blues</td>\n",
              "    </tr>\n",
              "    <tr>\n",
              "      <th>4</th>\n",
              "      <td>pedro morales</td>\n",
              "      <td>http://dbpedia.org/resource/Pedro_Morales</td>\n",
              "    </tr>\n",
              "    <tr>\n",
              "      <th>5</th>\n",
              "      <td>knuckles nelson</td>\n",
              "      <td>http://dbpedia.org/resource/Knuckles_Nelson</td>\n",
              "    </tr>\n",
              "    <tr>\n",
              "      <th>6</th>\n",
              "      <td>gino martino</td>\n",
              "      <td>http://dbpedia.org/resource/Gino_Martino</td>\n",
              "    </tr>\n",
              "    <tr>\n",
              "      <th>7</th>\n",
              "      <td>drew mcintyre</td>\n",
              "      <td>http://dbpedia.org/resource/Drew_McIntyre</td>\n",
              "    </tr>\n",
              "    <tr>\n",
              "      <th>8</th>\n",
              "      <td>jason rumble</td>\n",
              "      <td>http://dbpedia.org/resource/Jason_Rumble</td>\n",
              "    </tr>\n",
              "    <tr>\n",
              "      <th>9</th>\n",
              "      <td>road dogg</td>\n",
              "      <td>http://dbpedia.org/resource/Road_Dogg</td>\n",
              "    </tr>\n",
              "    <tr>\n",
              "      <th>10</th>\n",
              "      <td>gary michael cappetta</td>\n",
              "      <td>http://dbpedia.org/resource/Gary_Michael_Cappetta</td>\n",
              "    </tr>\n",
              "  </tbody>\n",
              "</table>\n",
              "</div>\n",
              "    <div class=\"colab-df-buttons\">\n",
              "\n",
              "  <div class=\"colab-df-container\">\n",
              "    <button class=\"colab-df-convert\" onclick=\"convertToInteractive('df-ef991c9d-018d-4db8-8fbd-af10cab2a527')\"\n",
              "            title=\"Convert this dataframe to an interactive table.\"\n",
              "            style=\"display:none;\">\n",
              "\n",
              "  <svg xmlns=\"http://www.w3.org/2000/svg\" height=\"24px\" viewBox=\"0 -960 960 960\">\n",
              "    <path d=\"M120-120v-720h720v720H120Zm60-500h600v-160H180v160Zm220 220h160v-160H400v160Zm0 220h160v-160H400v160ZM180-400h160v-160H180v160Zm440 0h160v-160H620v160ZM180-180h160v-160H180v160Zm440 0h160v-160H620v160Z\"/>\n",
              "  </svg>\n",
              "    </button>\n",
              "\n",
              "  <style>\n",
              "    .colab-df-container {\n",
              "      display:flex;\n",
              "      gap: 12px;\n",
              "    }\n",
              "\n",
              "    .colab-df-convert {\n",
              "      background-color: #E8F0FE;\n",
              "      border: none;\n",
              "      border-radius: 50%;\n",
              "      cursor: pointer;\n",
              "      display: none;\n",
              "      fill: #1967D2;\n",
              "      height: 32px;\n",
              "      padding: 0 0 0 0;\n",
              "      width: 32px;\n",
              "    }\n",
              "\n",
              "    .colab-df-convert:hover {\n",
              "      background-color: #E2EBFA;\n",
              "      box-shadow: 0px 1px 2px rgba(60, 64, 67, 0.3), 0px 1px 3px 1px rgba(60, 64, 67, 0.15);\n",
              "      fill: #174EA6;\n",
              "    }\n",
              "\n",
              "    .colab-df-buttons div {\n",
              "      margin-bottom: 4px;\n",
              "    }\n",
              "\n",
              "    [theme=dark] .colab-df-convert {\n",
              "      background-color: #3B4455;\n",
              "      fill: #D2E3FC;\n",
              "    }\n",
              "\n",
              "    [theme=dark] .colab-df-convert:hover {\n",
              "      background-color: #434B5C;\n",
              "      box-shadow: 0px 1px 3px 1px rgba(0, 0, 0, 0.15);\n",
              "      filter: drop-shadow(0px 1px 2px rgba(0, 0, 0, 0.3));\n",
              "      fill: #FFFFFF;\n",
              "    }\n",
              "  </style>\n",
              "\n",
              "    <script>\n",
              "      const buttonEl =\n",
              "        document.querySelector('#df-ef991c9d-018d-4db8-8fbd-af10cab2a527 button.colab-df-convert');\n",
              "      buttonEl.style.display =\n",
              "        google.colab.kernel.accessAllowed ? 'block' : 'none';\n",
              "\n",
              "      async function convertToInteractive(key) {\n",
              "        const element = document.querySelector('#df-ef991c9d-018d-4db8-8fbd-af10cab2a527');\n",
              "        const dataTable =\n",
              "          await google.colab.kernel.invokeFunction('convertToInteractive',\n",
              "                                                    [key], {});\n",
              "        if (!dataTable) return;\n",
              "\n",
              "        const docLinkHtml = 'Like what you see? Visit the ' +\n",
              "          '<a target=\"_blank\" href=https://colab.research.google.com/notebooks/data_table.ipynb>data table notebook</a>'\n",
              "          + ' to learn more about interactive tables.';\n",
              "        element.innerHTML = '';\n",
              "        dataTable['output_type'] = 'display_data';\n",
              "        await google.colab.output.renderOutput(dataTable, element);\n",
              "        const docLink = document.createElement('div');\n",
              "        docLink.innerHTML = docLinkHtml;\n",
              "        element.appendChild(docLink);\n",
              "      }\n",
              "    </script>\n",
              "  </div>\n",
              "\n",
              "\n",
              "<div id=\"df-ea124894-2009-4d99-813e-030d08cc3f10\">\n",
              "  <button class=\"colab-df-quickchart\" onclick=\"quickchart('df-ea124894-2009-4d99-813e-030d08cc3f10')\"\n",
              "            title=\"Suggest charts\"\n",
              "            style=\"display:none;\">\n",
              "\n",
              "<svg xmlns=\"http://www.w3.org/2000/svg\" height=\"24px\"viewBox=\"0 0 24 24\"\n",
              "     width=\"24px\">\n",
              "    <g>\n",
              "        <path d=\"M19 3H5c-1.1 0-2 .9-2 2v14c0 1.1.9 2 2 2h14c1.1 0 2-.9 2-2V5c0-1.1-.9-2-2-2zM9 17H7v-7h2v7zm4 0h-2V7h2v10zm4 0h-2v-4h2v4z\"/>\n",
              "    </g>\n",
              "</svg>\n",
              "  </button>\n",
              "\n",
              "<style>\n",
              "  .colab-df-quickchart {\n",
              "      --bg-color: #E8F0FE;\n",
              "      --fill-color: #1967D2;\n",
              "      --hover-bg-color: #E2EBFA;\n",
              "      --hover-fill-color: #174EA6;\n",
              "      --disabled-fill-color: #AAA;\n",
              "      --disabled-bg-color: #DDD;\n",
              "  }\n",
              "\n",
              "  [theme=dark] .colab-df-quickchart {\n",
              "      --bg-color: #3B4455;\n",
              "      --fill-color: #D2E3FC;\n",
              "      --hover-bg-color: #434B5C;\n",
              "      --hover-fill-color: #FFFFFF;\n",
              "      --disabled-bg-color: #3B4455;\n",
              "      --disabled-fill-color: #666;\n",
              "  }\n",
              "\n",
              "  .colab-df-quickchart {\n",
              "    background-color: var(--bg-color);\n",
              "    border: none;\n",
              "    border-radius: 50%;\n",
              "    cursor: pointer;\n",
              "    display: none;\n",
              "    fill: var(--fill-color);\n",
              "    height: 32px;\n",
              "    padding: 0;\n",
              "    width: 32px;\n",
              "  }\n",
              "\n",
              "  .colab-df-quickchart:hover {\n",
              "    background-color: var(--hover-bg-color);\n",
              "    box-shadow: 0 1px 2px rgba(60, 64, 67, 0.3), 0 1px 3px 1px rgba(60, 64, 67, 0.15);\n",
              "    fill: var(--button-hover-fill-color);\n",
              "  }\n",
              "\n",
              "  .colab-df-quickchart-complete:disabled,\n",
              "  .colab-df-quickchart-complete:disabled:hover {\n",
              "    background-color: var(--disabled-bg-color);\n",
              "    fill: var(--disabled-fill-color);\n",
              "    box-shadow: none;\n",
              "  }\n",
              "\n",
              "  .colab-df-spinner {\n",
              "    border: 2px solid var(--fill-color);\n",
              "    border-color: transparent;\n",
              "    border-bottom-color: var(--fill-color);\n",
              "    animation:\n",
              "      spin 1s steps(1) infinite;\n",
              "  }\n",
              "\n",
              "  @keyframes spin {\n",
              "    0% {\n",
              "      border-color: transparent;\n",
              "      border-bottom-color: var(--fill-color);\n",
              "      border-left-color: var(--fill-color);\n",
              "    }\n",
              "    20% {\n",
              "      border-color: transparent;\n",
              "      border-left-color: var(--fill-color);\n",
              "      border-top-color: var(--fill-color);\n",
              "    }\n",
              "    30% {\n",
              "      border-color: transparent;\n",
              "      border-left-color: var(--fill-color);\n",
              "      border-top-color: var(--fill-color);\n",
              "      border-right-color: var(--fill-color);\n",
              "    }\n",
              "    40% {\n",
              "      border-color: transparent;\n",
              "      border-right-color: var(--fill-color);\n",
              "      border-top-color: var(--fill-color);\n",
              "    }\n",
              "    60% {\n",
              "      border-color: transparent;\n",
              "      border-right-color: var(--fill-color);\n",
              "    }\n",
              "    80% {\n",
              "      border-color: transparent;\n",
              "      border-right-color: var(--fill-color);\n",
              "      border-bottom-color: var(--fill-color);\n",
              "    }\n",
              "    90% {\n",
              "      border-color: transparent;\n",
              "      border-bottom-color: var(--fill-color);\n",
              "    }\n",
              "  }\n",
              "</style>\n",
              "\n",
              "  <script>\n",
              "    async function quickchart(key) {\n",
              "      const quickchartButtonEl =\n",
              "        document.querySelector('#' + key + ' button');\n",
              "      quickchartButtonEl.disabled = true;  // To prevent multiple clicks.\n",
              "      quickchartButtonEl.classList.add('colab-df-spinner');\n",
              "      try {\n",
              "        const charts = await google.colab.kernel.invokeFunction(\n",
              "            'suggestCharts', [key], {});\n",
              "      } catch (error) {\n",
              "        console.error('Error during call to suggestCharts:', error);\n",
              "      }\n",
              "      quickchartButtonEl.classList.remove('colab-df-spinner');\n",
              "      quickchartButtonEl.classList.add('colab-df-quickchart-complete');\n",
              "    }\n",
              "    (() => {\n",
              "      let quickchartButtonEl =\n",
              "        document.querySelector('#df-ea124894-2009-4d99-813e-030d08cc3f10 button');\n",
              "      quickchartButtonEl.style.display =\n",
              "        google.colab.kernel.accessAllowed ? 'block' : 'none';\n",
              "    })();\n",
              "  </script>\n",
              "</div>\n",
              "\n",
              "    </div>\n",
              "  </div>\n"
            ],
            "application/vnd.google.colaboratory.intrinsic+json": {
              "type": "dataframe",
              "summary": "{\n  \"name\": \"nn_feels_df1[['name', 'wiki_page']]\",\n  \"rows\": 11,\n  \"fields\": [\n    {\n      \"column\": \"name\",\n      \"properties\": {\n        \"dtype\": \"string\",\n        \"num_unique_values\": 11,\n        \"samples\": [\n          \"knuckles nelson\",\n          \"adorable rub\\u00ed\",\n          \"road dogg\"\n        ],\n        \"semantic_type\": \"\",\n        \"description\": \"\"\n      }\n    },\n    {\n      \"column\": \"wiki_page\",\n      \"properties\": {\n        \"dtype\": \"string\",\n        \"num_unique_values\": 11,\n        \"samples\": [\n          \"http://dbpedia.org/resource/Knuckles_Nelson\",\n          \"http://dbpedia.org/resource/Adorable_Rub%C3%AD\",\n          \"http://dbpedia.org/resource/Road_Dogg\"\n        ],\n        \"semantic_type\": \"\",\n        \"description\": \"\"\n      }\n    }\n  ]\n}"
            }
          },
          "metadata": {},
          "execution_count": 36
        }
      ]
    },
    {
      "cell_type": "code",
      "source": [
        "nn_feels_df1.info()"
      ],
      "metadata": {
        "colab": {
          "base_uri": "https://localhost:8080/"
        },
        "id": "p5hXB_WDUtQh",
        "outputId": "af82cded-db72-46e9-dceb-343a713fdb0f"
      },
      "execution_count": 37,
      "outputs": [
        {
          "output_type": "stream",
          "name": "stdout",
          "text": [
            "<class 'pandas.core.frame.DataFrame'>\n",
            "RangeIndex: 11 entries, 0 to 10\n",
            "Data columns (total 6 columns):\n",
            " #   Column              Non-Null Count  Dtype  \n",
            "---  ------              --------------  -----  \n",
            " 0   index               11 non-null     int64  \n",
            " 1   name                11 non-null     object \n",
            " 2   sentiment_polarity  11 non-null     float64\n",
            " 3   sentiment_class     11 non-null     object \n",
            " 4   text                11 non-null     object \n",
            " 5   wiki_page           11 non-null     object \n",
            "dtypes: float64(1), int64(1), object(4)\n",
            "memory usage: 656.0+ bytes\n"
          ]
        }
      ]
    },
    {
      "cell_type": "markdown",
      "source": [
        "```\n",
        "20. Processed data further given difficulty returning target's data in nn_feels_df1.\n",
        "\n",
        "(index # 8300)\n",
        "```"
      ],
      "metadata": {
        "id": "Ksy9kVfBv_Ck"
      }
    },
    {
      "source": [
        "def title_case_name(name):\n",
        "    \"\"\"Converts a name to title case and replaces underscores between first and last name with a space.\"\"\"\n",
        "    # Replace underscores with spaces and convert to title case\n",
        "    name = name.replace(\"_\", \" \").title()\n",
        "    # Handle special cases like \"Mc\" or \"Mac\"\n",
        "    name = re.sub(r\"\\b(Mc|Mac)(\\w)\", lambda m: m.group(1) + m.group(2).upper(), name)\n",
        "    return name\n",
        "\n",
        "nn_feels_df1['name'] = nn_feels_df1['name'].apply(title_case_name)"
      ],
      "cell_type": "code",
      "metadata": {
        "id": "nGimuD1aDKVy"
      },
      "execution_count": 38,
      "outputs": []
    },
    {
      "cell_type": "markdown",
      "source": [
        "###Scatterplot of Person's Sentiment Scores"
      ],
      "metadata": {
        "id": "0ugq40ZUN2fo"
      }
    },
    {
      "cell_type": "markdown",
      "source": [
        "```\n",
        "21. Scatterplot of nn_feels_df1.\n",
        "```"
      ],
      "metadata": {
        "id": "qvuOEMCwweft"
      }
    },
    {
      "source": [
        "target_index = nn_feels_df1[nn_feels_df1['name'] == title_case_name(person_name)].index[0]\n",
        "\n",
        "plt.figure(figsize=(8, 6))\n",
        "\n",
        "# Plot nearest neighbors without colorbar\n",
        "scatter = nn_feels_df1[nn_feels_df1.index != target_index].plot(kind='scatter', x='index', y='sentiment_polarity', s=32, alpha=.8, c='sentiment_polarity', cmap='viridis', label='Nearest Neighbors', colorbar=False)\n",
        "# Plot target person\n",
        "plt.scatter(nn_feels_df1.loc[target_index, 'index'], nn_feels_df1.loc[target_index, 'sentiment_polarity'], color='red', s=100, label='Target Person')\n",
        "plt.xlabel('Row #')\n",
        "plt.ylabel('Sentiment')\n",
        "plt.title('Scatterplot of Sentiment')\n",
        "# Create a single colorbar for the 'viridis' colormap\n",
        "plt.colorbar(scatter.collections[0], label='Sentiment (Positive: 1, Neutral: 0, Negative: -1)')\n",
        "# plt.ylim(0.0, nn_feels_df1['sentiment_polarity'].max() + 0.2)  # Adjust '0.1' if needed\n",
        "plt.gca().spines[['top', 'right']].set_visible(False)\n",
        "plt.legend()\n",
        "plt.show()"
      ],
      "cell_type": "code",
      "metadata": {
        "colab": {
          "base_uri": "https://localhost:8080/",
          "height": 490
        },
        "id": "xCrrnqT9sRSq",
        "outputId": "666d2297-905e-4191-9c49-6897c281ac93"
      },
      "execution_count": 39,
      "outputs": [
        {
          "output_type": "display_data",
          "data": {
            "text/plain": [
              "<Figure size 800x600 with 0 Axes>"
            ]
          },
          "metadata": {}
        },
        {
          "output_type": "display_data",
          "data": {
            "text/plain": [
              "<Figure size 640x480 with 2 Axes>"
            ],
            "image/png": "[encoded data removed]"
          },
          "metadata": {}
        }
      ]
    },
    {
      "cell_type": "markdown",
      "source": [
        "```\n",
        "22. Scatterplot of nn_feels_df1 zoomed out.\n",
        "```"
      ],
      "metadata": {
        "id": "SB2qVVQQwnO5"
      }
    },
    {
      "source": [
        "target_index = nn_feels_df1[nn_feels_df1['name'] == title_case_name(person_name)].index[0]\n",
        "\n",
        "plt.figure(figsize=(8, 6))\n",
        "\n",
        "# Plot nearest neighbors without colorbar\n",
        "scatter = nn_feels_df1[nn_feels_df1.index != target_index].plot(kind='scatter', x='index', y='sentiment_polarity', s=32, alpha=.8, c='sentiment_polarity', cmap='viridis', label='Nearest Neighbors', colorbar=False)\n",
        "# Plot target person\n",
        "plt.scatter(nn_feels_df1.loc[target_index, 'index'], nn_feels_df1.loc[target_index, 'sentiment_polarity'], color='red', s=100, label='Target Person')\n",
        "plt.xlabel('Row #')\n",
        "plt.ylabel('Sentiment')\n",
        "plt.title('Scatterplot of Sentiment')\n",
        "# Create a single colorbar for the 'viridis' colormap\n",
        "plt.colorbar(scatter.collections[0], label='Sentiment (Positive: 1, Neutral: 0, Negative: -1)')\n",
        "plt.ylim(0.0, nn_feels_df1['sentiment_polarity'].max() + 1.0)  # Adjust '0.1' if needed\n",
        "plt.gca().spines[['top', 'right']].set_visible(False)\n",
        "plt.legend()\n",
        "plt.show()"
      ],
      "cell_type": "code",
      "metadata": {
        "colab": {
          "base_uri": "https://localhost:8080/",
          "height": 490
        },
        "outputId": "d907142f-36d8-48db-c8fc-f76400a259c8",
        "id": "PyGFnJ46uEHS"
      },
      "execution_count": 40,
      "outputs": [
        {
          "output_type": "display_data",
          "data": {
            "text/plain": [
              "<Figure size 800x600 with 0 Axes>"
            ]
          },
          "metadata": {}
        },
        {
          "output_type": "display_data",
          "data": {
            "text/plain": [
              "<Figure size 640x480 with 2 Axes>"
            ],
            "image/png": "[encoded data removed]"
          },
          "metadata": {}
        }
      ]
    },
    {
      "cell_type": "markdown",
      "source": [
        "```\n",
        "23. Ranked nearness to target.\n",
        "\n",
        "```"
      ],
      "metadata": {
        "id": "92aXPlHHw1ie"
      }
    },
    {
      "source": [
        "#Rank nearness by sorting df by sentiment polarity in descending order\n",
        "ranked_df = nn_feels_df1.sort_values(by=['sentiment_polarity'], ascending=False)\n",
        "\n",
        "# Display the ranked df\n",
        "print(ranked_df[['name', 'sentiment_polarity', 'sentiment_class']])\n",
        "ranked_df"
      ],
      "cell_type": "code",
      "metadata": {
        "colab": {
          "base_uri": "https://localhost:8080/",
          "height": 616
        },
        "id": "pbkxWpacMuaR",
        "outputId": "0d635867-bceb-4e42-a515-ba713a59016a"
      },
      "execution_count": 41,
      "outputs": [
        {
          "output_type": "stream",
          "name": "stdout",
          "text": [
            "                     name  sentiment_polarity sentiment_class\n",
            "0           Adorable Rubí            0.367562        positive\n",
            "4           Pedro Morales            0.216250        positive\n",
            "9               Road Dogg            0.199380        positive\n",
            "3             Ricky Blues            0.182242        positive\n",
            "1             Cosmo Baker            0.159407        positive\n",
            "8            Jason Rumble            0.148351        positive\n",
            "5         Knuckles Nelson            0.113468        positive\n",
            "6            Gino Martino            0.102193        positive\n",
            "10  Gary Michael Cappetta            0.067438        positive\n",
            "7           Drew McIntyre            0.053431        positive\n",
            "2             Dick Slater           -0.027857        negative\n"
          ]
        },
        {
          "output_type": "execute_result",
          "data": {
            "text/plain": [
              "    index                   name  sentiment_polarity sentiment_class  \\\n",
              "0    8300          Adorable Rubí            0.367562        positive   \n",
              "4   20060          Pedro Morales            0.216250        positive   \n",
              "9   32251              Road Dogg            0.199380        positive   \n",
              "3    9483            Ricky Blues            0.182242        positive   \n",
              "1   42506            Cosmo Baker            0.159407        positive   \n",
              "8   42747           Jason Rumble            0.148351        positive   \n",
              "5   40587        Knuckles Nelson            0.113468        positive   \n",
              "6   38612           Gino Martino            0.102193        positive   \n",
              "10    610  Gary Michael Cappetta            0.067438        positive   \n",
              "7    3743          Drew McIntyre            0.053431        positive   \n",
              "2    7539            Dick Slater           -0.027857        negative   \n",
              "\n",
              "                                                 text  \\\n",
              "0   rubi rubalcaba born december 31 1931 retired m...   \n",
              "4   pedro morales born october 22 1942 retired pue...   \n",
              "9   brian girard bg james born may 20 1969 america...   \n",
              "3   william perry blake iii better known ring name...   \n",
              "1   cosmo baker new york based dj music producer t...   \n",
              "8   jason dellagatta born 1971 american profession...   \n",
              "5   brendan higgins born september 26 1963 best kn...   \n",
              "6   john ferraro born november 28 american profess...   \n",
              "10  gary michael cappetta born december 12 1952 am...   \n",
              "7   andrew drew galloway born 6 june 1985 scottish...   \n",
              "2   richard van slater born may 19 1951 better kno...   \n",
              "\n",
              "                                            wiki_page  \n",
              "0      http://dbpedia.org/resource/Adorable_Rub%C3%AD  \n",
              "4           http://dbpedia.org/resource/Pedro_Morales  \n",
              "9               http://dbpedia.org/resource/Road_Dogg  \n",
              "3             http://dbpedia.org/resource/Ricky_Blues  \n",
              "1             http://dbpedia.org/resource/Cosmo_Baker  \n",
              "8            http://dbpedia.org/resource/Jason_Rumble  \n",
              "5         http://dbpedia.org/resource/Knuckles_Nelson  \n",
              "6            http://dbpedia.org/resource/Gino_Martino  \n",
              "10  http://dbpedia.org/resource/Gary_Michael_Cappetta  \n",
              "7           http://dbpedia.org/resource/Drew_McIntyre  \n",
              "2             http://dbpedia.org/resource/Dick_Slater  "
            ],
            "text/html": [
              "\n",
              "  <div id=\"df-8e6ef9ea-156a-4c1c-b657-ea457ecc607c\" class=\"colab-df-container\">\n",
              "    <div>\n",
              "<style scoped>\n",
              "    .dataframe tbody tr th:only-of-type {\n",
              "        vertical-align: middle;\n",
              "    }\n",
              "\n",
              "    .dataframe tbody tr th {\n",
              "        vertical-align: top;\n",
              "    }\n",
              "\n",
              "    .dataframe thead th {\n",
              "        text-align: right;\n",
              "    }\n",
              "</style>\n",
              "<table border=\"1\" class=\"dataframe\">\n",
              "  <thead>\n",
              "    <tr style=\"text-align: right;\">\n",
              "      <th></th>\n",
              "      <th>index</th>\n",
              "      <th>name</th>\n",
              "      <th>sentiment_polarity</th>\n",
              "      <th>sentiment_class</th>\n",
              "      <th>text</th>\n",
              "      <th>wiki_page</th>\n",
              "    </tr>\n",
              "  </thead>\n",
              "  <tbody>\n",
              "    <tr>\n",
              "      <th>0</th>\n",
              "      <td>8300</td>\n",
              "      <td>Adorable Rubí</td>\n",
              "      <td>0.367562</td>\n",
              "      <td>positive</td>\n",
              "      <td>rubi rubalcaba born december 31 1931 retired m...</td>\n",
              "      <td>http://dbpedia.org/resource/Adorable_Rub%C3%AD</td>\n",
              "    </tr>\n",
              "    <tr>\n",
              "      <th>4</th>\n",
              "      <td>20060</td>\n",
              "      <td>Pedro Morales</td>\n",
              "      <td>0.216250</td>\n",
              "      <td>positive</td>\n",
              "      <td>pedro morales born october 22 1942 retired pue...</td>\n",
              "      <td>http://dbpedia.org/resource/Pedro_Morales</td>\n",
              "    </tr>\n",
              "    <tr>\n",
              "      <th>9</th>\n",
              "      <td>32251</td>\n",
              "      <td>Road Dogg</td>\n",
              "      <td>0.199380</td>\n",
              "      <td>positive</td>\n",
              "      <td>brian girard bg james born may 20 1969 america...</td>\n",
              "      <td>http://dbpedia.org/resource/Road_Dogg</td>\n",
              "    </tr>\n",
              "    <tr>\n",
              "      <th>3</th>\n",
              "      <td>9483</td>\n",
              "      <td>Ricky Blues</td>\n",
              "      <td>0.182242</td>\n",
              "      <td>positive</td>\n",
              "      <td>william perry blake iii better known ring name...</td>\n",
              "      <td>http://dbpedia.org/resource/Ricky_Blues</td>\n",
              "    </tr>\n",
              "    <tr>\n",
              "      <th>1</th>\n",
              "      <td>42506</td>\n",
              "      <td>Cosmo Baker</td>\n",
              "      <td>0.159407</td>\n",
              "      <td>positive</td>\n",
              "      <td>cosmo baker new york based dj music producer t...</td>\n",
              "      <td>http://dbpedia.org/resource/Cosmo_Baker</td>\n",
              "    </tr>\n",
              "    <tr>\n",
              "      <th>8</th>\n",
              "      <td>42747</td>\n",
              "      <td>Jason Rumble</td>\n",
              "      <td>0.148351</td>\n",
              "      <td>positive</td>\n",
              "      <td>jason dellagatta born 1971 american profession...</td>\n",
              "      <td>http://dbpedia.org/resource/Jason_Rumble</td>\n",
              "    </tr>\n",
              "    <tr>\n",
              "      <th>5</th>\n",
              "      <td>40587</td>\n",
              "      <td>Knuckles Nelson</td>\n",
              "      <td>0.113468</td>\n",
              "      <td>positive</td>\n",
              "      <td>brendan higgins born september 26 1963 best kn...</td>\n",
              "      <td>http://dbpedia.org/resource/Knuckles_Nelson</td>\n",
              "    </tr>\n",
              "    <tr>\n",
              "      <th>6</th>\n",
              "      <td>38612</td>\n",
              "      <td>Gino Martino</td>\n",
              "      <td>0.102193</td>\n",
              "      <td>positive</td>\n",
              "      <td>john ferraro born november 28 american profess...</td>\n",
              "      <td>http://dbpedia.org/resource/Gino_Martino</td>\n",
              "    </tr>\n",
              "    <tr>\n",
              "      <th>10</th>\n",
              "      <td>610</td>\n",
              "      <td>Gary Michael Cappetta</td>\n",
              "      <td>0.067438</td>\n",
              "      <td>positive</td>\n",
              "      <td>gary michael cappetta born december 12 1952 am...</td>\n",
              "      <td>http://dbpedia.org/resource/Gary_Michael_Cappetta</td>\n",
              "    </tr>\n",
              "    <tr>\n",
              "      <th>7</th>\n",
              "      <td>3743</td>\n",
              "      <td>Drew McIntyre</td>\n",
              "      <td>0.053431</td>\n",
              "      <td>positive</td>\n",
              "      <td>andrew drew galloway born 6 june 1985 scottish...</td>\n",
              "      <td>http://dbpedia.org/resource/Drew_McIntyre</td>\n",
              "    </tr>\n",
              "    <tr>\n",
              "      <th>2</th>\n",
              "      <td>7539</td>\n",
              "      <td>Dick Slater</td>\n",
              "      <td>-0.027857</td>\n",
              "      <td>negative</td>\n",
              "      <td>richard van slater born may 19 1951 better kno...</td>\n",
              "      <td>http://dbpedia.org/resource/Dick_Slater</td>\n",
              "    </tr>\n",
              "  </tbody>\n",
              "</table>\n",
              "</div>\n",
              "    <div class=\"colab-df-buttons\">\n",
              "\n",
              "  <div class=\"colab-df-container\">\n",
              "    <button class=\"colab-df-convert\" onclick=\"convertToInteractive('df-8e6ef9ea-156a-4c1c-b657-ea457ecc607c')\"\n",
              "            title=\"Convert this dataframe to an interactive table.\"\n",
              "            style=\"display:none;\">\n",
              "\n",
              "  <svg xmlns=\"http://www.w3.org/2000/svg\" height=\"24px\" viewBox=\"0 -960 960 960\">\n",
              "    <path d=\"M120-120v-720h720v720H120Zm60-500h600v-160H180v160Zm220 220h160v-160H400v160Zm0 220h160v-160H400v160ZM180-400h160v-160H180v160Zm440 0h160v-160H620v160ZM180-180h160v-160H180v160Zm440 0h160v-160H620v160Z\"/>\n",
              "  </svg>\n",
              "    </button>\n",
              "\n",
              "  <style>\n",
              "    .colab-df-container {\n",
              "      display:flex;\n",
              "      gap: 12px;\n",
              "    }\n",
              "\n",
              "    .colab-df-convert {\n",
              "      background-color: #E8F0FE;\n",
              "      border: none;\n",
              "      border-radius: 50%;\n",
              "      cursor: pointer;\n",
              "      display: none;\n",
              "      fill: #1967D2;\n",
              "      height: 32px;\n",
              "      padding: 0 0 0 0;\n",
              "      width: 32px;\n",
              "    }\n",
              "\n",
              "    .colab-df-convert:hover {\n",
              "      background-color: #E2EBFA;\n",
              "      box-shadow: 0px 1px 2px rgba(60, 64, 67, 0.3), 0px 1px 3px 1px rgba(60, 64, 67, 0.15);\n",
              "      fill: #174EA6;\n",
              "    }\n",
              "\n",
              "    .colab-df-buttons div {\n",
              "      margin-bottom: 4px;\n",
              "    }\n",
              "\n",
              "    [theme=dark] .colab-df-convert {\n",
              "      background-color: #3B4455;\n",
              "      fill: #D2E3FC;\n",
              "    }\n",
              "\n",
              "    [theme=dark] .colab-df-convert:hover {\n",
              "      background-color: #434B5C;\n",
              "      box-shadow: 0px 1px 3px 1px rgba(0, 0, 0, 0.15);\n",
              "      filter: drop-shadow(0px 1px 2px rgba(0, 0, 0, 0.3));\n",
              "      fill: #FFFFFF;\n",
              "    }\n",
              "  </style>\n",
              "\n",
              "    <script>\n",
              "      const buttonEl =\n",
              "        document.querySelector('#df-8e6ef9ea-156a-4c1c-b657-ea457ecc607c button.colab-df-convert');\n",
              "      buttonEl.style.display =\n",
              "        google.colab.kernel.accessAllowed ? 'block' : 'none';\n",
              "\n",
              "      async function convertToInteractive(key) {\n",
              "        const element = document.querySelector('#df-8e6ef9ea-156a-4c1c-b657-ea457ecc607c');\n",
              "        const dataTable =\n",
              "          await google.colab.kernel.invokeFunction('convertToInteractive',\n",
              "                                                    [key], {});\n",
              "        if (!dataTable) return;\n",
              "\n",
              "        const docLinkHtml = 'Like what you see? Visit the ' +\n",
              "          '<a target=\"_blank\" href=https://colab.research.google.com/notebooks/data_table.ipynb>data table notebook</a>'\n",
              "          + ' to learn more about interactive tables.';\n",
              "        element.innerHTML = '';\n",
              "        dataTable['output_type'] = 'display_data';\n",
              "        await google.colab.output.renderOutput(dataTable, element);\n",
              "        const docLink = document.createElement('div');\n",
              "        docLink.innerHTML = docLinkHtml;\n",
              "        element.appendChild(docLink);\n",
              "      }\n",
              "    </script>\n",
              "  </div>\n",
              "\n",
              "\n",
              "<div id=\"df-a7af0753-b5ba-4c95-87e6-a81e13c60fc6\">\n",
              "  <button class=\"colab-df-quickchart\" onclick=\"quickchart('df-a7af0753-b5ba-4c95-87e6-a81e13c60fc6')\"\n",
              "            title=\"Suggest charts\"\n",
              "            style=\"display:none;\">\n",
              "\n",
              "<svg xmlns=\"http://www.w3.org/2000/svg\" height=\"24px\"viewBox=\"0 0 24 24\"\n",
              "     width=\"24px\">\n",
              "    <g>\n",
              "        <path d=\"M19 3H5c-1.1 0-2 .9-2 2v14c0 1.1.9 2 2 2h14c1.1 0 2-.9 2-2V5c0-1.1-.9-2-2-2zM9 17H7v-7h2v7zm4 0h-2V7h2v10zm4 0h-2v-4h2v4z\"/>\n",
              "    </g>\n",
              "</svg>\n",
              "  </button>\n",
              "\n",
              "<style>\n",
              "  .colab-df-quickchart {\n",
              "      --bg-color: #E8F0FE;\n",
              "      --fill-color: #1967D2;\n",
              "      --hover-bg-color: #E2EBFA;\n",
              "      --hover-fill-color: #174EA6;\n",
              "      --disabled-fill-color: #AAA;\n",
              "      --disabled-bg-color: #DDD;\n",
              "  }\n",
              "\n",
              "  [theme=dark] .colab-df-quickchart {\n",
              "      --bg-color: #3B4455;\n",
              "      --fill-color: #D2E3FC;\n",
              "      --hover-bg-color: #434B5C;\n",
              "      --hover-fill-color: #FFFFFF;\n",
              "      --disabled-bg-color: #3B4455;\n",
              "      --disabled-fill-color: #666;\n",
              "  }\n",
              "\n",
              "  .colab-df-quickchart {\n",
              "    background-color: var(--bg-color);\n",
              "    border: none;\n",
              "    border-radius: 50%;\n",
              "    cursor: pointer;\n",
              "    display: none;\n",
              "    fill: var(--fill-color);\n",
              "    height: 32px;\n",
              "    padding: 0;\n",
              "    width: 32px;\n",
              "  }\n",
              "\n",
              "  .colab-df-quickchart:hover {\n",
              "    background-color: var(--hover-bg-color);\n",
              "    box-shadow: 0 1px 2px rgba(60, 64, 67, 0.3), 0 1px 3px 1px rgba(60, 64, 67, 0.15);\n",
              "    fill: var(--button-hover-fill-color);\n",
              "  }\n",
              "\n",
              "  .colab-df-quickchart-complete:disabled,\n",
              "  .colab-df-quickchart-complete:disabled:hover {\n",
              "    background-color: var(--disabled-bg-color);\n",
              "    fill: var(--disabled-fill-color);\n",
              "    box-shadow: none;\n",
              "  }\n",
              "\n",
              "  .colab-df-spinner {\n",
              "    border: 2px solid var(--fill-color);\n",
              "    border-color: transparent;\n",
              "    border-bottom-color: var(--fill-color);\n",
              "    animation:\n",
              "      spin 1s steps(1) infinite;\n",
              "  }\n",
              "\n",
              "  @keyframes spin {\n",
              "    0% {\n",
              "      border-color: transparent;\n",
              "      border-bottom-color: var(--fill-color);\n",
              "      border-left-color: var(--fill-color);\n",
              "    }\n",
              "    20% {\n",
              "      border-color: transparent;\n",
              "      border-left-color: var(--fill-color);\n",
              "      border-top-color: var(--fill-color);\n",
              "    }\n",
              "    30% {\n",
              "      border-color: transparent;\n",
              "      border-left-color: var(--fill-color);\n",
              "      border-top-color: var(--fill-color);\n",
              "      border-right-color: var(--fill-color);\n",
              "    }\n",
              "    40% {\n",
              "      border-color: transparent;\n",
              "      border-right-color: var(--fill-color);\n",
              "      border-top-color: var(--fill-color);\n",
              "    }\n",
              "    60% {\n",
              "      border-color: transparent;\n",
              "      border-right-color: var(--fill-color);\n",
              "    }\n",
              "    80% {\n",
              "      border-color: transparent;\n",
              "      border-right-color: var(--fill-color);\n",
              "      border-bottom-color: var(--fill-color);\n",
              "    }\n",
              "    90% {\n",
              "      border-color: transparent;\n",
              "      border-bottom-color: var(--fill-color);\n",
              "    }\n",
              "  }\n",
              "</style>\n",
              "\n",
              "  <script>\n",
              "    async function quickchart(key) {\n",
              "      const quickchartButtonEl =\n",
              "        document.querySelector('#' + key + ' button');\n",
              "      quickchartButtonEl.disabled = true;  // To prevent multiple clicks.\n",
              "      quickchartButtonEl.classList.add('colab-df-spinner');\n",
              "      try {\n",
              "        const charts = await google.colab.kernel.invokeFunction(\n",
              "            'suggestCharts', [key], {});\n",
              "      } catch (error) {\n",
              "        console.error('Error during call to suggestCharts:', error);\n",
              "      }\n",
              "      quickchartButtonEl.classList.remove('colab-df-spinner');\n",
              "      quickchartButtonEl.classList.add('colab-df-quickchart-complete');\n",
              "    }\n",
              "    (() => {\n",
              "      let quickchartButtonEl =\n",
              "        document.querySelector('#df-a7af0753-b5ba-4c95-87e6-a81e13c60fc6 button');\n",
              "      quickchartButtonEl.style.display =\n",
              "        google.colab.kernel.accessAllowed ? 'block' : 'none';\n",
              "    })();\n",
              "  </script>\n",
              "</div>\n",
              "\n",
              "  <div id=\"id_5e8b9845-fa3f-4bb7-993b-2f80e3c2073c\">\n",
              "    <style>\n",
              "      .colab-df-generate {\n",
              "        background-color: #E8F0FE;\n",
              "        border: none;\n",
              "        border-radius: 50%;\n",
              "        cursor: pointer;\n",
              "        display: none;\n",
              "        fill: #1967D2;\n",
              "        height: 32px;\n",
              "        padding: 0 0 0 0;\n",
              "        width: 32px;\n",
              "      }\n",
              "\n",
              "      .colab-df-generate:hover {\n",
              "        background-color: #E2EBFA;\n",
              "        box-shadow: 0px 1px 2px rgba(60, 64, 67, 0.3), 0px 1px 3px 1px rgba(60, 64, 67, 0.15);\n",
              "        fill: #174EA6;\n",
              "      }\n",
              "\n",
              "      [theme=dark] .colab-df-generate {\n",
              "        background-color: #3B4455;\n",
              "        fill: #D2E3FC;\n",
              "      }\n",
              "\n",
              "      [theme=dark] .colab-df-generate:hover {\n",
              "        background-color: #434B5C;\n",
              "        box-shadow: 0px 1px 3px 1px rgba(0, 0, 0, 0.15);\n",
              "        filter: drop-shadow(0px 1px 2px rgba(0, 0, 0, 0.3));\n",
              "        fill: #FFFFFF;\n",
              "      }\n",
              "    </style>\n",
              "    <button class=\"colab-df-generate\" onclick=\"generateWithVariable('ranked_df')\"\n",
              "            title=\"Generate code using this dataframe.\"\n",
              "            style=\"display:none;\">\n",
              "\n",
              "  <svg xmlns=\"http://www.w3.org/2000/svg\" height=\"24px\"viewBox=\"0 0 24 24\"\n",
              "       width=\"24px\">\n",
              "    <path d=\"M7,19H8.4L18.45,9,17,7.55,7,17.6ZM5,21V16.75L18.45,3.32a2,2,0,0,1,2.83,0l1.4,1.43a1.91,1.91,0,0,1,.58,1.4,1.91,1.91,0,0,1-.58,1.4L9.25,21ZM18.45,9,17,7.55Zm-12,3A5.31,5.31,0,0,0,4.9,8.1,5.31,5.31,0,0,0,1,6.5,5.31,5.31,0,0,0,4.9,4.9,5.31,5.31,0,0,0,6.5,1,5.31,5.31,0,0,0,8.1,4.9,5.31,5.31,0,0,0,12,6.5,5.46,5.46,0,0,0,6.5,12Z\"/>\n",
              "  </svg>\n",
              "    </button>\n",
              "    <script>\n",
              "      (() => {\n",
              "      const buttonEl =\n",
              "        document.querySelector('#id_5e8b9845-fa3f-4bb7-993b-2f80e3c2073c button.colab-df-generate');\n",
              "      buttonEl.style.display =\n",
              "        google.colab.kernel.accessAllowed ? 'block' : 'none';\n",
              "\n",
              "      buttonEl.onclick = () => {\n",
              "        google.colab.notebook.generateWithVariable('ranked_df');\n",
              "      }\n",
              "      })();\n",
              "    </script>\n",
              "  </div>\n",
              "\n",
              "    </div>\n",
              "  </div>\n"
            ],
            "application/vnd.google.colaboratory.intrinsic+json": {
              "type": "dataframe",
              "variable_name": "ranked_df",
              "summary": "{\n  \"name\": \"ranked_df\",\n  \"rows\": 11,\n  \"fields\": [\n    {\n      \"column\": \"index\",\n      \"properties\": {\n        \"dtype\": \"number\",\n        \"std\": 17099,\n        \"min\": 610,\n        \"max\": 42747,\n        \"num_unique_values\": 11,\n        \"samples\": [\n          42747,\n          8300,\n          3743\n        ],\n        \"semantic_type\": \"\",\n        \"description\": \"\"\n      }\n    },\n    {\n      \"column\": \"name\",\n      \"properties\": {\n        \"dtype\": \"string\",\n        \"num_unique_values\": 11,\n        \"samples\": [\n          \"Jason Rumble\",\n          \"Adorable Rub\\u00ed\",\n          \"Drew McIntyre\"\n        ],\n        \"semantic_type\": \"\",\n        \"description\": \"\"\n      }\n    },\n    {\n      \"column\": \"sentiment_polarity\",\n      \"properties\": {\n        \"dtype\": \"number\",\n        \"std\": 0.10308478518325594,\n        \"min\": -0.027857142857142855,\n        \"max\": 0.36756198347107444,\n        \"num_unique_values\": 11,\n        \"samples\": [\n          0.14835145474680358,\n          0.36756198347107444,\n          0.05343137254901961\n        ],\n        \"semantic_type\": \"\",\n        \"description\": \"\"\n      }\n    },\n    {\n      \"column\": \"sentiment_class\",\n      \"properties\": {\n        \"dtype\": \"category\",\n        \"num_unique_values\": 2,\n        \"samples\": [\n          \"negative\",\n          \"positive\"\n        ],\n        \"semantic_type\": \"\",\n        \"description\": \"\"\n      }\n    },\n    {\n      \"column\": \"text\",\n      \"properties\": {\n        \"dtype\": \"string\",\n        \"num_unique_values\": 11,\n        \"samples\": [\n          \"jason dellagatta born 1971 american professional wrestler trainer promoter best known ring name jason rumble also successful career semiprofessional football playing new england football league played five seasons new england stars becoming 2time nefl allpro named special teams player year 2000dellagatta longtime star nwa new england following tony rumbles death 1999 adopted boston bad boy gimmick honor mentor promoted tonys kayfabe son request magliaro family considered face company much remaining seven years operation dellagatta also briefly served booker nwa new england succeeding jeff katz knuckles nelson headed second incarnation tony rumbles heel stable brotherhood consisting rick fuller darkangel held nwa new england heavyweight championship 3 times nwa new england junior heavyweight championship 5 times nwa new england x division championship 1 time nwa new england tag team championship 2 times slyck wagner brown luis ortiz 2005 tony rumble memorial show heavyweight cruiserweight division x titlesa former 3time nwa world junior heavyweight champion dellagatta considered one top light heavyweight wrestlers national wrestling alliance 2000s represented nwa new england nwa anniversary shows 2000 2005 headlining three five appearances addition competed 2002 jersey jcup well participating international tours canada united kingdom dellagatta also brief stints total nonstop action wrestling world wrestling entertainment participating wwes master lock challenge 2005from 2008 2010 dellagatta teamed darling damon crown jewels new england championship wrestling nwa fire winning tag team titles promotions held necw tag team championship 15 months making longest reigning champions companys history proved controversial duo especially given family friendly style former company two flamboyant men whose ring style similar christopher street connection wwes billy chuck joined mr fabulous tony ulysses employed similar persona killer kowalskis star wrestling 1980s stylist lifestyle consultantin recent years dellagatta closely associated victory championship wrestling member recently revived century wrestling alliance 2010 several wrestlers established bell time club private social club training facility open pro wrestlers members public runs wrestling events though vcw\",\n          \"rubi rubalcaba born december 31 1931 retired mexican luchador professional wrestler best known ring name adorable rub adorable rub one pioneers exotico wrestling style mixing crossdressing wrestling create sexually ambiguous characters adorable rub character inspired dizzy gardenia first successful exotico character adorable rub sergio el hermoso bello greco formed group called ola lila lilac wave wrestled mexico three adorable rub saw success ring defeating cicln veloz jr win mexican national middleweight championship april 6 1971 rub held title 196 days losing belt anbal june 28 1974 february 27 1976 empresa mexicana de lucha libre emll bookers decided make adorable rub new nwa world light heavyweight champion emlls prestigious championship rub defeated dr wagner title holding 231 days losing belt carlos plata july 16 1976 october 7 1984 became second man hold mexican national cruiserweight championship defeated ngel blanco win title title would lose charro de jalisco 1986 long retired professional wrestling\"\n        ],\n        \"semantic_type\": \"\",\n        \"description\": \"\"\n      }\n    },\n    {\n      \"column\": \"wiki_page\",\n      \"properties\": {\n        \"dtype\": \"string\",\n        \"num_unique_values\": 11,\n        \"samples\": [\n          \"http://dbpedia.org/resource/Jason_Rumble\",\n          \"http://dbpedia.org/resource/Adorable_Rub%C3%AD\"\n        ],\n        \"semantic_type\": \"\",\n        \"description\": \"\"\n      }\n    }\n  ]\n}"
            }
          },
          "metadata": {},
          "execution_count": 41
        }
      ]
    },
    {
      "cell_type": "markdown",
      "metadata": {
        "id": "SyoC6PWeN9un"
      },
      "source": [
        "#Part 2) Wikipedia\n",
        "\n"
      ]
    },
    {
      "cell_type": "markdown",
      "source": [
        "Aim\n",
        "\n",
        "-For user to access entire content of a person's (from Step 1) Wikipedia page using Wikipedia API\n",
        "\n",
        "-For the person's Wikipedia page to determine the sentiment of the entire page\n",
        "\n",
        "-Print out the Wikipedia article\n",
        "\n",
        "-Collect the Wikipedia pages from 10 nearest neighbors in Step 1\n",
        "\n",
        "-Determine the nearness ranking of these 10 to your main subject based on their entire Wikipedia page\n",
        "\n",
        "-Compare the nearest ranking from Step 1) with the Wikipedia page nearness ranking"
      ],
      "metadata": {
        "id": "bHnETQ00bsa4"
      }
    },
    {
      "cell_type": "markdown",
      "source": [
        "```\n",
        "1. Find wikipedia page for nn_feels_df1\n",
        "```"
      ],
      "metadata": {
        "id": "oo4TNy9M1j9n"
      }
    },
    {
      "cell_type": "markdown",
      "source": [
        "##Preprocessing"
      ],
      "metadata": {
        "id": "-ezfEXfDuD0G"
      }
    },
    {
      "cell_type": "markdown",
      "source": [
        "ENCOUNTERED SO MANY ISSUES BECAUSE OF HIS NAME IN WIKIPEDIA Adorable_Rub%C3%AD\n",
        "\n",
        "- Went back to Part 1 and changed the last df 'name' to title case and it worked for Part 1.\n",
        "\n",
        "- Unscrambled columns 'name' and 'wiki_page'."
      ],
      "metadata": {
        "id": "F_rBGBvLDxNd"
      }
    },
    {
      "cell_type": "code",
      "source": [
        "#Unscramble person's name and return with appropriate text to assist in search\n",
        "nn_feels_df1['name'] = nn_feels_df1['name'].apply(urllib.parse.unquote)\n",
        "nn_feels_df1['name']"
      ],
      "metadata": {
        "colab": {
          "base_uri": "https://localhost:8080/",
          "height": 429
        },
        "collapsed": true,
        "id": "fmLbImjzvASm",
        "outputId": "c60c9bb6-c0a5-4249-cb2e-7947b16e28b6"
      },
      "execution_count": 42,
      "outputs": [
        {
          "output_type": "execute_result",
          "data": {
            "text/plain": [
              "0             Adorable Rubí\n",
              "1               Cosmo Baker\n",
              "2               Dick Slater\n",
              "3               Ricky Blues\n",
              "4             Pedro Morales\n",
              "5           Knuckles Nelson\n",
              "6              Gino Martino\n",
              "7             Drew McIntyre\n",
              "8              Jason Rumble\n",
              "9                 Road Dogg\n",
              "10    Gary Michael Cappetta\n",
              "Name: name, dtype: object"
            ],
            "text/html": [
              "<div>\n",
              "<style scoped>\n",
              "    .dataframe tbody tr th:only-of-type {\n",
              "        vertical-align: middle;\n",
              "    }\n",
              "\n",
              "    .dataframe tbody tr th {\n",
              "        vertical-align: top;\n",
              "    }\n",
              "\n",
              "    .dataframe thead th {\n",
              "        text-align: right;\n",
              "    }\n",
              "</style>\n",
              "<table border=\"1\" class=\"dataframe\">\n",
              "  <thead>\n",
              "    <tr style=\"text-align: right;\">\n",
              "      <th></th>\n",
              "      <th>name</th>\n",
              "    </tr>\n",
              "  </thead>\n",
              "  <tbody>\n",
              "    <tr>\n",
              "      <th>0</th>\n",
              "      <td>Adorable Rubí</td>\n",
              "    </tr>\n",
              "    <tr>\n",
              "      <th>1</th>\n",
              "      <td>Cosmo Baker</td>\n",
              "    </tr>\n",
              "    <tr>\n",
              "      <th>2</th>\n",
              "      <td>Dick Slater</td>\n",
              "    </tr>\n",
              "    <tr>\n",
              "      <th>3</th>\n",
              "      <td>Ricky Blues</td>\n",
              "    </tr>\n",
              "    <tr>\n",
              "      <th>4</th>\n",
              "      <td>Pedro Morales</td>\n",
              "    </tr>\n",
              "    <tr>\n",
              "      <th>5</th>\n",
              "      <td>Knuckles Nelson</td>\n",
              "    </tr>\n",
              "    <tr>\n",
              "      <th>6</th>\n",
              "      <td>Gino Martino</td>\n",
              "    </tr>\n",
              "    <tr>\n",
              "      <th>7</th>\n",
              "      <td>Drew McIntyre</td>\n",
              "    </tr>\n",
              "    <tr>\n",
              "      <th>8</th>\n",
              "      <td>Jason Rumble</td>\n",
              "    </tr>\n",
              "    <tr>\n",
              "      <th>9</th>\n",
              "      <td>Road Dogg</td>\n",
              "    </tr>\n",
              "    <tr>\n",
              "      <th>10</th>\n",
              "      <td>Gary Michael Cappetta</td>\n",
              "    </tr>\n",
              "  </tbody>\n",
              "</table>\n",
              "</div><br><label><b>dtype:</b> object</label>"
            ]
          },
          "metadata": {},
          "execution_count": 42
        }
      ]
    },
    {
      "cell_type": "code",
      "source": [
        "#Unscramble data in wikipedia API and return with appropriate text to assist in search\n",
        "nn_feels_df1['wiki_page'] = nn_feels_df1['wiki_page'].apply(urllib.parse.unquote)\n",
        "nn_feels_df1['wiki_page']"
      ],
      "metadata": {
        "colab": {
          "base_uri": "https://localhost:8080/",
          "height": 429
        },
        "collapsed": true,
        "id": "siKy_Hj8v4Q2",
        "outputId": "1432fb8b-bf20-4ff5-db0e-a457c335d53c"
      },
      "execution_count": 43,
      "outputs": [
        {
          "output_type": "execute_result",
          "data": {
            "text/plain": [
              "0             http://dbpedia.org/resource/Adorable_Rubí\n",
              "1               http://dbpedia.org/resource/Cosmo_Baker\n",
              "2               http://dbpedia.org/resource/Dick_Slater\n",
              "3               http://dbpedia.org/resource/Ricky_Blues\n",
              "4             http://dbpedia.org/resource/Pedro_Morales\n",
              "5           http://dbpedia.org/resource/Knuckles_Nelson\n",
              "6              http://dbpedia.org/resource/Gino_Martino\n",
              "7             http://dbpedia.org/resource/Drew_McIntyre\n",
              "8              http://dbpedia.org/resource/Jason_Rumble\n",
              "9                 http://dbpedia.org/resource/Road_Dogg\n",
              "10    http://dbpedia.org/resource/Gary_Michael_Cappetta\n",
              "Name: wiki_page, dtype: object"
            ],
            "text/html": [
              "<div>\n",
              "<style scoped>\n",
              "    .dataframe tbody tr th:only-of-type {\n",
              "        vertical-align: middle;\n",
              "    }\n",
              "\n",
              "    .dataframe tbody tr th {\n",
              "        vertical-align: top;\n",
              "    }\n",
              "\n",
              "    .dataframe thead th {\n",
              "        text-align: right;\n",
              "    }\n",
              "</style>\n",
              "<table border=\"1\" class=\"dataframe\">\n",
              "  <thead>\n",
              "    <tr style=\"text-align: right;\">\n",
              "      <th></th>\n",
              "      <th>wiki_page</th>\n",
              "    </tr>\n",
              "  </thead>\n",
              "  <tbody>\n",
              "    <tr>\n",
              "      <th>0</th>\n",
              "      <td>http://dbpedia.org/resource/Adorable_Rubí</td>\n",
              "    </tr>\n",
              "    <tr>\n",
              "      <th>1</th>\n",
              "      <td>http://dbpedia.org/resource/Cosmo_Baker</td>\n",
              "    </tr>\n",
              "    <tr>\n",
              "      <th>2</th>\n",
              "      <td>http://dbpedia.org/resource/Dick_Slater</td>\n",
              "    </tr>\n",
              "    <tr>\n",
              "      <th>3</th>\n",
              "      <td>http://dbpedia.org/resource/Ricky_Blues</td>\n",
              "    </tr>\n",
              "    <tr>\n",
              "      <th>4</th>\n",
              "      <td>http://dbpedia.org/resource/Pedro_Morales</td>\n",
              "    </tr>\n",
              "    <tr>\n",
              "      <th>5</th>\n",
              "      <td>http://dbpedia.org/resource/Knuckles_Nelson</td>\n",
              "    </tr>\n",
              "    <tr>\n",
              "      <th>6</th>\n",
              "      <td>http://dbpedia.org/resource/Gino_Martino</td>\n",
              "    </tr>\n",
              "    <tr>\n",
              "      <th>7</th>\n",
              "      <td>http://dbpedia.org/resource/Drew_McIntyre</td>\n",
              "    </tr>\n",
              "    <tr>\n",
              "      <th>8</th>\n",
              "      <td>http://dbpedia.org/resource/Jason_Rumble</td>\n",
              "    </tr>\n",
              "    <tr>\n",
              "      <th>9</th>\n",
              "      <td>http://dbpedia.org/resource/Road_Dogg</td>\n",
              "    </tr>\n",
              "    <tr>\n",
              "      <th>10</th>\n",
              "      <td>http://dbpedia.org/resource/Gary_Michael_Cappetta</td>\n",
              "    </tr>\n",
              "  </tbody>\n",
              "</table>\n",
              "</div><br><label><b>dtype:</b> object</label>"
            ]
          },
          "metadata": {},
          "execution_count": 43
        }
      ]
    },
    {
      "cell_type": "markdown",
      "source": [
        "#TF-IDF & Nearest Neighbors Model of Wikipedia page"
      ],
      "metadata": {
        "id": "7tYDYQHP4dlh"
      }
    },
    {
      "cell_type": "markdown",
      "source": [
        "```\n",
        "2. Processed and extracted wikipedia data for target and nearest neighbors\n",
        "to analyze via TF-IDF, and created dataframe.\n",
        "```"
      ],
      "metadata": {
        "id": "EP7dVMuu2hDO"
      }
    },
    {
      "cell_type": "markdown",
      "source": [
        "Preprocessed and stored wikipedia content in dataframe."
      ],
      "metadata": {
        "id": "KhE5M6xSEXp4"
      }
    },
    {
      "cell_type": "code",
      "source": [
        "nn_feels_df1.columns"
      ],
      "metadata": {
        "colab": {
          "base_uri": "https://localhost:8080/"
        },
        "id": "LmZ-skxQLgqz",
        "outputId": "f265bd85-6ba3-4ceb-d1c1-821345bf33da"
      },
      "execution_count": 44,
      "outputs": [
        {
          "output_type": "execute_result",
          "data": {
            "text/plain": [
              "Index(['index', 'name', 'sentiment_polarity', 'sentiment_class', 'text',\n",
              "       'wiki_page'],\n",
              "      dtype='object')"
            ]
          },
          "metadata": {},
          "execution_count": 44
        }
      ]
    },
    {
      "cell_type": "code",
      "source": [
        "# Initialize Wikipedia API\n",
        "wikip = wikipediaapi.Wikipedia(user_agent='foobar')\n",
        "\n",
        "def process_wiki_text(wiki_page_title, person_name):\n",
        "    \"\"\"Clean and preprocess Wikipedia content.\"\"\"\n",
        "    try:\n",
        "        # Fetch Wikipedia page content\n",
        "        page_ex = wikip.page(wiki_page_title)\n",
        "        wiki_text = page_ex.text\n",
        "\n",
        "        # Check if Wikipedia text is empty\n",
        "        if not wiki_text.strip():\n",
        "            print(f\"Skipping '{person_name}' due to empty Wikipedia content.\")\n",
        "            return None\n",
        "\n",
        "        # Clean the Wikipedia text by removing newlines\n",
        "        wiki_text_clean = wiki_text.replace(\"\\n\", \" \")\n",
        "\n",
        "        return wiki_text_clean\n",
        "\n",
        "    except Exception as e:\n",
        "        print(f\"Error fetching Wikipedia content for '{person_name}': {e}\")\n",
        "        return None\n",
        "\n",
        "# Create a new dataframe from nn_feels_df1 with original columns plus the cleaned wiki_content\n",
        "all_wiki_data = []\n",
        "for index, row in nn_feels_df1.iterrows():\n",
        "    person_name = row['name']\n",
        "    wiki_page_title = row['wiki_page'].split('/')[-1]\n",
        "\n",
        "    wiki_content_clean = process_wiki_text(wiki_page_title, person_name)\n",
        "\n",
        "    if wiki_content_clean is not None:\n",
        "        all_wiki_data.append({\n",
        "            'index': row['index'],\n",
        "            'name': row['name'],\n",
        "            'sentiment_polarity': row['sentiment_polarity'],\n",
        "            'sentiment_class': row['sentiment_class'],\n",
        "            'text': row['text'],\n",
        "            'wiki_page': row['wiki_page'],\n",
        "            'wiki_content': wiki_content_clean\n",
        "        })\n",
        "\n",
        "# Store the result in combined_wiki_df\n",
        "combined_wiki_df = pd.DataFrame(all_wiki_data)\n",
        "\n",
        "# Display the dataframe with cleaned Wikipedia content\n",
        "combined_wiki_df.head()\n"
      ],
      "metadata": {
        "colab": {
          "base_uri": "https://localhost:8080/",
          "height": 293
        },
        "id": "RmX94PNLLH9P",
        "outputId": "3748e775-d335-4c4b-f1b3-9ca27327097a"
      },
      "execution_count": 45,
      "outputs": [
        {
          "output_type": "execute_result",
          "data": {
            "text/plain": [
              "   index           name  sentiment_polarity sentiment_class  \\\n",
              "0   8300  Adorable Rubí            0.367562        positive   \n",
              "1  42506    Cosmo Baker            0.159407        positive   \n",
              "2   7539    Dick Slater           -0.027857        negative   \n",
              "3   9483    Ricky Blues            0.182242        positive   \n",
              "4  20060  Pedro Morales            0.216250        positive   \n",
              "\n",
              "                                                text  \\\n",
              "0  rubi rubalcaba born december 31 1931 retired m...   \n",
              "1  cosmo baker new york based dj music producer t...   \n",
              "2  richard van slater born may 19 1951 better kno...   \n",
              "3  william perry blake iii better known ring name...   \n",
              "4  pedro morales born october 22 1942 retired pue...   \n",
              "\n",
              "                                   wiki_page  \\\n",
              "0  http://dbpedia.org/resource/Adorable_Rubí   \n",
              "1    http://dbpedia.org/resource/Cosmo_Baker   \n",
              "2    http://dbpedia.org/resource/Dick_Slater   \n",
              "3    http://dbpedia.org/resource/Ricky_Blues   \n",
              "4  http://dbpedia.org/resource/Pedro_Morales   \n",
              "\n",
              "                                        wiki_content  \n",
              "0  Ruben Carbajal Lopez (December 31, 1931 – June...  \n",
              "1  Cosmo Baker is an East Coast based American DJ...  \n",
              "2  Richard Van Slater (May 19, 1951 – October 18,...  \n",
              "3  William Perry Blake III, better known by the r...  \n",
              "4  Pedro Antonio Morales (October 22, 1942 – Febr...  "
            ],
            "text/html": [
              "\n",
              "  <div id=\"df-6c0f073b-23b9-4ff6-8372-9a0f91f99bd0\" class=\"colab-df-container\">\n",
              "    <div>\n",
              "<style scoped>\n",
              "    .dataframe tbody tr th:only-of-type {\n",
              "        vertical-align: middle;\n",
              "    }\n",
              "\n",
              "    .dataframe tbody tr th {\n",
              "        vertical-align: top;\n",
              "    }\n",
              "\n",
              "    .dataframe thead th {\n",
              "        text-align: right;\n",
              "    }\n",
              "</style>\n",
              "<table border=\"1\" class=\"dataframe\">\n",
              "  <thead>\n",
              "    <tr style=\"text-align: right;\">\n",
              "      <th></th>\n",
              "      <th>index</th>\n",
              "      <th>name</th>\n",
              "      <th>sentiment_polarity</th>\n",
              "      <th>sentiment_class</th>\n",
              "      <th>text</th>\n",
              "      <th>wiki_page</th>\n",
              "      <th>wiki_content</th>\n",
              "    </tr>\n",
              "  </thead>\n",
              "  <tbody>\n",
              "    <tr>\n",
              "      <th>0</th>\n",
              "      <td>8300</td>\n",
              "      <td>Adorable Rubí</td>\n",
              "      <td>0.367562</td>\n",
              "      <td>positive</td>\n",
              "      <td>rubi rubalcaba born december 31 1931 retired m...</td>\n",
              "      <td>http://dbpedia.org/resource/Adorable_Rubí</td>\n",
              "      <td>Ruben Carbajal Lopez (December 31, 1931 – June...</td>\n",
              "    </tr>\n",
              "    <tr>\n",
              "      <th>1</th>\n",
              "      <td>42506</td>\n",
              "      <td>Cosmo Baker</td>\n",
              "      <td>0.159407</td>\n",
              "      <td>positive</td>\n",
              "      <td>cosmo baker new york based dj music producer t...</td>\n",
              "      <td>http://dbpedia.org/resource/Cosmo_Baker</td>\n",
              "      <td>Cosmo Baker is an East Coast based American DJ...</td>\n",
              "    </tr>\n",
              "    <tr>\n",
              "      <th>2</th>\n",
              "      <td>7539</td>\n",
              "      <td>Dick Slater</td>\n",
              "      <td>-0.027857</td>\n",
              "      <td>negative</td>\n",
              "      <td>richard van slater born may 19 1951 better kno...</td>\n",
              "      <td>http://dbpedia.org/resource/Dick_Slater</td>\n",
              "      <td>Richard Van Slater (May 19, 1951 – October 18,...</td>\n",
              "    </tr>\n",
              "    <tr>\n",
              "      <th>3</th>\n",
              "      <td>9483</td>\n",
              "      <td>Ricky Blues</td>\n",
              "      <td>0.182242</td>\n",
              "      <td>positive</td>\n",
              "      <td>william perry blake iii better known ring name...</td>\n",
              "      <td>http://dbpedia.org/resource/Ricky_Blues</td>\n",
              "      <td>William Perry Blake III, better known by the r...</td>\n",
              "    </tr>\n",
              "    <tr>\n",
              "      <th>4</th>\n",
              "      <td>20060</td>\n",
              "      <td>Pedro Morales</td>\n",
              "      <td>0.216250</td>\n",
              "      <td>positive</td>\n",
              "      <td>pedro morales born october 22 1942 retired pue...</td>\n",
              "      <td>http://dbpedia.org/resource/Pedro_Morales</td>\n",
              "      <td>Pedro Antonio Morales (October 22, 1942 – Febr...</td>\n",
              "    </tr>\n",
              "  </tbody>\n",
              "</table>\n",
              "</div>\n",
              "    <div class=\"colab-df-buttons\">\n",
              "\n",
              "  <div class=\"colab-df-container\">\n",
              "    <button class=\"colab-df-convert\" onclick=\"convertToInteractive('df-6c0f073b-23b9-4ff6-8372-9a0f91f99bd0')\"\n",
              "            title=\"Convert this dataframe to an interactive table.\"\n",
              "            style=\"display:none;\">\n",
              "\n",
              "  <svg xmlns=\"http://www.w3.org/2000/svg\" height=\"24px\" viewBox=\"0 -960 960 960\">\n",
              "    <path d=\"M120-120v-720h720v720H120Zm60-500h600v-160H180v160Zm220 220h160v-160H400v160Zm0 220h160v-160H400v160ZM180-400h160v-160H180v160Zm440 0h160v-160H620v160ZM180-180h160v-160H180v160Zm440 0h160v-160H620v160Z\"/>\n",
              "  </svg>\n",
              "    </button>\n",
              "\n",
              "  <style>\n",
              "    .colab-df-container {\n",
              "      display:flex;\n",
              "      gap: 12px;\n",
              "    }\n",
              "\n",
              "    .colab-df-convert {\n",
              "      background-color: #E8F0FE;\n",
              "      border: none;\n",
              "      border-radius: 50%;\n",
              "      cursor: pointer;\n",
              "      display: none;\n",
              "      fill: #1967D2;\n",
              "      height: 32px;\n",
              "      padding: 0 0 0 0;\n",
              "      width: 32px;\n",
              "    }\n",
              "\n",
              "    .colab-df-convert:hover {\n",
              "      background-color: #E2EBFA;\n",
              "      box-shadow: 0px 1px 2px rgba(60, 64, 67, 0.3), 0px 1px 3px 1px rgba(60, 64, 67, 0.15);\n",
              "      fill: #174EA6;\n",
              "    }\n",
              "\n",
              "    .colab-df-buttons div {\n",
              "      margin-bottom: 4px;\n",
              "    }\n",
              "\n",
              "    [theme=dark] .colab-df-convert {\n",
              "      background-color: #3B4455;\n",
              "      fill: #D2E3FC;\n",
              "    }\n",
              "\n",
              "    [theme=dark] .colab-df-convert:hover {\n",
              "      background-color: #434B5C;\n",
              "      box-shadow: 0px 1px 3px 1px rgba(0, 0, 0, 0.15);\n",
              "      filter: drop-shadow(0px 1px 2px rgba(0, 0, 0, 0.3));\n",
              "      fill: #FFFFFF;\n",
              "    }\n",
              "  </style>\n",
              "\n",
              "    <script>\n",
              "      const buttonEl =\n",
              "        document.querySelector('#df-6c0f073b-23b9-4ff6-8372-9a0f91f99bd0 button.colab-df-convert');\n",
              "      buttonEl.style.display =\n",
              "        google.colab.kernel.accessAllowed ? 'block' : 'none';\n",
              "\n",
              "      async function convertToInteractive(key) {\n",
              "        const element = document.querySelector('#df-6c0f073b-23b9-4ff6-8372-9a0f91f99bd0');\n",
              "        const dataTable =\n",
              "          await google.colab.kernel.invokeFunction('convertToInteractive',\n",
              "                                                    [key], {});\n",
              "        if (!dataTable) return;\n",
              "\n",
              "        const docLinkHtml = 'Like what you see? Visit the ' +\n",
              "          '<a target=\"_blank\" href=https://colab.research.google.com/notebooks/data_table.ipynb>data table notebook</a>'\n",
              "          + ' to learn more about interactive tables.';\n",
              "        element.innerHTML = '';\n",
              "        dataTable['output_type'] = 'display_data';\n",
              "        await google.colab.output.renderOutput(dataTable, element);\n",
              "        const docLink = document.createElement('div');\n",
              "        docLink.innerHTML = docLinkHtml;\n",
              "        element.appendChild(docLink);\n",
              "      }\n",
              "    </script>\n",
              "  </div>\n",
              "\n",
              "\n",
              "<div id=\"df-7da2a9d5-7faf-4c7f-af33-50484a95c936\">\n",
              "  <button class=\"colab-df-quickchart\" onclick=\"quickchart('df-7da2a9d5-7faf-4c7f-af33-50484a95c936')\"\n",
              "            title=\"Suggest charts\"\n",
              "            style=\"display:none;\">\n",
              "\n",
              "<svg xmlns=\"http://www.w3.org/2000/svg\" height=\"24px\"viewBox=\"0 0 24 24\"\n",
              "     width=\"24px\">\n",
              "    <g>\n",
              "        <path d=\"M19 3H5c-1.1 0-2 .9-2 2v14c0 1.1.9 2 2 2h14c1.1 0 2-.9 2-2V5c0-1.1-.9-2-2-2zM9 17H7v-7h2v7zm4 0h-2V7h2v10zm4 0h-2v-4h2v4z\"/>\n",
              "    </g>\n",
              "</svg>\n",
              "  </button>\n",
              "\n",
              "<style>\n",
              "  .colab-df-quickchart {\n",
              "      --bg-color: #E8F0FE;\n",
              "      --fill-color: #1967D2;\n",
              "      --hover-bg-color: #E2EBFA;\n",
              "      --hover-fill-color: #174EA6;\n",
              "      --disabled-fill-color: #AAA;\n",
              "      --disabled-bg-color: #DDD;\n",
              "  }\n",
              "\n",
              "  [theme=dark] .colab-df-quickchart {\n",
              "      --bg-color: #3B4455;\n",
              "      --fill-color: #D2E3FC;\n",
              "      --hover-bg-color: #434B5C;\n",
              "      --hover-fill-color: #FFFFFF;\n",
              "      --disabled-bg-color: #3B4455;\n",
              "      --disabled-fill-color: #666;\n",
              "  }\n",
              "\n",
              "  .colab-df-quickchart {\n",
              "    background-color: var(--bg-color);\n",
              "    border: none;\n",
              "    border-radius: 50%;\n",
              "    cursor: pointer;\n",
              "    display: none;\n",
              "    fill: var(--fill-color);\n",
              "    height: 32px;\n",
              "    padding: 0;\n",
              "    width: 32px;\n",
              "  }\n",
              "\n",
              "  .colab-df-quickchart:hover {\n",
              "    background-color: var(--hover-bg-color);\n",
              "    box-shadow: 0 1px 2px rgba(60, 64, 67, 0.3), 0 1px 3px 1px rgba(60, 64, 67, 0.15);\n",
              "    fill: var(--button-hover-fill-color);\n",
              "  }\n",
              "\n",
              "  .colab-df-quickchart-complete:disabled,\n",
              "  .colab-df-quickchart-complete:disabled:hover {\n",
              "    background-color: var(--disabled-bg-color);\n",
              "    fill: var(--disabled-fill-color);\n",
              "    box-shadow: none;\n",
              "  }\n",
              "\n",
              "  .colab-df-spinner {\n",
              "    border: 2px solid var(--fill-color);\n",
              "    border-color: transparent;\n",
              "    border-bottom-color: var(--fill-color);\n",
              "    animation:\n",
              "      spin 1s steps(1) infinite;\n",
              "  }\n",
              "\n",
              "  @keyframes spin {\n",
              "    0% {\n",
              "      border-color: transparent;\n",
              "      border-bottom-color: var(--fill-color);\n",
              "      border-left-color: var(--fill-color);\n",
              "    }\n",
              "    20% {\n",
              "      border-color: transparent;\n",
              "      border-left-color: var(--fill-color);\n",
              "      border-top-color: var(--fill-color);\n",
              "    }\n",
              "    30% {\n",
              "      border-color: transparent;\n",
              "      border-left-color: var(--fill-color);\n",
              "      border-top-color: var(--fill-color);\n",
              "      border-right-color: var(--fill-color);\n",
              "    }\n",
              "    40% {\n",
              "      border-color: transparent;\n",
              "      border-right-color: var(--fill-color);\n",
              "      border-top-color: var(--fill-color);\n",
              "    }\n",
              "    60% {\n",
              "      border-color: transparent;\n",
              "      border-right-color: var(--fill-color);\n",
              "    }\n",
              "    80% {\n",
              "      border-color: transparent;\n",
              "      border-right-color: var(--fill-color);\n",
              "      border-bottom-color: var(--fill-color);\n",
              "    }\n",
              "    90% {\n",
              "      border-color: transparent;\n",
              "      border-bottom-color: var(--fill-color);\n",
              "    }\n",
              "  }\n",
              "</style>\n",
              "\n",
              "  <script>\n",
              "    async function quickchart(key) {\n",
              "      const quickchartButtonEl =\n",
              "        document.querySelector('#' + key + ' button');\n",
              "      quickchartButtonEl.disabled = true;  // To prevent multiple clicks.\n",
              "      quickchartButtonEl.classList.add('colab-df-spinner');\n",
              "      try {\n",
              "        const charts = await google.colab.kernel.invokeFunction(\n",
              "            'suggestCharts', [key], {});\n",
              "      } catch (error) {\n",
              "        console.error('Error during call to suggestCharts:', error);\n",
              "      }\n",
              "      quickchartButtonEl.classList.remove('colab-df-spinner');\n",
              "      quickchartButtonEl.classList.add('colab-df-quickchart-complete');\n",
              "    }\n",
              "    (() => {\n",
              "      let quickchartButtonEl =\n",
              "        document.querySelector('#df-7da2a9d5-7faf-4c7f-af33-50484a95c936 button');\n",
              "      quickchartButtonEl.style.display =\n",
              "        google.colab.kernel.accessAllowed ? 'block' : 'none';\n",
              "    })();\n",
              "  </script>\n",
              "</div>\n",
              "\n",
              "    </div>\n",
              "  </div>\n"
            ],
            "application/vnd.google.colaboratory.intrinsic+json": {
              "type": "dataframe",
              "variable_name": "combined_wiki_df",
              "summary": "{\n  \"name\": \"combined_wiki_df\",\n  \"rows\": 11,\n  \"fields\": [\n    {\n      \"column\": \"index\",\n      \"properties\": {\n        \"dtype\": \"number\",\n        \"std\": 17099,\n        \"min\": 610,\n        \"max\": 42747,\n        \"num_unique_values\": 11,\n        \"samples\": [\n          40587,\n          8300,\n          32251\n        ],\n        \"semantic_type\": \"\",\n        \"description\": \"\"\n      }\n    },\n    {\n      \"column\": \"name\",\n      \"properties\": {\n        \"dtype\": \"string\",\n        \"num_unique_values\": 11,\n        \"samples\": [\n          \"Knuckles Nelson\",\n          \"Adorable Rub\\u00ed\",\n          \"Road Dogg\"\n        ],\n        \"semantic_type\": \"\",\n        \"description\": \"\"\n      }\n    },\n    {\n      \"column\": \"sentiment_polarity\",\n      \"properties\": {\n        \"dtype\": \"number\",\n        \"std\": 0.10308478518325594,\n        \"min\": -0.027857142857142855,\n        \"max\": 0.36756198347107444,\n        \"num_unique_values\": 11,\n        \"samples\": [\n          0.11346801346801347,\n          0.36756198347107444,\n          0.19938016528925617\n        ],\n        \"semantic_type\": \"\",\n        \"description\": \"\"\n      }\n    },\n    {\n      \"column\": \"sentiment_class\",\n      \"properties\": {\n        \"dtype\": \"category\",\n        \"num_unique_values\": 2,\n        \"samples\": [\n          \"negative\",\n          \"positive\"\n        ],\n        \"semantic_type\": \"\",\n        \"description\": \"\"\n      }\n    },\n    {\n      \"column\": \"text\",\n      \"properties\": {\n        \"dtype\": \"string\",\n        \"num_unique_values\": 11,\n        \"samples\": [\n          \"brendan higgins born september 26 1963 best known ring name knuckles nelson retired american professional wrestler promoter trainer wrestled throughout north american independent circuit 1990s 2000s competed several regional promotions century wrestling alliance national wrestling alliance united states wrestling association also briefly appeared world championship wrestling world wrestling federation well touring japan super destroyer 1997 1999he founding member tony rumbles brotherhood heel stable dominated nwa new england late 1990s included eric sbraccia dukes dalton rick fuller sbraccia nwa world tag team championship 1998 defended world nwa new england titles sbraccia brotherhood members home promotion almost two yearsfollowing rumbles death nelson helped run nwa new england time later became fulltime booker promoter wrestling star wars retirement 2003 head combat zone wrestling school involved training several independent wrestlers notably yankee pro wrestling veteran big gun jim sergeant\",\n          \"rubi rubalcaba born december 31 1931 retired mexican luchador professional wrestler best known ring name adorable rub adorable rub one pioneers exotico wrestling style mixing crossdressing wrestling create sexually ambiguous characters adorable rub character inspired dizzy gardenia first successful exotico character adorable rub sergio el hermoso bello greco formed group called ola lila lilac wave wrestled mexico three adorable rub saw success ring defeating cicln veloz jr win mexican national middleweight championship april 6 1971 rub held title 196 days losing belt anbal june 28 1974 february 27 1976 empresa mexicana de lucha libre emll bookers decided make adorable rub new nwa world light heavyweight champion emlls prestigious championship rub defeated dr wagner title holding 231 days losing belt carlos plata july 16 1976 october 7 1984 became second man hold mexican national cruiserweight championship defeated ngel blanco win title title would lose charro de jalisco 1986 long retired professional wrestling\"\n        ],\n        \"semantic_type\": \"\",\n        \"description\": \"\"\n      }\n    },\n    {\n      \"column\": \"wiki_page\",\n      \"properties\": {\n        \"dtype\": \"string\",\n        \"num_unique_values\": 11,\n        \"samples\": [\n          \"http://dbpedia.org/resource/Knuckles_Nelson\",\n          \"http://dbpedia.org/resource/Adorable_Rub\\u00ed\"\n        ],\n        \"semantic_type\": \"\",\n        \"description\": \"\"\n      }\n    },\n    {\n      \"column\": \"wiki_content\",\n      \"properties\": {\n        \"dtype\": \"string\",\n        \"num_unique_values\": 11,\n        \"samples\": [\n          \"Brendan Higgins (born September 26, 1963), best known by his ring name Knuckles Nelson is a retired American professional wrestler, promoter and trainer who wrestled throughout the North American independent circuit during the 1990s and 2000s. He competed in several regional promotions such as the Century Wrestling Alliance, the National Wrestling Alliance and the United States Wrestling Association. He also briefly appeared in World Championship Wrestling and the World Wrestling Federation as well as touring Japan as Super Destroyer between 1997 and 1999. He was a founding member of Tony Rumble's The Brotherhood, a \\\"heel\\\" stable which dominated NWA New England during the late 1990s, and which included Eric Sbraccia, Dukes Dalton and Rick Fuller. He and Sbraccia won the NWA World Tag Team Championship in 1998, and defended both the World and NWA New England titles with Sbraccia and other Brotherhood members in their home promotion for almost two years. Following Rumble's death, Nelson helped run NWA New England for a time and later became a full-time booker and promoter for Wrestling Star Wars until his retirement in 2003. As head of \\\"The Combat Zone\\\" wrestling school, he was involved in training several independent wrestlers, most notably, Yankee Pro Wrestling veteran \\\"Big Gun\\\" Jim Sergeant.  Biography Early life and career Born in Providence, Rhode Island. As a child, he often watched wrestling on Fox 25 Boston and was a fan of both World Class Championship Wrestling and the Von Erich family as well as a reader of wrestling newsletters The Torch and The Observer. As a young man, he decided to try his luck in the business after reading an article in the Warwick Beacon of a retired professional wrestler starting a local independent promotion. He and a friend visited a trainer at the promotion's headquarters, then occupying a rundown warehouse in Providence, and returned the following day to start their first training session. It was there that they met local independent wrestlers Bob Evans and Paul Lazon who invited them to their wrestling school in Freetown, Massachusetts. Nelson took them up on their offer and soon began training at the Freetown facility. It was there that he met Nick Steel and Brian Brieger who, in addition to Evans and Lazon, became his principal trainers. One of his earliest matches was against his former trainer Bob Evans whom he defeated at a show in New Bedford, Massachusetts. He eventually made his debut in 1994, under the name Tully McShane, and spent some time in Coastal Pro Wrestling before meeting Tony Rumble who would bring him into his emerging Boston promotion, the Century Wrestling Alliance.  Century Wrestling Alliance (1995-1998) Nelson's first match in the CWA was under a mask and against Rumble himself. He suffered a bloody mouth during the match and Rumble ended up beating him with a Boston crab submission hold. Rumble paid him $100 and booked for three more shows beginning the start of his long career in the promotion. Rumble didn't like the \\\"Tully McShane\\\" name and began helping develop his later in-ring persona, Knuckles Nelson. On February 4, 1995, Nelson made a one-time appearance in the United States Wrestling Association where he teamed with The Shadow against PG-13 (J. C. Ice & Wolfie D). PG-13, then feuding with Tommy Rich and Doug Gilbert over the USWA Tag Team Championship, were attacked by their rivals during the post-match interview. Back in the CWA, he was initially paired with Sonny C as The Cash Money Boys but split up and feuded with each other during 1996. A top contender to the CWA Heavyweight Championship during this time, he was unable to take the title from then champion Kevin Sullivan. He did, however, win the CWA Television Championship from Vic Steamboat in Derry, New Hampshire, on July 6, 1996. Earlier that year, he had also appeared on the 1st annual Eddie Gilbert Memorial Show in Cherry Hill, New Jersey, defeating the Inferno Kid after hitting him with brass knuckles. He was also a regular on the promotion's television show, Mass Madness. On one occasion, during a match against a young Steve Bradley, Nelson attempted to use his brass knuckles but lost them to Bradley. The referee, seeing the foreign object, immediately disqualified Bradley giving Nelson the win.   It was also on the show that he started teaming with Erich Sbraccia. On March 17, 1997, Knuckles Nelson appeared on Monday Night Nitro alongside longtime independent star T. Rantula to take on Lex Luger & The Giant in Savannah, Georgia. He and his tag team partner lost the match when The Giant pinned Nelson with a chokeslam and, following the match, Luger put T. Rantula in the \\\"Torture Rack\\\". On May 18, he faced another WCW tag team, The Power Company (Dave & Dean Power), whom he and partner Tre lost to. At the end of the night, Nelson and Tre took part in a 10-man tag team match with Tony Rumble, Waldo and Rick Fuller to beat Vic Steamboat, El Mascarado, Baby Black and the Power Company. Holding the CWA Television Championship for over a year and a half, Nelson lost the title back to Steamboat in Brattleboro, Vermont, on December 8, 1997.  NWA New England (1998-1999) On January 24, 1998, Knuckle Nelson appeared at a CWA fundraising event, billed as \\\"Killer Kowalski Night\\\" held at the high school in Ridgefield, CT. Along with Killer Kowalski in attendance, other high-profile stars included Tony Rumble, King Kong Bundy, Tito Santana, Devon Storm and Johnny Grunge. That same night, the CWA announced that it would be joining the National Wrestling Alliance and changed its name to NWA New England. That same year, Rumble arranged for Nelson to tour Japan as Super Destroyer with Barry Darsow and Wild Bill Irwin, Irwin having once been a mainstay of World Class Championship Wrestling. By early-1998, Nelson had formed a successful tag team with Erich Sbraccia as part of Tony Rumble's \\\"heel\\\" stable The Brotherhood. Two months before dropping the television title to Steamboat, they had won the CWA Tag Team Championship from The Extremists (Ace Darling & Devon Storm) and held the titles until the CWA became NWA New England. He and Sbraccia later represented NWA New England in an interpromotional match at the NWA 50th Anniversary Show where they faced NWA World Tag Team Champions The Border Patrol (Agent Gunn & Agent Maxx) from NWA All-Star Wrestling. This was a \\\"Four Corners\\\" match that included Team Extreme (Kit Carson & Khris Germany) from NWA Southwest and Barry Windham & Tully Blanchard, although Windham was later replaced with Dr. Tom Prichard. Together with manager Tony Rumble, The Brotherhood defeated The Border Patrol to win the titles. Although the NWA wanted Nelson and Sbraccia to tour the various NWA territories to defend the championship, Rumble fought to keep the titles in New England. Their run as the tag team champions is considered one of the high points in NWA New England's history. On February 18, 1999, Knuckles Nelson also won the NWA New England Heavyweight Championship from Trooper Gilmore in Mansfield, Massachusetts. Early in their title reign, Sbraccia was injured and other members of the stable often substituted for him. The titles were held up on March 3, 1999, when Nelson and his partner were forced to miss a scheduled title defense in North Richland Hills, Texas, due to heavy snow. Staying in NWA New England, he and Dukes Dalton defeated Jason Rage & Slyk Wagner Brown at a house show in Southbridge, Massachusetts, several days later. He and Sbraccia also made their first WWF appearances, though wrestling in separate singles matches, taking on Hardcore Holly and Mideon respectively in the opening matches of Shotgun Saturday Night. The Brotherhood were given back the belts after a June 10 rematch in Dallas, Texas, winning via disqualification. He and Rick Fuller briefly lost the titles to The Public Enemy (Rocco Rock & Johnny Grunge) in Bolton, Massachusetts, on June 17, but regained them two days later with Dukes Dalton in Dorchester. He and Dalton also won the NWA Tag Team titles from The Arc Angels (Damon D'Arcangelo & Phoenix King) in Somerville on August 22 which, in addition to the NWA World Tag Team titles, they continued to defend for another month. He made another WWF appearance on the September 11th edition of WWF Jakked against The Big Boss Man. He and Dukes lost the NWA New England titles almost two weeks later to the New York Posse (Curtis Slamdawg & Jay Kobain) in Somerville, Massachusetts, on September 22. He wrestled Slamdawg, who also succeeded him as heavyweight champion, in a singles match at Somerville's Good Time Emporium that same day. He would face him again at an event for Connecticut Championship Wrestling in East Haven, Connecticut, at the end of the year. On September 25, he and Dukes Dalton, managed by Jeff Katz, lost the NWA World Tag Team titles to Team Extreme (Kit Carson & Khris Germany) at the NWA 51st Anniversary Show at the Grady Cole Center in Charlotte, North Carolina. On October 30, he made a second appearance on WWF Jakked with Dukes Dalton against The Headbangers (Mosh & Thrasher). He and Dalton would regain the belts a final time, beating the New York Posse in Thomaston, Connecticut, on October 2, and would continue to hold the belts until the stable split up early the next year. When promoter Tony Rumble died of a heart attack in November 1999, he and Katz were chosen by his widow and co-owner Ellen Magliaro to take over running the promotion. Shortly thereafter, Nelson started his own promotion and Katz moved to Las Vegas to take over the morning drive show on that market's most successful talk radio station. After that,  he and Katz were replaced by Jason Delgatta. Delgatta portrayed Tony Rumble's kayfabe son, \\\"Boston Bad Boy\\\" Jason Rumble who would remain the top star in the promotion.  Wrestling Star Wars and retirement (1999-2003) Nelson founded Wrestling Star Wars, a regional promotion based in Salisbury Beach, Massachusetts, which he initially started in memory of Tony Rumble feeling it was his duty \\\"to continue his work\\\". On October 11, 2003, Nelson retired from the business in favor of spending more time with his family. In August 2009, he gave an interview with longtime NWA commentator Brian Webster discussing his post-wrestling career and the current state of wrestling.  Championships and accomplishments Century Wrestling Alliance CWA Television Championship (1 time) CWA Tag Team Championship (1 time) \\u2013 with Eric Sbraccia National Wrestling Alliance NWA World Tag Team Championship (3 times) \\u2013 with Erich Sbraccia, Dukes Dalton and Rick Fuller NWA New England NWA New England Heavyweight Championship (1 time) NWA New England Television Championship (1 time) NWA New England Tag Team Championship (2 times) \\u2013 with Dukes Dalton New England Pro Wrestling Hall of Fame Class of 2014 Pro Wrestling Illustrated PWI ranked him #255 of the 500 best singles wrestlers of the PWI 500 in 1996.  References Further reading Lister, John. Slamthology: Collected Wrestling Writings 1991-2004. Adlibbed Ltd., 2005. ISBN 1-4116-5329-7  External links Knuckles Nelson on Facebook Knuckles Nelson on Myspace Knuckles Nelson's channel on YouTube CageMatch.de - Knuckles Nelson (in German) GenickBruch.com - Knuckles Nelson (in German)\",\n          \"Ruben Carbajal Lopez (December 31, 1931 \\u2013 June 23, 2012) was a Mexican Luchador, or professional wrestler who is best known under the ring names Adorable Rub\\u00ed and Rubi Rubalcava / Rubi Rubalcaba. As Adorable Rub\\u00ed he was one of the pioneers of the Ex\\u00f3tico wrestling style, mixing Cross-dressing with wrestling to create a type or wrestling character that was more sexually ambiguous and self-obsessed. The \\\"Adorable Rub\\u00ed\\\" character was inspired by Dizzy Gardenia, the first successful Ex\\u00f3tico character to compete in Mexico. During his career he won the Mexican National Cruiserweight Championship, Mexican National Middleweight Championship and NWA World Light Heavyweight Championship. While he played an effeminate, self-obsessed character where it was implied he was homosexual, it was never revealed if that was Carbajal's personal sexual orientation as well.  Personal life Ruben Carbajal Lopez was born on December 31, 1941, in Moctezuma, Sonora, Mexico, son of Manuel Carbajal and Maria Lopez. He had three sisters and three brothers, one of which later became a wrestler but had to retire early due to injuries sustained when he was the victim of an armed robbery. He attended the \\\"February 24\\\" Primary School in Moctezuma and one year of High School before he dropped out to pursue a career in lucha libre (professional wrestling). He had first seen lucha libre at the local El Cortijo Bull fighting arena and later visited Mexico City where he began training at the wrestling school associated with Arena M\\u00e9xico and Empresa Mexicana de Lucha Libre (EMLL), which was the biggest wrestling promotion in Mexico in the early 1960s. During his childhood Carbajal's idol, along with many others in Mexico, was El Santo. He began his training in 1963, first learning Olympic style amateur wrestling from professor Jose Rojas. During his time training in amateur wrestling Carbajal won several local tournaments. Once he was taught all the fundamentals of amateur wrestling he began training under Pepe Hernandez who taught him professional wrestling.  Professional wrestling career In an interview in 2011, Carbajal recalled making his wrestling debut in October 1966; but while conducting research for Carbajal's obituary in 2012, SuperLuchas Magazine writer Teddy Ba\\u00f1os found records indicating that Carbajal was actually working in December 1965 under the name \\\"Silvestre Carbajal\\\", putting the mistake down to Carbajal mis-remembering the date. In his debut, he lost to veteran wrestler Tony Infante and was paid a total of 37.00 Pesos for the match. Following his debut, EMLL sent him to Monterrey, Nuevo Le\\u00f3n to work for the local EMLL promoter to gain in-ring experience before returning to Mexico City at some point. In Monterrey, Carbajal got the opportunity to work with EMLL headliner Ren\\u00e9 Guajardo as he worked in the northern Mexico for about two years. For part of the time, he was unable to compete due to a severe injury he suffered during a match with Bulldog Villegas. In 1968, he returned to Mexico City, working as \\\"Rubi Ruvalcaba\\\" now, and put on a series of matches that made him the 1968 EMLL \\\"Rookie of the year\\\" Unfortunately, there were only so many positions on the main show that he found himself only working sporadically in Mexico City. Working in Monterrey, Carbajal met and worked with El Chamaco Naturalista who used an Ex\\u00f3tico ring character. Due to Carbajal's light build and long, wavy hair, Monterre promoter Gory Guerrero suggested that perhaps an Ex\\u00f3tico character would work for Carbajal. He later recalled that Chamaco Naturalista offered to teach him ballet to help with his character while Carbajal could teach him Spanish. After a year of ballet and working on incorporating the moves and mannerism into his repertoire, Carbajal was given a beautiful, sparkly ring robe by Chamaco Naturalista prior to his return to Mexico City. In 1971, Carbajal returned to the national level, adopting a brand new ring persona transforming from the serious wrestler Rubi Ruvalcaba to the flamboyant, prissy Ex\\u00f3tico \\\"Adorable Rub\\u00ed\\\", a character he had patterned after one of the original Ex\\u00f3ticos Dizzy Gardenia who had worked in Mexico in the 1940s. As \\\"Adorable Rub\\u00ed\\\", he displayed a very self-centered attitude, more worried about his looks and his hair than his opponent at times and portraying a character whose sexuality was less macho than wrestlers usually displayed. Together with fellow Ex\\u00f3ticos El Bello Greco and Sergio el Hermoso, he formed a trio known as La Ola Lila (\\\"The Lilac Wave\\\") that would work all over Mexico, headlining shows on several occasions. The character was such a hit with the audience that EMLL decided to book him in Mexico City full-time, even deciding that he should win the Mexican National Middleweight Championship from then reigning champion Cicl\\u00f3n Veloz Jr. on December 14, 1973. As Adorable Rub\\u00ed, he would defend the championship for over six months, until it was decided to move the title to An\\u00edbal on June 28, 1974. During the EMLL 41st Anniversary Show on September 20, 1974, he wrestled Ringo Mendoza to a time limit draw. Later in the year, he was booked in a championship match against An\\u00edbal, playing up the rivalry between the flamboyant Ex\\u00f3tico rule breaker Adorable Rub\\u00ed and the popular masked good guy An\\u00edbal as a continuation of the title change earlier in the year. The match was for An\\u00edbal's NWA World Middleweight Championship and took place on December 13, 1974, in a match where An\\u00edbal retained the championship by pinning the challenger. Carbajal has stated in interviews that An\\u00edbal was the first wrestler to defeat him in a Luchas de Apuestas, or bet match, and thus forced the image obsessed character to be shaved completely bald after his loss. At the first of the EMLL 42nd Anniversary Shows, Adorable Rub\\u00ed and Coloso Colosetti lost a tag team Luchas de Apuestas match to Los Gemelo Diablos (\\\"The Twin Devils\\\") and was once again shaved bald after the match. In 1976, EMLL decided to book Adorable Rub\\u00ed as the NWA World Light Heavyweight Champion when he defeated Dr. Wagner on February 27, 1976. The Light Heavyweight championship was considered one of the top championships in Mexico at the time, a step above the Mexican National championship he had won in the past. On April 23, 1976, he teamed up with Alfonso Dant\\u00e9s, losing to the team of Carbajal's childhood idol El Santo and El Halc\\u00f3n, losing to them on the undercard of the 20. Aniversario de Arena M\\u00e9xico show. On July 16, 1976, Carlos Plata became the new NWA World Light Heavyweight Champion, pinning Adorable Rub\\u00ed in the main event of an Arena Mexico show. Rub\\u00ed teamed up with Sangre Chicana for the EMLL 45th Anniversary Show on September 22, 1978, where they faced and defeated El Cobarde and Drag\\u00f3n Rojo in the main event of the show. Following the match El Cobarde and Drag\\u00f3n Rojo were shaved bald as per the Luchas de Apuestas stipulation. During the mid-to-late 1970s, Carbajal teamed up with his nephew who wrestled as the Ex\\u00f3tico wrestler Divino Roy (\\\"Divine Roy\\\"). On April 7, 1980, as part of the 24. Aniversario de Arena M\\u00e9xico show, Adorable Rub\\u00ed and El Nazi lost to the team of El Fara\\u00f3n and Ringo Mendoza and once again he had to be shaved bald after the match. On Marcy 13, 1981, Adorable Rub\\u00ed was unsuccessful in his challenge for the Mexican National Heavyweight Championship as he lost to Cien Caras. In the early-1980s, a new type of Ex\\u00f3tico emerged in Mexico, where they were now overtly homosexual, somethings in real life, sometimes only in their ring persona, adopting certain aspects also found in drag queen culture. With the rise in popularity of \\\"out\\\" Ex\\u00f3tico characters, such as Pimpinela Escarlata, Adorable Rub\\u00ed was often called the last \\\"Old School Ex\\u00f3tico\\\" character in Mexico. Both during active career and after his retirement, Carbajal expressed his dislike for the \\\"New Ex\\u00f3tico\\\" where it was more about the spectacle of the character such as kissing other men as a way of gaining an advantage during a match than wrestling. In 1982, he teamed up with Herodes, El Fara\\u00f3n and Tony Benetto for a four-on-three handicap match against Andre the Giant, Halc\\u00f3n Ortiz and C\\u00e9sar Curiel during one of Andre's special tours of Mexico, losing to the visiting giant. EMLL decided to give Adorable Rub\\u00ed one last championship reign in 1984 as he defeated \\u00c1ngel Blanco to become the second ever holder of the Mexican National Cruiserweight Championship. His career was winding down as he only made one title defense during the 747 days that he held the championship which was a loss to Charro de Jalisco on October 24, 1986. His only known match since 1986 was a Luchas de Apuestas match against Perro Aguayo in May 1989, which resulted in the Ex\\u00f3tico being shaved bald one last time.  Retirement and death Carbajal retired in 1989 and settled in Guadalajara, Jalisco, Mexico where he lived quietly, only occasionally doing interviews about his wrestling past. Carbajal died on June 23, 2012, in his home town of Guadalajara from a Kidney Infection.  Championships and accomplishments Empresa Mexicana de la Lucha Libre Mexican National Cruiserweight Championship (1 time) Mexican National Middleweight Championship (1 time) NWA World Light Heavyweight Championship (1 time) Rookie of the year / Novato del A\\u00f1o: 1968  Luchas de Apuestas record   == References ==\"\n        ],\n        \"semantic_type\": \"\",\n        \"description\": \"\"\n      }\n    }\n  ]\n}"
            }
          },
          "metadata": {},
          "execution_count": 45
        }
      ]
    },
    {
      "cell_type": "code",
      "source": [
        "# --- Sentiment Analysis Setup ---\n",
        "sia = SentimentIntensityAnalyzer()\n",
        "\n",
        "# Function to classify sentiment based on compound score\n",
        "def get_sentiment_class(polarity_score):\n",
        "    \"\"\"Classify sentiment based on compound score.\"\"\"\n",
        "    if polarity_score >= 0.05:\n",
        "        return \"positive\"\n",
        "    elif polarity_score <= -0.05:\n",
        "        return \"negative\"\n",
        "    else:\n",
        "        return \"neutral\"\n",
        "\n",
        "# --- Perform TF-IDF on the cleaned 'wiki_content' ---\n",
        "tfidf2_vectorizer = TfidfVectorizer(stop_words='english')\n",
        "tfidf2_matrix = tfidf_vectorizer.fit_transform(combined_wiki_df['wiki_content'])\n",
        "tfidf2_data = tfidf2_matrix.toarray().tolist()\n",
        "combined_wiki_df['tfidf_matrix_wiki'] = tfidf2_data\n",
        "\n",
        "\n",
        "\n",
        "# --- Sentiment Analysis on each 'wiki_content' ---\n",
        "def get_sentiment_polarity(text):\n",
        "    \"\"\"Get sentiment polarity score using VADER.\"\"\"\n",
        "    return sia.polarity_scores(text)['compound']\n",
        "\n",
        "# Apply sentiment analysis to the 'wiki_content' and add the sentiment columns\n",
        "combined_wiki_df['sentiment_polarity'] = combined_wiki_df['wiki_content'].apply(get_sentiment_polarity)\n",
        "combined_wiki_df['sentiment_class'] = combined_wiki_df['sentiment_polarity'].apply(get_sentiment_class)\n",
        "\n",
        "# --- Finding Nearest Neighbors ---\n",
        "# Select a target person\n",
        "target_person_index = 0 # Change this to the index of the target person\n",
        "target_vector = tfidf2_matrix[target_person_index]\n",
        "\n",
        "# Calculate cosine similarity\n",
        "similarities = cosine_similarity(target_vector, tfidf2_matrix)\n",
        "\n",
        "# Find nearest neighbors\n",
        "num_neighbors = 10\n",
        "wiki_neighbor_indices = similarities.argsort()[0][-num_neighbors - 1:-1][::-1]\n",
        "\n",
        "# Extract neighbor information from the original df, ensuring original columns\n",
        "wiki_neighbors = combined_wiki_df.iloc[wiki_neighbor_indices][['index', 'name', 'sentiment_polarity', 'sentiment_class', 'text', 'wiki_page', 'tfidf_matrix_wiki']]\n",
        "\n",
        "wiki_neighbors = wiki_neighbors.sort_values(by='sentiment_polarity', ascending=False)\n",
        "\n",
        "# --- Output the nearest neighbors with sentiment\n",
        "print(f\"Nearest Neighbors to #{combined_wiki_df.iloc[target_person_index]['index']} {combined_wiki_df.iloc[target_person_index]['name']} ({combined_wiki_df.iloc[target_person_index]['sentiment_polarity']}):\")\n",
        "# for index, row in nearest_neighbors.iterrows():\n",
        "#     print(f\"- {row['name']}, Sentiment: {row['sentiment_class']} ({row['sentiment_polarity']})\")\n",
        "\n",
        "# Ensure the final output matches the desired structure\n",
        "wiki_neighbors[['index', 'name', 'sentiment_polarity', 'sentiment_class']]\n"
      ],
      "metadata": {
        "colab": {
          "base_uri": "https://localhost:8080/",
          "height": 381
        },
        "id": "KkZCQe__Tt7w",
        "outputId": "12455da5-485e-4093-b770-fd36013c9505"
      },
      "execution_count": 63,
      "outputs": [
        {
          "output_type": "stream",
          "name": "stdout",
          "text": [
            "Nearest Neighbors to #8300 Adorable Rubí (0.9992):\n"
          ]
        },
        {
          "output_type": "execute_result",
          "data": {
            "text/plain": [
              "    index                   name  sentiment_polarity sentiment_class\n",
              "4   20060          Pedro Morales              1.0000        positive\n",
              "8   42747           Jason Rumble              0.9999        positive\n",
              "7    3743          Drew McIntyre              0.9999        positive\n",
              "2    7539            Dick Slater              0.9999        positive\n",
              "6   38612           Gino Martino              0.9994        positive\n",
              "3    9483            Ricky Blues              0.9977        positive\n",
              "5   40587        Knuckles Nelson              0.9973        positive\n",
              "10    610  Gary Michael Cappetta              0.9833        positive\n",
              "1   42506            Cosmo Baker              0.9746        positive\n",
              "9   32251              Road Dogg              0.9216        positive"
            ],
            "text/html": [
              "\n",
              "  <div id=\"df-29b4c634-7844-4ce4-a7fa-5670e24171e5\" class=\"colab-df-container\">\n",
              "    <div>\n",
              "<style scoped>\n",
              "    .dataframe tbody tr th:only-of-type {\n",
              "        vertical-align: middle;\n",
              "    }\n",
              "\n",
              "    .dataframe tbody tr th {\n",
              "        vertical-align: top;\n",
              "    }\n",
              "\n",
              "    .dataframe thead th {\n",
              "        text-align: right;\n",
              "    }\n",
              "</style>\n",
              "<table border=\"1\" class=\"dataframe\">\n",
              "  <thead>\n",
              "    <tr style=\"text-align: right;\">\n",
              "      <th></th>\n",
              "      <th>index</th>\n",
              "      <th>name</th>\n",
              "      <th>sentiment_polarity</th>\n",
              "      <th>sentiment_class</th>\n",
              "    </tr>\n",
              "  </thead>\n",
              "  <tbody>\n",
              "    <tr>\n",
              "      <th>4</th>\n",
              "      <td>20060</td>\n",
              "      <td>Pedro Morales</td>\n",
              "      <td>1.0000</td>\n",
              "      <td>positive</td>\n",
              "    </tr>\n",
              "    <tr>\n",
              "      <th>8</th>\n",
              "      <td>42747</td>\n",
              "      <td>Jason Rumble</td>\n",
              "      <td>0.9999</td>\n",
              "      <td>positive</td>\n",
              "    </tr>\n",
              "    <tr>\n",
              "      <th>7</th>\n",
              "      <td>3743</td>\n",
              "      <td>Drew McIntyre</td>\n",
              "      <td>0.9999</td>\n",
              "      <td>positive</td>\n",
              "    </tr>\n",
              "    <tr>\n",
              "      <th>2</th>\n",
              "      <td>7539</td>\n",
              "      <td>Dick Slater</td>\n",
              "      <td>0.9999</td>\n",
              "      <td>positive</td>\n",
              "    </tr>\n",
              "    <tr>\n",
              "      <th>6</th>\n",
              "      <td>38612</td>\n",
              "      <td>Gino Martino</td>\n",
              "      <td>0.9994</td>\n",
              "      <td>positive</td>\n",
              "    </tr>\n",
              "    <tr>\n",
              "      <th>3</th>\n",
              "      <td>9483</td>\n",
              "      <td>Ricky Blues</td>\n",
              "      <td>0.9977</td>\n",
              "      <td>positive</td>\n",
              "    </tr>\n",
              "    <tr>\n",
              "      <th>5</th>\n",
              "      <td>40587</td>\n",
              "      <td>Knuckles Nelson</td>\n",
              "      <td>0.9973</td>\n",
              "      <td>positive</td>\n",
              "    </tr>\n",
              "    <tr>\n",
              "      <th>10</th>\n",
              "      <td>610</td>\n",
              "      <td>Gary Michael Cappetta</td>\n",
              "      <td>0.9833</td>\n",
              "      <td>positive</td>\n",
              "    </tr>\n",
              "    <tr>\n",
              "      <th>1</th>\n",
              "      <td>42506</td>\n",
              "      <td>Cosmo Baker</td>\n",
              "      <td>0.9746</td>\n",
              "      <td>positive</td>\n",
              "    </tr>\n",
              "    <tr>\n",
              "      <th>9</th>\n",
              "      <td>32251</td>\n",
              "      <td>Road Dogg</td>\n",
              "      <td>0.9216</td>\n",
              "      <td>positive</td>\n",
              "    </tr>\n",
              "  </tbody>\n",
              "</table>\n",
              "</div>\n",
              "    <div class=\"colab-df-buttons\">\n",
              "\n",
              "  <div class=\"colab-df-container\">\n",
              "    <button class=\"colab-df-convert\" onclick=\"convertToInteractive('df-29b4c634-7844-4ce4-a7fa-5670e24171e5')\"\n",
              "            title=\"Convert this dataframe to an interactive table.\"\n",
              "            style=\"display:none;\">\n",
              "\n",
              "  <svg xmlns=\"http://www.w3.org/2000/svg\" height=\"24px\" viewBox=\"0 -960 960 960\">\n",
              "    <path d=\"M120-120v-720h720v720H120Zm60-500h600v-160H180v160Zm220 220h160v-160H400v160Zm0 220h160v-160H400v160ZM180-400h160v-160H180v160Zm440 0h160v-160H620v160ZM180-180h160v-160H180v160Zm440 0h160v-160H620v160Z\"/>\n",
              "  </svg>\n",
              "    </button>\n",
              "\n",
              "  <style>\n",
              "    .colab-df-container {\n",
              "      display:flex;\n",
              "      gap: 12px;\n",
              "    }\n",
              "\n",
              "    .colab-df-convert {\n",
              "      background-color: #E8F0FE;\n",
              "      border: none;\n",
              "      border-radius: 50%;\n",
              "      cursor: pointer;\n",
              "      display: none;\n",
              "      fill: #1967D2;\n",
              "      height: 32px;\n",
              "      padding: 0 0 0 0;\n",
              "      width: 32px;\n",
              "    }\n",
              "\n",
              "    .colab-df-convert:hover {\n",
              "      background-color: #E2EBFA;\n",
              "      box-shadow: 0px 1px 2px rgba(60, 64, 67, 0.3), 0px 1px 3px 1px rgba(60, 64, 67, 0.15);\n",
              "      fill: #174EA6;\n",
              "    }\n",
              "\n",
              "    .colab-df-buttons div {\n",
              "      margin-bottom: 4px;\n",
              "    }\n",
              "\n",
              "    [theme=dark] .colab-df-convert {\n",
              "      background-color: #3B4455;\n",
              "      fill: #D2E3FC;\n",
              "    }\n",
              "\n",
              "    [theme=dark] .colab-df-convert:hover {\n",
              "      background-color: #434B5C;\n",
              "      box-shadow: 0px 1px 3px 1px rgba(0, 0, 0, 0.15);\n",
              "      filter: drop-shadow(0px 1px 2px rgba(0, 0, 0, 0.3));\n",
              "      fill: #FFFFFF;\n",
              "    }\n",
              "  </style>\n",
              "\n",
              "    <script>\n",
              "      const buttonEl =\n",
              "        document.querySelector('#df-29b4c634-7844-4ce4-a7fa-5670e24171e5 button.colab-df-convert');\n",
              "      buttonEl.style.display =\n",
              "        google.colab.kernel.accessAllowed ? 'block' : 'none';\n",
              "\n",
              "      async function convertToInteractive(key) {\n",
              "        const element = document.querySelector('#df-29b4c634-7844-4ce4-a7fa-5670e24171e5');\n",
              "        const dataTable =\n",
              "          await google.colab.kernel.invokeFunction('convertToInteractive',\n",
              "                                                    [key], {});\n",
              "        if (!dataTable) return;\n",
              "\n",
              "        const docLinkHtml = 'Like what you see? Visit the ' +\n",
              "          '<a target=\"_blank\" href=https://colab.research.google.com/notebooks/data_table.ipynb>data table notebook</a>'\n",
              "          + ' to learn more about interactive tables.';\n",
              "        element.innerHTML = '';\n",
              "        dataTable['output_type'] = 'display_data';\n",
              "        await google.colab.output.renderOutput(dataTable, element);\n",
              "        const docLink = document.createElement('div');\n",
              "        docLink.innerHTML = docLinkHtml;\n",
              "        element.appendChild(docLink);\n",
              "      }\n",
              "    </script>\n",
              "  </div>\n",
              "\n",
              "\n",
              "<div id=\"df-bc23e73c-ff19-4345-9a5f-a14a08260824\">\n",
              "  <button class=\"colab-df-quickchart\" onclick=\"quickchart('df-bc23e73c-ff19-4345-9a5f-a14a08260824')\"\n",
              "            title=\"Suggest charts\"\n",
              "            style=\"display:none;\">\n",
              "\n",
              "<svg xmlns=\"http://www.w3.org/2000/svg\" height=\"24px\"viewBox=\"0 0 24 24\"\n",
              "     width=\"24px\">\n",
              "    <g>\n",
              "        <path d=\"M19 3H5c-1.1 0-2 .9-2 2v14c0 1.1.9 2 2 2h14c1.1 0 2-.9 2-2V5c0-1.1-.9-2-2-2zM9 17H7v-7h2v7zm4 0h-2V7h2v10zm4 0h-2v-4h2v4z\"/>\n",
              "    </g>\n",
              "</svg>\n",
              "  </button>\n",
              "\n",
              "<style>\n",
              "  .colab-df-quickchart {\n",
              "      --bg-color: #E8F0FE;\n",
              "      --fill-color: #1967D2;\n",
              "      --hover-bg-color: #E2EBFA;\n",
              "      --hover-fill-color: #174EA6;\n",
              "      --disabled-fill-color: #AAA;\n",
              "      --disabled-bg-color: #DDD;\n",
              "  }\n",
              "\n",
              "  [theme=dark] .colab-df-quickchart {\n",
              "      --bg-color: #3B4455;\n",
              "      --fill-color: #D2E3FC;\n",
              "      --hover-bg-color: #434B5C;\n",
              "      --hover-fill-color: #FFFFFF;\n",
              "      --disabled-bg-color: #3B4455;\n",
              "      --disabled-fill-color: #666;\n",
              "  }\n",
              "\n",
              "  .colab-df-quickchart {\n",
              "    background-color: var(--bg-color);\n",
              "    border: none;\n",
              "    border-radius: 50%;\n",
              "    cursor: pointer;\n",
              "    display: none;\n",
              "    fill: var(--fill-color);\n",
              "    height: 32px;\n",
              "    padding: 0;\n",
              "    width: 32px;\n",
              "  }\n",
              "\n",
              "  .colab-df-quickchart:hover {\n",
              "    background-color: var(--hover-bg-color);\n",
              "    box-shadow: 0 1px 2px rgba(60, 64, 67, 0.3), 0 1px 3px 1px rgba(60, 64, 67, 0.15);\n",
              "    fill: var(--button-hover-fill-color);\n",
              "  }\n",
              "\n",
              "  .colab-df-quickchart-complete:disabled,\n",
              "  .colab-df-quickchart-complete:disabled:hover {\n",
              "    background-color: var(--disabled-bg-color);\n",
              "    fill: var(--disabled-fill-color);\n",
              "    box-shadow: none;\n",
              "  }\n",
              "\n",
              "  .colab-df-spinner {\n",
              "    border: 2px solid var(--fill-color);\n",
              "    border-color: transparent;\n",
              "    border-bottom-color: var(--fill-color);\n",
              "    animation:\n",
              "      spin 1s steps(1) infinite;\n",
              "  }\n",
              "\n",
              "  @keyframes spin {\n",
              "    0% {\n",
              "      border-color: transparent;\n",
              "      border-bottom-color: var(--fill-color);\n",
              "      border-left-color: var(--fill-color);\n",
              "    }\n",
              "    20% {\n",
              "      border-color: transparent;\n",
              "      border-left-color: var(--fill-color);\n",
              "      border-top-color: var(--fill-color);\n",
              "    }\n",
              "    30% {\n",
              "      border-color: transparent;\n",
              "      border-left-color: var(--fill-color);\n",
              "      border-top-color: var(--fill-color);\n",
              "      border-right-color: var(--fill-color);\n",
              "    }\n",
              "    40% {\n",
              "      border-color: transparent;\n",
              "      border-right-color: var(--fill-color);\n",
              "      border-top-color: var(--fill-color);\n",
              "    }\n",
              "    60% {\n",
              "      border-color: transparent;\n",
              "      border-right-color: var(--fill-color);\n",
              "    }\n",
              "    80% {\n",
              "      border-color: transparent;\n",
              "      border-right-color: var(--fill-color);\n",
              "      border-bottom-color: var(--fill-color);\n",
              "    }\n",
              "    90% {\n",
              "      border-color: transparent;\n",
              "      border-bottom-color: var(--fill-color);\n",
              "    }\n",
              "  }\n",
              "</style>\n",
              "\n",
              "  <script>\n",
              "    async function quickchart(key) {\n",
              "      const quickchartButtonEl =\n",
              "        document.querySelector('#' + key + ' button');\n",
              "      quickchartButtonEl.disabled = true;  // To prevent multiple clicks.\n",
              "      quickchartButtonEl.classList.add('colab-df-spinner');\n",
              "      try {\n",
              "        const charts = await google.colab.kernel.invokeFunction(\n",
              "            'suggestCharts', [key], {});\n",
              "      } catch (error) {\n",
              "        console.error('Error during call to suggestCharts:', error);\n",
              "      }\n",
              "      quickchartButtonEl.classList.remove('colab-df-spinner');\n",
              "      quickchartButtonEl.classList.add('colab-df-quickchart-complete');\n",
              "    }\n",
              "    (() => {\n",
              "      let quickchartButtonEl =\n",
              "        document.querySelector('#df-bc23e73c-ff19-4345-9a5f-a14a08260824 button');\n",
              "      quickchartButtonEl.style.display =\n",
              "        google.colab.kernel.accessAllowed ? 'block' : 'none';\n",
              "    })();\n",
              "  </script>\n",
              "</div>\n",
              "\n",
              "    </div>\n",
              "  </div>\n"
            ],
            "application/vnd.google.colaboratory.intrinsic+json": {
              "type": "dataframe",
              "summary": "{\n  \"name\": \"wiki_neighbors[['index', 'name', 'sentiment_polarity', 'sentiment_class']]\",\n  \"rows\": 10,\n  \"fields\": [\n    {\n      \"column\": \"index\",\n      \"properties\": {\n        \"dtype\": \"number\",\n        \"std\": 17336,\n        \"min\": 610,\n        \"max\": 42747,\n        \"num_unique_values\": 10,\n        \"samples\": [\n          42506,\n          42747,\n          9483\n        ],\n        \"semantic_type\": \"\",\n        \"description\": \"\"\n      }\n    },\n    {\n      \"column\": \"name\",\n      \"properties\": {\n        \"dtype\": \"string\",\n        \"num_unique_values\": 10,\n        \"samples\": [\n          \"Cosmo Baker\",\n          \"Jason Rumble\",\n          \"Ricky Blues\"\n        ],\n        \"semantic_type\": \"\",\n        \"description\": \"\"\n      }\n    },\n    {\n      \"column\": \"sentiment_polarity\",\n      \"properties\": {\n        \"dtype\": \"number\",\n        \"std\": 0.02468891789177215,\n        \"min\": 0.9216,\n        \"max\": 1.0,\n        \"num_unique_values\": 8,\n        \"samples\": [\n          0.9999,\n          0.9833,\n          1.0\n        ],\n        \"semantic_type\": \"\",\n        \"description\": \"\"\n      }\n    },\n    {\n      \"column\": \"sentiment_class\",\n      \"properties\": {\n        \"dtype\": \"category\",\n        \"num_unique_values\": 1,\n        \"samples\": [\n          \"positive\"\n        ],\n        \"semantic_type\": \"\",\n        \"description\": \"\"\n      }\n    }\n  ]\n}"
            }
          },
          "metadata": {},
          "execution_count": 63
        }
      ]
    },
    {
      "cell_type": "markdown",
      "source": [
        "###Scatterplot of Wikipedia Sentiment scores"
      ],
      "metadata": {
        "id": "k_-MtyqXNTP0"
      }
    },
    {
      "cell_type": "markdown",
      "source": [
        "```\n",
        "3. Scatterplot of target and nearest neighbors Sentiment from Wikipedia API.\n",
        "```\n",
        "\n"
      ],
      "metadata": {
        "id": "IzENM8W_Ojkw"
      }
    },
    {
      "cell_type": "code",
      "source": [
        "plt.figure(figsize=(8, 6))\n",
        "wiki_plot = plt.scatter(wiki_neighbors['index'], wiki_neighbors['sentiment_polarity'], c=wiki_neighbors['sentiment_polarity'], cmap='cividis', label= 'Nearest Wiki Neighbors')\n",
        "target_person = combined_wiki_df.iloc[[target_person_index]]\n",
        "plt.scatter(target_person.index, target_person['sentiment_polarity'], color='red', label='Target', s=100)\n",
        "plt.xlabel('Row #')\n",
        "plt.ylabel('Sentiment')\n",
        "plt.title('Scatterplot of Sentiment')\n",
        "\n",
        "# Create a ScalarMappable for the colorbar\n",
        "norm = plt.Normalize(wiki_neighbors['sentiment_polarity'].min(), wiki_neighbors['sentiment_polarity'].max()) # Normalize data range\n",
        "cmap = plt.get_cmap('viridis') # Choose a colormap\n",
        "\n",
        "sm = mpl.cm.ScalarMappable(cmap=cmap, norm=norm) # Use mpl.cm to access the ScalarMappable\n",
        "sm.set_array([])  # This line is important to prevent an error\n",
        "\n",
        "# Add the colorbar using the ScalarMappable and specify the scatter plot for location\n",
        "plt.colorbar(sm, ax=wiki_plot.axes, label='Sentiment (Positive: 1, Neutral: 0, Negative: -1)')  # Pass ax argument to specify location\n",
        "\n",
        "plt.show()\n",
        "\n",
        "# plt.colorbar(label='Sentiment (Positive: 1, Neutral: 0, Negative: -1)')\n",
        "# plt.show()"
      ],
      "metadata": {
        "colab": {
          "base_uri": "https://localhost:8080/",
          "height": 564
        },
        "id": "Gc0Be5ZZ_Y4H",
        "outputId": "81ae7628-45b2-4ba4-ecee-6412d9ccdecd"
      },
      "execution_count": 47,
      "outputs": [
        {
          "output_type": "display_data",
          "data": {
            "text/plain": [
              "<Figure size 800x600 with 2 Axes>"
            ],
            "image/png": "[encoded data removed]"
          },
          "metadata": {}
        }
      ]
    },
    {
      "cell_type": "markdown",
      "metadata": {
        "id": "xEIw9hfFObw7"
      },
      "source": [
        "#Part 3) Interactive Notebook\n"
      ]
    },
    {
      "cell_type": "markdown",
      "source": [
        "Make an interactive notebook. **See Part 1) Preprocessing\n",
        "\n",
        "In addition to presenting the project slides, at the end of the presentation each student will demonstrate their code using a famous person suggested by the other students that exists in the DBpedia set."
      ],
      "metadata": {
        "id": "I1z8AqUVtuEV"
      }
    },
    {
      "cell_type": "markdown",
      "source": [
        "###Ranking Comparison of Nearest Neighbors to Target\n",
        "\n",
        "1. \"Pedro Morales\" ranks the closest to Adorable Rub in Part 1 (0.216520 polarity) and Part 2 (1.0) as the closest neighbor in sentiment per their wikipedia page.\n",
        "2. \"Dick Slater\" ranks #4 and with \"positive\" class in Part 2 despite being classified as \"negative\" in Part 1 with the lowest raw score (-0.027857).\n",
        "3. Part 2 uses relative closeness to \"Adorable Rubí,\" leading to high sentiment similarity scores even for entities like \"Dick Slater,\" whose sentiment is classified as \"negative\" in Table 1.\n",
        "4. Part 1 (Original Sentiment Polarity) presents the raw values, offering a broader range of sentiments and more precise classifications.\n",
        "3. All entries are marked \"positive\" in Part 2, even though Part 1 categorizes \"Dick Slater\" as \"negative.\"\n",
        "This flip in presentation emphasizes that Nearest Neighbors in Part 2 focuses on relative similarity, while Part 1 (Original Sentiment Polarity) reflects actual sentiment scores."
      ],
      "metadata": {
        "id": "zdBhk2pzLSf3"
      }
    },
    {
      "cell_type": "code",
      "source": [
        "# # Pull out the Adorable_Rubí (alt 0237) from wikipedia - http://dbpedia.org/resource/Adorable_Rub%C3%AD\n",
        "# topic = 'Adorable_Rubí'\n",
        "# wikip = wikipediaapi.Wikipedia(user_agent = 'foobar')\n",
        "# page_ex = wikip.page(topic)\n",
        "# wiki_text0 = page_ex.text\n",
        "# wiki_text0\n"
      ],
      "metadata": {
        "id": "mqvCN_04zA11"
      },
      "execution_count": 48,
      "outputs": []
    },
    {
      "cell_type": "code",
      "source": [
        "# # Pull out the Adorable_Rubí (alt 0237) from wikipedia - http://dbpedia.org/resource/Adorable_Rub%C3%AD\n",
        "# topic = 'Cosmo_Baker'\n",
        "# wikip = wikipediaapi.Wikipedia(user_agent = 'foobar')\n",
        "# page_ex = wikip.page(topic)\n",
        "# wiki_text1 = page_ex.text\n",
        "# wiki_text1"
      ],
      "metadata": {
        "id": "VEZkqXQmp6Ul"
      },
      "execution_count": 49,
      "outputs": []
    },
    {
      "cell_type": "code",
      "source": [
        "# # Replace newline chars with spaces before doing any processing. Strip the ' and \"s\" from possessives\n",
        "# wiki_text0_clean = (\n",
        "#     wiki_text0\n",
        "#     .replace(\"\\n\",\" \")\n",
        "#     .replace(\"'s\",'')\n",
        "#     .replace(\"'\",'')\n",
        "# )\n",
        "# wiki_text0_clean"
      ],
      "metadata": {
        "id": "ImN22SdFJZ3K"
      },
      "execution_count": 50,
      "outputs": []
    },
    {
      "cell_type": "code",
      "source": [
        "# wiki_text0_clean = wiki_text0.lower()\n",
        "# for c in [\"\\n\", \"'s\", \"'\", \"  \"]:\n",
        "#   wiki_text0_clean = wiki_text0_clean.replace(c,\" \")\n",
        "# wiki_text0_clean"
      ],
      "metadata": {
        "id": "ScSjUYVbIr3g"
      },
      "execution_count": 51,
      "outputs": []
    },
    {
      "cell_type": "code",
      "source": [
        "# pat = re.compile(r\"(\\n|'s|'| )+\")\n",
        "# wiki_text0_clean = re.sub(pat,' ', wiki_text0.lower())\n",
        "# wiki_text0_clean"
      ],
      "metadata": {
        "id": "YA4KQ-SJJIH_"
      },
      "execution_count": 52,
      "outputs": []
    },
    {
      "cell_type": "code",
      "source": [
        "# # Break up single string into separate sentences\n",
        "# wiki_blob = TextBlob(wiki_text0_clean)\n",
        "# len(wiki_blob.sentences)\n"
      ],
      "metadata": {
        "id": "FkRPcxWvZuSI"
      },
      "execution_count": 53,
      "outputs": []
    },
    {
      "cell_type": "code",
      "source": [
        "# topic_sentences = wiki_blob.sentences[0:5]\n",
        "# topic_sentences"
      ],
      "metadata": {
        "collapsed": true,
        "id": "ZG4RqayyZuN2"
      },
      "execution_count": 54,
      "outputs": []
    },
    {
      "cell_type": "code",
      "source": [
        "# # Convert text blob sentences to strings\n",
        "# topic_sentences_str = [ str(x) for x in topic_sentences ]\n",
        "# topic_sentences_str\n"
      ],
      "metadata": {
        "collapsed": true,
        "id": "MFmo4MsnZuDj"
      },
      "execution_count": 55,
      "outputs": []
    },
    {
      "cell_type": "code",
      "source": [
        "# # Perform the TF-IDF Vectorization\n",
        "# tf_idf_vec = TfidfVectorizer(stop_words = 'english')\n",
        "# tf_idf_pop = tf_idf_vec.fit_transform(topic_sentences_str)\n",
        "# tf_idf_pop.shape\n"
      ],
      "metadata": {
        "collapsed": true,
        "id": "tpjBSgoiawpZ"
      },
      "execution_count": 56,
      "outputs": []
    },
    {
      "cell_type": "code",
      "source": [
        "# tf_idf_vec.get_feature_names_out()"
      ],
      "metadata": {
        "collapsed": true,
        "id": "IUdLKA6Rawn4"
      },
      "execution_count": 57,
      "outputs": []
    },
    {
      "cell_type": "code",
      "source": [
        "# # Print out results in a dataframe\n",
        "# tf_df = pd.DataFrame(tf_idf_pop.toarray(), columns = tf_idf_vec.get_feature_names_out())\n",
        "# tf_df.transpose()"
      ],
      "metadata": {
        "collapsed": true,
        "id": "JC6h3i1DawmI"
      },
      "execution_count": 58,
      "outputs": []
    },
    {
      "cell_type": "code",
      "source": [
        "# # Get a data frame with the TF-IDF values sorted for document 0\n",
        "# df1 = pd.DataFrame(tf_idf_pop[0].T.todense(), index=tf_idf_vec.get_feature_names_out(), columns=['TF-IDF'])\n",
        "# df = df1.sort_values('TF-IDF', ascending=False)\n",
        "# df"
      ],
      "metadata": {
        "collapsed": true,
        "id": "aVG6PFgTawgV"
      },
      "execution_count": 59,
      "outputs": []
    },
    {
      "cell_type": "code",
      "source": [
        "# tf_df = pd.DataFrame(\n",
        "#        tf_idf_pop.toarray(),\n",
        "#        columns=tf_idf_vec.get_feature_names_out(),\n",
        "#        index=range(len(topic_sentences_str))  # Add sentence index as index\n",
        "#    )\n",
        "\n",
        "# tf_df['sentence'] = topic_sentences_str\n",
        "# tf_df.head()"
      ],
      "metadata": {
        "collapsed": true,
        "id": "pBtXq4UPOnlG"
      },
      "execution_count": 60,
      "outputs": []
    },
    {
      "cell_type": "code",
      "source": [
        "# df1.columns"
      ],
      "metadata": {
        "collapsed": true,
        "id": "Q9yJO9mRLYWQ"
      },
      "execution_count": 61,
      "outputs": []
    },
    {
      "cell_type": "code",
      "source": [
        "# (\n",
        "# tf_idf_pop[0]\n",
        "# .T\n",
        "# .todense()\n",
        "# )"
      ],
      "metadata": {
        "collapsed": true,
        "id": "jM3AFQQCawba"
      },
      "execution_count": 62,
      "outputs": []
    }
  ],
  "metadata": {
    "colab": {
      "provenance": [],
      "toc_visible": true,
      "authorship_tag": "ABX9TyOPSKVCwLOfR/u+gSiy8Zjg",
      "include_colab_link": true
    },
    "kernelspec": {
      "display_name": "Python 3",
      "name": "python3"
    },
    "language_info": {
      "name": "python"
    }
  },
  "nbformat": 4,
  "nbformat_minor": 0
}
