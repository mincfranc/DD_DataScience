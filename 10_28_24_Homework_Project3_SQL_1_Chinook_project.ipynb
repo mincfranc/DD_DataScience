{
  "nbformat": 4,
  "nbformat_minor": 0,
  "metadata": {
    "colab": {
      "provenance": [],
      "toc_visible": true,
      "include_colab_link": true
    },
    "kernelspec": {
      "name": "python3",
      "display_name": "Python 3"
    },
    "language_info": {
      "name": "python"
    }
  },
  "cells": [
    {
      "cell_type": "markdown",
      "metadata": {
        "id": "view-in-github",
        "colab_type": "text"
      },
      "source": [
        "<a href=\"https://colab.research.google.com/github/mincfranc/DD_DataScience/blob/main/10_28_24_Homework_Project3_SQL_1_Chinook_project.ipynb\" target=\"_parent\"><img src=\"https://colab.research.google.com/assets/colab-badge.svg\" alt=\"Open In Colab\"/></a>"
      ]
    },
    {
      "cell_type": "markdown",
      "source": [
        "# Project SQL - Chinook\n"
      ],
      "metadata": {
        "id": "cJG_e1vK2NMI"
      }
    },
    {
      "cell_type": "markdown",
      "source": [
        "#Chinook data set\n",
        "\n",
        "See the lecture on SQLite3 using the Chinook data set to set up the software, database, and tables, as well as for the links to ancillary information about the data set.\n"
      ],
      "metadata": {
        "id": "s6jMcIbW3P5o"
      }
    },
    {
      "cell_type": "code",
      "source": [
        "# Install the sqlite package for Ubuntu\n",
        "# Download the Chinook sqlite database\n"
      ],
      "metadata": {
        "id": "UhFW0uTR6Jfv"
      },
      "execution_count": 1,
      "outputs": []
    },
    {
      "cell_type": "code",
      "source": [
        "# Install supressed and updated sqlite3 package to interact with SQLite database within Jupyter nb on Ubuntu system\n",
        "\n",
        "\n",
        "%%capture\n",
        "%%bash\n",
        "apt-get update\n",
        "apt-get install -y sqlite3"
      ],
      "metadata": {
        "id": "ZgoJRzV4tTGE"
      },
      "execution_count": 2,
      "outputs": []
    },
    {
      "cell_type": "code",
      "source": [
        "# @title sqlite3- help\n",
        "\n",
        "!sqlite3 --help"
      ],
      "metadata": {
        "colab": {
          "base_uri": "https://localhost:8080/"
        },
        "id": "zreugDF7tlDW",
        "outputId": "b75861cd-e9dd-426d-cb6b-8cdcc25c505e"
      },
      "execution_count": 3,
      "outputs": [
        {
          "output_type": "stream",
          "name": "stdout",
          "text": [
            "Usage: sqlite3 [OPTIONS] FILENAME [SQL]\n",
            "FILENAME is the name of an SQLite database. A new database is created\n",
            "if the file does not previously exist.\n",
            "OPTIONS include:\n",
            "   -A ARGS...           run \".archive ARGS\" and exit\n",
            "   -append              append the database to the end of the file\n",
            "   -ascii               set output mode to 'ascii'\n",
            "   -bail                stop after hitting an error\n",
            "   -batch               force batch I/O\n",
            "   -box                 set output mode to 'box'\n",
            "   -column              set output mode to 'column'\n",
            "   -cmd COMMAND         run \"COMMAND\" before reading stdin\n",
            "   -csv                 set output mode to 'csv'\n",
            "   -deserialize         open the database using sqlite3_deserialize()\n",
            "   -echo                print commands before execution\n",
            "   -init FILENAME       read/process named file\n",
            "   -[no]header          turn headers on or off\n",
            "   -help                show this message\n",
            "   -html                set output mode to HTML\n",
            "   -interactive         force interactive I/O\n",
            "   -json                set output mode to 'json'\n",
            "   -line                set output mode to 'line'\n",
            "   -list                set output mode to 'list'\n",
            "   -lookaside SIZE N    use N entries of SZ bytes for lookaside memory\n",
            "   -markdown            set output mode to 'markdown'\n",
            "   -maxsize N           maximum size for a --deserialize database\n",
            "   -memtrace            trace all memory allocations and deallocations\n",
            "   -mmap N              default mmap size set to N\n",
            "   -newline SEP         set output row separator. Default: '\\n'\n",
            "   -nofollow            refuse to open symbolic links to database files\n",
            "   -nonce STRING        set the safe-mode escape nonce\n",
            "   -nullvalue TEXT      set text string for NULL values. Default ''\n",
            "   -pagecache SIZE N    use N slots of SZ bytes each for page cache memory\n",
            "   -quote               set output mode to 'quote'\n",
            "   -readonly            open the database read-only\n",
            "   -safe                enable safe-mode\n",
            "   -separator SEP       set output column separator. Default: '|'\n",
            "   -stats               print memory stats before each finalize\n",
            "   -table               set output mode to 'table'\n",
            "   -tabs                set output mode to 'tabs'\n",
            "   -version             show SQLite version\n",
            "   -vfs NAME            use NAME as the default VFS\n",
            "   -zip                 open the file as a ZIP Archive\n"
          ]
        }
      ]
    },
    {
      "cell_type": "code",
      "source": [
        "#Download chinook.zip file by checking if it's present otherwise transfer via curl and display list without extracting.\n",
        "\n",
        "\n",
        "%%bash\n",
        "[ -f chinook.zip ] ||\n",
        "  curl -s -O https://www.sqlitetutorial.net/wp-content/uploads/2018/03/chinook.zip\n",
        "unzip -l chinook.zip"
      ],
      "metadata": {
        "colab": {
          "base_uri": "https://localhost:8080/"
        },
        "collapsed": true,
        "id": "EFQTALQwtlv6",
        "outputId": "b03a7358-f1e8-4d3a-c0e4-50a74600acd2"
      },
      "execution_count": 4,
      "outputs": [
        {
          "output_type": "stream",
          "name": "stdout",
          "text": [
            "Archive:  chinook.zip\n",
            "  Length      Date    Time    Name\n",
            "---------  ---------- -----   ----\n",
            "   884736  2015-11-29 10:53   chinook.db\n",
            "---------                     -------\n",
            "   884736                     1 file\n"
          ]
        }
      ]
    },
    {
      "cell_type": "code",
      "source": [
        "#Unzip program to extract files with updated versions\n",
        "\n",
        "!unzip -u chinook.zip"
      ],
      "metadata": {
        "colab": {
          "base_uri": "https://localhost:8080/"
        },
        "collapsed": true,
        "id": "vnadtkBttlgB",
        "outputId": "4b3dd270-3072-4a08-f117-6e3c270ecaa3"
      },
      "execution_count": 5,
      "outputs": [
        {
          "output_type": "stream",
          "name": "stdout",
          "text": [
            "Archive:  chinook.zip\n",
            "  inflating: chinook.db              \n"
          ]
        }
      ]
    },
    {
      "cell_type": "code",
      "source": [
        "#Display detailed files/folders in long list format, including hidden data.\n",
        "\n",
        "#ls: magics shell command to list contents of a directory(folder)\n",
        "#-l: tells ls to display in long list\n",
        "#-a: tells ls to show all files including hidden\n",
        "!ls -la\n"
      ],
      "metadata": {
        "colab": {
          "base_uri": "https://localhost:8080/"
        },
        "id": "_XaS7VwvuH_Z",
        "outputId": "710a3226-ddc0-4de2-a0fc-8e83e3407ff5"
      },
      "execution_count": 6,
      "outputs": [
        {
          "output_type": "stream",
          "name": "stdout",
          "text": [
            "total 1180\n",
            "drwxr-xr-x 1 root root   4096 Oct 28 06:16 .\n",
            "drwxr-xr-x 1 root root   4096 Oct 28 06:14 ..\n",
            "-rw-r--r-- 1 root root 884736 Nov 29  2015 chinook.db\n",
            "-rw-r--r-- 1 root root 305596 Oct 28 06:16 chinook.zip\n",
            "drwxr-xr-x 4 root root   4096 Oct 24 13:20 .config\n",
            "drwxr-xr-x 1 root root   4096 Oct 24 13:20 sample_data\n"
          ]
        }
      ]
    },
    {
      "cell_type": "code",
      "source": [
        "# Get a list of the tables in the database\n",
        "\n",
        "%%script sqlite3 --column --header chinook.db\n",
        ".tables"
      ],
      "metadata": {
        "colab": {
          "base_uri": "https://localhost:8080/"
        },
        "id": "HsYeDStUuH9O",
        "outputId": "3759babb-ca9a-4cde-ec91-dfd3683d4fd7"
      },
      "execution_count": 7,
      "outputs": [
        {
          "output_type": "stream",
          "name": "stdout",
          "text": [
            "albums          employees       invoices        playlists     \n",
            "artists         genres          media_types     tracks        \n",
            "customers       invoice_items   playlist_track\n"
          ]
        }
      ]
    },
    {
      "cell_type": "code",
      "source": [
        "# Show the schema for the entire database\n",
        "\n",
        "%%script sqlite3 --column --header chinook.db\n",
        ".schema"
      ],
      "metadata": {
        "colab": {
          "base_uri": "https://localhost:8080/"
        },
        "id": "PdO5WqlNuH7S",
        "outputId": "65292181-5222-4017-a72b-3bc967f9f0d9"
      },
      "execution_count": 8,
      "outputs": [
        {
          "output_type": "stream",
          "name": "stdout",
          "text": [
            "CREATE TABLE IF NOT EXISTS \"albums\"\r\n",
            "(\r\n",
            "    [AlbumId] INTEGER PRIMARY KEY AUTOINCREMENT NOT NULL,\r\n",
            "    [Title] NVARCHAR(160)  NOT NULL,\r\n",
            "    [ArtistId] INTEGER  NOT NULL,\r\n",
            "    FOREIGN KEY ([ArtistId]) REFERENCES \"artists\" ([ArtistId]) \r\n",
            "\t\tON DELETE NO ACTION ON UPDATE NO ACTION\r\n",
            ");\n",
            "CREATE TABLE sqlite_sequence(name,seq);\n",
            "CREATE TABLE IF NOT EXISTS \"artists\"\r\n",
            "(\r\n",
            "    [ArtistId] INTEGER PRIMARY KEY AUTOINCREMENT NOT NULL,\r\n",
            "    [Name] NVARCHAR(120)\r\n",
            ");\n",
            "CREATE TABLE IF NOT EXISTS \"customers\"\r\n",
            "(\r\n",
            "    [CustomerId] INTEGER PRIMARY KEY AUTOINCREMENT NOT NULL,\r\n",
            "    [FirstName] NVARCHAR(40)  NOT NULL,\r\n",
            "    [LastName] NVARCHAR(20)  NOT NULL,\r\n",
            "    [Company] NVARCHAR(80),\r\n",
            "    [Address] NVARCHAR(70),\r\n",
            "    [City] NVARCHAR(40),\r\n",
            "    [State] NVARCHAR(40),\r\n",
            "    [Country] NVARCHAR(40),\r\n",
            "    [PostalCode] NVARCHAR(10),\r\n",
            "    [Phone] NVARCHAR(24),\r\n",
            "    [Fax] NVARCHAR(24),\r\n",
            "    [Email] NVARCHAR(60)  NOT NULL,\r\n",
            "    [SupportRepId] INTEGER,\r\n",
            "    FOREIGN KEY ([SupportRepId]) REFERENCES \"employees\" ([EmployeeId]) \r\n",
            "\t\tON DELETE NO ACTION ON UPDATE NO ACTION\r\n",
            ");\n",
            "CREATE TABLE IF NOT EXISTS \"employees\"\r\n",
            "(\r\n",
            "    [EmployeeId] INTEGER PRIMARY KEY AUTOINCREMENT NOT NULL,\r\n",
            "    [LastName] NVARCHAR(20)  NOT NULL,\r\n",
            "    [FirstName] NVARCHAR(20)  NOT NULL,\r\n",
            "    [Title] NVARCHAR(30),\r\n",
            "    [ReportsTo] INTEGER,\r\n",
            "    [BirthDate] DATETIME,\r\n",
            "    [HireDate] DATETIME,\r\n",
            "    [Address] NVARCHAR(70),\r\n",
            "    [City] NVARCHAR(40),\r\n",
            "    [State] NVARCHAR(40),\r\n",
            "    [Country] NVARCHAR(40),\r\n",
            "    [PostalCode] NVARCHAR(10),\r\n",
            "    [Phone] NVARCHAR(24),\r\n",
            "    [Fax] NVARCHAR(24),\r\n",
            "    [Email] NVARCHAR(60),\r\n",
            "    FOREIGN KEY ([ReportsTo]) REFERENCES \"employees\" ([EmployeeId]) \r\n",
            "\t\tON DELETE NO ACTION ON UPDATE NO ACTION\r\n",
            ");\n",
            "CREATE TABLE IF NOT EXISTS \"genres\"\r\n",
            "(\r\n",
            "    [GenreId] INTEGER PRIMARY KEY AUTOINCREMENT NOT NULL,\r\n",
            "    [Name] NVARCHAR(120)\r\n",
            ");\n",
            "CREATE TABLE IF NOT EXISTS \"invoices\"\r\n",
            "(\r\n",
            "    [InvoiceId] INTEGER PRIMARY KEY AUTOINCREMENT NOT NULL,\r\n",
            "    [CustomerId] INTEGER  NOT NULL,\r\n",
            "    [InvoiceDate] DATETIME  NOT NULL,\r\n",
            "    [BillingAddress] NVARCHAR(70),\r\n",
            "    [BillingCity] NVARCHAR(40),\r\n",
            "    [BillingState] NVARCHAR(40),\r\n",
            "    [BillingCountry] NVARCHAR(40),\r\n",
            "    [BillingPostalCode] NVARCHAR(10),\r\n",
            "    [Total] NUMERIC(10,2)  NOT NULL,\r\n",
            "    FOREIGN KEY ([CustomerId]) REFERENCES \"customers\" ([CustomerId]) \r\n",
            "\t\tON DELETE NO ACTION ON UPDATE NO ACTION\r\n",
            ");\n",
            "CREATE TABLE IF NOT EXISTS \"invoice_items\"\r\n",
            "(\r\n",
            "    [InvoiceLineId] INTEGER PRIMARY KEY AUTOINCREMENT NOT NULL,\r\n",
            "    [InvoiceId] INTEGER  NOT NULL,\r\n",
            "    [TrackId] INTEGER  NOT NULL,\r\n",
            "    [UnitPrice] NUMERIC(10,2)  NOT NULL,\r\n",
            "    [Quantity] INTEGER  NOT NULL,\r\n",
            "    FOREIGN KEY ([InvoiceId]) REFERENCES \"invoices\" ([InvoiceId]) \r\n",
            "\t\tON DELETE NO ACTION ON UPDATE NO ACTION,\r\n",
            "    FOREIGN KEY ([TrackId]) REFERENCES \"tracks\" ([TrackId]) \r\n",
            "\t\tON DELETE NO ACTION ON UPDATE NO ACTION\r\n",
            ");\n",
            "CREATE TABLE IF NOT EXISTS \"media_types\"\r\n",
            "(\r\n",
            "    [MediaTypeId] INTEGER PRIMARY KEY AUTOINCREMENT NOT NULL,\r\n",
            "    [Name] NVARCHAR(120)\r\n",
            ");\n",
            "CREATE TABLE IF NOT EXISTS \"playlists\"\r\n",
            "(\r\n",
            "    [PlaylistId] INTEGER PRIMARY KEY AUTOINCREMENT NOT NULL,\r\n",
            "    [Name] NVARCHAR(120)\r\n",
            ");\n",
            "CREATE TABLE IF NOT EXISTS \"playlist_track\"\r\n",
            "(\r\n",
            "    [PlaylistId] INTEGER  NOT NULL,\r\n",
            "    [TrackId] INTEGER  NOT NULL,\r\n",
            "    CONSTRAINT [PK_PlaylistTrack] PRIMARY KEY  ([PlaylistId], [TrackId]),\r\n",
            "    FOREIGN KEY ([PlaylistId]) REFERENCES \"playlists\" ([PlaylistId]) \r\n",
            "\t\tON DELETE NO ACTION ON UPDATE NO ACTION,\r\n",
            "    FOREIGN KEY ([TrackId]) REFERENCES \"tracks\" ([TrackId]) \r\n",
            "\t\tON DELETE NO ACTION ON UPDATE NO ACTION\r\n",
            ");\n",
            "CREATE TABLE IF NOT EXISTS \"tracks\"\r\n",
            "(\r\n",
            "    [TrackId] INTEGER PRIMARY KEY AUTOINCREMENT NOT NULL,\r\n",
            "    [Name] NVARCHAR(200)  NOT NULL,\r\n",
            "    [AlbumId] INTEGER,\r\n",
            "    [MediaTypeId] INTEGER  NOT NULL,\r\n",
            "    [GenreId] INTEGER,\r\n",
            "    [Composer] NVARCHAR(220),\r\n",
            "    [Milliseconds] INTEGER  NOT NULL,\r\n",
            "    [Bytes] INTEGER,\r\n",
            "    [UnitPrice] NUMERIC(10,2)  NOT NULL,\r\n",
            "    FOREIGN KEY ([AlbumId]) REFERENCES \"albums\" ([AlbumId]) \r\n",
            "\t\tON DELETE NO ACTION ON UPDATE NO ACTION,\r\n",
            "    FOREIGN KEY ([GenreId]) REFERENCES \"genres\" ([GenreId]) \r\n",
            "\t\tON DELETE NO ACTION ON UPDATE NO ACTION,\r\n",
            "    FOREIGN KEY ([MediaTypeId]) REFERENCES \"media_types\" ([MediaTypeId]) \r\n",
            "\t\tON DELETE NO ACTION ON UPDATE NO ACTION\r\n",
            ");\n",
            "CREATE INDEX [IFK_AlbumArtistId] ON \"albums\" ([ArtistId]);\n",
            "CREATE INDEX [IFK_CustomerSupportRepId] ON \"customers\" ([SupportRepId]);\n",
            "CREATE INDEX [IFK_EmployeeReportsTo] ON \"employees\" ([ReportsTo]);\n",
            "CREATE INDEX [IFK_InvoiceCustomerId] ON \"invoices\" ([CustomerId]);\n",
            "CREATE INDEX [IFK_InvoiceLineInvoiceId] ON \"invoice_items\" ([InvoiceId]);\n",
            "CREATE INDEX [IFK_InvoiceLineTrackId] ON \"invoice_items\" ([TrackId]);\n",
            "CREATE INDEX [IFK_PlaylistTrackTrackId] ON \"playlist_track\" ([TrackId]);\n",
            "CREATE INDEX [IFK_TrackAlbumId] ON \"tracks\" ([AlbumId]);\n",
            "CREATE INDEX [IFK_TrackGenreId] ON \"tracks\" ([GenreId]);\n",
            "CREATE INDEX [IFK_TrackMediaTypeId] ON \"tracks\" ([MediaTypeId]);\n",
            "CREATE TABLE sqlite_stat1(tbl,idx,stat);\n"
          ]
        }
      ]
    },
    {
      "cell_type": "markdown",
      "source": [
        "## Come up with questions about your data\n",
        "Have a look at the Entity-Relation ( ER ) diagram to help come up with questions.\n",
        "\n",
        "* What sort of information is in this dataset?\n",
        "* How many records are there?\n",
        "* How many different countries (states, counties, cities, etc) have records in this data set?\n",
        "\n",
        "\n",
        "If you are stuck, here are some ideas for questions:\n",
        "- https://github.com/LucasMcL/15-sql_queries_02-chinook/blob/master/README.md\n",
        "- [Using the R language]( https://rpubs.com/enext777/636199 )\n",
        "- [Search Google]( https://www.google.com/search?q=chinook+database+questions )\n",
        "\n"
      ],
      "metadata": {
        "id": "OA9Mp38s52x2"
      }
    },
    {
      "cell_type": "markdown",
      "source": [
        "## Use SQL queries to pull specific information\n",
        "\n",
        "Do NOT pull all the data and then filter using DataFrame methods etc. Make sure and use AT LEAST 13 of the 15 SQL options listed below. (You may have to get creative and come up with more questions to ask/answer.)\n"
      ],
      "metadata": {
        "id": "TqvaIfog546s"
      }
    },
    {
      "cell_type": "code",
      "source": [
        "#from 10_16_24_2d-sqlite3-Selects,  10_17_24_a 2f-sqlite3-chinook, 10_17_24_ x_X_2f-sqlite3-chinooK lectures"
      ],
      "metadata": {
        "id": "NS4lRnqwnPGS"
      },
      "execution_count": 9,
      "outputs": []
    },
    {
      "cell_type": "markdown",
      "source": [
        "### Basic Queries\n"
      ],
      "metadata": {
        "id": "borajWvCtRtl"
      }
    },
    {
      "cell_type": "markdown",
      "source": [
        "#### SELECT (with * and with column names)\n"
      ],
      "metadata": {
        "id": "gIEIK51EthwM"
      }
    },
    {
      "cell_type": "code",
      "source": [
        "# RETURN all employee info\n",
        "#%%script sqlite3 --column --header chinook.db: Command used in jupyter notebooks to run external scripts. Tells nb to execute code using sqlite3 command-line tool\n",
        "# %%script: Jupyter magic command\n",
        "# sqlite3: specifies command-line tool to interact with SQLITE databases\n",
        "# --column: tells sql3 to format output in columns\n",
        "# --header: tells sql3 to include column headers in output\n",
        "# chinook.db: name of sql db file to be queried\n",
        "\n",
        " # SELECT: keyword specifies table 'employees' from which to retrieve\n",
        " # FROM: keyword retrieves data from ALL columns in db"
      ],
      "metadata": {
        "id": "AE0UCa504bUF"
      },
      "execution_count": 10,
      "outputs": []
    },
    {
      "cell_type": "code",
      "source": [
        "# RETURN all employee info\n",
        "\n",
        "%%script sqlite3 --column --header chinook.db\n",
        "select *\n",
        "from employees\n",
        ";"
      ],
      "metadata": {
        "id": "8slKgFpsuBCh",
        "colab": {
          "base_uri": "https://localhost:8080/"
        },
        "collapsed": true,
        "outputId": "0795c333-403c-42da-d36e-96ddcc150b99"
      },
      "execution_count": 11,
      "outputs": [
        {
          "output_type": "stream",
          "name": "stdout",
          "text": [
            "EmployeeId  LastName  FirstName  Title                ReportsTo  BirthDate            HireDate             Address                      City        State  Country  PostalCode  Phone              Fax                Email                   \n",
            "----------  --------  ---------  -------------------  ---------  -------------------  -------------------  ---------------------------  ----------  -----  -------  ----------  -----------------  -----------------  ------------------------\n",
            "1           Adams     Andrew     General Manager                 1962-02-18 00:00:00  2002-08-14 00:00:00  11120 Jasper Ave NW          Edmonton    AB     Canada   T5K 2N1     +1 (780) 428-9482  +1 (780) 428-3457  andrew@chinookcorp.com  \n",
            "2           Edwards   Nancy      Sales Manager        1          1958-12-08 00:00:00  2002-05-01 00:00:00  825 8 Ave SW                 Calgary     AB     Canada   T2P 2T3     +1 (403) 262-3443  +1 (403) 262-3322  nancy@chinookcorp.com   \n",
            "3           Peacock   Jane       Sales Support Agent  2          1973-08-29 00:00:00  2002-04-01 00:00:00  1111 6 Ave SW                Calgary     AB     Canada   T2P 5M5     +1 (403) 262-3443  +1 (403) 262-6712  jane@chinookcorp.com    \n",
            "4           Park      Margaret   Sales Support Agent  2          1947-09-19 00:00:00  2003-05-03 00:00:00  683 10 Street SW             Calgary     AB     Canada   T2P 5G3     +1 (403) 263-4423  +1 (403) 263-4289  margaret@chinookcorp.com\n",
            "5           Johnson   Steve      Sales Support Agent  2          1965-03-03 00:00:00  2003-10-17 00:00:00  7727B 41 Ave                 Calgary     AB     Canada   T3B 1Y7     1 (780) 836-9987   1 (780) 836-9543   steve@chinookcorp.com   \n",
            "6           Mitchell  Michael    IT Manager           1          1973-07-01 00:00:00  2003-10-17 00:00:00  5827 Bowness Road NW         Calgary     AB     Canada   T3B 0C5     +1 (403) 246-9887  +1 (403) 246-9899  michael@chinookcorp.com \n",
            "7           King      Robert     IT Staff             6          1970-05-29 00:00:00  2004-01-02 00:00:00  590 Columbia Boulevard West  Lethbridge  AB     Canada   T1K 5N8     +1 (403) 456-9986  +1 (403) 456-8485  robert@chinookcorp.com  \n",
            "8           Callahan  Laura      IT Staff             6          1968-01-09 00:00:00  2004-03-04 00:00:00  923 7 ST NW                  Lethbridge  AB     Canada   T1H 1Y8     +1 (403) 467-3351  +1 (403) 467-8772  laura@chinookcorp.com   \n"
          ]
        }
      ]
    },
    {
      "cell_type": "code",
      "source": [
        "# RETURN all customer info\n",
        "\n",
        "%%script sqlite3 --column --header chinook.db\n",
        "select *\n",
        "from customers"
      ],
      "metadata": {
        "colab": {
          "base_uri": "https://localhost:8080/"
        },
        "collapsed": true,
        "id": "Z9grur8Ax0_G",
        "outputId": "602c873e-a4ec-4fec-ae3d-be137efa1257"
      },
      "execution_count": 12,
      "outputs": [
        {
          "output_type": "stream",
          "name": "stdout",
          "text": [
            "CustomerId  FirstName  LastName      Company                                           Address                                   City                 State   Country         PostalCode  Phone                Fax                 Email                          SupportRepId\n",
            "----------  ---------  ------------  ------------------------------------------------  ----------------------------------------  -------------------  ------  --------------  ----------  -------------------  ------------------  -----------------------------  ------------\n",
            "1           Luís       Gonçalves     Embraer - Empresa Brasileira de Aeronáutica S.A.  Av. Brigadeiro Faria Lima, 2170           São José dos Campos  SP      Brazil          12227-000   +55 (12) 3923-5555   +55 (12) 3923-5566  luisg@embraer.com.br           3           \n",
            "2           Leonie     Köhler                                                          Theodor-Heuss-Straße 34                   Stuttgart                    Germany         70174       +49 0711 2842222                         leonekohler@surfeu.de          5           \n",
            "3           François   Tremblay                                                        1498 rue Bélanger                         Montréal             QC      Canada          H2G 1A7     +1 (514) 721-4711                        ftremblay@gmail.com            3           \n",
            "4           Bjørn      Hansen                                                          Ullevålsveien 14                          Oslo                         Norway          0171        +47 22 44 22 22                          bjorn.hansen@yahoo.no          4           \n",
            "5           František  Wichterlová   JetBrains s.r.o.                                  Klanova 9/506                             Prague                       Czech Republic  14700       +420 2 4172 5555     +420 2 4172 5555    frantisekw@jetbrains.com       4           \n",
            "6           Helena     Holý                                                            Rilská 3174/6                             Prague                       Czech Republic  14300       +420 2 4177 0449                         hholy@gmail.com                5           \n",
            "7           Astrid     Gruber                                                          Rotenturmstraße 4, 1010 Innere Stadt      Vienne                       Austria         1010        +43 01 5134505                           astrid.gruber@apple.at         5           \n",
            "8           Daan       Peeters                                                         Grétrystraat 63                           Brussels                     Belgium         1000        +32 02 219 03 03                         daan_peeters@apple.be          4           \n",
            "9           Kara       Nielsen                                                         Sønder Boulevard 51                       Copenhagen                   Denmark         1720        +453 3331 9991                           kara.nielsen@jubii.dk          4           \n",
            "10          Eduardo    Martins       Woodstock Discos                                  Rua Dr. Falcão Filho, 155                 São Paulo            SP      Brazil          01007-010   +55 (11) 3033-5446   +55 (11) 3033-4564  eduardo@woodstock.com.br       4           \n",
            "11          Alexandre  Rocha         Banco do Brasil S.A.                              Av. Paulista, 2022                        São Paulo            SP      Brazil          01310-200   +55 (11) 3055-3278   +55 (11) 3055-8131  alero@uol.com.br               5           \n",
            "12          Roberto    Almeida       Riotur                                            Praça Pio X, 119                          Rio de Janeiro       RJ      Brazil          20040-020   +55 (21) 2271-7000   +55 (21) 2271-7070  roberto.almeida@riotur.gov.br  3           \n",
            "13          Fernanda   Ramos                                                           Qe 7 Bloco G                              Brasília             DF      Brazil          71020-677   +55 (61) 3363-5547   +55 (61) 3363-7855  fernadaramos4@uol.com.br       4           \n",
            "14          Mark       Philips       Telus                                             8210 111 ST NW                            Edmonton             AB      Canada          T6G 2C7     +1 (780) 434-4554    +1 (780) 434-5565   mphilips12@shaw.ca             5           \n",
            "15          Jennifer   Peterson      Rogers Canada                                     700 W Pender Street                       Vancouver            BC      Canada          V6C 1G8     +1 (604) 688-2255    +1 (604) 688-8756   jenniferp@rogers.ca            3           \n",
            "16          Frank      Harris        Google Inc.                                       1600 Amphitheatre Parkway                 Mountain View        CA      USA             94043-1351  +1 (650) 253-0000    +1 (650) 253-0000   fharris@google.com             4           \n",
            "17          Jack       Smith         Microsoft Corporation                             1 Microsoft Way                           Redmond              WA      USA             98052-8300  +1 (425) 882-8080    +1 (425) 882-8081   jacksmith@microsoft.com        5           \n",
            "18          Michelle   Brooks                                                          627 Broadway                              New York             NY      USA             10012-2612  +1 (212) 221-3546    +1 (212) 221-4679   michelleb@aol.com              3           \n",
            "19          Tim        Goyer         Apple Inc.                                        1 Infinite Loop                           Cupertino            CA      USA             95014       +1 (408) 996-1010    +1 (408) 996-1011   tgoyer@apple.com               3           \n",
            "20          Dan        Miller                                                          541 Del Medio Avenue                      Mountain View        CA      USA             94040-111   +1 (650) 644-3358                        dmiller@comcast.com            4           \n",
            "21          Kathy      Chase                                                           801 W 4th Street                          Reno                 NV      USA             89503       +1 (775) 223-7665                        kachase@hotmail.com            5           \n",
            "22          Heather    Leacock                                                         120 S Orange Ave                          Orlando              FL      USA             32801       +1 (407) 999-7788                        hleacock@gmail.com             4           \n",
            "23          John       Gordon                                                          69 Salem Street                           Boston               MA      USA             2113        +1 (617) 522-1333                        johngordon22@yahoo.com         4           \n",
            "24          Frank      Ralston                                                         162 E Superior Street                     Chicago              IL      USA             60611       +1 (312) 332-3232                        fralston@gmail.com             3           \n",
            "25          Victor     Stevens                                                         319 N. Frances Street                     Madison              WI      USA             53703       +1 (608) 257-0597                        vstevens@yahoo.com             5           \n",
            "26          Richard    Cunningham                                                      2211 W Berry Street                       Fort Worth           TX      USA             76110       +1 (817) 924-7272                        ricunningham@hotmail.com       4           \n",
            "27          Patrick    Gray                                                            1033 N Park Ave                           Tucson               AZ      USA             85719       +1 (520) 622-4200                        patrick.gray@aol.com           4           \n",
            "28          Julia      Barnett                                                         302 S 700 E                               Salt Lake City       UT      USA             84102       +1 (801) 531-7272                        jubarnett@gmail.com            5           \n",
            "29          Robert     Brown                                                           796 Dundas Street West                    Toronto              ON      Canada          M6J 1V1     +1 (416) 363-8888                        robbrown@shaw.ca               3           \n",
            "30          Edward     Francis                                                         230 Elgin Street                          Ottawa               ON      Canada          K2P 1L7     +1 (613) 234-3322                        edfrancis@yachoo.ca            3           \n",
            "31          Martha     Silk                                                            194A Chain Lake Drive                     Halifax              NS      Canada          B3S 1C5     +1 (902) 450-0450                        marthasilk@gmail.com           5           \n",
            "32          Aaron      Mitchell                                                        696 Osborne Street                        Winnipeg             MB      Canada          R3L 2B9     +1 (204) 452-6452                        aaronmitchell@yahoo.ca         4           \n",
            "33          Ellie      Sullivan                                                        5112 48 Street                            Yellowknife          NT      Canada          X1A 1N6     +1 (867) 920-2233                        ellie.sullivan@shaw.ca         3           \n",
            "34          João       Fernandes                                                       Rua da Assunção 53                        Lisbon                       Portugal                    +351 (213) 466-111                       jfernandes@yahoo.pt            4           \n",
            "35          Madalena   Sampaio                                                         Rua dos Campeões Europeus de Viena, 4350  Porto                        Portugal                    +351 (225) 022-448                       masampaio@sapo.pt              4           \n",
            "36          Hannah     Schneider                                                       Tauentzienstraße 8                        Berlin                       Germany         10789       +49 030 26550280                         hannah.schneider@yahoo.de      5           \n",
            "37          Fynn       Zimmermann                                                      Berger Straße 10                          Frankfurt                    Germany         60316       +49 069 40598889                         fzimmermann@yahoo.de           3           \n",
            "38          Niklas     Schröder                                                        Barbarossastraße 19                       Berlin                       Germany         10779       +49 030 2141444                          nschroder@surfeu.de            3           \n",
            "39          Camille    Bernard                                                         4, Rue Milton                             Paris                        France          75009       +33 01 49 70 65 65                       camille.bernard@yahoo.fr       4           \n",
            "40          Dominique  Lefebvre                                                        8, Rue Hanovre                            Paris                        France          75002       +33 01 47 42 71 71                       dominiquelefebvre@gmail.com    4           \n",
            "41          Marc       Dubois                                                          11, Place Bellecour                       Lyon                         France          69002       +33 04 78 30 30 30                       marc.dubois@hotmail.com        5           \n",
            "42          Wyatt      Girard                                                          9, Place Louis Barthou                    Bordeaux                     France          33000       +33 05 56 96 96 96                       wyatt.girard@yahoo.fr          3           \n",
            "43          Isabelle   Mercier                                                         68, Rue Jouvence                          Dijon                        France          21000       +33 03 80 73 66 99                       isabelle_mercier@apple.fr      3           \n",
            "44          Terhi      Hämäläinen                                                      Porthaninkatu 9                           Helsinki                     Finland         00530       +358 09 870 2000                         terhi.hamalainen@apple.fi      3           \n",
            "45          Ladislav   Kovács                                                          Erzsébet krt. 58.                         Budapest                     Hungary         H-1073                                               ladislav_kovacs@apple.hu       3           \n",
            "46          Hugh       O'Reilly                                                        3 Chatham Street                          Dublin               Dublin  Ireland                     +353 01 6792424                          hughoreilly@apple.ie           3           \n",
            "47          Lucas      Mancini                                                         Via Degli Scipioni, 43                    Rome                 RM      Italy           00192       +39 06 39733434                          lucas.mancini@yahoo.it         5           \n",
            "48          Johannes   Van der Berg                                                    Lijnbaansgracht 120bg                     Amsterdam            VV      Netherlands     1016        +31 020 6223130                          johavanderberg@yahoo.nl        5           \n",
            "49          Stanisław  Wójcik                                                          Ordynacka 10                              Warsaw                       Poland          00-358      +48 22 828 37 39                         stanisław.wójcik@wp.pl         4           \n",
            "50          Enrique    Muñoz                                                           C/ San Bernardo 85                        Madrid                       Spain           28015       +34 914 454 454                          enrique_munoz@yahoo.es         5           \n",
            "51          Joakim     Johansson                                                       Celsiusg. 9                               Stockholm                    Sweden          11230       +46 08-651 52 52                         joakim.johansson@yahoo.se      5           \n",
            "52          Emma       Jones                                                           202 Hoxton Street                         London                       United Kingdom  N1 5LH      +44 020 7707 0707                        emma_jones@hotmail.com         3           \n",
            "53          Phil       Hughes                                                          113 Lupus St                              London                       United Kingdom  SW1V 3EN    +44 020 7976 5722                        phil.hughes@gmail.com          3           \n",
            "54          Steve      Murray                                                          110 Raeburn Pl                            Edinburgh                    United Kingdom  EH4 1HH     +44 0131 315 3300                        steve.murray@yahoo.uk          5           \n",
            "55          Mark       Taylor                                                          421 Bourke Street                         Sidney               NSW     Australia       2010        +61 (02) 9332 3633                       mark.taylor@yahoo.au           4           \n",
            "56          Diego      Gutiérrez                                                       307 Macacha Güemes                        Buenos Aires                 Argentina       1106        +54 (0)11 4311 4333                      diego.gutierrez@yahoo.ar       4           \n",
            "57          Luis       Rojas                                                           Calle Lira, 198                           Santiago                     Chile                       +56 (0)2 635 4444                        luisrojas@yahoo.cl             5           \n",
            "58          Manoj      Pareek                                                          12,Community Centre                       Delhi                        India           110017      +91 0124 39883988                        manoj.pareek@rediff.com        3           \n",
            "59          Puja       Srivastava                                                      3,Raj Bhavan Road                         Bangalore                    India           560001      +91 080 22289999                         puja_srivastava@yahoo.in       3           \n"
          ]
        }
      ]
    },
    {
      "cell_type": "code",
      "source": [
        "# RETURN all employee info from only the specific column names 'EmployeeID..'\n",
        "\n",
        "%%script sqlite3 --column --header chinook.db\n",
        "\n",
        "select EmployeeId, LastName, FirstName, Title, ReportsTo\n",
        "from employees"
      ],
      "metadata": {
        "colab": {
          "base_uri": "https://localhost:8080/"
        },
        "collapsed": true,
        "id": "XBcpTDh7isNG",
        "outputId": "06459dce-baf1-491c-d6cc-22cc840ddc0e"
      },
      "execution_count": 13,
      "outputs": [
        {
          "output_type": "stream",
          "name": "stdout",
          "text": [
            "EmployeeId  LastName  FirstName  Title                ReportsTo\n",
            "----------  --------  ---------  -------------------  ---------\n",
            "1           Adams     Andrew     General Manager               \n",
            "2           Edwards   Nancy      Sales Manager        1        \n",
            "3           Peacock   Jane       Sales Support Agent  2        \n",
            "4           Park      Margaret   Sales Support Agent  2        \n",
            "5           Johnson   Steve      Sales Support Agent  2        \n",
            "6           Mitchell  Michael    IT Manager           1        \n",
            "7           King      Robert     IT Staff             6        \n",
            "8           Callahan  Laura      IT Staff             6        \n"
          ]
        }
      ]
    },
    {
      "cell_type": "code",
      "source": [
        "# RETURN all customer info from only the specific column names 'CustomerID...'\n",
        "\n",
        "%%script sqlite3 --column --header chinook.db\n",
        "select CustomerID, FirstName, LastName, SupportRepID\n",
        "from customers"
      ],
      "metadata": {
        "colab": {
          "base_uri": "https://localhost:8080/"
        },
        "collapsed": true,
        "id": "Iy64nCG_kmJ6",
        "outputId": "eacd16b1-1966-4914-dcbc-9d2a94ed859e"
      },
      "execution_count": 14,
      "outputs": [
        {
          "output_type": "stream",
          "name": "stdout",
          "text": [
            "CustomerId  FirstName  LastName      SupportRepId\n",
            "----------  ---------  ------------  ------------\n",
            "1           Luís       Gonçalves     3           \n",
            "2           Leonie     Köhler        5           \n",
            "3           François   Tremblay      3           \n",
            "4           Bjørn      Hansen        4           \n",
            "5           František  Wichterlová   4           \n",
            "6           Helena     Holý          5           \n",
            "7           Astrid     Gruber        5           \n",
            "8           Daan       Peeters       4           \n",
            "9           Kara       Nielsen       4           \n",
            "10          Eduardo    Martins       4           \n",
            "11          Alexandre  Rocha         5           \n",
            "12          Roberto    Almeida       3           \n",
            "13          Fernanda   Ramos         4           \n",
            "14          Mark       Philips       5           \n",
            "15          Jennifer   Peterson      3           \n",
            "16          Frank      Harris        4           \n",
            "17          Jack       Smith         5           \n",
            "18          Michelle   Brooks        3           \n",
            "19          Tim        Goyer         3           \n",
            "20          Dan        Miller        4           \n",
            "21          Kathy      Chase         5           \n",
            "22          Heather    Leacock       4           \n",
            "23          John       Gordon        4           \n",
            "24          Frank      Ralston       3           \n",
            "25          Victor     Stevens       5           \n",
            "26          Richard    Cunningham    4           \n",
            "27          Patrick    Gray          4           \n",
            "28          Julia      Barnett       5           \n",
            "29          Robert     Brown         3           \n",
            "30          Edward     Francis       3           \n",
            "31          Martha     Silk          5           \n",
            "32          Aaron      Mitchell      4           \n",
            "33          Ellie      Sullivan      3           \n",
            "34          João       Fernandes     4           \n",
            "35          Madalena   Sampaio       4           \n",
            "36          Hannah     Schneider     5           \n",
            "37          Fynn       Zimmermann    3           \n",
            "38          Niklas     Schröder      3           \n",
            "39          Camille    Bernard       4           \n",
            "40          Dominique  Lefebvre      4           \n",
            "41          Marc       Dubois        5           \n",
            "42          Wyatt      Girard        3           \n",
            "43          Isabelle   Mercier       3           \n",
            "44          Terhi      Hämäläinen    3           \n",
            "45          Ladislav   Kovács        3           \n",
            "46          Hugh       O'Reilly      3           \n",
            "47          Lucas      Mancini       5           \n",
            "48          Johannes   Van der Berg  5           \n",
            "49          Stanisław  Wójcik        4           \n",
            "50          Enrique    Muñoz         5           \n",
            "51          Joakim     Johansson     5           \n",
            "52          Emma       Jones         3           \n",
            "53          Phil       Hughes        3           \n",
            "54          Steve      Murray        5           \n",
            "55          Mark       Taylor        4           \n",
            "56          Diego      Gutiérrez     4           \n",
            "57          Luis       Rojas         5           \n",
            "58          Manoj      Pareek        3           \n",
            "59          Puja       Srivastava    3           \n"
          ]
        }
      ]
    },
    {
      "cell_type": "markdown",
      "source": [
        "#### WHERE\n"
      ],
      "metadata": {
        "id": "dRvXfTGEtkdQ"
      }
    },
    {
      "cell_type": "code",
      "source": [
        "#RETURN list of all customers who have SupportRep 4\n",
        "\n",
        "%%script sqlite3 --column --header chinook.db\n",
        "SELECT * FROM customers\n",
        "WHERE SupportRepID = '4';"
      ],
      "metadata": {
        "colab": {
          "base_uri": "https://localhost:8080/"
        },
        "collapsed": true,
        "id": "9zVt3yQ65lbQ",
        "outputId": "792160dc-2e5b-485b-8c56-860bddf7e0a0"
      },
      "execution_count": 15,
      "outputs": [
        {
          "output_type": "stream",
          "name": "stdout",
          "text": [
            "CustomerId  FirstName  LastName     Company           Address                                   City           State  Country         PostalCode  Phone                Fax                 Email                        SupportRepId\n",
            "----------  ---------  -----------  ----------------  ----------------------------------------  -------------  -----  --------------  ----------  -------------------  ------------------  ---------------------------  ------------\n",
            "4           Bjørn      Hansen                         Ullevålsveien 14                          Oslo                  Norway          0171        +47 22 44 22 22                          bjorn.hansen@yahoo.no        4           \n",
            "5           František  Wichterlová  JetBrains s.r.o.  Klanova 9/506                             Prague                Czech Republic  14700       +420 2 4172 5555     +420 2 4172 5555    frantisekw@jetbrains.com     4           \n",
            "8           Daan       Peeters                        Grétrystraat 63                           Brussels              Belgium         1000        +32 02 219 03 03                         daan_peeters@apple.be        4           \n",
            "9           Kara       Nielsen                        Sønder Boulevard 51                       Copenhagen            Denmark         1720        +453 3331 9991                           kara.nielsen@jubii.dk        4           \n",
            "10          Eduardo    Martins      Woodstock Discos  Rua Dr. Falcão Filho, 155                 São Paulo      SP     Brazil          01007-010   +55 (11) 3033-5446   +55 (11) 3033-4564  eduardo@woodstock.com.br     4           \n",
            "13          Fernanda   Ramos                          Qe 7 Bloco G                              Brasília       DF     Brazil          71020-677   +55 (61) 3363-5547   +55 (61) 3363-7855  fernadaramos4@uol.com.br     4           \n",
            "16          Frank      Harris       Google Inc.       1600 Amphitheatre Parkway                 Mountain View  CA     USA             94043-1351  +1 (650) 253-0000    +1 (650) 253-0000   fharris@google.com           4           \n",
            "20          Dan        Miller                         541 Del Medio Avenue                      Mountain View  CA     USA             94040-111   +1 (650) 644-3358                        dmiller@comcast.com          4           \n",
            "22          Heather    Leacock                        120 S Orange Ave                          Orlando        FL     USA             32801       +1 (407) 999-7788                        hleacock@gmail.com           4           \n",
            "23          John       Gordon                         69 Salem Street                           Boston         MA     USA             2113        +1 (617) 522-1333                        johngordon22@yahoo.com       4           \n",
            "26          Richard    Cunningham                     2211 W Berry Street                       Fort Worth     TX     USA             76110       +1 (817) 924-7272                        ricunningham@hotmail.com     4           \n",
            "27          Patrick    Gray                           1033 N Park Ave                           Tucson         AZ     USA             85719       +1 (520) 622-4200                        patrick.gray@aol.com         4           \n",
            "32          Aaron      Mitchell                       696 Osborne Street                        Winnipeg       MB     Canada          R3L 2B9     +1 (204) 452-6452                        aaronmitchell@yahoo.ca       4           \n",
            "34          João       Fernandes                      Rua da Assunção 53                        Lisbon                Portugal                    +351 (213) 466-111                       jfernandes@yahoo.pt          4           \n",
            "35          Madalena   Sampaio                        Rua dos Campeões Europeus de Viena, 4350  Porto                 Portugal                    +351 (225) 022-448                       masampaio@sapo.pt            4           \n",
            "39          Camille    Bernard                        4, Rue Milton                             Paris                 France          75009       +33 01 49 70 65 65                       camille.bernard@yahoo.fr     4           \n",
            "40          Dominique  Lefebvre                       8, Rue Hanovre                            Paris                 France          75002       +33 01 47 42 71 71                       dominiquelefebvre@gmail.com  4           \n",
            "49          Stanisław  Wójcik                         Ordynacka 10                              Warsaw                Poland          00-358      +48 22 828 37 39                         stanisław.wójcik@wp.pl       4           \n",
            "55          Mark       Taylor                         421 Bourke Street                         Sidney         NSW    Australia       2010        +61 (02) 9332 3633                       mark.taylor@yahoo.au         4           \n",
            "56          Diego      Gutiérrez                      307 Macacha Güemes                        Buenos Aires          Argentina       1106        +54 (0)11 4311 4333                      diego.gutierrez@yahoo.ar     4           \n"
          ]
        }
      ]
    },
    {
      "cell_type": "markdown",
      "source": [
        "#### AND\n"
      ],
      "metadata": {
        "id": "u5y_3d4GtlqN"
      }
    },
    {
      "cell_type": "code",
      "source": [
        "#RETURN list of all customers from Denmark and have SupportRep 4\n",
        "\n",
        "%%script sqlite3 --column --header chinook.db\n",
        "SELECT *\n",
        "FROM customers\n",
        "WHERE country = 'Denmark'\n",
        "AND supportrepid= '4';"
      ],
      "metadata": {
        "id": "H1tgAAFtt_Yy",
        "colab": {
          "base_uri": "https://localhost:8080/"
        },
        "collapsed": true,
        "outputId": "bd0d2016-00aa-4307-c81b-38d8386c837e"
      },
      "execution_count": 16,
      "outputs": [
        {
          "output_type": "stream",
          "name": "stdout",
          "text": [
            "CustomerId  FirstName  LastName  Company  Address              City        State  Country  PostalCode  Phone           Fax  Email                  SupportRepId\n",
            "----------  ---------  --------  -------  -------------------  ----------  -----  -------  ----------  --------------  ---  ---------------------  ------------\n",
            "9           Kara       Nielsen            Sønder Boulevard 51  Copenhagen         Denmark  1720        +453 3331 9991       kara.nielsen@jubii.dk  4           \n"
          ]
        }
      ]
    },
    {
      "cell_type": "markdown",
      "source": [
        "#### OR\n"
      ],
      "metadata": {
        "id": "fddyzEAetnzB"
      }
    },
    {
      "cell_type": "code",
      "source": [
        "#RETURN list of all customers from Brussels or from Buenos Aires\n",
        "\n",
        "%%script sqlite3 --column --header chinook.db\n",
        "SELECT *\n",
        "FROM customers\n",
        "WHERE city = 'Brussels'\n",
        "OR city= 'Buenos Aires';"
      ],
      "metadata": {
        "id": "HAg8LDQ3t-yr",
        "colab": {
          "base_uri": "https://localhost:8080/"
        },
        "collapsed": true,
        "outputId": "99191531-6b91-4b99-88c6-38297827f8d6"
      },
      "execution_count": 17,
      "outputs": [
        {
          "output_type": "stream",
          "name": "stdout",
          "text": [
            "CustomerId  FirstName  LastName   Company  Address             City          State  Country    PostalCode  Phone                Fax  Email                     SupportRepId\n",
            "----------  ---------  ---------  -------  ------------------  ------------  -----  ---------  ----------  -------------------  ---  ------------------------  ------------\n",
            "8           Daan       Peeters             Grétrystraat 63     Brussels             Belgium    1000        +32 02 219 03 03          daan_peeters@apple.be     4           \n",
            "56          Diego      Gutiérrez           307 Macacha Güemes  Buenos Aires         Argentina  1106        +54 (0)11 4311 4333       diego.gutierrez@yahoo.ar  4           \n"
          ]
        }
      ]
    },
    {
      "cell_type": "markdown",
      "source": [
        "#### LIKE (with % or _ wildcard)\n"
      ],
      "metadata": {
        "id": "-csoeatGtpRq"
      }
    },
    {
      "cell_type": "code",
      "source": [
        "#RETURN all info from customers whose last names end with 'a'\n",
        "\n",
        "%%script sqlite3 --column --header chinook.db\n",
        "SELECT *\n",
        "FROM customers\n",
        "WHERE lastname LIKE '%a';\n"
      ],
      "metadata": {
        "id": "UB3EyaRRt9ki",
        "colab": {
          "base_uri": "https://localhost:8080/"
        },
        "collapsed": true,
        "outputId": "137e4e0c-bc19-4e29-be3a-9747a33f4f60"
      },
      "execution_count": 18,
      "outputs": [
        {
          "output_type": "stream",
          "name": "stdout",
          "text": [
            "CustomerId  FirstName  LastName    Company               Address             City            State  Country  PostalCode  Phone               Fax                 Email                          SupportRepId\n",
            "----------  ---------  ----------  --------------------  ------------------  --------------  -----  -------  ----------  ------------------  ------------------  -----------------------------  ------------\n",
            "11          Alexandre  Rocha       Banco do Brasil S.A.  Av. Paulista, 2022  São Paulo       SP     Brazil   01310-200   +55 (11) 3055-3278  +55 (11) 3055-8131  alero@uol.com.br               5           \n",
            "12          Roberto    Almeida     Riotur                Praça Pio X, 119    Rio de Janeiro  RJ     Brazil   20040-020   +55 (21) 2271-7000  +55 (21) 2271-7070  roberto.almeida@riotur.gov.br  3           \n",
            "59          Puja       Srivastava                        3,Raj Bhavan Road   Bangalore              India    560001      +91 080 22289999                        puja_srivastava@yahoo.in       3           \n"
          ]
        }
      ]
    },
    {
      "cell_type": "markdown",
      "source": [
        "#### BETWEEN\n"
      ],
      "metadata": {
        "id": "BV8kQ-9FtqGY"
      }
    },
    {
      "cell_type": "code",
      "source": [
        "#RETURN all info from invoices generated between Jan 1, 2013 and April 30, 2013\n",
        "\n",
        "%%script sqlite3 --column --header chinook.db\n",
        "SELECT *\n",
        "FROM invoices\n",
        "WHERE invoicedate BETWEEN '2013-01-01' AND '2013-04-30';"
      ],
      "metadata": {
        "id": "AAMkUyW6t9IR",
        "colab": {
          "base_uri": "https://localhost:8080/"
        },
        "outputId": "47ce2bba-59f8-4f93-dc13-074361144ec7"
      },
      "execution_count": 19,
      "outputs": [
        {
          "output_type": "stream",
          "name": "stdout",
          "text": [
            "InvoiceId  CustomerId  InvoiceDate          BillingAddress                            BillingCity     BillingState  BillingCountry  BillingPostalCode  Total\n",
            "---------  ----------  -------------------  ----------------------------------------  --------------  ------------  --------------  -----------------  -----\n",
            "333        30          2013-01-02 00:00:00  230 Elgin Street                          Ottawa          ON            Canada          K2P 1L7            8.91 \n",
            "334        39          2013-01-07 00:00:00  4, Rue Milton                             Paris                         France          75009              13.86\n",
            "335        53          2013-01-15 00:00:00  113 Lupus St                              London                        United Kingdom  SW1V 3EN           0.99 \n",
            "336        54          2013-01-28 00:00:00  110 Raeburn Pl                            Edinburgh                     United Kingdom  EH4 1HH            1.98 \n",
            "337        56          2013-01-28 00:00:00  307 Macacha Güemes                        Buenos Aires                  Argentina       1106               1.98 \n",
            "338        58          2013-01-29 00:00:00  12,Community Centre                       Delhi                         India           110017             3.96 \n",
            "339        3           2013-01-30 00:00:00  1498 rue Bélanger                         Montréal        QC            Canada          H2G 1A7            5.94 \n",
            "340        9           2013-02-02 00:00:00  Sønder Boulevard 51                       Copenhagen                    Denmark         1720               8.91 \n",
            "341        18          2013-02-07 00:00:00  627 Broadway                              New York        NY            USA             10012-2612         13.86\n",
            "342        32          2013-02-15 00:00:00  696 Osborne Street                        Winnipeg        MB            Canada          R3L 2B9            0.99 \n",
            "343        33          2013-02-28 00:00:00  5112 48 Street                            Yellowknife     NT            Canada          X1A 1N6            1.98 \n",
            "344        35          2013-02-28 00:00:00  Rua dos Campeões Europeus de Viena, 4350  Porto                         Portugal                           1.98 \n",
            "345        37          2013-03-01 00:00:00  Berger Straße 10                          Frankfurt                     Germany         60316              3.96 \n",
            "346        41          2013-03-02 00:00:00  11, Place Bellecour                       Lyon                          France          69002              5.94 \n",
            "347        47          2013-03-05 00:00:00  Via Degli Scipioni, 43                    Rome            RM            Italy           00192              8.91 \n",
            "348        56          2013-03-10 00:00:00  307 Macacha Güemes                        Buenos Aires                  Argentina       1106               13.86\n",
            "349        11          2013-03-18 00:00:00  Av. Paulista, 2022                        São Paulo       SP            Brazil          01310-200          0.99 \n",
            "350        12          2013-03-31 00:00:00  Praça Pio X, 119                          Rio de Janeiro  RJ            Brazil          20040-020          1.98 \n",
            "351        14          2013-03-31 00:00:00  8210 111 ST NW                            Edmonton        AB            Canada          T6G 2C7            1.98 \n",
            "352        16          2013-04-01 00:00:00  1600 Amphitheatre Parkway                 Mountain View   CA            USA             94043-1351         3.96 \n",
            "353        20          2013-04-02 00:00:00  541 Del Medio Avenue                      Mountain View   CA            USA             94040-111          5.94 \n",
            "354        26          2013-04-05 00:00:00  2211 W Berry Street                       Fort Worth      TX            USA             76110              8.91 \n",
            "355        35          2013-04-10 00:00:00  Rua dos Campeões Europeus de Viena, 4350  Porto                         Portugal                           13.86\n",
            "356        49          2013-04-18 00:00:00  Ordynacka 10                              Warsaw                        Poland          00-358             0.99 \n"
          ]
        }
      ]
    },
    {
      "cell_type": "markdown",
      "source": [
        "#### LIMIT\n",
        "\n"
      ],
      "metadata": {
        "id": "3BqrCUPBtqpX"
      }
    },
    {
      "cell_type": "code",
      "source": [
        "#RETURN all info on first 5 genres\n",
        "\n",
        "%%script sqlite3 --column --header chinook.db\n",
        "SELECT *\n",
        "FROM genres\n",
        "LIMIT 5;"
      ],
      "metadata": {
        "id": "CixJguOYuw49",
        "colab": {
          "base_uri": "https://localhost:8080/"
        },
        "outputId": "9b9340c9-5d71-4256-de59-f10b126deb6c"
      },
      "execution_count": 20,
      "outputs": [
        {
          "output_type": "stream",
          "name": "stdout",
          "text": [
            "GenreId  Name              \n",
            "-------  ------------------\n",
            "1        Rock              \n",
            "2        Jazz              \n",
            "3        Metal             \n",
            "4        Alternative & Punk\n",
            "5        Rock And Roll     \n"
          ]
        }
      ]
    },
    {
      "cell_type": "markdown",
      "source": [
        "### Sorting and Grouping\n"
      ],
      "metadata": {
        "id": "a4DtPW7ytrU7"
      }
    },
    {
      "cell_type": "markdown",
      "source": [
        "#### ORDER BY\n"
      ],
      "metadata": {
        "id": "SneUyw4Xtr-U"
      }
    },
    {
      "cell_type": "code",
      "source": [
        "#RETURN all data from table 'invoices' in sorted by the values in 'total' column\n",
        "\n",
        "%%script sqlite3 --column --header chinook.db\n",
        "SELECT *\n",
        "FROM invoices\n",
        "ORDER BY total\n",
        ";"
      ],
      "metadata": {
        "id": "29jQ-pBFt7uf",
        "colab": {
          "base_uri": "https://localhost:8080/"
        },
        "outputId": "b0dcc306-fc7f-4bbf-cfdf-31e94f282615"
      },
      "execution_count": 21,
      "outputs": [
        {
          "output_type": "stream",
          "name": "stdout",
          "text": [
            "InvoiceId  CustomerId  InvoiceDate          BillingAddress                            BillingCity          BillingState  BillingCountry  BillingPostalCode  Total\n",
            "---------  ----------  -------------------  ----------------------------------------  -------------------  ------------  --------------  -----------------  -----\n",
            "6          37          2009-01-19 00:00:00  Berger Straße 10                          Frankfurt                          Germany         60316              0.99 \n",
            "13         16          2009-02-19 00:00:00  1600 Amphitheatre Parkway                 Mountain View        CA            USA             94043-1351         0.99 \n",
            "20         54          2009-03-22 00:00:00  110 Raeburn Pl                            Edinburgh                          United Kingdom  EH4 1HH            0.99 \n",
            "27         33          2009-04-22 00:00:00  5112 48 Street                            Yellowknife          NT            Canada          X1A 1N6            0.99 \n",
            "34         12          2009-05-23 00:00:00  Praça Pio X, 119                          Rio de Janeiro       RJ            Brazil          20040-020          0.99 \n",
            "41         50          2009-06-23 00:00:00  C/ San Bernardo 85                        Madrid                             Spain           28015              0.99 \n",
            "48         29          2009-07-24 00:00:00  796 Dundas Street West                    Toronto              ON            Canada          M6J 1V1            0.99 \n",
            "55         8           2009-08-24 00:00:00  Grétrystraat 63                           Brussels                           Belgium         1000               0.99 \n",
            "62         46          2009-09-24 00:00:00  3 Chatham Street                          Dublin               Dublin        Ireland                            0.99 \n",
            "69         25          2009-10-25 00:00:00  319 N. Frances Street                     Madison              WI            USA             53703              0.99 \n",
            "76         4           2009-11-25 00:00:00  Ullevålsveien 14                          Oslo                               Norway          0171               0.99 \n",
            "83         42          2009-12-26 00:00:00  9, Place Louis Barthou                    Bordeaux                           France          33000              0.99 \n",
            "90         21          2010-01-26 00:00:00  801 W 4th Street                          Reno                 NV            USA             89503              0.99 \n",
            "104        38          2010-03-29 00:00:00  Barbarossastraße 19                       Berlin                             Germany         10779              0.99 \n",
            "111        17          2010-04-29 00:00:00  1 Microsoft Way                           Redmond              WA            USA             98052-8300         0.99 \n",
            "118        55          2010-05-30 00:00:00  421 Bourke Street                         Sidney               NSW           Australia       2010               0.99 \n",
            "125        34          2010-06-30 00:00:00  Rua da Assunção 53                        Lisbon                             Portugal                           0.99 \n",
            "132        13          2010-07-31 00:00:00  Qe 7 Bloco G                              Brasília             DF            Brazil          71020-677          0.99 \n",
            "139        51          2010-08-31 00:00:00  Celsiusg. 9                               Stockholm                          Sweden          11230              0.99 \n",
            "146        30          2010-10-01 00:00:00  230 Elgin Street                          Ottawa               ON            Canada          K2P 1L7            0.99 \n",
            "153        9           2010-11-01 00:00:00  Sønder Boulevard 51                       Copenhagen                         Denmark         1720               0.99 \n",
            "160        47          2010-12-02 00:00:00  Via Degli Scipioni, 43                    Rome                 RM            Italy           00192              0.99 \n",
            "167        26          2011-01-02 00:00:00  2211 W Berry Street                       Fort Worth           TX            USA             76110              0.99 \n",
            "174        5           2011-02-02 00:00:00  Klanova 9/506                             Prague                             Czech Republic  14700              0.99 \n",
            "181        43          2011-03-05 00:00:00  68, Rue Jouvence                          Dijon                              France          21000              0.99 \n",
            "188        22          2011-04-05 00:00:00  120 S Orange Ave                          Orlando              FL            USA             32801              0.99 \n",
            "195        1           2011-05-06 00:00:00  Av. Brigadeiro Faria Lima, 2170           São José dos Campos  SP            Brazil          12227-000          0.99 \n",
            "209        18          2011-07-07 00:00:00  627 Broadway                              New York             NY            USA             10012-2612         0.99 \n",
            "216        56          2011-08-07 00:00:00  307 Macacha Güemes                        Buenos Aires                       Argentina       1106               0.99 \n",
            "223        35          2011-09-07 00:00:00  Rua dos Campeões Europeus de Viena, 4350  Porto                              Portugal                           0.99 \n",
            "230        14          2011-10-08 00:00:00  8210 111 ST NW                            Edmonton             AB            Canada          T6G 2C7            0.99 \n",
            "237        52          2011-11-08 00:00:00  202 Hoxton Street                         London                             United Kingdom  N1 5LH             0.99 \n",
            "244        31          2011-12-09 00:00:00  194A Chain Lake Drive                     Halifax              NS            Canada          B3S 1C5            0.99 \n",
            "251        10          2012-01-09 00:00:00  Rua Dr. Falcão Filho, 155                 São Paulo            SP            Brazil          01007-010          0.99 \n",
            "258        48          2012-02-09 00:00:00  Lijnbaansgracht 120bg                     Amsterdam            VV            Netherlands     1016               0.99 \n",
            "265        27          2012-03-11 00:00:00  1033 N Park Ave                           Tucson               AZ            USA             85719              0.99 \n",
            "272        6           2012-04-11 00:00:00  Rilská 3174/6                             Prague                             Czech Republic  14300              0.99 \n",
            "279        44          2012-05-12 00:00:00  Porthaninkatu 9                           Helsinki                           Finland         00530              0.99 \n",
            "286        23          2012-06-12 00:00:00  69 Salem Street                           Boston               MA            USA             2113               0.99 \n",
            "293        2           2012-07-13 00:00:00  Theodor-Heuss-Straße 34                   Stuttgart                          Germany         70174              0.99 \n",
            "300        40          2012-08-13 00:00:00  8, Rue Hanovre                            Paris                              France          75002              0.99 \n",
            "314        57          2012-10-14 00:00:00  Calle Lira, 198                           Santiago                           Chile                              0.99 \n",
            "321        36          2012-11-14 00:00:00  Tauentzienstraße 8                        Berlin                             Germany         10789              0.99 \n",
            "328        15          2012-12-15 00:00:00  700 W Pender Street                       Vancouver            BC            Canada          V6C 1G8            0.99 \n",
            "335        53          2013-01-15 00:00:00  113 Lupus St                              London                             United Kingdom  SW1V 3EN           0.99 \n",
            "342        32          2013-02-15 00:00:00  696 Osborne Street                        Winnipeg             MB            Canada          R3L 2B9            0.99 \n",
            "349        11          2013-03-18 00:00:00  Av. Paulista, 2022                        São Paulo            SP            Brazil          01310-200          0.99 \n",
            "356        49          2013-04-18 00:00:00  Ordynacka 10                              Warsaw                             Poland          00-358             0.99 \n",
            "363        28          2013-05-19 00:00:00  302 S 700 E                               Salt Lake City       UT            USA             84102              0.99 \n",
            "370        7           2013-06-19 00:00:00  Rotenturmstraße 4, 1010 Innere Stadt      Vienne                             Austria         1010               0.99 \n",
            "377        45          2013-07-20 00:00:00  Erzsébet krt. 58.                         Budapest                           Hungary         H-1073             0.99 \n",
            "384        24          2013-08-20 00:00:00  162 E Superior Street                     Chicago              IL            USA             60611              0.99 \n",
            "391        3           2013-09-20 00:00:00  1498 rue Bélanger                         Montréal             QC            Canada          H2G 1A7            0.99 \n",
            "398        41          2013-10-21 00:00:00  11, Place Bellecour                       Lyon                               France          69002              0.99 \n",
            "405        20          2013-11-21 00:00:00  541 Del Medio Avenue                      Mountain View        CA            USA             94040-111          0.99 \n",
            "1          2           2009-01-01 00:00:00  Theodor-Heuss-Straße 34                   Stuttgart                          Germany         70174              1.98 \n",
            "7          38          2009-02-01 00:00:00  Barbarossastraße 19                       Berlin                             Germany         10779              1.98 \n",
            "8          40          2009-02-01 00:00:00  8, Rue Hanovre                            Paris                              France          75002              1.98 \n",
            "14         17          2009-03-04 00:00:00  1 Microsoft Way                           Redmond              WA            USA             98052-8300         1.98 \n",
            "15         19          2009-03-04 00:00:00  1 Infinite Loop                           Cupertino            CA            USA             95014              1.98 \n",
            "21         55          2009-04-04 00:00:00  421 Bourke Street                         Sidney               NSW           Australia       2010               1.98 \n",
            "22         57          2009-04-04 00:00:00  Calle Lira, 198                           Santiago                           Chile                              1.98 \n",
            "28         34          2009-05-05 00:00:00  Rua da Assunção 53                        Lisbon                             Portugal                           1.98 \n",
            "29         36          2009-05-05 00:00:00  Tauentzienstraße 8                        Berlin                             Germany         10789              1.98 \n",
            "35         13          2009-06-05 00:00:00  Qe 7 Bloco G                              Brasília             DF            Brazil          71020-677          1.98 \n",
            "36         15          2009-06-05 00:00:00  700 W Pender Street                       Vancouver            BC            Canada          V6C 1G8            1.98 \n",
            "42         51          2009-07-06 00:00:00  Celsiusg. 9                               Stockholm                          Sweden          11230              1.98 \n",
            "43         53          2009-07-06 00:00:00  113 Lupus St                              London                             United Kingdom  SW1V 3EN           1.98 \n",
            "49         30          2009-08-06 00:00:00  230 Elgin Street                          Ottawa               ON            Canada          K2P 1L7            1.98 \n",
            "50         32          2009-08-06 00:00:00  696 Osborne Street                        Winnipeg             MB            Canada          R3L 2B9            1.98 \n",
            "56         9           2009-09-06 00:00:00  Sønder Boulevard 51                       Copenhagen                         Denmark         1720               1.98 \n",
            "57         11          2009-09-06 00:00:00  Av. Paulista, 2022                        São Paulo            SP            Brazil          01310-200          1.98 \n",
            "63         47          2009-10-07 00:00:00  Via Degli Scipioni, 43                    Rome                 RM            Italy           00192              1.98 \n",
            "64         49          2009-10-07 00:00:00  Ordynacka 10                              Warsaw                             Poland          00-358             1.98 \n",
            "70         26          2009-11-07 00:00:00  2211 W Berry Street                       Fort Worth           TX            USA             76110              1.98 \n",
            "71         28          2009-11-07 00:00:00  302 S 700 E                               Salt Lake City       UT            USA             84102              1.98 \n",
            "77         5           2009-12-08 00:00:00  Klanova 9/506                             Prague                             Czech Republic  14700              1.98 \n",
            "78         7           2009-12-08 00:00:00  Rotenturmstraße 4, 1010 Innere Stadt      Vienne                             Austria         1010               1.98 \n",
            "84         43          2010-01-08 00:00:00  68, Rue Jouvence                          Dijon                              France          21000              1.98 \n",
            "85         45          2010-01-08 00:00:00  Erzsébet krt. 58.                         Budapest                           Hungary         H-1073             1.98 \n",
            "91         22          2010-02-08 00:00:00  120 S Orange Ave                          Orlando              FL            USA             32801              1.98 \n",
            "92         24          2010-02-08 00:00:00  162 E Superior Street                     Chicago              IL            USA             60611              1.98 \n",
            "105        39          2010-04-11 00:00:00  4, Rue Milton                             Paris                              France          75009              1.98 \n",
            "106        41          2010-04-11 00:00:00  11, Place Bellecour                       Lyon                               France          69002              1.98 \n",
            "112        18          2010-05-12 00:00:00  627 Broadway                              New York             NY            USA             10012-2612         1.98 \n",
            "113        20          2010-05-12 00:00:00  541 Del Medio Avenue                      Mountain View        CA            USA             94040-111          1.98 \n",
            "119        56          2010-06-12 00:00:00  307 Macacha Güemes                        Buenos Aires                       Argentina       1106               1.98 \n",
            "120        58          2010-06-12 00:00:00  12,Community Centre                       Delhi                              India           110017             1.98 \n",
            "126        35          2010-07-13 00:00:00  Rua dos Campeões Europeus de Viena, 4350  Porto                              Portugal                           1.98 \n",
            "127        37          2010-07-13 00:00:00  Berger Straße 10                          Frankfurt                          Germany         60316              1.98 \n",
            "133        14          2010-08-13 00:00:00  8210 111 ST NW                            Edmonton             AB            Canada          T6G 2C7            1.98 \n",
            "134        16          2010-08-13 00:00:00  1600 Amphitheatre Parkway                 Mountain View        CA            USA             94043-1351         1.98 \n",
            "140        52          2010-09-13 00:00:00  202 Hoxton Street                         London                             United Kingdom  N1 5LH             1.98 \n",
            "141        54          2010-09-13 00:00:00  110 Raeburn Pl                            Edinburgh                          United Kingdom  EH4 1HH            1.98 \n",
            "147        31          2010-10-14 00:00:00  194A Chain Lake Drive                     Halifax              NS            Canada          B3S 1C5            1.98 \n",
            "148        33          2010-10-14 00:00:00  5112 48 Street                            Yellowknife          NT            Canada          X1A 1N6            1.98 \n",
            "154        10          2010-11-14 00:00:00  Rua Dr. Falcão Filho, 155                 São Paulo            SP            Brazil          01007-010          1.98 \n",
            "155        12          2010-11-14 00:00:00  Praça Pio X, 119                          Rio de Janeiro       RJ            Brazil          20040-020          1.98 \n",
            "161        48          2010-12-15 00:00:00  Lijnbaansgracht 120bg                     Amsterdam            VV            Netherlands     1016               1.98 \n",
            "162        50          2010-12-15 00:00:00  C/ San Bernardo 85                        Madrid                             Spain           28015              1.98 \n",
            "168        27          2011-01-15 00:00:00  1033 N Park Ave                           Tucson               AZ            USA             85719              1.98 \n",
            "169        29          2011-01-15 00:00:00  796 Dundas Street West                    Toronto              ON            Canada          M6J 1V1            1.98 \n",
            "175        6           2011-02-15 00:00:00  Rilská 3174/6                             Prague                             Czech Republic  14300              1.98 \n",
            "176        8           2011-02-15 00:00:00  Grétrystraat 63                           Brussels                           Belgium         1000               1.98 \n",
            "182        44          2011-03-18 00:00:00  Porthaninkatu 9                           Helsinki                           Finland         00530              1.98 \n",
            "183        46          2011-03-18 00:00:00  3 Chatham Street                          Dublin               Dublin        Ireland                            1.98 \n",
            "189        23          2011-04-18 00:00:00  69 Salem Street                           Boston               MA            USA             2113               1.98 \n",
            "190        25          2011-04-18 00:00:00  319 N. Frances Street                     Madison              WI            USA             53703              1.98 \n",
            "196        2           2011-05-19 00:00:00  Theodor-Heuss-Straße 34                   Stuttgart                          Germany         70174              1.98 \n",
            "197        4           2011-05-19 00:00:00  Ullevålsveien 14                          Oslo                               Norway          0171               1.98 \n",
            "210        19          2011-07-20 00:00:00  1 Infinite Loop                           Cupertino            CA            USA             95014              1.98 \n",
            "211        21          2011-07-20 00:00:00  801 W 4th Street                          Reno                 NV            USA             89503              1.98 \n",
            "217        57          2011-08-20 00:00:00  Calle Lira, 198                           Santiago                           Chile                              1.98 \n",
            "218        59          2011-08-20 00:00:00  3,Raj Bhavan Road                         Bangalore                          India           560001             1.98 \n",
            "224        36          2011-09-20 00:00:00  Tauentzienstraße 8                        Berlin                             Germany         10789              1.98 \n",
            "225        38          2011-09-20 00:00:00  Barbarossastraße 19                       Berlin                             Germany         10779              1.98 \n",
            "231        15          2011-10-21 00:00:00  700 W Pender Street                       Vancouver            BC            Canada          V6C 1G8            1.98 \n",
            "232        17          2011-10-21 00:00:00  1 Microsoft Way                           Redmond              WA            USA             98052-8300         1.98 \n",
            "238        53          2011-11-21 00:00:00  113 Lupus St                              London                             United Kingdom  SW1V 3EN           1.98 \n",
            "239        55          2011-11-21 00:00:00  421 Bourke Street                         Sidney               NSW           Australia       2010               1.98 \n",
            "245        32          2011-12-22 00:00:00  696 Osborne Street                        Winnipeg             MB            Canada          R3L 2B9            1.98 \n",
            "246        34          2011-12-22 00:00:00  Rua da Assunção 53                        Lisbon                             Portugal                           1.98 \n",
            "252        11          2012-01-22 00:00:00  Av. Paulista, 2022                        São Paulo            SP            Brazil          01310-200          1.98 \n",
            "253        13          2012-01-22 00:00:00  Qe 7 Bloco G                              Brasília             DF            Brazil          71020-677          1.98 \n",
            "259        49          2012-02-22 00:00:00  Ordynacka 10                              Warsaw                             Poland          00-358             1.98 \n",
            "260        51          2012-02-22 00:00:00  Celsiusg. 9                               Stockholm                          Sweden          11230              1.98 \n",
            "266        28          2012-03-24 00:00:00  302 S 700 E                               Salt Lake City       UT            USA             84102              1.98 \n",
            "267        30          2012-03-24 00:00:00  230 Elgin Street                          Ottawa               ON            Canada          K2P 1L7            1.98 \n",
            "273        7           2012-04-24 00:00:00  Rotenturmstraße 4, 1010 Innere Stadt      Vienne                             Austria         1010               1.98 \n",
            "274        9           2012-04-24 00:00:00  Sønder Boulevard 51                       Copenhagen                         Denmark         1720               1.98 \n",
            "280        45          2012-05-25 00:00:00  Erzsébet krt. 58.                         Budapest                           Hungary         H-1073             1.98 \n",
            "281        47          2012-05-25 00:00:00  Via Degli Scipioni, 43                    Rome                 RM            Italy           00192              1.98 \n",
            "287        24          2012-06-25 00:00:00  162 E Superior Street                     Chicago              IL            USA             60611              1.98 \n",
            "288        26          2012-06-25 00:00:00  2211 W Berry Street                       Fort Worth           TX            USA             76110              1.98 \n",
            "294        3           2012-07-26 00:00:00  1498 rue Bélanger                         Montréal             QC            Canada          H2G 1A7            1.98 \n",
            "295        5           2012-07-26 00:00:00  Klanova 9/506                             Prague                             Czech Republic  14700              1.98 \n",
            "301        41          2012-08-26 00:00:00  11, Place Bellecour                       Lyon                               France          69002              1.98 \n",
            "302        43          2012-08-26 00:00:00  68, Rue Jouvence                          Dijon                              France          21000              1.98 \n",
            "315        58          2012-10-27 00:00:00  12,Community Centre                       Delhi                              India           110017             1.98 \n",
            "316        1           2012-10-27 00:00:00  Av. Brigadeiro Faria Lima, 2170           São José dos Campos  SP            Brazil          12227-000          1.98 \n",
            "322        37          2012-11-27 00:00:00  Berger Straße 10                          Frankfurt                          Germany         60316              1.98 \n",
            "323        39          2012-11-27 00:00:00  4, Rue Milton                             Paris                              France          75009              1.98 \n",
            "329        16          2012-12-28 00:00:00  1600 Amphitheatre Parkway                 Mountain View        CA            USA             94043-1351         1.98 \n",
            "330        18          2012-12-28 00:00:00  627 Broadway                              New York             NY            USA             10012-2612         1.98 \n",
            "336        54          2013-01-28 00:00:00  110 Raeburn Pl                            Edinburgh                          United Kingdom  EH4 1HH            1.98 \n",
            "337        56          2013-01-28 00:00:00  307 Macacha Güemes                        Buenos Aires                       Argentina       1106               1.98 \n",
            "343        33          2013-02-28 00:00:00  5112 48 Street                            Yellowknife          NT            Canada          X1A 1N6            1.98 \n",
            "344        35          2013-02-28 00:00:00  Rua dos Campeões Europeus de Viena, 4350  Porto                              Portugal                           1.98 \n",
            "350        12          2013-03-31 00:00:00  Praça Pio X, 119                          Rio de Janeiro       RJ            Brazil          20040-020          1.98 \n",
            "351        14          2013-03-31 00:00:00  8210 111 ST NW                            Edmonton             AB            Canada          T6G 2C7            1.98 \n",
            "357        50          2013-05-01 00:00:00  C/ San Bernardo 85                        Madrid                             Spain           28015              1.98 \n",
            "358        52          2013-05-01 00:00:00  202 Hoxton Street                         London                             United Kingdom  N1 5LH             1.98 \n",
            "364        29          2013-06-01 00:00:00  796 Dundas Street West                    Toronto              ON            Canada          M6J 1V1            1.98 \n",
            "365        31          2013-06-01 00:00:00  194A Chain Lake Drive                     Halifax              NS            Canada          B3S 1C5            1.98 \n",
            "371        8           2013-07-02 00:00:00  Grétrystraat 63                           Brussels                           Belgium         1000               1.98 \n",
            "372        10          2013-07-02 00:00:00  Rua Dr. Falcão Filho, 155                 São Paulo            SP            Brazil          01007-010          1.98 \n",
            "378        46          2013-08-02 00:00:00  3 Chatham Street                          Dublin               Dublin        Ireland                            1.98 \n",
            "379        48          2013-08-02 00:00:00  Lijnbaansgracht 120bg                     Amsterdam            VV            Netherlands     1016               1.98 \n",
            "385        25          2013-09-02 00:00:00  319 N. Frances Street                     Madison              WI            USA             53703              1.98 \n",
            "386        27          2013-09-02 00:00:00  1033 N Park Ave                           Tucson               AZ            USA             85719              1.98 \n",
            "392        4           2013-10-03 00:00:00  Ullevålsveien 14                          Oslo                               Norway          0171               1.98 \n",
            "393        6           2013-10-03 00:00:00  Rilská 3174/6                             Prague                             Czech Republic  14300              1.98 \n",
            "399        42          2013-11-03 00:00:00  9, Place Louis Barthou                    Bordeaux                           France          33000              1.98 \n",
            "400        44          2013-11-03 00:00:00  Porthaninkatu 9                           Helsinki                           Finland         00530              1.98 \n",
            "406        21          2013-12-04 00:00:00  801 W 4th Street                          Reno                 NV            USA             89503              1.98 \n",
            "407        23          2013-12-04 00:00:00  69 Salem Street                           Boston               MA            USA             2113               1.98 \n",
            "97         59          2010-02-26 00:00:00  3,Raj Bhavan Road                         Bangalore                          India           560001             1.99 \n",
            "202        39          2011-06-06 00:00:00  4, Rue Milton                             Paris                              France          75009              1.99 \n",
            "307        19          2012-09-13 00:00:00  1 Infinite Loop                           Cupertino            CA            USA             95014              1.99 \n",
            "412        58          2013-12-22 00:00:00  12,Community Centre                       Delhi                              India           110017             1.99 \n",
            "203        40          2011-06-19 00:00:00  8, Rue Hanovre                            Paris                              France          75002              2.98 \n",
            "2          4           2009-01-02 00:00:00  Ullevålsveien 14                          Oslo                               Norway          0171               3.96 \n",
            "9          42          2009-02-02 00:00:00  9, Place Louis Barthou                    Bordeaux                           France          33000              3.96 \n",
            "16         21          2009-03-05 00:00:00  801 W 4th Street                          Reno                 NV            USA             89503              3.96 \n",
            "23         59          2009-04-05 00:00:00  3,Raj Bhavan Road                         Bangalore                          India           560001             3.96 \n",
            "30         38          2009-05-06 00:00:00  Barbarossastraße 19                       Berlin                             Germany         10779              3.96 \n",
            "37         17          2009-06-06 00:00:00  1 Microsoft Way                           Redmond              WA            USA             98052-8300         3.96 \n",
            "44         55          2009-07-07 00:00:00  421 Bourke Street                         Sidney               NSW           Australia       2010               3.96 \n",
            "51         34          2009-08-07 00:00:00  Rua da Assunção 53                        Lisbon                             Portugal                           3.96 \n",
            "58         13          2009-09-07 00:00:00  Qe 7 Bloco G                              Brasília             DF            Brazil          71020-677          3.96 \n",
            "65         51          2009-10-08 00:00:00  Celsiusg. 9                               Stockholm                          Sweden          11230              3.96 \n",
            "72         30          2009-11-08 00:00:00  230 Elgin Street                          Ottawa               ON            Canada          K2P 1L7            3.96 \n",
            "79         9           2009-12-09 00:00:00  Sønder Boulevard 51                       Copenhagen                         Denmark         1720               3.96 \n",
            "86         47          2010-01-09 00:00:00  Via Degli Scipioni, 43                    Rome                 RM            Italy           00192              3.96 \n",
            "93         26          2010-02-09 00:00:00  2211 W Berry Street                       Fort Worth           TX            USA             76110              3.96 \n",
            "100        5           2010-03-12 00:00:00  Klanova 9/506                             Prague                             Czech Republic  14700              3.96 \n",
            "107        43          2010-04-12 00:00:00  68, Rue Jouvence                          Dijon                              France          21000              3.96 \n",
            "114        22          2010-05-13 00:00:00  120 S Orange Ave                          Orlando              FL            USA             32801              3.96 \n",
            "121        1           2010-06-13 00:00:00  Av. Brigadeiro Faria Lima, 2170           São José dos Campos  SP            Brazil          12227-000          3.96 \n",
            "128        39          2010-07-14 00:00:00  4, Rue Milton                             Paris                              France          75009              3.96 \n",
            "135        18          2010-08-14 00:00:00  627 Broadway                              New York             NY            USA             10012-2612         3.96 \n",
            "142        56          2010-09-14 00:00:00  307 Macacha Güemes                        Buenos Aires                       Argentina       1106               3.96 \n",
            "149        35          2010-10-15 00:00:00  Rua dos Campeões Europeus de Viena, 4350  Porto                              Portugal                           3.96 \n",
            "156        14          2010-11-15 00:00:00  8210 111 ST NW                            Edmonton             AB            Canada          T6G 2C7            3.96 \n",
            "163        52          2010-12-16 00:00:00  202 Hoxton Street                         London                             United Kingdom  N1 5LH             3.96 \n",
            "170        31          2011-01-16 00:00:00  194A Chain Lake Drive                     Halifax              NS            Canada          B3S 1C5            3.96 \n",
            "177        10          2011-02-16 00:00:00  Rua Dr. Falcão Filho, 155                 São Paulo            SP            Brazil          01007-010          3.96 \n",
            "184        48          2011-03-19 00:00:00  Lijnbaansgracht 120bg                     Amsterdam            VV            Netherlands     1016               3.96 \n",
            "191        27          2011-04-19 00:00:00  1033 N Park Ave                           Tucson               AZ            USA             85719              3.96 \n",
            "198        6           2011-05-20 00:00:00  Rilská 3174/6                             Prague                             Czech Republic  14300              3.96 \n",
            "212        23          2011-07-21 00:00:00  69 Salem Street                           Boston               MA            USA             2113               3.96 \n",
            "219        2           2011-08-21 00:00:00  Theodor-Heuss-Straße 34                   Stuttgart                          Germany         70174              3.96 \n",
            "226        40          2011-09-21 00:00:00  8, Rue Hanovre                            Paris                              France          75002              3.96 \n",
            "233        19          2011-10-22 00:00:00  1 Infinite Loop                           Cupertino            CA            USA             95014              3.96 \n",
            "240        57          2011-11-22 00:00:00  Calle Lira, 198                           Santiago                           Chile                              3.96 \n",
            "247        36          2011-12-23 00:00:00  Tauentzienstraße 8                        Berlin                             Germany         10789              3.96 \n",
            "254        15          2012-01-23 00:00:00  700 W Pender Street                       Vancouver            BC            Canada          V6C 1G8            3.96 \n",
            "261        53          2012-02-23 00:00:00  113 Lupus St                              London                             United Kingdom  SW1V 3EN           3.96 \n",
            "268        32          2012-03-25 00:00:00  696 Osborne Street                        Winnipeg             MB            Canada          R3L 2B9            3.96 \n",
            "275        11          2012-04-25 00:00:00  Av. Paulista, 2022                        São Paulo            SP            Brazil          01310-200          3.96 \n",
            "282        49          2012-05-26 00:00:00  Ordynacka 10                              Warsaw                             Poland          00-358             3.96 \n",
            "289        28          2012-06-26 00:00:00  302 S 700 E                               Salt Lake City       UT            USA             84102              3.96 \n",
            "296        7           2012-07-27 00:00:00  Rotenturmstraße 4, 1010 Innere Stadt      Vienne                             Austria         1010               3.96 \n",
            "303        45          2012-08-27 00:00:00  Erzsébet krt. 58.                         Budapest                           Hungary         H-1073             3.96 \n",
            "317        3           2012-10-28 00:00:00  1498 rue Bélanger                         Montréal             QC            Canada          H2G 1A7            3.96 \n",
            "324        41          2012-11-28 00:00:00  11, Place Bellecour                       Lyon                               France          69002              3.96 \n",
            "331        20          2012-12-29 00:00:00  541 Del Medio Avenue                      Mountain View        CA            USA             94040-111          3.96 \n",
            "338        58          2013-01-29 00:00:00  12,Community Centre                       Delhi                              India           110017             3.96 \n",
            "345        37          2013-03-01 00:00:00  Berger Straße 10                          Frankfurt                          Germany         60316              3.96 \n",
            "352        16          2013-04-01 00:00:00  1600 Amphitheatre Parkway                 Mountain View        CA            USA             94043-1351         3.96 \n",
            "359        54          2013-05-02 00:00:00  110 Raeburn Pl                            Edinburgh                          United Kingdom  EH4 1HH            3.96 \n",
            "366        33          2013-06-02 00:00:00  5112 48 Street                            Yellowknife          NT            Canada          X1A 1N6            3.96 \n",
            "373        12          2013-07-03 00:00:00  Praça Pio X, 119                          Rio de Janeiro       RJ            Brazil          20040-020          3.96 \n",
            "380        50          2013-08-03 00:00:00  C/ San Bernardo 85                        Madrid                             Spain           28015              3.96 \n",
            "387        29          2013-09-03 00:00:00  796 Dundas Street West                    Toronto              ON            Canada          M6J 1V1            3.96 \n",
            "394        8           2013-10-04 00:00:00  Grétrystraat 63                           Brussels                           Belgium         1000               3.96 \n",
            "401        46          2013-11-04 00:00:00  3 Chatham Street                          Dublin               Dublin        Ireland                            3.96 \n",
            "408        25          2013-12-05 00:00:00  319 N. Frances Street                     Madison              WI            USA             53703              3.96 \n",
            "98         1           2010-03-11 00:00:00  Av. Brigadeiro Faria Lima, 2170           São José dos Campos  SP            Brazil          12227-000          3.98 \n",
            "99         3           2010-03-11 00:00:00  1498 rue Bélanger                         Montréal             QC            Canada          H2G 1A7            3.98 \n",
            "204        42          2011-06-19 00:00:00  9, Place Louis Barthou                    Bordeaux                           France          33000              3.98 \n",
            "308        20          2012-09-26 00:00:00  541 Del Medio Avenue                      Mountain View        CA            USA             94040-111          3.98 \n",
            "309        22          2012-09-26 00:00:00  120 S Orange Ave                          Orlando              FL            USA             32801              3.98 \n",
            "3          8           2009-01-03 00:00:00  Grétrystraat 63                           Brussels                           Belgium         1000               5.94 \n",
            "10         46          2009-02-03 00:00:00  3 Chatham Street                          Dublin               Dublin        Ireland                            5.94 \n",
            "17         25          2009-03-06 00:00:00  319 N. Frances Street                     Madison              WI            USA             53703              5.94 \n",
            "24         4           2009-04-06 00:00:00  Ullevålsveien 14                          Oslo                               Norway          0171               5.94 \n",
            "31         42          2009-05-07 00:00:00  9, Place Louis Barthou                    Bordeaux                           France          33000              5.94 \n",
            "38         21          2009-06-07 00:00:00  801 W 4th Street                          Reno                 NV            USA             89503              5.94 \n",
            "45         59          2009-07-08 00:00:00  3,Raj Bhavan Road                         Bangalore                          India           560001             5.94 \n",
            "52         38          2009-08-08 00:00:00  Barbarossastraße 19                       Berlin                             Germany         10779              5.94 \n",
            "59         17          2009-09-08 00:00:00  1 Microsoft Way                           Redmond              WA            USA             98052-8300         5.94 \n",
            "66         55          2009-10-09 00:00:00  421 Bourke Street                         Sidney               NSW           Australia       2010               5.94 \n",
            "73         34          2009-11-09 00:00:00  Rua da Assunção 53                        Lisbon                             Portugal                           5.94 \n",
            "80         13          2009-12-10 00:00:00  Qe 7 Bloco G                              Brasília             DF            Brazil          71020-677          5.94 \n",
            "94         30          2010-02-10 00:00:00  230 Elgin Street                          Ottawa               ON            Canada          K2P 1L7            5.94 \n",
            "101        9           2010-03-13 00:00:00  Sønder Boulevard 51                       Copenhagen                         Denmark         1720               5.94 \n",
            "108        47          2010-04-13 00:00:00  Via Degli Scipioni, 43                    Rome                 RM            Italy           00192              5.94 \n",
            "115        26          2010-05-14 00:00:00  2211 W Berry Street                       Fort Worth           TX            USA             76110              5.94 \n",
            "122        5           2010-06-14 00:00:00  Klanova 9/506                             Prague                             Czech Republic  14700              5.94 \n",
            "129        43          2010-07-15 00:00:00  68, Rue Jouvence                          Dijon                              France          21000              5.94 \n",
            "136        22          2010-08-15 00:00:00  120 S Orange Ave                          Orlando              FL            USA             32801              5.94 \n",
            "143        1           2010-09-15 00:00:00  Av. Brigadeiro Faria Lima, 2170           São José dos Campos  SP            Brazil          12227-000          5.94 \n",
            "150        39          2010-10-16 00:00:00  4, Rue Milton                             Paris                              France          75009              5.94 \n",
            "157        18          2010-11-16 00:00:00  627 Broadway                              New York             NY            USA             10012-2612         5.94 \n",
            "164        56          2010-12-17 00:00:00  307 Macacha Güemes                        Buenos Aires                       Argentina       1106               5.94 \n",
            "171        35          2011-01-17 00:00:00  Rua dos Campeões Europeus de Viena, 4350  Porto                              Portugal                           5.94 \n",
            "178        14          2011-02-17 00:00:00  8210 111 ST NW                            Edmonton             AB            Canada          T6G 2C7            5.94 \n",
            "185        52          2011-03-20 00:00:00  202 Hoxton Street                         London                             United Kingdom  N1 5LH             5.94 \n",
            "192        31          2011-04-20 00:00:00  194A Chain Lake Drive                     Halifax              NS            Canada          B3S 1C5            5.94 \n",
            "199        10          2011-05-21 00:00:00  Rua Dr. Falcão Filho, 155                 São Paulo            SP            Brazil          01007-010          5.94 \n",
            "213        27          2011-07-22 00:00:00  1033 N Park Ave                           Tucson               AZ            USA             85719              5.94 \n",
            "220        6           2011-08-22 00:00:00  Rilská 3174/6                             Prague                             Czech Republic  14300              5.94 \n",
            "227        44          2011-09-22 00:00:00  Porthaninkatu 9                           Helsinki                           Finland         00530              5.94 \n",
            "234        23          2011-10-23 00:00:00  69 Salem Street                           Boston               MA            USA             2113               5.94 \n",
            "241        2           2011-11-23 00:00:00  Theodor-Heuss-Straße 34                   Stuttgart                          Germany         70174              5.94 \n",
            "248        40          2011-12-24 00:00:00  8, Rue Hanovre                            Paris                              France          75002              5.94 \n",
            "255        19          2012-01-24 00:00:00  1 Infinite Loop                           Cupertino            CA            USA             95014              5.94 \n",
            "262        57          2012-02-24 00:00:00  Calle Lira, 198                           Santiago                           Chile                              5.94 \n",
            "269        36          2012-03-26 00:00:00  Tauentzienstraße 8                        Berlin                             Germany         10789              5.94 \n",
            "276        15          2012-04-26 00:00:00  700 W Pender Street                       Vancouver            BC            Canada          V6C 1G8            5.94 \n",
            "283        53          2012-05-27 00:00:00  113 Lupus St                              London                             United Kingdom  SW1V 3EN           5.94 \n",
            "290        32          2012-06-27 00:00:00  696 Osborne Street                        Winnipeg             MB            Canada          R3L 2B9            5.94 \n",
            "297        11          2012-07-28 00:00:00  Av. Paulista, 2022                        São Paulo            SP            Brazil          01310-200          5.94 \n",
            "304        49          2012-08-28 00:00:00  Ordynacka 10                              Warsaw                             Poland          00-358             5.94 \n",
            "318        7           2012-10-29 00:00:00  Rotenturmstraße 4, 1010 Innere Stadt      Vienne                             Austria         1010               5.94 \n",
            "325        45          2012-11-29 00:00:00  Erzsébet krt. 58.                         Budapest                           Hungary         H-1073             5.94 \n",
            "332        24          2012-12-30 00:00:00  162 E Superior Street                     Chicago              IL            USA             60611              5.94 \n",
            "339        3           2013-01-30 00:00:00  1498 rue Bélanger                         Montréal             QC            Canada          H2G 1A7            5.94 \n",
            "346        41          2013-03-02 00:00:00  11, Place Bellecour                       Lyon                               France          69002              5.94 \n",
            "353        20          2013-04-02 00:00:00  541 Del Medio Avenue                      Mountain View        CA            USA             94040-111          5.94 \n",
            "360        58          2013-05-03 00:00:00  12,Community Centre                       Delhi                              India           110017             5.94 \n",
            "367        37          2013-06-03 00:00:00  Berger Straße 10                          Frankfurt                          Germany         60316              5.94 \n",
            "374        16          2013-07-04 00:00:00  1600 Amphitheatre Parkway                 Mountain View        CA            USA             94043-1351         5.94 \n",
            "381        54          2013-08-04 00:00:00  110 Raeburn Pl                            Edinburgh                          United Kingdom  EH4 1HH            5.94 \n",
            "388        33          2013-09-04 00:00:00  5112 48 Street                            Yellowknife          NT            Canada          X1A 1N6            5.94 \n",
            "395        12          2013-10-05 00:00:00  Praça Pio X, 119                          Rio de Janeiro       RJ            Brazil          20040-020          5.94 \n",
            "402        50          2013-11-05 00:00:00  C/ San Bernardo 85                        Madrid                             Spain           28015              5.94 \n",
            "409        29          2013-12-06 00:00:00  796 Dundas Street West                    Toronto              ON            Canada          M6J 1V1            5.94 \n",
            "87         51          2010-01-10 00:00:00  Celsiusg. 9                               Stockholm                          Sweden          11230              6.94 \n",
            "205        44          2011-06-20 00:00:00  Porthaninkatu 9                           Helsinki                           Finland         00530              7.96 \n",
            "310        24          2012-09-27 00:00:00  162 E Superior Street                     Chicago              IL            USA             60611              7.96 \n",
            "4          14          2009-01-06 00:00:00  8210 111 ST NW                            Edmonton             AB            Canada          T6G 2C7            8.91 \n",
            "11         52          2009-02-06 00:00:00  202 Hoxton Street                         London                             United Kingdom  N1 5LH             8.91 \n",
            "18         31          2009-03-09 00:00:00  194A Chain Lake Drive                     Halifax              NS            Canada          B3S 1C5            8.91 \n",
            "25         10          2009-04-09 00:00:00  Rua Dr. Falcão Filho, 155                 São Paulo            SP            Brazil          01007-010          8.91 \n",
            "32         48          2009-05-10 00:00:00  Lijnbaansgracht 120bg                     Amsterdam            VV            Netherlands     1016               8.91 \n",
            "39         27          2009-06-10 00:00:00  1033 N Park Ave                           Tucson               AZ            USA             85719              8.91 \n",
            "46         6           2009-07-11 00:00:00  Rilská 3174/6                             Prague                             Czech Republic  14300              8.91 \n",
            "53         44          2009-08-11 00:00:00  Porthaninkatu 9                           Helsinki                           Finland         00530              8.91 \n",
            "60         23          2009-09-11 00:00:00  69 Salem Street                           Boston               MA            USA             2113               8.91 \n",
            "67         2           2009-10-12 00:00:00  Theodor-Heuss-Straße 34                   Stuttgart                          Germany         70174              8.91 \n",
            "74         40          2009-11-12 00:00:00  8, Rue Hanovre                            Paris                              France          75002              8.91 \n",
            "81         19          2009-12-13 00:00:00  1 Infinite Loop                           Cupertino            CA            USA             95014              8.91 \n",
            "95         36          2010-02-13 00:00:00  Tauentzienstraße 8                        Berlin                             Germany         10789              8.91 \n",
            "109        53          2010-04-16 00:00:00  113 Lupus St                              London                             United Kingdom  SW1V 3EN           8.91 \n",
            "116        32          2010-05-17 00:00:00  696 Osborne Street                        Winnipeg             MB            Canada          R3L 2B9            8.91 \n",
            "123        11          2010-06-17 00:00:00  Av. Paulista, 2022                        São Paulo            SP            Brazil          01310-200          8.91 \n",
            "130        49          2010-07-18 00:00:00  Ordynacka 10                              Warsaw                             Poland          00-358             8.91 \n",
            "137        28          2010-08-18 00:00:00  302 S 700 E                               Salt Lake City       UT            USA             84102              8.91 \n",
            "144        7           2010-09-18 00:00:00  Rotenturmstraße 4, 1010 Innere Stadt      Vienne                             Austria         1010               8.91 \n",
            "151        45          2010-10-19 00:00:00  Erzsébet krt. 58.                         Budapest                           Hungary         H-1073             8.91 \n",
            "158        24          2010-11-19 00:00:00  162 E Superior Street                     Chicago              IL            USA             60611              8.91 \n",
            "165        3           2010-12-20 00:00:00  1498 rue Bélanger                         Montréal             QC            Canada          H2G 1A7            8.91 \n",
            "172        41          2011-01-20 00:00:00  11, Place Bellecour                       Lyon                               France          69002              8.91 \n",
            "179        20          2011-02-20 00:00:00  541 Del Medio Avenue                      Mountain View        CA            USA             94040-111          8.91 \n",
            "186        58          2011-03-23 00:00:00  12,Community Centre                       Delhi                              India           110017             8.91 \n",
            "200        16          2011-05-24 00:00:00  1600 Amphitheatre Parkway                 Mountain View        CA            USA             94043-1351         8.91 \n",
            "207        54          2011-06-24 00:00:00  110 Raeburn Pl                            Edinburgh                          United Kingdom  EH4 1HH            8.91 \n",
            "214        33          2011-07-25 00:00:00  5112 48 Street                            Yellowknife          NT            Canada          X1A 1N6            8.91 \n",
            "221        12          2011-08-25 00:00:00  Praça Pio X, 119                          Rio de Janeiro       RJ            Brazil          20040-020          8.91 \n",
            "228        50          2011-09-25 00:00:00  C/ San Bernardo 85                        Madrid                             Spain           28015              8.91 \n",
            "235        29          2011-10-26 00:00:00  796 Dundas Street West                    Toronto              ON            Canada          M6J 1V1            8.91 \n",
            "242        8           2011-11-26 00:00:00  Grétrystraat 63                           Brussels                           Belgium         1000               8.91 \n",
            "249        46          2011-12-27 00:00:00  3 Chatham Street                          Dublin               Dublin        Ireland                            8.91 \n",
            "256        25          2012-01-27 00:00:00  319 N. Frances Street                     Madison              WI            USA             53703              8.91 \n",
            "263        4           2012-02-27 00:00:00  Ullevålsveien 14                          Oslo                               Norway          0171               8.91 \n",
            "270        42          2012-03-29 00:00:00  9, Place Louis Barthou                    Bordeaux                           France          33000              8.91 \n",
            "277        21          2012-04-29 00:00:00  801 W 4th Street                          Reno                 NV            USA             89503              8.91 \n",
            "284        59          2012-05-30 00:00:00  3,Raj Bhavan Road                         Bangalore                          India           560001             8.91 \n",
            "291        38          2012-06-30 00:00:00  Barbarossastraße 19                       Berlin                             Germany         10779              8.91 \n",
            "305        55          2012-08-31 00:00:00  421 Bourke Street                         Sidney               NSW           Australia       2010               8.91 \n",
            "319        13          2012-11-01 00:00:00  Qe 7 Bloco G                              Brasília             DF            Brazil          71020-677          8.91 \n",
            "326        51          2012-12-02 00:00:00  Celsiusg. 9                               Stockholm                          Sweden          11230              8.91 \n",
            "333        30          2013-01-02 00:00:00  230 Elgin Street                          Ottawa               ON            Canada          K2P 1L7            8.91 \n",
            "340        9           2013-02-02 00:00:00  Sønder Boulevard 51                       Copenhagen                         Denmark         1720               8.91 \n",
            "347        47          2013-03-05 00:00:00  Via Degli Scipioni, 43                    Rome                 RM            Italy           00192              8.91 \n",
            "354        26          2013-04-05 00:00:00  2211 W Berry Street                       Fort Worth           TX            USA             76110              8.91 \n",
            "361        5           2013-05-06 00:00:00  Klanova 9/506                             Prague                             Czech Republic  14700              8.91 \n",
            "368        43          2013-06-06 00:00:00  68, Rue Jouvence                          Dijon                              France          21000              8.91 \n",
            "375        22          2013-07-07 00:00:00  120 S Orange Ave                          Orlando              FL            USA             32801              8.91 \n",
            "382        1           2013-08-07 00:00:00  Av. Brigadeiro Faria Lima, 2170           São José dos Campos  SP            Brazil          12227-000          8.91 \n",
            "389        39          2013-09-07 00:00:00  4, Rue Milton                             Paris                              France          75009              8.91 \n",
            "396        18          2013-10-08 00:00:00  627 Broadway                              New York             NY            USA             10012-2612         8.91 \n",
            "403        56          2013-11-08 00:00:00  307 Macacha Güemes                        Buenos Aires                       Argentina       1106               8.91 \n",
            "410        35          2013-12-09 00:00:00  Rua dos Campeões Europeus de Viena, 4350  Porto                              Portugal                           8.91 \n",
            "206        48          2011-06-21 00:00:00  Lijnbaansgracht 120bg                     Amsterdam            VV            Netherlands     1016               8.94 \n",
            "102        15          2010-03-16 00:00:00  700 W Pender Street                       Vancouver            BC            Canada          V6C 1G8            9.91 \n",
            "298        17          2012-07-31 00:00:00  1 Microsoft Way                           Redmond              WA            USA             98052-8300         10.91\n",
            "312        34          2012-10-01 00:00:00  Rua da Assunção 53                        Lisbon                             Portugal                           10.91\n",
            "311        28          2012-09-28 00:00:00  302 S 700 E                               Salt Lake City       UT            USA             84102              11.94\n",
            "5          23          2009-01-11 00:00:00  69 Salem Street                           Boston               MA            USA             2113               13.86\n",
            "12         2           2009-02-11 00:00:00  Theodor-Heuss-Straße 34                   Stuttgart                          Germany         70174              13.86\n",
            "19         40          2009-03-14 00:00:00  8, Rue Hanovre                            Paris                              France          75002              13.86\n",
            "26         19          2009-04-14 00:00:00  1 Infinite Loop                           Cupertino            CA            USA             95014              13.86\n",
            "33         57          2009-05-15 00:00:00  Calle Lira, 198                           Santiago                           Chile                              13.86\n",
            "40         36          2009-06-15 00:00:00  Tauentzienstraße 8                        Berlin                             Germany         10789              13.86\n",
            "47         15          2009-07-16 00:00:00  700 W Pender Street                       Vancouver            BC            Canada          V6C 1G8            13.86\n",
            "54         53          2009-08-16 00:00:00  113 Lupus St                              London                             United Kingdom  SW1V 3EN           13.86\n",
            "61         32          2009-09-16 00:00:00  696 Osborne Street                        Winnipeg             MB            Canada          R3L 2B9            13.86\n",
            "68         11          2009-10-17 00:00:00  Av. Paulista, 2022                        São Paulo            SP            Brazil          01310-200          13.86\n",
            "75         49          2009-11-17 00:00:00  Ordynacka 10                              Warsaw                             Poland          00-358             13.86\n",
            "82         28          2009-12-18 00:00:00  302 S 700 E                               Salt Lake City       UT            USA             84102              13.86\n",
            "110        3           2010-04-21 00:00:00  1498 rue Bélanger                         Montréal             QC            Canada          H2G 1A7            13.86\n",
            "117        41          2010-05-22 00:00:00  11, Place Bellecour                       Lyon                               France          69002              13.86\n",
            "124        20          2010-06-22 00:00:00  541 Del Medio Avenue                      Mountain View        CA            USA             94040-111          13.86\n",
            "131        58          2010-07-23 00:00:00  12,Community Centre                       Delhi                              India           110017             13.86\n",
            "138        37          2010-08-23 00:00:00  Berger Straße 10                          Frankfurt                          Germany         60316              13.86\n",
            "145        16          2010-09-23 00:00:00  1600 Amphitheatre Parkway                 Mountain View        CA            USA             94043-1351         13.86\n",
            "152        54          2010-10-24 00:00:00  110 Raeburn Pl                            Edinburgh                          United Kingdom  EH4 1HH            13.86\n",
            "159        33          2010-11-24 00:00:00  5112 48 Street                            Yellowknife          NT            Canada          X1A 1N6            13.86\n",
            "166        12          2010-12-25 00:00:00  Praça Pio X, 119                          Rio de Janeiro       RJ            Brazil          20040-020          13.86\n",
            "173        50          2011-01-25 00:00:00  C/ San Bernardo 85                        Madrid                             Spain           28015              13.86\n",
            "180        29          2011-02-25 00:00:00  796 Dundas Street West                    Toronto              ON            Canada          M6J 1V1            13.86\n",
            "187        8           2011-03-28 00:00:00  Grétrystraat 63                           Brussels                           Belgium         1000               13.86\n",
            "215        42          2011-07-30 00:00:00  9, Place Louis Barthou                    Bordeaux                           France          33000              13.86\n",
            "222        21          2011-08-30 00:00:00  801 W 4th Street                          Reno                 NV            USA             89503              13.86\n",
            "229        59          2011-09-30 00:00:00  3,Raj Bhavan Road                         Bangalore                          India           560001             13.86\n",
            "236        38          2011-10-31 00:00:00  Barbarossastraße 19                       Berlin                             Germany         10779              13.86\n",
            "243        17          2011-12-01 00:00:00  1 Microsoft Way                           Redmond              WA            USA             98052-8300         13.86\n",
            "250        55          2012-01-01 00:00:00  421 Bourke Street                         Sidney               NSW           Australia       2010               13.86\n",
            "257        34          2012-02-01 00:00:00  Rua da Assunção 53                        Lisbon                             Portugal                           13.86\n",
            "264        13          2012-03-03 00:00:00  Qe 7 Bloco G                              Brasília             DF            Brazil          71020-677          13.86\n",
            "271        51          2012-04-03 00:00:00  Celsiusg. 9                               Stockholm                          Sweden          11230              13.86\n",
            "278        30          2012-05-04 00:00:00  230 Elgin Street                          Ottawa               ON            Canada          K2P 1L7            13.86\n",
            "285        9           2012-06-04 00:00:00  Sønder Boulevard 51                       Copenhagen                         Denmark         1720               13.86\n",
            "292        47          2012-07-05 00:00:00  Via Degli Scipioni, 43                    Rome                 RM            Italy           00192              13.86\n",
            "320        22          2012-11-06 00:00:00  120 S Orange Ave                          Orlando              FL            USA             32801              13.86\n",
            "327        1           2012-12-07 00:00:00  Av. Brigadeiro Faria Lima, 2170           São José dos Campos  SP            Brazil          12227-000          13.86\n",
            "334        39          2013-01-07 00:00:00  4, Rue Milton                             Paris                              France          75009              13.86\n",
            "341        18          2013-02-07 00:00:00  627 Broadway                              New York             NY            USA             10012-2612         13.86\n",
            "348        56          2013-03-10 00:00:00  307 Macacha Güemes                        Buenos Aires                       Argentina       1106               13.86\n",
            "355        35          2013-04-10 00:00:00  Rua dos Campeões Europeus de Viena, 4350  Porto                              Portugal                           13.86\n",
            "362        14          2013-05-11 00:00:00  8210 111 ST NW                            Edmonton             AB            Canada          T6G 2C7            13.86\n",
            "369        52          2013-06-11 00:00:00  202 Hoxton Street                         London                             United Kingdom  N1 5LH             13.86\n",
            "376        31          2013-07-12 00:00:00  194A Chain Lake Drive                     Halifax              NS            Canada          B3S 1C5            13.86\n",
            "383        10          2013-08-12 00:00:00  Rua Dr. Falcão Filho, 155                 São Paulo            SP            Brazil          01007-010          13.86\n",
            "390        48          2013-09-12 00:00:00  Lijnbaansgracht 120bg                     Amsterdam            VV            Netherlands     1016               13.86\n",
            "397        27          2013-10-13 00:00:00  1033 N Park Ave                           Tucson               AZ            USA             85719              13.86\n",
            "411        44          2013-12-14 00:00:00  Porthaninkatu 9                           Helsinki                           Finland         00530              13.86\n",
            "193        37          2011-04-23 00:00:00  Berger Straße 10                          Frankfurt                          Germany         60316              14.91\n",
            "103        24          2010-03-21 00:00:00  162 E Superior Street                     Chicago              IL            USA             60611              15.86\n",
            "208        4           2011-06-29 00:00:00  Ullevålsveien 14                          Oslo                               Norway          0171               15.86\n",
            "306        5           2012-09-05 00:00:00  Klanova 9/506                             Prague                             Czech Republic  14700              16.86\n",
            "313        43          2012-10-06 00:00:00  68, Rue Jouvence                          Dijon                              France          21000              16.86\n",
            "88         57          2010-01-13 00:00:00  Calle Lira, 198                           Santiago                           Chile                              17.91\n",
            "89         7           2010-01-18 00:00:00  Rotenturmstraße 4, 1010 Innere Stadt      Vienne                             Austria         1010               18.86\n",
            "201        25          2011-05-29 00:00:00  319 N. Frances Street                     Madison              WI            USA             53703              18.86\n",
            "96         45          2010-02-18 00:00:00  Erzsébet krt. 58.                         Budapest                           Hungary         H-1073             21.86\n",
            "194        46          2011-04-28 00:00:00  3 Chatham Street                          Dublin               Dublin        Ireland                            21.86\n",
            "299        26          2012-08-05 00:00:00  2211 W Berry Street                       Fort Worth           TX            USA             76110              23.86\n",
            "404        6           2013-11-13 00:00:00  Rilská 3174/6                             Prague                             Czech Republic  14300              25.86\n"
          ]
        }
      ]
    },
    {
      "cell_type": "markdown",
      "source": [
        "#### DISTINCT\n"
      ],
      "metadata": {
        "id": "Y22yRW5Wtsl1"
      }
    },
    {
      "cell_type": "code",
      "source": [
        "#Get a list of 10 unique composer names without duplicates\n",
        "\n",
        "%%script sqlite3 --column --header chinook.db\n",
        "select distinct Composer\n",
        "from tracks\n",
        "Limit 10\n",
        ";"
      ],
      "metadata": {
        "colab": {
          "base_uri": "https://localhost:8080/"
        },
        "id": "-BEI1Q_XuSfb",
        "outputId": "29f3f98d-0e00-4e1f-9035-7a89ebf2cee8"
      },
      "execution_count": 22,
      "outputs": [
        {
          "output_type": "stream",
          "name": "stdout",
          "text": [
            "Composer                                                              \n",
            "----------------------------------------------------------------------\n",
            "Angus Young, Malcolm Young, Brian Johnson                             \n",
            "                                                                      \n",
            "F. Baltes, S. Kaufman, U. Dirkscneider & W. Hoffman                   \n",
            "F. Baltes, R.A. Smith-Diesel, S. Kaufman, U. Dirkscneider & W. Hoffman\n",
            "Deaffy & R.A. Smith-Diesel                                            \n",
            "AC/DC                                                                 \n",
            "Steven Tyler, Joe Perry, Jack Blades, Tommy Shaw                      \n",
            "Steven Tyler, Joe Perry                                               \n",
            "Steven Tyler, Joe Perry, Jim Vallance, Holly Knight                   \n",
            "Steven Tyler, Joe Perry, Desmond Child                                \n"
          ]
        }
      ]
    },
    {
      "cell_type": "markdown",
      "source": [
        "#### GROUP BY\n",
        "\n"
      ],
      "metadata": {
        "id": "Q0mwAOgettPz"
      }
    },
    {
      "cell_type": "code",
      "source": [
        "#RETURN 3 columns grouped by customer id, giving a sum of total sales per customer and their billing country\n",
        "\n",
        "%%script sqlite3 --column --header chinook.db\n",
        "select customerid, SUM(total) AS total_sales, billingcountry\n",
        "from invoices\n",
        "GROUP BY customerid\n",
        ";"
      ],
      "metadata": {
        "id": "8cv2_l-Lt6Wv",
        "colab": {
          "base_uri": "https://localhost:8080/"
        },
        "collapsed": true,
        "outputId": "8eb95d5f-facf-4c0e-f35c-24af3477ba4a"
      },
      "execution_count": 23,
      "outputs": [
        {
          "output_type": "stream",
          "name": "stdout",
          "text": [
            "CustomerId  total_sales  BillingCountry\n",
            "----------  -----------  --------------\n",
            "1           39.62        Brazil        \n",
            "2           37.62        Germany       \n",
            "3           39.62        Canada        \n",
            "4           39.62        Norway        \n",
            "5           40.62        Czech Republic\n",
            "6           49.62        Czech Republic\n",
            "7           42.62        Austria       \n",
            "8           37.62        Belgium       \n",
            "9           37.62        Denmark       \n",
            "10          37.62        Brazil        \n",
            "11          37.62        Brazil        \n",
            "12          37.62        Brazil        \n",
            "13          37.62        Brazil        \n",
            "14          37.62        Canada        \n",
            "15          38.62        Canada        \n",
            "16          37.62        USA           \n",
            "17          39.62        USA           \n",
            "18          37.62        USA           \n",
            "19          38.62        USA           \n",
            "20          39.62        USA           \n",
            "21          37.62        USA           \n",
            "22          39.62        USA           \n",
            "23          37.62        USA           \n",
            "24          43.62        USA           \n",
            "25          42.62        USA           \n",
            "26          47.62        USA           \n",
            "27          37.62        USA           \n",
            "28          43.62        USA           \n",
            "29          37.62        Canada        \n",
            "30          37.62        Canada        \n",
            "31          37.62        Canada        \n",
            "32          37.62        Canada        \n",
            "33          37.62        Canada        \n",
            "34          39.62        Portugal      \n",
            "35          37.62        Portugal      \n",
            "36          37.62        Germany       \n",
            "37          43.62        Germany       \n",
            "38          37.62        Germany       \n",
            "39          38.62        France        \n",
            "40          38.62        France        \n",
            "41          37.62        France        \n",
            "42          39.62        France        \n",
            "43          40.62        France        \n",
            "44          41.62        Finland       \n",
            "45          45.62        Hungary       \n",
            "46          45.62        Ireland       \n",
            "47          37.62        Italy         \n",
            "48          40.62        Netherlands   \n",
            "49          37.62        Poland        \n",
            "50          37.62        Spain         \n",
            "51          38.62        Sweden        \n",
            "52          37.62        United Kingdom\n",
            "53          37.62        United Kingdom\n",
            "54          37.62        United Kingdom\n",
            "55          37.62        Australia     \n",
            "56          37.62        Argentina     \n",
            "57          46.62        Chile         \n",
            "58          38.62        India         \n",
            "59          36.64        India         \n"
          ]
        }
      ]
    },
    {
      "cell_type": "code",
      "source": [
        "%%script sqlite3 --column --header chinook.db\n",
        "SELECT Country, COUNT(*) AS CustomerCount\n",
        "FROM Customers\n",
        "GROUP BY Country;"
      ],
      "metadata": {
        "colab": {
          "base_uri": "https://localhost:8080/"
        },
        "collapsed": true,
        "id": "IL6KUHDsdODf",
        "outputId": "d229cca5-68dd-4652-bd11-676bce1b550d"
      },
      "execution_count": 24,
      "outputs": [
        {
          "output_type": "stream",
          "name": "stdout",
          "text": [
            "Country         CustomerCount\n",
            "--------------  -------------\n",
            "Argentina       1            \n",
            "Australia       1            \n",
            "Austria         1            \n",
            "Belgium         1            \n",
            "Brazil          5            \n",
            "Canada          8            \n",
            "Chile           1            \n",
            "Czech Republic  2            \n",
            "Denmark         1            \n",
            "Finland         1            \n",
            "France          5            \n",
            "Germany         4            \n",
            "Hungary         1            \n",
            "India           2            \n",
            "Ireland         1            \n",
            "Italy           1            \n",
            "Netherlands     1            \n",
            "Norway          1            \n",
            "Poland          1            \n",
            "Portugal        2            \n",
            "Spain           1            \n",
            "Sweden          1            \n",
            "USA             13           \n",
            "United Kingdom  3            \n"
          ]
        }
      ]
    },
    {
      "cell_type": "markdown",
      "source": [
        "### Aggregates\n"
      ],
      "metadata": {
        "id": "dJUO6Dh3tt5c"
      }
    },
    {
      "cell_type": "markdown",
      "source": [
        "#### MAX\n"
      ],
      "metadata": {
        "id": "spacz18MtvBo"
      }
    },
    {
      "cell_type": "code",
      "source": [
        "#RETURN last invoice date from invoices table\n",
        "\n",
        "%%script sqlite3 --column --header chinook.db\n",
        "SELECT max(invoicedate)\n",
        "FROM invoices\n",
        ";"
      ],
      "metadata": {
        "colab": {
          "base_uri": "https://localhost:8080/"
        },
        "collapsed": true,
        "id": "lSja4NvwOdct",
        "outputId": "2566894e-a67a-452e-8a1c-a5a2e3b6e65a"
      },
      "execution_count": 25,
      "outputs": [
        {
          "output_type": "stream",
          "name": "stdout",
          "text": [
            "max(invoicedate)   \n",
            "-------------------\n",
            "2013-12-22 00:00:00\n"
          ]
        }
      ]
    },
    {
      "cell_type": "markdown",
      "source": [
        "#### MIN\n"
      ],
      "metadata": {
        "id": "V0z33BTztvoP"
      }
    },
    {
      "cell_type": "code",
      "source": [
        "#RETURN earliest invoice date from invoices table\n",
        "\n",
        "%%script sqlite3 --column --header chinook.db\n",
        "SELECT min(invoicedate)\n",
        "FROM invoices\n",
        ";"
      ],
      "metadata": {
        "id": "e8Ke_lJKt2VQ",
        "colab": {
          "base_uri": "https://localhost:8080/"
        },
        "collapsed": true,
        "outputId": "58c88be0-1ed1-496b-f7fc-bf306003276d"
      },
      "execution_count": 26,
      "outputs": [
        {
          "output_type": "stream",
          "name": "stdout",
          "text": [
            "min(invoicedate)   \n",
            "-------------------\n",
            "2009-01-01 00:00:00\n"
          ]
        }
      ]
    },
    {
      "cell_type": "markdown",
      "source": [
        "#### SUM\n"
      ],
      "metadata": {
        "id": "nLYsB9M8twMf"
      }
    },
    {
      "cell_type": "code",
      "source": [
        "#RETURN total sum of all invoices\n",
        "\n",
        "%%script sqlite3 --column --header chinook.db\n",
        "SELECT sum(total)\n",
        "FROM invoices\n",
        ";"
      ],
      "metadata": {
        "id": "aoVDwom0t0zN",
        "colab": {
          "base_uri": "https://localhost:8080/"
        },
        "outputId": "3bc3c392-6415-40e4-80a2-ecdfd8b1ff6f"
      },
      "execution_count": 27,
      "outputs": [
        {
          "output_type": "stream",
          "name": "stdout",
          "text": [
            "sum(total)\n",
            "----------\n",
            "2328.6    \n"
          ]
        }
      ]
    },
    {
      "cell_type": "markdown",
      "source": [
        "#### AVG\n"
      ],
      "metadata": {
        "id": "0yI5K0Z5twwB"
      }
    },
    {
      "cell_type": "code",
      "source": [
        "#RETURN avg invoice amount\n",
        "\n",
        "%%script sqlite3 --column --header chinook.db\n",
        "\n",
        "SELECT AVG(total) FROM invoices;\n"
      ],
      "metadata": {
        "id": "HkNbzJ4mtzgD",
        "colab": {
          "base_uri": "https://localhost:8080/"
        },
        "outputId": "4c2e73b8-12c9-4412-d168-54fcc3e5beae"
      },
      "execution_count": 28,
      "outputs": [
        {
          "output_type": "stream",
          "name": "stdout",
          "text": [
            "AVG(total)      \n",
            "----------------\n",
            "5.65194174757282\n"
          ]
        }
      ]
    },
    {
      "cell_type": "code",
      "source": [
        "#verify InvoiceDate is in YYYY-MM-DD format\n",
        "\n",
        "%%script sqlite3 --column --header chinook.db\n",
        "\n",
        "SELECT\n",
        "    InvoiceId,\n",
        "    InvoiceDate\n",
        "FROM\n",
        "    invoices\n",
        "LIMIT 10;\n"
      ],
      "metadata": {
        "colab": {
          "base_uri": "https://localhost:8080/"
        },
        "id": "2NBdTsJvkOu-",
        "outputId": "769a2c8b-c27e-4c61-f346-b3bbd10e465f"
      },
      "execution_count": 29,
      "outputs": [
        {
          "output_type": "stream",
          "name": "stdout",
          "text": [
            "InvoiceId  InvoiceDate        \n",
            "---------  -------------------\n",
            "1          2009-01-01 00:00:00\n",
            "2          2009-01-02 00:00:00\n",
            "3          2009-01-03 00:00:00\n",
            "4          2009-01-06 00:00:00\n",
            "5          2009-01-11 00:00:00\n",
            "6          2009-01-19 00:00:00\n",
            "7          2009-02-01 00:00:00\n",
            "8          2009-02-01 00:00:00\n",
            "9          2009-02-02 00:00:00\n",
            "10         2009-02-03 00:00:00\n"
          ]
        }
      ]
    },
    {
      "cell_type": "code",
      "source": [
        "# RETURN average number of days in between invoices for each customer\n",
        "\n",
        "# using WITH clause, Create CTE named \"InvoiceDiff\" from 'invoices' table, with 2 columns: Customer ID & aliased DaysBetween= to calculate difference in days between consecutive invoices per customer\n",
        "\n",
        "# Create query using 2 columns from previous CTE \"InvoiceDiff\": aliasing Customers table as cust. & aliased AVG(DaysBetw). then JOINING  customers table using customerID as join key with customerId from \"InvoiceDiff\"\n",
        "\n",
        "# filter out null rows for 'DaysBetw' and calculate avg individually by grouping by customerid\n",
        "\n",
        "%%script sqlite3 --column --header chinook.db\n",
        "\n",
        "WITH InvoiceDiff AS (\n",
        "    SELECT\n",
        "        CustomerId,\n",
        "        (julianday(InvoiceDate) - julianday(LAG(InvoiceDate) OVER (PARTITION BY CustomerId ORDER BY InvoiceDate))) AS DaysBetw\n",
        "    FROM\n",
        "        invoices\n",
        ")\n",
        "\n",
        "SELECT\n",
        "    cust.CustomerId,\n",
        "    AVG(DaysBetw) AS AvgDaysBetweenInvoices\n",
        "FROM\n",
        "    InvoiceDiff\n",
        "JOIN\n",
        "    customers AS cust ON InvoiceDiff.CustomerId = cust.CustomerId\n",
        "WHERE\n",
        "    DaysBetw IS NOT NULL\n",
        "GROUP BY\n",
        "    cust.CustomerId;\n"
      ],
      "metadata": {
        "colab": {
          "base_uri": "https://localhost:8080/"
        },
        "id": "5YSzEkJXliYI",
        "outputId": "13aa100f-035a-4b37-9d0a-ef3664e74d9d"
      },
      "execution_count": 30,
      "outputs": [
        {
          "output_type": "stream",
          "name": "stdout",
          "text": [
            "CustomerId  AvgDaysBetweenInvoices\n",
            "----------  ----------------------\n",
            "1           207.5                 \n",
            "2           214.833333333333      \n",
            "3           214.833333333333      \n",
            "4           289.166666666667      \n",
            "5           207.5                 \n",
            "6           264.333333333333      \n",
            "7           214.833333333333      \n",
            "8           289.166666666667      \n",
            "9           207.5                 \n",
            "10          264.333333333333      \n",
            "11          214.833333333333      \n",
            "12          266.0                 \n",
            "13          207.5                 \n",
            "14          264.333333333333      \n",
            "15          214.833333333333      \n",
            "16          266.0                 \n",
            "17          207.5                 \n",
            "18          207.5                 \n",
            "19          214.833333333333      \n",
            "20          214.833333333333      \n",
            "21          289.166666666667      \n",
            "22          207.5                 \n",
            "23          298.0                 \n",
            "24          214.833333333333      \n",
            "25          289.166666666667      \n",
            "26          207.5                 \n",
            "27          264.333333333333      \n",
            "28          214.833333333333      \n",
            "29          266.0                 \n",
            "30          207.5                 \n",
            "31          264.333333333333      \n",
            "32          214.833333333333      \n",
            "33          266.0                 \n",
            "34          207.5                 \n",
            "35          207.5                 \n",
            "36          214.833333333333      \n",
            "37          266.0                 \n",
            "38          207.5                 \n",
            "39          207.5                 \n",
            "40          214.833333333333      \n",
            "41          214.833333333333      \n",
            "42          289.166666666667      \n",
            "43          207.5                 \n",
            "44          264.333333333333      \n",
            "45          214.833333333333      \n",
            "46          289.166666666667      \n",
            "47          207.5                 \n",
            "48          264.333333333333      \n",
            "49          214.833333333333      \n",
            "50          266.0                 \n",
            "51          207.5                 \n",
            "52          264.333333333333      \n",
            "53          214.833333333333      \n",
            "54          266.0                 \n",
            "55          207.5                 \n",
            "56          207.5                 \n",
            "57          214.833333333333      \n",
            "58          214.833333333333      \n",
            "59          230.2                 \n"
          ]
        }
      ]
    },
    {
      "source": [
        "%%script sqlite3 --column --header chinook.db\n",
        "\n",
        "WITH InvoiceDiff AS (\n",
        "    SELECT\n",
        "        CustomerId,\n",
        "        (julianday(InvoiceDate) - julianday(LAG(InvoiceDate) OVER (PARTITION BY CustomerId ORDER BY InvoiceDate))) AS DaysBetw\n",
        "    FROM\n",
        "        invoices\n",
        "), CustomerAverages AS (\n",
        "    SELECT\n",
        "        CustomerId,\n",
        "        AVG(DaysBetw) AS AvgDaysBetweenInvoices\n",
        "    FROM\n",
        "        InvoiceDiff\n",
        "    WHERE\n",
        "        DaysBetw IS NOT NULL\n",
        "    GROUP BY\n",
        "        CustomerId\n",
        ")\n",
        "\n",
        "SELECT\n",
        "    AVG(AvgDaysBetweenInvoices) AS MeanDaysBetweenInvoices\n",
        "FROM\n",
        "    CustomerAverages;"
      ],
      "cell_type": "code",
      "metadata": {
        "colab": {
          "base_uri": "https://localhost:8080/"
        },
        "id": "aTiWkpGZt-Hr",
        "outputId": "df484b40-0d30-4198-ef99-681141e74c39"
      },
      "execution_count": 31,
      "outputs": [
        {
          "output_type": "stream",
          "name": "stdout",
          "text": [
            "MeanDaysBetweenInvoices\n",
            "-----------------------\n",
            "234.60790960452        \n"
          ]
        }
      ]
    },
    {
      "cell_type": "markdown",
      "source": [
        "#### COUNT\n",
        "\n"
      ],
      "metadata": {
        "id": "JEkDbYyutxX5"
      }
    },
    {
      "cell_type": "code",
      "source": [
        "#RETURN list of countries listed by customers without duplicates\n",
        "\n",
        "%%script sqlite3 --column --header chinook.db\n",
        "select count(distinct country)\n",
        "from customers"
      ],
      "metadata": {
        "colab": {
          "base_uri": "https://localhost:8080/"
        },
        "id": "zQ7_e5tIi_Er",
        "outputId": "38602ed3-c22c-43ef-832f-a9563e17f8ad",
        "collapsed": true
      },
      "execution_count": 32,
      "outputs": [
        {
          "output_type": "stream",
          "name": "stdout",
          "text": [
            "count(distinct country)\n",
            "-----------------------\n",
            "24                     \n"
          ]
        }
      ]
    },
    {
      "cell_type": "code",
      "source": [
        "#RETURN total number of customers\n",
        "\n",
        "%%script sqlite3 --column --header chinook.db\n",
        "select count(distinct customerID)\n",
        "from customers"
      ],
      "metadata": {
        "id": "NMrvo0jE6LL9",
        "colab": {
          "base_uri": "https://localhost:8080/"
        },
        "collapsed": true,
        "outputId": "9d82b7e7-ba02-47db-c3e8-64970a4d4d98"
      },
      "execution_count": 33,
      "outputs": [
        {
          "output_type": "stream",
          "name": "stdout",
          "text": [
            "count(distinct customerID)\n",
            "--------------------------\n",
            "59                        \n"
          ]
        }
      ]
    },
    {
      "cell_type": "markdown",
      "source": [
        "## Make some plots\n",
        "\n",
        "Make some cool plots to go with your data. Write SQL queries to get ONLY the information you need for each plot. (Don't pull ALL the data and then just plot a few columns.)\n",
        "\n"
      ],
      "metadata": {
        "id": "ntL8dHJT57K8"
      }
    },
    {
      "cell_type": "markdown",
      "source": [
        "```\n",
        "METHOD: find x employee in employees table, find all customers associated with employee x, calculate sum of total from customer invoices\n",
        "and assign as totalsales. Repeat method for all employees. Sort results so employees with most sales shown first.\n",
        "\n",
        "#SELECT clause gets employee data from employees table and sums total from invoices table then assigns it to alias variable totalsales\n",
        "\n",
        "#TO GET employees table connected to invoices, must first connect employees table to customers, then connect THAT to invoices==\n",
        "\n",
        "#FROM clause starts from employees table which LEFT JOINS employeeID with supportrepID from customers table to link employees to their\n",
        "assigned customers. Left join includes all employees even without assigned customers.\n",
        "\n",
        "#LEFT JOIN invoices table with customers table joined previously. This extends join to include invoice data\n",
        "\n",
        "#GROUP BY clause groups by employees data  first\n",
        "#ORDER BY clause sorts results in descending order based on totalsales\n",
        "```"
      ],
      "metadata": {
        "id": "2mKnPbrHbNXN"
      }
    },
    {
      "source": [
        "#RETURN list of total sales generated by each employee, calculated as the sum of all invoice total by employee and displayed in descending order of total sales. Employee with highest sales is at top of list\n",
        "\n",
        "\n",
        "%%script sqlite3 --column --header chinook.db\n",
        "SELECT\n",
        "Employees.EmployeeId,\n",
        "Employees.FirstName,\n",
        "Employees.LastName,\n",
        "SUM(invoices.Total) AS TotalSales\n",
        "\n",
        "FROM Employees\n",
        "LEFT JOIN customers ON EmployeeId = customers.SupportRepId\n",
        "LEFT JOIN invoices ON customers.CustomerId = invoices.CustomerId\n",
        "GROUP BY Employees.EmployeeId, Employees.FirstName, Employees.LastName\n",
        "ORDER BY TotalSales DESC\n",
        ";"
      ],
      "cell_type": "code",
      "metadata": {
        "colab": {
          "base_uri": "https://localhost:8080/"
        },
        "id": "LdjRjraNmbKU",
        "outputId": "9ccfc5bf-ac13-484c-f990-937c8b6a057f"
      },
      "execution_count": 34,
      "outputs": [
        {
          "output_type": "stream",
          "name": "stdout",
          "text": [
            "EmployeeId  FirstName  LastName  TotalSales      \n",
            "----------  ---------  --------  ----------------\n",
            "3           Jane       Peacock   833.040000000001\n",
            "4           Margaret   Park      775.400000000001\n",
            "5           Steve      Johnson   720.160000000001\n",
            "1           Andrew     Adams                     \n",
            "2           Nancy      Edwards                   \n",
            "6           Michael    Mitchell                  \n",
            "7           Robert     King                      \n",
            "8           Laura      Callahan                  \n"
          ]
        }
      ]
    },
    {
      "source": [
        "#Define SQL query which finds out which employee has the highest sales, and load results into a pandas dataframe. Then run graphics on data.\n",
        "\n",
        "# Join table 'employees' with table 'customers' via employeeID to supportRepID\n",
        "# Join that output to invoices table via 'customers' customer ID to customerID\n",
        "# Display sum of total column per employee\n",
        "# Sort in ascending order\n",
        "\n",
        "import pandas as pd\n",
        "import sqlite3\n",
        "\n",
        "# Connect to database\n",
        "conn = sqlite3.connect('chinook.db')\n",
        "\n",
        "# Define SQL query\n",
        "query = \"\"\"\n",
        "SELECT\n",
        "    Employees.EmployeeId,\n",
        "    Employees.FirstName,\n",
        "    Employees.LastName,\n",
        "    SUM(invoices.Total) AS TotalSales\n",
        "\n",
        "FROM Employees\n",
        "LEFT JOIN customers ON EmployeeId = customers.SupportRepId\n",
        "LEFT JOIN invoices ON customers.CustomerId = invoices.CustomerId\n",
        "GROUP BY Employees.EmployeeId, Employees.FirstName, Employees.LastName\n",
        "ORDER BY TotalSales DESC;\n",
        "\"\"\"\n",
        "\n",
        "# Execute query and store results in a DataFrame\n",
        "df = pd.read_sql_query(query, conn)\n",
        "\n",
        "# Close connection\n",
        "conn.close()\n",
        "\n",
        "# Now 'df' contains the data as a DataFrame\n",
        "print(df.head())  # Print the first few rows to verify"
      ],
      "cell_type": "code",
      "metadata": {
        "colab": {
          "base_uri": "https://localhost:8080/"
        },
        "id": "ENCWpxlDxsaH",
        "outputId": "fa8f1257-e742-482c-a537-22e5abe19cf7"
      },
      "execution_count": 35,
      "outputs": [
        {
          "output_type": "stream",
          "name": "stdout",
          "text": [
            "   EmployeeId FirstName LastName  TotalSales\n",
            "0           3      Jane  Peacock      833.04\n",
            "1           4  Margaret     Park      775.40\n",
            "2           5     Steve  Johnson      720.16\n",
            "3           1    Andrew    Adams         NaN\n",
            "4           2     Nancy  Edwards         NaN\n"
          ]
        }
      ]
    },
    {
      "source": [
        "#Same as above but include dollar amount for employees with nulls\n",
        "\n",
        "import pandas as pd\n",
        "import sqlite3\n",
        "\n",
        "# Connect to the database\n",
        "conn = sqlite3.connect('chinook.db')\n",
        "\n",
        "# Modified SQL query to include all employees\n",
        "query = \"\"\"\n",
        "SELECT\n",
        "    Employees.EmployeeId,\n",
        "    Employees.FirstName,\n",
        "    Employees.LastName,\n",
        "    COALESCE(SUM(invoices.Total), 0) AS TotalSales  -- Use COALESCE to handle NULL values\n",
        "\n",
        "FROM Employees\n",
        "LEFT JOIN customers ON EmployeeId = customers.SupportRepId\n",
        "LEFT JOIN invoices ON customers.CustomerId = invoices.CustomerId\n",
        "GROUP BY Employees.EmployeeId, Employees.FirstName, Employees.LastName\n",
        "ORDER BY TotalSales DESC;\n",
        "\"\"\"\n",
        "\n",
        "# Execute query and store results in a DataFrame\n",
        "df1 = pd.read_sql_query(query, conn)\n",
        "\n",
        "# Print head of dataframe\n",
        "print(df1.head()) # Added this line to print the head\n",
        "\n",
        "# Close connection - Optional, good practice to add conn.close() after you are done with database operations\n",
        "# conn.close()"
      ],
      "cell_type": "code",
      "metadata": {
        "colab": {
          "base_uri": "https://localhost:8080/"
        },
        "id": "T0L18wHjybuJ",
        "outputId": "cd79f39d-d1ad-4d95-bb97-90e15f95021d"
      },
      "execution_count": 36,
      "outputs": [
        {
          "output_type": "stream",
          "name": "stdout",
          "text": [
            "   EmployeeId FirstName LastName  TotalSales\n",
            "0           3      Jane  Peacock      833.04\n",
            "1           4  Margaret     Park      775.40\n",
            "2           5     Steve  Johnson      720.16\n",
            "3           1    Andrew    Adams        0.00\n",
            "4           2     Nancy  Edwards        0.00\n"
          ]
        }
      ]
    },
    {
      "source": [
        "#Same as above but include all 8 employees even with missing values or zero dollars in sales\n",
        "\n",
        "import pandas as pd\n",
        "import sqlite3\n",
        "\n",
        "# Connect to the database\n",
        "conn = sqlite3.connect('chinook.db')\n",
        "\n",
        "# Modified SQL query to include all employees and handle NULL sales\n",
        "query = \"\"\"\n",
        "SELECT\n",
        "    E.EmployeeId,\n",
        "    E.FirstName,\n",
        "    E.LastName,\n",
        "    COALESCE(SUM(I.Total), 0) AS TotalSales  -- Use COALESCE to replace NULL sales with 0\n",
        "\n",
        "FROM Employees E\n",
        "LEFT JOIN customers C ON E.EmployeeId = C.SupportRepId\n",
        "LEFT JOIN invoices I ON C.CustomerId = I.CustomerId\n",
        "GROUP BY E.EmployeeId, E.FirstName, E.LastName\n",
        "ORDER BY TotalSales DESC;\n",
        "\"\"\"\n",
        "\n",
        "# Execute query and store results in a DataFrame\n",
        "df2 = pd.read_sql_query(query, conn)\n",
        "\n",
        "# Print the head of the dataframe to verify\n",
        "print(df2)\n",
        "\n",
        "# Close the connection - Optional, good practice to add conn.close() after you are done with database operations\n",
        "conn.close()"
      ],
      "cell_type": "code",
      "metadata": {
        "colab": {
          "base_uri": "https://localhost:8080/"
        },
        "id": "7VUY5VZsyqi7",
        "outputId": "2e81e6ae-d7a6-4208-9f2c-2260e549f220"
      },
      "execution_count": 37,
      "outputs": [
        {
          "output_type": "stream",
          "name": "stdout",
          "text": [
            "   EmployeeId FirstName  LastName  TotalSales\n",
            "0           3      Jane   Peacock      833.04\n",
            "1           4  Margaret      Park      775.40\n",
            "2           5     Steve   Johnson      720.16\n",
            "3           1    Andrew     Adams        0.00\n",
            "4           2     Nancy   Edwards        0.00\n",
            "5           6   Michael  Mitchell        0.00\n",
            "6           7    Robert      King        0.00\n",
            "7           8     Laura  Callahan        0.00\n"
          ]
        }
      ]
    },
    {
      "source": [
        "#Same as above and plot in barchart\n",
        "\n",
        "import pandas as pd\n",
        "import matplotlib.pyplot as plt\n",
        "import sqlite3  # Import sqlite3\n",
        "\n",
        "# Connect to the database\n",
        "conn = sqlite3.connect('chinook.db')\n",
        "\n",
        "# SQL query (from ipython-input-162-1498ee910209)\n",
        "query = \"\"\"\n",
        "SELECT\n",
        "    E.EmployeeId,\n",
        "    E.FirstName,\n",
        "    E.LastName,\n",
        "    COALESCE(SUM(I.Total), 0) AS TotalSales  -- Use COALESCE to replace NULL sales with 0\n",
        "\n",
        "FROM Employees E\n",
        "LEFT JOIN customers C ON E.EmployeeId = C.SupportRepId\n",
        "LEFT JOIN invoices I ON C.CustomerId = I.CustomerId\n",
        "GROUP BY E.EmployeeId, E.FirstName, E.LastName\n",
        "ORDER BY TotalSales DESC;\n",
        "\"\"\"\n",
        "\n",
        "# Execute the query and store results in a DataFrame\n",
        "df2 = pd.read_sql_query(query, conn)\n",
        "\n",
        "# Save the DataFrame to 'output.csv'\n",
        "df2.to_csv('output.csv', index=False)  # Add this line to save the data\n",
        "\n",
        "# Close the connection\n",
        "conn.close()\n",
        "\n",
        "# Now you can read it back if needed\n",
        "df2 = pd.read_csv('output.csv')\n",
        "\n",
        "\n",
        "# Plot\n",
        "plt.figure(figsize=(10, 6))\n",
        "# Access the columns using their correct names\n",
        "plt.bar(df2['FirstName'] + ' ' + df2['LastName'], df2['TotalSales'], color='skyblue')\n",
        "plt.title('Total Sales by Employee')\n",
        "plt.xlabel('Employee')\n",
        "plt.ylabel('Total Sales')\n",
        "plt.xticks(rotation=45)\n",
        "plt.show()"
      ],
      "cell_type": "code",
      "metadata": {
        "colab": {
          "base_uri": "https://localhost:8080/",
          "height": 639
        },
        "id": "3ymiOa4lzIry",
        "outputId": "69974e3a-8980-421f-8010-b928a3716e18"
      },
      "execution_count": 38,
      "outputs": [
        {
          "output_type": "display_data",
          "data": {
            "text/plain": [
              "<Figure size 1000x600 with 1 Axes>"
            ],
            "image/png": "[encoded data removed]"
          },
          "metadata": {}
        }
      ]
    },
    {
      "cell_type": "markdown",
      "source": [
        "### EXTRA CREDIT:\n",
        "* Use a CTE\n",
        "* Use a query that joins two or more tables.\n",
        "* Make a model to see if you can predict something\n",
        "* Come up with something else cool to do with your data\n"
      ],
      "metadata": {
        "id": "H6QrBn3n58mU"
      }
    },
    {
      "source": [
        "#CTE\n",
        "#Create 2 CTEs to output data about employees and customers who are linked in 2 tables.\n",
        "#first CTE: EmployeesCTE is aliased 'ec', second CTE: CustomersCTE aliased 'cc'\n",
        "#'ec' consists of 5 columns, 'cc' consists of 4 columns\n",
        "#Condition for JOINing both CTEs is based on their link from SupportRepId to EmployeeID\n",
        "#INNER JOIN will display only records/rows where supportrepid matches employeeid\n",
        "\n",
        "%%script sqlite3 --column --header chinook.db\n",
        "WITH EmployeesCTE AS (\n",
        "    SELECT\n",
        "        EmployeeId, LastName, FirstName, Title, ReportsTo\n",
        "    FROM employees\n",
        "),\n",
        "CustomersCTE AS (\n",
        "    SELECT\n",
        "        CustomerId, FirstName, LastName, SupportRepId\n",
        "    FROM customers\n",
        ")\n",
        "SELECT\n",
        "    ec.EmployeeId, ec.LastName, ec.FirstName, ec.Title, ec.ReportsTo,\n",
        "    cc.CustomerId, cc.FirstName, cc.LastName\n",
        "FROM CustomersCTE AS cc\n",
        "INNER JOIN EmployeesCTE AS ec\n",
        "ON cc.SupportRepId = ec.EmployeeId\n",
        ";"
      ],
      "cell_type": "code",
      "metadata": {
        "colab": {
          "base_uri": "https://localhost:8080/"
        },
        "id": "r6_tOFL7pSJs",
        "outputId": "6b55ea53-df28-4291-9b38-0927d2bacb6c"
      },
      "execution_count": 39,
      "outputs": [
        {
          "output_type": "stream",
          "name": "stdout",
          "text": [
            "EmployeeId  LastName  FirstName  Title                ReportsTo  CustomerId  FirstName  LastName    \n",
            "----------  --------  ---------  -------------------  ---------  ----------  ---------  ------------\n",
            "3           Peacock   Jane       Sales Support Agent  2          1           Luís       Gonçalves   \n",
            "5           Johnson   Steve      Sales Support Agent  2          2           Leonie     Köhler      \n",
            "3           Peacock   Jane       Sales Support Agent  2          3           François   Tremblay    \n",
            "4           Park      Margaret   Sales Support Agent  2          4           Bjørn      Hansen      \n",
            "4           Park      Margaret   Sales Support Agent  2          5           František  Wichterlová \n",
            "5           Johnson   Steve      Sales Support Agent  2          6           Helena     Holý        \n",
            "5           Johnson   Steve      Sales Support Agent  2          7           Astrid     Gruber      \n",
            "4           Park      Margaret   Sales Support Agent  2          8           Daan       Peeters     \n",
            "4           Park      Margaret   Sales Support Agent  2          9           Kara       Nielsen     \n",
            "4           Park      Margaret   Sales Support Agent  2          10          Eduardo    Martins     \n",
            "5           Johnson   Steve      Sales Support Agent  2          11          Alexandre  Rocha       \n",
            "3           Peacock   Jane       Sales Support Agent  2          12          Roberto    Almeida     \n",
            "4           Park      Margaret   Sales Support Agent  2          13          Fernanda   Ramos       \n",
            "5           Johnson   Steve      Sales Support Agent  2          14          Mark       Philips     \n",
            "3           Peacock   Jane       Sales Support Agent  2          15          Jennifer   Peterson    \n",
            "4           Park      Margaret   Sales Support Agent  2          16          Frank      Harris      \n",
            "5           Johnson   Steve      Sales Support Agent  2          17          Jack       Smith       \n",
            "3           Peacock   Jane       Sales Support Agent  2          18          Michelle   Brooks      \n",
            "3           Peacock   Jane       Sales Support Agent  2          19          Tim        Goyer       \n",
            "4           Park      Margaret   Sales Support Agent  2          20          Dan        Miller      \n",
            "5           Johnson   Steve      Sales Support Agent  2          21          Kathy      Chase       \n",
            "4           Park      Margaret   Sales Support Agent  2          22          Heather    Leacock     \n",
            "4           Park      Margaret   Sales Support Agent  2          23          John       Gordon      \n",
            "3           Peacock   Jane       Sales Support Agent  2          24          Frank      Ralston     \n",
            "5           Johnson   Steve      Sales Support Agent  2          25          Victor     Stevens     \n",
            "4           Park      Margaret   Sales Support Agent  2          26          Richard    Cunningham  \n",
            "4           Park      Margaret   Sales Support Agent  2          27          Patrick    Gray        \n",
            "5           Johnson   Steve      Sales Support Agent  2          28          Julia      Barnett     \n",
            "3           Peacock   Jane       Sales Support Agent  2          29          Robert     Brown       \n",
            "3           Peacock   Jane       Sales Support Agent  2          30          Edward     Francis     \n",
            "5           Johnson   Steve      Sales Support Agent  2          31          Martha     Silk        \n",
            "4           Park      Margaret   Sales Support Agent  2          32          Aaron      Mitchell    \n",
            "3           Peacock   Jane       Sales Support Agent  2          33          Ellie      Sullivan    \n",
            "4           Park      Margaret   Sales Support Agent  2          34          João       Fernandes   \n",
            "4           Park      Margaret   Sales Support Agent  2          35          Madalena   Sampaio     \n",
            "5           Johnson   Steve      Sales Support Agent  2          36          Hannah     Schneider   \n",
            "3           Peacock   Jane       Sales Support Agent  2          37          Fynn       Zimmermann  \n",
            "3           Peacock   Jane       Sales Support Agent  2          38          Niklas     Schröder    \n",
            "4           Park      Margaret   Sales Support Agent  2          39          Camille    Bernard     \n",
            "4           Park      Margaret   Sales Support Agent  2          40          Dominique  Lefebvre    \n",
            "5           Johnson   Steve      Sales Support Agent  2          41          Marc       Dubois      \n",
            "3           Peacock   Jane       Sales Support Agent  2          42          Wyatt      Girard      \n",
            "3           Peacock   Jane       Sales Support Agent  2          43          Isabelle   Mercier     \n",
            "3           Peacock   Jane       Sales Support Agent  2          44          Terhi      Hämäläinen  \n",
            "3           Peacock   Jane       Sales Support Agent  2          45          Ladislav   Kovács      \n",
            "3           Peacock   Jane       Sales Support Agent  2          46          Hugh       O'Reilly    \n",
            "5           Johnson   Steve      Sales Support Agent  2          47          Lucas      Mancini     \n",
            "5           Johnson   Steve      Sales Support Agent  2          48          Johannes   Van der Berg\n",
            "4           Park      Margaret   Sales Support Agent  2          49          Stanisław  Wójcik      \n",
            "5           Johnson   Steve      Sales Support Agent  2          50          Enrique    Muñoz       \n",
            "5           Johnson   Steve      Sales Support Agent  2          51          Joakim     Johansson   \n",
            "3           Peacock   Jane       Sales Support Agent  2          52          Emma       Jones       \n",
            "3           Peacock   Jane       Sales Support Agent  2          53          Phil       Hughes      \n",
            "5           Johnson   Steve      Sales Support Agent  2          54          Steve      Murray      \n",
            "4           Park      Margaret   Sales Support Agent  2          55          Mark       Taylor      \n",
            "4           Park      Margaret   Sales Support Agent  2          56          Diego      Gutiérrez   \n",
            "5           Johnson   Steve      Sales Support Agent  2          57          Luis       Rojas       \n",
            "3           Peacock   Jane       Sales Support Agent  2          58          Manoj      Pareek      \n",
            "3           Peacock   Jane       Sales Support Agent  2          59          Puja       Srivastava  \n"
          ]
        }
      ]
    },
    {
      "cell_type": "code",
      "source": [
        "#Query that joins two or more tables\n",
        "\n",
        "#Business Need: identify trends in customer preferences, allowing for targeted marketing strategies. Do so by analyzing the distribution of tracks by media type.\n",
        "\n",
        "#Question:  How can I retrieve a list of tracks along with their corresponding media types from db?\n",
        "\n",
        "%%script sqlite3 --column --header chinook.db\n",
        "SELECT\n",
        "    t.Name AS TrackName,\n",
        "    mt.Name AS MediaType\n",
        "FROM\n",
        "    tracks AS t\n",
        "JOIN\n",
        "    media_types AS mt ON t.MediaTypeId = mt.MediaTypeId\n",
        "ORDER BY\n",
        "    t.Name\n",
        "LIMIT 20\n"
      ],
      "metadata": {
        "colab": {
          "base_uri": "https://localhost:8080/"
        },
        "id": "-uzc4DLL4jSm",
        "outputId": "e7400189-1e95-46b5-d43a-5784164d918f"
      },
      "execution_count": 40,
      "outputs": [
        {
          "output_type": "stream",
          "name": "stdout",
          "text": [
            "TrackName                                                   MediaType                  \n",
            "----------------------------------------------------------  ---------------------------\n",
            "\"40\"                                                        MPEG audio file            \n",
            "\"?\"                                                         Protected MPEG-4 video file\n",
            "\"Eine Kleine Nachtmusik\" Serenade In G, K. 525: I. Allegro  Protected AAC audio file   \n",
            "#1 Zero                                                     MPEG audio file            \n",
            "#9 Dream                                                    Protected AAC audio file   \n",
            "'Round Midnight                                             MPEG audio file            \n",
            "(Anesthesia) Pulling Teeth                                  MPEG audio file            \n",
            "(Da Le) Yaleo                                               MPEG audio file            \n",
            "(I Can't Help) Falling In Love With You                     MPEG audio file            \n",
            "(Oh) Pretty Woman                                           MPEG audio file            \n",
            "(There Is) No Greater Love (Teo Licks)                      Protected AAC audio file   \n",
            "(We Are) The Road Crew                                      MPEG audio file            \n",
            "(White Man) In Hammersmith Palais                           MPEG audio file            \n",
            "(Wish I Could) Hideaway                                     MPEG audio file            \n",
            "...And Found                                                Protected MPEG-4 video file\n",
            "...And Justice For All                                      MPEG audio file            \n",
            "...In Translation                                           Protected MPEG-4 video file\n",
            ".07%                                                        Protected MPEG-4 video file\n",
            "01 - Prowler                                                MPEG audio file            \n",
            "02 - Sanctuary                                              MPEG audio file            \n"
          ]
        }
      ]
    },
    {
      "cell_type": "code",
      "source": [
        "#Create a predictive model\n",
        "\n",
        "#Business need: Predict which genres and media types will sell best to plan next album launches.\n",
        "\n",
        "#Question: Which genres and media types should we focus on for new music releases?\n",
        "\n",
        "#Model: A Random Forest Regressor is used to predict the total sales of tracks based on genre and media type. The model is trained on historical data from the Chinook database. RFR model does not require one-hot encoding categorical variables like genre and media type.\n",
        "\n",
        "#Outcome: The model's performance is evaluated using the Mean Squared Error (MSE).\n",
        "\n",
        "#This is a Supervised Regression problem bc model is trained on labeled dataset (genre, media type) with known target variable (total sales) which is a continuous numerical variable.\n",
        "\n",
        "#STEP 1: Data extraction- Pull track details, genre, media type, and sales information from table 'tracks', aliased as t. JOIN\n",
        "\n",
        "%%script sqlite3 --column --header chinook.db\n",
        "\n",
        "SELECT\n",
        "t.TrackId,\n",
        "t.Name AS TrackName,\n",
        "g.Name AS Genre,\n",
        "mt.Name AS MediaType,\n",
        "SUM(ii.Quantity) AS TotalSales\n",
        "\n",
        "FROM\n",
        "tracks AS t\n",
        "\n",
        "JOIN\n",
        "genres AS g ON t.GenreId = g.GenreId\n",
        "\n",
        "JOIN\n",
        "media_types AS mt ON t.MediaTypeId = mt.MediaTypeId\n",
        "JOIN\n",
        "\n",
        "invoice_items AS ii ON t.TrackId = ii.TrackId\n",
        "\n",
        "GROUP BY\n",
        "t.TrackId, g.Name, mt.Name\n",
        "\n",
        "ORDER BY\n",
        "TotalSales DESC\n",
        "\n",
        "LIMIT 20\n",
        ";"
      ],
      "metadata": {
        "colab": {
          "base_uri": "https://localhost:8080/"
        },
        "id": "_hPE0xMf6Jhe",
        "outputId": "9b236e3a-60ff-40a5-f1d0-fa3282372c41"
      },
      "execution_count": 41,
      "outputs": [
        {
          "output_type": "stream",
          "name": "stdout",
          "text": [
            "TrackId  TrackName                  Genre               MediaType                 TotalSales\n",
            "-------  -------------------------  ------------------  ------------------------  ----------\n",
            "2        Balls to the Wall          Rock                Protected AAC audio file  2         \n",
            "8        Inject The Venom           Rock                MPEG audio file           2         \n",
            "9        Snowballed                 Rock                MPEG audio file           2         \n",
            "20       Overdose                   Rock                MPEG audio file           2         \n",
            "32       Deuces Are Wild            Rock                MPEG audio file           2         \n",
            "48       Not The Doctor             Rock                MPEG audio file           2         \n",
            "66       Por Causa De Você          Jazz                MPEG audio file           2         \n",
            "84       Welcome Home (Sanitarium)  Metal               MPEG audio file           2         \n",
            "161      Snowblind                  Metal               MPEG audio file           2         \n",
            "162      Cornucopia                 Metal               MPEG audio file           2         \n",
            "171      Bowels Of The Devil        Alternative & Punk  MPEG audio file           2         \n",
            "175      Voodoo                     Alternative & Punk  MPEG audio file           2         \n",
            "184      Chemical Wedding           Metal               MPEG audio file           2         \n",
            "198      When My Left Eye Jumps     Blues               MPEG audio file           2         \n",
            "207      Meditação                  Latin               MPEG audio file           2         \n",
            "211      Bem Devagar                Latin               MPEG audio file           2         \n",
            "217      Mel                        Latin               MPEG audio file           2         \n",
            "229      Samba De Orly              Latin               MPEG audio file           2         \n",
            "234      Morena De Angola           Latin               MPEG audio file           2         \n",
            "240      Meu Caro Amigo             Latin               MPEG audio file           2         \n"
          ]
        }
      ]
    },
    {
      "cell_type": "code",
      "source": [
        "conn = sqlite3.connect('chinook.db')\n",
        "\n",
        "# # Execute the SQL query and load data into a DataFrame\n",
        "query = \"\"\"\n",
        "SELECT\n",
        "    t.TrackId,\n",
        "    t.Name AS TrackName,\n",
        "    g.Name AS Genre,\n",
        "    mt.Name AS MediaType,\n",
        "    SUM(ii.Quantity) AS TotalSales\n",
        "FROM\n",
        "    tracks AS t\n",
        "JOIN\n",
        "    genres AS g ON t.GenreId = g.GenreId\n",
        "JOIN\n",
        "    media_types AS mt ON t.MediaTypeId = mt.MediaTypeId\n",
        "JOIN\n",
        "    invoice_items AS ii ON t.TrackId = ii.TrackId\n",
        "GROUP BY\n",
        "    t.TrackId, g.Name, mt.Name\n",
        "ORDER BY\n",
        "    TotalSales DESC\n",
        ";\n",
        "\"\"\"\n",
        "df = pd.read_sql_query(query, conn)\n",
        "conn.close()\n"
      ],
      "metadata": {
        "id": "pCc8ynyl8f0s"
      },
      "execution_count": 42,
      "outputs": []
    },
    {
      "cell_type": "code",
      "source": [
        "# Prepare the data for modeling:\n",
        "\n",
        "# Encode categorical variables\n",
        "df = pd.get_dummies(df, columns=['Genre', 'MediaType'], drop_first=True)\n",
        "\n",
        "# Define features and target\n",
        "X = df.drop(['TrackId', 'TrackName', 'TotalSales'], axis=1)\n",
        "y = df['TotalSales']\n"
      ],
      "metadata": {
        "id": "WpoXBAmf-Z9U"
      },
      "execution_count": 43,
      "outputs": []
    },
    {
      "cell_type": "code",
      "source": [
        "# Model Creation\n",
        "\n",
        "# Use a machine learning model to predict total sales\n",
        "\n",
        "from sklearn.model_selection import train_test_split\n",
        "from sklearn.ensemble import RandomForestRegressor\n",
        "from sklearn.metrics import mean_squared_error\n",
        "\n",
        "# Split the data\n",
        "X_train, X_test, y_train, y_test = train_test_split(X, y, test_size=0.2, random_state=42)\n",
        "\n",
        "# Create and train the model\n",
        "model = RandomForestRegressor(n_estimators=100, random_state=42)\n",
        "model.fit(X_train, y_train)\n",
        "\n",
        "# Make predictions\n",
        "y_pred = model.predict(X_test)\n",
        "\n",
        "# Evaluate the model\n",
        "mse = mean_squared_error(y_test, y_pred)\n",
        "print(f'Mean Squared Error: {mse:.2f}')\n"
      ],
      "metadata": {
        "colab": {
          "base_uri": "https://localhost:8080/"
        },
        "id": "XYKMmOsJ-sqN",
        "outputId": "396c660d-f744-4c88-80e2-7246a398cdab"
      },
      "execution_count": 44,
      "outputs": [
        {
          "output_type": "stream",
          "name": "stdout",
          "text": [
            "Mean Squared Error: 0.11\n"
          ]
        }
      ]
    },
    {
      "cell_type": "code",
      "source": [
        "# Select the first 10 entries from joining the Customers and Employees tables\n",
        "\n",
        "%%script sqlite3 --column --header chinook.db\n",
        "select *\n",
        "from customers\n",
        "join employees\n",
        "on customers.SupportRepID = employees.EmployeeID\n",
        "limit 10\n",
        ";"
      ],
      "metadata": {
        "id": "0oNobfUnt_4Z",
        "colab": {
          "base_uri": "https://localhost:8080/"
        },
        "outputId": "615ce4c4-76fe-47ab-fb18-fe682fe5d96e"
      },
      "execution_count": 46,
      "outputs": [
        {
          "output_type": "stream",
          "name": "stdout",
          "text": [
            "CustomerId  FirstName  LastName     Company                                           Address                               City                 State  Country         PostalCode  Phone               Fax                 Email                     SupportRepId  EmployeeId  LastName  FirstName  Title                ReportsTo  BirthDate            HireDate             Address           City     State  Country  PostalCode  Phone              Fax                Email                   \n",
            "----------  ---------  -----------  ------------------------------------------------  ------------------------------------  -------------------  -----  --------------  ----------  ------------------  ------------------  ------------------------  ------------  ----------  --------  ---------  -------------------  ---------  -------------------  -------------------  ----------------  -------  -----  -------  ----------  -----------------  -----------------  ------------------------\n",
            "1           Luís       Gonçalves    Embraer - Empresa Brasileira de Aeronáutica S.A.  Av. Brigadeiro Faria Lima, 2170       São José dos Campos  SP     Brazil          12227-000   +55 (12) 3923-5555  +55 (12) 3923-5566  luisg@embraer.com.br      3             3           Peacock   Jane       Sales Support Agent  2          1973-08-29 00:00:00  2002-04-01 00:00:00  1111 6 Ave SW     Calgary  AB     Canada   T2P 5M5     +1 (403) 262-3443  +1 (403) 262-6712  jane@chinookcorp.com    \n",
            "2           Leonie     Köhler                                                         Theodor-Heuss-Straße 34               Stuttgart                   Germany         70174       +49 0711 2842222                        leonekohler@surfeu.de     5             5           Johnson   Steve      Sales Support Agent  2          1965-03-03 00:00:00  2003-10-17 00:00:00  7727B 41 Ave      Calgary  AB     Canada   T3B 1Y7     1 (780) 836-9987   1 (780) 836-9543   steve@chinookcorp.com   \n",
            "3           François   Tremblay                                                       1498 rue Bélanger                     Montréal             QC     Canada          H2G 1A7     +1 (514) 721-4711                       ftremblay@gmail.com       3             3           Peacock   Jane       Sales Support Agent  2          1973-08-29 00:00:00  2002-04-01 00:00:00  1111 6 Ave SW     Calgary  AB     Canada   T2P 5M5     +1 (403) 262-3443  +1 (403) 262-6712  jane@chinookcorp.com    \n",
            "4           Bjørn      Hansen                                                         Ullevålsveien 14                      Oslo                        Norway          0171        +47 22 44 22 22                         bjorn.hansen@yahoo.no     4             4           Park      Margaret   Sales Support Agent  2          1947-09-19 00:00:00  2003-05-03 00:00:00  683 10 Street SW  Calgary  AB     Canada   T2P 5G3     +1 (403) 263-4423  +1 (403) 263-4289  margaret@chinookcorp.com\n",
            "5           František  Wichterlová  JetBrains s.r.o.                                  Klanova 9/506                         Prague                      Czech Republic  14700       +420 2 4172 5555    +420 2 4172 5555    frantisekw@jetbrains.com  4             4           Park      Margaret   Sales Support Agent  2          1947-09-19 00:00:00  2003-05-03 00:00:00  683 10 Street SW  Calgary  AB     Canada   T2P 5G3     +1 (403) 263-4423  +1 (403) 263-4289  margaret@chinookcorp.com\n",
            "6           Helena     Holý                                                           Rilská 3174/6                         Prague                      Czech Republic  14300       +420 2 4177 0449                        hholy@gmail.com           5             5           Johnson   Steve      Sales Support Agent  2          1965-03-03 00:00:00  2003-10-17 00:00:00  7727B 41 Ave      Calgary  AB     Canada   T3B 1Y7     1 (780) 836-9987   1 (780) 836-9543   steve@chinookcorp.com   \n",
            "7           Astrid     Gruber                                                         Rotenturmstraße 4, 1010 Innere Stadt  Vienne                      Austria         1010        +43 01 5134505                          astrid.gruber@apple.at    5             5           Johnson   Steve      Sales Support Agent  2          1965-03-03 00:00:00  2003-10-17 00:00:00  7727B 41 Ave      Calgary  AB     Canada   T3B 1Y7     1 (780) 836-9987   1 (780) 836-9543   steve@chinookcorp.com   \n",
            "8           Daan       Peeters                                                        Grétrystraat 63                       Brussels                    Belgium         1000        +32 02 219 03 03                        daan_peeters@apple.be     4             4           Park      Margaret   Sales Support Agent  2          1947-09-19 00:00:00  2003-05-03 00:00:00  683 10 Street SW  Calgary  AB     Canada   T2P 5G3     +1 (403) 263-4423  +1 (403) 263-4289  margaret@chinookcorp.com\n",
            "9           Kara       Nielsen                                                        Sønder Boulevard 51                   Copenhagen                  Denmark         1720        +453 3331 9991                          kara.nielsen@jubii.dk     4             4           Park      Margaret   Sales Support Agent  2          1947-09-19 00:00:00  2003-05-03 00:00:00  683 10 Street SW  Calgary  AB     Canada   T2P 5G3     +1 (403) 263-4423  +1 (403) 263-4289  margaret@chinookcorp.com\n",
            "10          Eduardo    Martins      Woodstock Discos                                  Rua Dr. Falcão Filho, 155             São Paulo            SP     Brazil          01007-010   +55 (11) 3033-5446  +55 (11) 3033-4564  eduardo@woodstock.com.br  4             4           Park      Margaret   Sales Support Agent  2          1947-09-19 00:00:00  2003-05-03 00:00:00  683 10 Street SW  Calgary  AB     Canada   T2P 5G3     +1 (403) 263-4423  +1 (403) 263-4289  margaret@chinookcorp.com\n"
          ]
        }
      ]
    },
    {
      "cell_type": "code",
      "source": [
        "#RETURN invoice with highest dollar value\n",
        "\n",
        "%%script sqlite3 --column --header chinook.db\n",
        "SELECT customerid, SUM(total) AS total_sales\n",
        "FROM invoices\n",
        "GROUP BY customerid\n",
        "ORDER BY total_sales DESC\n",
        "LIMIT 1\n",
        ";"
      ],
      "metadata": {
        "colab": {
          "base_uri": "https://localhost:8080/"
        },
        "id": "6FVOHdMRJqJA",
        "outputId": "c3ed91c3-ad54-47ee-aa82-7da9422798f0"
      },
      "execution_count": 47,
      "outputs": [
        {
          "output_type": "stream",
          "name": "stdout",
          "text": [
            "CustomerId  total_sales\n",
            "----------  -----------\n",
            "6           49.62      \n"
          ]
        }
      ]
    },
    {
      "source": [
        "# Generate barchart with top 5 genres with most tracks.\n",
        "\n",
        "#Method: Combine column Name from table 'genre' with column TrackId from table 'tracks', sorted by track count in descending order and displaying only 5 top genres.  Saved to a sql query to plot using matplotlib\n",
        "\n",
        "# Connect to the database\n",
        "conn = sqlite3.connect('chinook.db')\n",
        "cursor = conn.cursor()\n",
        "\n",
        "# Execute SQL query\n",
        "cursor.execute(\"\"\"\n",
        "SELECT genres.Name AS GenreName,\n",
        "       COUNT(tracks.TrackId) AS TrackCount\n",
        "FROM genres\n",
        "JOIN tracks ON genres.GenreId = tracks.GenreId\n",
        "GROUP BY genres.GenreId\n",
        "ORDER BY TrackCount DESC\n",
        "LIMIT 5;\n",
        "\"\"\")\n",
        "\n",
        "# Fetch the results and create a Pandas DataFrame\n",
        "genre_data = pd.DataFrame(cursor.fetchall(), columns=['GenreName', 'TrackCount'])\n",
        "\n",
        "# Close the database connection\n",
        "conn.close()\n",
        "\n",
        "# Create the bar chart\n",
        "plt.figure(figsize=(10, 6))\n",
        "plt.bar(genre_data['GenreName'], genre_data['TrackCount'], color='green')\n",
        "plt.title('Top 5 Genres by Number of Tracks')\n",
        "plt.xlabel('Genre')\n",
        "plt.ylabel('Number of Tracks')\n",
        "plt.xticks(rotation=45)\n",
        "plt.show()"
      ],
      "cell_type": "code",
      "metadata": {
        "colab": {
          "base_uri": "https://localhost:8080/",
          "height": 652
        },
        "id": "1x-wczL2gD4g",
        "outputId": "072f2529-8a95-418f-8d3a-ecd4d74064e2"
      },
      "execution_count": 48,
      "outputs": [
        {
          "output_type": "display_data",
          "data": {
            "text/plain": [
              "<Figure size 1000x600 with 1 Axes>"
            ],
            "image/png": "[encoded data removed]"
          },
          "metadata": {}
        }
      ]
    },
    {
      "cell_type": "markdown",
      "source": [
        "Steps to Plot SQL Query Results ( %%script sqlite3) in Jupyter Notebook/Colab using Python libraries like Matplotlib and Seaborn:\n",
        "\n",
        "\n",
        "\n",
        "1. **Set Up Your Environment:**\n",
        "   - Install necessary libraries (`pandas`, `matplotlib`, `seaborn`).\n",
        "\n",
        "2. **Upload Your Database File (if using Colab).**\n",
        "\n",
        "3. **Execute SQL Queries Using `%%script sqlite3`:**\n",
        "   - Write the SQL query and redirect output to a CSV file.\n",
        "\n",
        "4. **Read the Output into a Pandas DataFrame.**\n",
        "\n",
        "5. **Plot the Data Using Matplotlib or Seaborn.**\n",
        "\n",
        "6. **Repeat for Other Queries:**\n",
        "   - Write new SQL queries, output to CSV, read into DataFrames, and create plots.\n",
        "\n",
        "7. **Customize Your Plots.**\n",
        "\n",
        "8. **Save or Export Your Plots (Optional).**"
      ],
      "metadata": {
        "id": "dHdKEGlu0GRL"
      }
    }
  ]
}