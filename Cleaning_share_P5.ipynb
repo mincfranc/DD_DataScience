{
  "nbformat": 4,
  "nbformat_minor": 0,
  "metadata": {
    "colab": {
      "provenance": [],
      "authorship_tag": "ABX9TyOE/HbzsfovqicOMkRqoKUy",
      "include_colab_link": true
    },
    "kernelspec": {
      "name": "python3",
      "display_name": "Python 3"
    },
    "language_info": {
      "name": "python"
    }
  },
  "cells": [
    {
      "cell_type": "markdown",
      "metadata": {
        "id": "view-in-github",
        "colab_type": "text"
      },
      "source": [
        "<a href=\"https://colab.research.google.com/github/mincfranc/DD_DataScience/blob/main/Cleaning_share_P5.ipynb\" target=\"_parent\"><img src=\"https://colab.research.google.com/assets/colab-badge.svg\" alt=\"Open In Colab\"/></a>"
      ]
    },
    {
      "cell_type": "code",
      "execution_count": null,
      "metadata": {
        "id": "Pnj3Chlt2x-k"
      },
      "outputs": [],
      "source": []
    },
    {
      "cell_type": "markdown",
      "source": [
        "####*Part 1) Aim:*\n",
        "\n",
        "For user to pick any one person from list as input and output the 10 other people who's overview are \"closest\" to the person in a Natural Language Processing sense. Also output the sentiment of the overview of the person\n",
        "\n",
        "* Load the CSV file: df named \"step1\"\n",
        "1.   Data Cleaning\n",
        "2.   Bag of Words Using CountVectorizer: to compute similarity between overviews (\"text\")\n",
        "3.   TD-IDF: to find closest overviews based on similarity\n",
        "4.   K Nearest Neighbors: to analyze sentiment of specified overview\n",
        "5.  Output sentiment"
      ],
      "metadata": {
        "id": "fLxAgGef3elm"
      }
    },
    {
      "cell_type": "code",
      "source": [
        "import pandas as pd\n",
        "import re\n",
        "import nltk\n",
        "from nltk.corpus import stopwords, wordnet\n",
        "nltk.download('stopwords')\n",
        "\n",
        "# Set up stop words\n",
        "stop_words = set(stopwords.words('english'))\n",
        "\n",
        "from nltk.sentiment.vader import SentimentIntensityAnalyzer\n",
        "# nltk.download('omw-1.4')\n",
        "nltk.download('punkt_tab')\n",
        "nltk.download('averaged_perceptron_tagger_eng')\n",
        "\n",
        "from sklearn.feature_extraction.text import CountVectorizer\n",
        "from sklearn.feature_extraction.text import TfidfVectorizer\n",
        "from sklearn.metrics.pairwise import cosine_similarity\n",
        "\n",
        "# nlkt stop words and wordnet (lemmatizer)\n",
        "\n",
        "pd.options.display.max_columns = 100\n",
        "\n",
        "\n",
        "\n"
      ],
      "metadata": {
        "id": "yHBJAbrGviBT",
        "colab": {
          "base_uri": "https://localhost:8080/"
        },
        "outputId": "367db67e-b197-4c18-b8e4-aee1116d59de"
      },
      "execution_count": 1,
      "outputs": [
        {
          "output_type": "stream",
          "name": "stderr",
          "text": [
            "[nltk_data] Downloading package stopwords to /root/nltk_data...\n",
            "[nltk_data]   Unzipping corpora/stopwords.zip.\n",
            "[nltk_data] Downloading package punkt_tab to /root/nltk_data...\n",
            "[nltk_data]   Unzipping tokenizers/punkt_tab.zip.\n",
            "[nltk_data] Downloading package averaged_perceptron_tagger_eng to\n",
            "[nltk_data]     /root/nltk_data...\n",
            "[nltk_data]   Unzipping taggers/averaged_perceptron_tagger_eng.zip.\n"
          ]
        }
      ]
    },
    {
      "cell_type": "code",
      "source": [
        "%%capture\n",
        "# Install textblob\n",
        "!pip install -U textblob\n",
        "from textblob import TextBlob"
      ],
      "metadata": {
        "id": "2zfS7P7n3Bvw"
      },
      "execution_count": 2,
      "outputs": []
    },
    {
      "cell_type": "code",
      "source": [
        "%%capture\n",
        "# Download corpora\n",
        "!python -m textblob.download_corpora"
      ],
      "metadata": {
        "id": "vkssa0lN3Bt8"
      },
      "execution_count": 3,
      "outputs": []
    },
    {
      "cell_type": "code",
      "source": [
        "url= \"https://ddc-datascience.s3.amazonaws.com/Projects/Project.5-NLP/Data/NLP.csv\"\n",
        "nlp = pd.read_csv(url)\n",
        "step1= nlp.copy()"
      ],
      "metadata": {
        "id": "c8mNCYjK3Bq4"
      },
      "execution_count": 4,
      "outputs": []
    },
    {
      "cell_type": "code",
      "source": [
        "nlp.info()\n",
        "step1.info()"
      ],
      "metadata": {
        "colab": {
          "base_uri": "https://localhost:8080/"
        },
        "id": "5cV7pkyE3Boo",
        "outputId": "f23bbf6c-b4ad-4cc3-be58-4958608ee315"
      },
      "execution_count": 5,
      "outputs": [
        {
          "output_type": "stream",
          "name": "stdout",
          "text": [
            "<class 'pandas.core.frame.DataFrame'>\n",
            "RangeIndex: 42786 entries, 0 to 42785\n",
            "Data columns (total 3 columns):\n",
            " #   Column  Non-Null Count  Dtype \n",
            "---  ------  --------------  ----- \n",
            " 0   URI     42786 non-null  object\n",
            " 1   name    42786 non-null  object\n",
            " 2   text    42786 non-null  object\n",
            "dtypes: object(3)\n",
            "memory usage: 1002.9+ KB\n",
            "<class 'pandas.core.frame.DataFrame'>\n",
            "RangeIndex: 42786 entries, 0 to 42785\n",
            "Data columns (total 3 columns):\n",
            " #   Column  Non-Null Count  Dtype \n",
            "---  ------  --------------  ----- \n",
            " 0   URI     42786 non-null  object\n",
            " 1   name    42786 non-null  object\n",
            " 2   text    42786 non-null  object\n",
            "dtypes: object(3)\n",
            "memory usage: 1002.9+ KB\n"
          ]
        }
      ]
    },
    {
      "cell_type": "markdown",
      "source": [
        "Cell content is object/string data type.\n",
        "\n",
        "\"URI\" column appears to be an ID and will not be used for vectorization, use for Part 2\n",
        "\n",
        "\"text\" column to be used for vectorization"
      ],
      "metadata": {
        "id": "qz_Shzan3oaH"
      }
    },
    {
      "cell_type": "code",
      "source": [
        "step1.head()"
      ],
      "metadata": {
        "colab": {
          "base_uri": "https://localhost:8080/",
          "height": 206
        },
        "id": "srCYuMSv3BmW",
        "outputId": "abada9af-fc8c-4fc2-8fc1-efc681cf4489"
      },
      "execution_count": 6,
      "outputs": [
        {
          "output_type": "execute_result",
          "data": {
            "text/plain": [
              "                                                 URI                 name  \\\n",
              "0        <http://dbpedia.org/resource/Digby_Morrell>        Digby Morrell   \n",
              "1       <http://dbpedia.org/resource/Alfred_J._Lewy>       Alfred J. Lewy   \n",
              "2        <http://dbpedia.org/resource/Harpdog_Brown>        Harpdog Brown   \n",
              "3  <http://dbpedia.org/resource/Franz_Rottensteiner>  Franz Rottensteiner   \n",
              "4               <http://dbpedia.org/resource/G-Enka>               G-Enka   \n",
              "\n",
              "                                                text  \n",
              "0  digby morrell born 10 october 1979 is a former...  \n",
              "1  alfred j lewy aka sandy lewy graduated from un...  \n",
              "2  harpdog brown is a singer and harmonica player...  \n",
              "3  franz rottensteiner born in waidmannsfeld lowe...  \n",
              "4  henry krvits born 30 december 1974 in tallinn ...  "
            ],
            "text/html": [
              "\n",
              "  <div id=\"df-6d627836-8c20-4136-b91c-1ad74380d99e\" class=\"colab-df-container\">\n",
              "    <div>\n",
              "<style scoped>\n",
              "    .dataframe tbody tr th:only-of-type {\n",
              "        vertical-align: middle;\n",
              "    }\n",
              "\n",
              "    .dataframe tbody tr th {\n",
              "        vertical-align: top;\n",
              "    }\n",
              "\n",
              "    .dataframe thead th {\n",
              "        text-align: right;\n",
              "    }\n",
              "</style>\n",
              "<table border=\"1\" class=\"dataframe\">\n",
              "  <thead>\n",
              "    <tr style=\"text-align: right;\">\n",
              "      <th></th>\n",
              "      <th>URI</th>\n",
              "      <th>name</th>\n",
              "      <th>text</th>\n",
              "    </tr>\n",
              "  </thead>\n",
              "  <tbody>\n",
              "    <tr>\n",
              "      <th>0</th>\n",
              "      <td>&lt;http://dbpedia.org/resource/Digby_Morrell&gt;</td>\n",
              "      <td>Digby Morrell</td>\n",
              "      <td>digby morrell born 10 october 1979 is a former...</td>\n",
              "    </tr>\n",
              "    <tr>\n",
              "      <th>1</th>\n",
              "      <td>&lt;http://dbpedia.org/resource/Alfred_J._Lewy&gt;</td>\n",
              "      <td>Alfred J. Lewy</td>\n",
              "      <td>alfred j lewy aka sandy lewy graduated from un...</td>\n",
              "    </tr>\n",
              "    <tr>\n",
              "      <th>2</th>\n",
              "      <td>&lt;http://dbpedia.org/resource/Harpdog_Brown&gt;</td>\n",
              "      <td>Harpdog Brown</td>\n",
              "      <td>harpdog brown is a singer and harmonica player...</td>\n",
              "    </tr>\n",
              "    <tr>\n",
              "      <th>3</th>\n",
              "      <td>&lt;http://dbpedia.org/resource/Franz_Rottensteiner&gt;</td>\n",
              "      <td>Franz Rottensteiner</td>\n",
              "      <td>franz rottensteiner born in waidmannsfeld lowe...</td>\n",
              "    </tr>\n",
              "    <tr>\n",
              "      <th>4</th>\n",
              "      <td>&lt;http://dbpedia.org/resource/G-Enka&gt;</td>\n",
              "      <td>G-Enka</td>\n",
              "      <td>henry krvits born 30 december 1974 in tallinn ...</td>\n",
              "    </tr>\n",
              "  </tbody>\n",
              "</table>\n",
              "</div>\n",
              "    <div class=\"colab-df-buttons\">\n",
              "\n",
              "  <div class=\"colab-df-container\">\n",
              "    <button class=\"colab-df-convert\" onclick=\"convertToInteractive('df-6d627836-8c20-4136-b91c-1ad74380d99e')\"\n",
              "            title=\"Convert this dataframe to an interactive table.\"\n",
              "            style=\"display:none;\">\n",
              "\n",
              "  <svg xmlns=\"http://www.w3.org/2000/svg\" height=\"24px\" viewBox=\"0 -960 960 960\">\n",
              "    <path d=\"M120-120v-720h720v720H120Zm60-500h600v-160H180v160Zm220 220h160v-160H400v160Zm0 220h160v-160H400v160ZM180-400h160v-160H180v160Zm440 0h160v-160H620v160ZM180-180h160v-160H180v160Zm440 0h160v-160H620v160Z\"/>\n",
              "  </svg>\n",
              "    </button>\n",
              "\n",
              "  <style>\n",
              "    .colab-df-container {\n",
              "      display:flex;\n",
              "      gap: 12px;\n",
              "    }\n",
              "\n",
              "    .colab-df-convert {\n",
              "      background-color: #E8F0FE;\n",
              "      border: none;\n",
              "      border-radius: 50%;\n",
              "      cursor: pointer;\n",
              "      display: none;\n",
              "      fill: #1967D2;\n",
              "      height: 32px;\n",
              "      padding: 0 0 0 0;\n",
              "      width: 32px;\n",
              "    }\n",
              "\n",
              "    .colab-df-convert:hover {\n",
              "      background-color: #E2EBFA;\n",
              "      box-shadow: 0px 1px 2px rgba(60, 64, 67, 0.3), 0px 1px 3px 1px rgba(60, 64, 67, 0.15);\n",
              "      fill: #174EA6;\n",
              "    }\n",
              "\n",
              "    .colab-df-buttons div {\n",
              "      margin-bottom: 4px;\n",
              "    }\n",
              "\n",
              "    [theme=dark] .colab-df-convert {\n",
              "      background-color: #3B4455;\n",
              "      fill: #D2E3FC;\n",
              "    }\n",
              "\n",
              "    [theme=dark] .colab-df-convert:hover {\n",
              "      background-color: #434B5C;\n",
              "      box-shadow: 0px 1px 3px 1px rgba(0, 0, 0, 0.15);\n",
              "      filter: drop-shadow(0px 1px 2px rgba(0, 0, 0, 0.3));\n",
              "      fill: #FFFFFF;\n",
              "    }\n",
              "  </style>\n",
              "\n",
              "    <script>\n",
              "      const buttonEl =\n",
              "        document.querySelector('#df-6d627836-8c20-4136-b91c-1ad74380d99e button.colab-df-convert');\n",
              "      buttonEl.style.display =\n",
              "        google.colab.kernel.accessAllowed ? 'block' : 'none';\n",
              "\n",
              "      async function convertToInteractive(key) {\n",
              "        const element = document.querySelector('#df-6d627836-8c20-4136-b91c-1ad74380d99e');\n",
              "        const dataTable =\n",
              "          await google.colab.kernel.invokeFunction('convertToInteractive',\n",
              "                                                    [key], {});\n",
              "        if (!dataTable) return;\n",
              "\n",
              "        const docLinkHtml = 'Like what you see? Visit the ' +\n",
              "          '<a target=\"_blank\" href=https://colab.research.google.com/notebooks/data_table.ipynb>data table notebook</a>'\n",
              "          + ' to learn more about interactive tables.';\n",
              "        element.innerHTML = '';\n",
              "        dataTable['output_type'] = 'display_data';\n",
              "        await google.colab.output.renderOutput(dataTable, element);\n",
              "        const docLink = document.createElement('div');\n",
              "        docLink.innerHTML = docLinkHtml;\n",
              "        element.appendChild(docLink);\n",
              "      }\n",
              "    </script>\n",
              "  </div>\n",
              "\n",
              "\n",
              "<div id=\"df-ae1bdb0f-f140-4dfd-957c-bf3bde8c807a\">\n",
              "  <button class=\"colab-df-quickchart\" onclick=\"quickchart('df-ae1bdb0f-f140-4dfd-957c-bf3bde8c807a')\"\n",
              "            title=\"Suggest charts\"\n",
              "            style=\"display:none;\">\n",
              "\n",
              "<svg xmlns=\"http://www.w3.org/2000/svg\" height=\"24px\"viewBox=\"0 0 24 24\"\n",
              "     width=\"24px\">\n",
              "    <g>\n",
              "        <path d=\"M19 3H5c-1.1 0-2 .9-2 2v14c0 1.1.9 2 2 2h14c1.1 0 2-.9 2-2V5c0-1.1-.9-2-2-2zM9 17H7v-7h2v7zm4 0h-2V7h2v10zm4 0h-2v-4h2v4z\"/>\n",
              "    </g>\n",
              "</svg>\n",
              "  </button>\n",
              "\n",
              "<style>\n",
              "  .colab-df-quickchart {\n",
              "      --bg-color: #E8F0FE;\n",
              "      --fill-color: #1967D2;\n",
              "      --hover-bg-color: #E2EBFA;\n",
              "      --hover-fill-color: #174EA6;\n",
              "      --disabled-fill-color: #AAA;\n",
              "      --disabled-bg-color: #DDD;\n",
              "  }\n",
              "\n",
              "  [theme=dark] .colab-df-quickchart {\n",
              "      --bg-color: #3B4455;\n",
              "      --fill-color: #D2E3FC;\n",
              "      --hover-bg-color: #434B5C;\n",
              "      --hover-fill-color: #FFFFFF;\n",
              "      --disabled-bg-color: #3B4455;\n",
              "      --disabled-fill-color: #666;\n",
              "  }\n",
              "\n",
              "  .colab-df-quickchart {\n",
              "    background-color: var(--bg-color);\n",
              "    border: none;\n",
              "    border-radius: 50%;\n",
              "    cursor: pointer;\n",
              "    display: none;\n",
              "    fill: var(--fill-color);\n",
              "    height: 32px;\n",
              "    padding: 0;\n",
              "    width: 32px;\n",
              "  }\n",
              "\n",
              "  .colab-df-quickchart:hover {\n",
              "    background-color: var(--hover-bg-color);\n",
              "    box-shadow: 0 1px 2px rgba(60, 64, 67, 0.3), 0 1px 3px 1px rgba(60, 64, 67, 0.15);\n",
              "    fill: var(--button-hover-fill-color);\n",
              "  }\n",
              "\n",
              "  .colab-df-quickchart-complete:disabled,\n",
              "  .colab-df-quickchart-complete:disabled:hover {\n",
              "    background-color: var(--disabled-bg-color);\n",
              "    fill: var(--disabled-fill-color);\n",
              "    box-shadow: none;\n",
              "  }\n",
              "\n",
              "  .colab-df-spinner {\n",
              "    border: 2px solid var(--fill-color);\n",
              "    border-color: transparent;\n",
              "    border-bottom-color: var(--fill-color);\n",
              "    animation:\n",
              "      spin 1s steps(1) infinite;\n",
              "  }\n",
              "\n",
              "  @keyframes spin {\n",
              "    0% {\n",
              "      border-color: transparent;\n",
              "      border-bottom-color: var(--fill-color);\n",
              "      border-left-color: var(--fill-color);\n",
              "    }\n",
              "    20% {\n",
              "      border-color: transparent;\n",
              "      border-left-color: var(--fill-color);\n",
              "      border-top-color: var(--fill-color);\n",
              "    }\n",
              "    30% {\n",
              "      border-color: transparent;\n",
              "      border-left-color: var(--fill-color);\n",
              "      border-top-color: var(--fill-color);\n",
              "      border-right-color: var(--fill-color);\n",
              "    }\n",
              "    40% {\n",
              "      border-color: transparent;\n",
              "      border-right-color: var(--fill-color);\n",
              "      border-top-color: var(--fill-color);\n",
              "    }\n",
              "    60% {\n",
              "      border-color: transparent;\n",
              "      border-right-color: var(--fill-color);\n",
              "    }\n",
              "    80% {\n",
              "      border-color: transparent;\n",
              "      border-right-color: var(--fill-color);\n",
              "      border-bottom-color: var(--fill-color);\n",
              "    }\n",
              "    90% {\n",
              "      border-color: transparent;\n",
              "      border-bottom-color: var(--fill-color);\n",
              "    }\n",
              "  }\n",
              "</style>\n",
              "\n",
              "  <script>\n",
              "    async function quickchart(key) {\n",
              "      const quickchartButtonEl =\n",
              "        document.querySelector('#' + key + ' button');\n",
              "      quickchartButtonEl.disabled = true;  // To prevent multiple clicks.\n",
              "      quickchartButtonEl.classList.add('colab-df-spinner');\n",
              "      try {\n",
              "        const charts = await google.colab.kernel.invokeFunction(\n",
              "            'suggestCharts', [key], {});\n",
              "      } catch (error) {\n",
              "        console.error('Error during call to suggestCharts:', error);\n",
              "      }\n",
              "      quickchartButtonEl.classList.remove('colab-df-spinner');\n",
              "      quickchartButtonEl.classList.add('colab-df-quickchart-complete');\n",
              "    }\n",
              "    (() => {\n",
              "      let quickchartButtonEl =\n",
              "        document.querySelector('#df-ae1bdb0f-f140-4dfd-957c-bf3bde8c807a button');\n",
              "      quickchartButtonEl.style.display =\n",
              "        google.colab.kernel.accessAllowed ? 'block' : 'none';\n",
              "    })();\n",
              "  </script>\n",
              "</div>\n",
              "\n",
              "    </div>\n",
              "  </div>\n"
            ],
            "application/vnd.google.colaboratory.intrinsic+json": {
              "type": "dataframe",
              "variable_name": "step1",
              "summary": "{\n  \"name\": \"step1\",\n  \"rows\": 42786,\n  \"fields\": [\n    {\n      \"column\": \"URI\",\n      \"properties\": {\n        \"dtype\": \"string\",\n        \"num_unique_values\": 42786,\n        \"samples\": [\n          \"<http://dbpedia.org/resource/Tom_Bancroft>\",\n          \"<http://dbpedia.org/resource/Bart_Zeller>\",\n          \"<http://dbpedia.org/resource/Caitlin_Morrall>\"\n        ],\n        \"semantic_type\": \"\",\n        \"description\": \"\"\n      }\n    },\n    {\n      \"column\": \"name\",\n      \"properties\": {\n        \"dtype\": \"string\",\n        \"num_unique_values\": 42785,\n        \"samples\": [\n          \"Tom Bancroft\",\n          \"James Holt (scholar)\",\n          \"Chen Tze-chung\"\n        ],\n        \"semantic_type\": \"\",\n        \"description\": \"\"\n      }\n    },\n    {\n      \"column\": \"text\",\n      \"properties\": {\n        \"dtype\": \"string\",\n        \"num_unique_values\": 42786,\n        \"samples\": [\n          \"tom bancroft born 1967 london is a british jazz drummer and composer he began drumming aged seven and started off playing jazz with his father and identical twin brother phil after studying medicine at cambridge university he spent a year studying composition and arranging at mcgill university in montreal canada qualifying as a doctor in 1992 he then worked as a jazz musician and composer supporting his music income with locum work as a hospital doctor until 1998 when he began starting music related companies he is married to singer gina rae and has two children sam and sophie in 2004 he received the creative scotland awardin 1998 he launched caber music with support from the national lottery fund which went on to release over thirty cds over the next seven years to critical acclaim including two bbc jazz awards for best cd and numerous album of the year placings he has subsequently started the company abc creative music with his twin brother phil bancroft which develops creative music education resources which are now being used in more than 500 schools in scotlandas a drummer he has studied with jo morello joey baron and andrew cyrille and played with many musicians including sun ra joakim milder charlie mariano hamiett bluiett liane carroll oliver lake george colligan david berkman tommy smith julian argelles emil vicklicky martin taylor sheila jordan shooglenifty karen mathieson reid anderson billy jenkins bill wells geri allen mr mcfalls chamber and martyn bennetthe is currently the drummer with the dave milligan trio the chick lyall trio and kevin mackenzies vital signs the laura macdonald quartet and octet and plays in an improvising duo with the italian guitarist enzo roccohe is drummer and coleader of trio aab whose first album cold fusion was named an album of 1999 by bbc radio 3 and whose second album wherever i lay my home thats my hat was an album of 2001 in the guardian and picked in a list of 100 essential all time jazz albums by mojo magazine in 2001 they also released stranger things happen at c in 2002 reactivated in 2011 trio aab performed at the delhi jazz festivalas a band leader and composer he has led orchestro interrupto formerly the tom bancroft orchestra a contemporary jazz big band producing the album pieology in 1998 many festival performances a uk tour and a live concert broadcast on bbc radio 3 in 2004 the band toured the uk with geri allen and the tour was broadcast on bbc radio 3 and received five star reviews in the guardian and the scotsman and was voted jazz gig of the year in manchesters city limits and londons time out magazines orchestri interrupto released a cd in 2009 of the music from the geri allen tour with chick lyall on piano entitled the ballad of linda crawford bancroft has also composed for smaller groups including the orange ear ensemble octet and kilt couture a collaboration with french group arfi in 2006 he launched the new tom bancroft 6 pack as well as a spinoff childrens focussed band from the orchestra called kidsamonium which premiered at the gateshead international jazz festival at the sage gateshead and also at the cheltenham jazz festival in 2006 and went on to perform all over europebancrofts compositions have been used in radio film dance television and theatre he has been commissioned by bbc scotland bbc radio 3 glasgow international jazz festival assembly direct birmingham jazz and the national youth jazz orchestra of scotland he has danced in played and composed music for life on the planets surface with kelsey michael and a case for a picnic pt2 tracing houdini and hoops hats acrobats with the choreographer ruby worthhe has led many large scale community and education projects including 150 primary school children performing at the london jazz festival 200 at perth concert hall with classical percussionist colin currie and 100 parents grandparents and children playing drums and percussion at the big stix project at the gateshead jazz festivalbancroft is an active teacher and educator from private drum students to teaching composition and leading big bands he is an apple distinguished educator he has always been active in setting up new ways to promote jazz and improvisation he curated a series of mini festivals for uk and european musicians inside the glasgow jazz festival in the 1990s called clandemonium and europhonium he was active in setting up the scottish jazz federationin 2010 he was musical director of major dance show off kilter which played in major venues across scotland toured scotland with the dave milligan trio and premiered the band of eden malefemale big band to critical acclaimin late 2010 in his role at abc creative music bancroft launched the website abc creative music online to allow scottish schools to teach creative music by smartboard\",\n          \"barton wallace zeller born july 22 1941 is a former professional baseball catcher he played one game in major league baseball in 1970 for the st louis cardinals he recently served as manager of the joliet slammers of the frontier league but was released on september 10 2012zeller was signed by the cardinals in 1963 and spent four years in the cardinals farm system after missing the 1967 season he spent 1968 and 1969 with the lewiston broncs and arkansas travelers respectively zeller played in his only major league game on may 21 1970 against the philadelphia phillies he was inserted to catch the bottom of the ninth inning zeller never had a plate appearance but was credited with one put out on billy mccools strikeout of jim hutto zeller batted and threw righthanded his jersey number was 29 at the time of play he was 6 ft 1 in tall and weighed 185 lbzeller was released as an active player by the cardinals on june 8 but stayed on as a coach for the balance of the 1970 season he played in the minors in 1971 in the milwaukee brewers and new york yankees organizationszeller was the hitting coachthird base coach for the southern illinois miners of the frontier league an independent baseball league zeller began working for the miners in their inaugural 2007 season before coming to the miners zeller spent two seasons with the sioux falls canaries as a bench coach zeller was named as the first manager of slammers in january 2011zeller is currently managing the washington wild things of the frontier league\",\n          \"caitlin shea morrall machol born may 2 1983 is a beauty queen from burlington wisconsin who competed in the 2008 miss usa pageantmorrall who had previously competed in the miss wisconsin america system won the miss wisconsin usa 2007 title in the state pageant held at richland center on 2 september 2006 she competed in the nationally televised miss usa 2007 pageant which was broadcast live from the kodak theatre in hollywood california on march 23 2007 where she placed in top 15 this was the best finish by a contestant from wisconsin in 28 yearsin june 2006 morrall placed first runnerup in the miss wisconsin competition where she competed as miss burlington area chocolatefest she had previously placed 3rd runnerup in 2004 1st runnerup in 2003 and 2nd runnerup in 2002 morrall has held other local titles such as miss racine in 2002 miss milwaukee in 2003 and miss southern wisconsin in 2004 despite being eligible to compete in the miss america system for one more year morrall made the decision to compete in the miss wisconsin usa pageant one week before applications for the pageant closedmorrall is a 2001 graduate of burlington high school wisconsin and is a 2008 graduate of alverno college in milwaukee with a bachelor of arts degree in professional communicationcaitlin is currently the traffic reporter in the morning for wtmjtv 4\"\n        ],\n        \"semantic_type\": \"\",\n        \"description\": \"\"\n      }\n    }\n  ]\n}"
            }
          },
          "metadata": {},
          "execution_count": 6
        }
      ]
    },
    {
      "cell_type": "markdown",
      "source": [
        "Shape: 3 columns, 42k+rows\n",
        "\n",
        "Zero nulls, Zero duplicates\n",
        "\n",
        "Object key. However, cell content is string"
      ],
      "metadata": {
        "id": "sPTVe94G3yD9"
      }
    },
    {
      "cell_type": "code",
      "source": [
        "print(step1.shape)\n",
        "print(step1.columns)\n",
        "\n",
        "print(step1.nunique())\n",
        "print(step1.duplicated().value_counts())\n",
        "\n",
        "print(step1.isnull().sum())"
      ],
      "metadata": {
        "colab": {
          "base_uri": "https://localhost:8080/"
        },
        "id": "RNSW6syf3BiX",
        "outputId": "5077607d-2965-4bf1-d838-6418a1be43ae"
      },
      "execution_count": 7,
      "outputs": [
        {
          "output_type": "stream",
          "name": "stdout",
          "text": [
            "(42786, 3)\n",
            "Index(['URI', 'name', 'text'], dtype='object')\n",
            "URI     42786\n",
            "name    42785\n",
            "text    42786\n",
            "dtype: int64\n",
            "False    42786\n",
            "Name: count, dtype: int64\n",
            "URI     0\n",
            "name    0\n",
            "text    0\n",
            "dtype: int64\n"
          ]
        }
      ]
    },
    {
      "cell_type": "markdown",
      "source": [
        "I decided to follow one file to run various data cleaning methods and attributes.\n",
        "I  used iloc[0] to select the 1st person on the list"
      ],
      "metadata": {
        "id": "c_cE8-lX36BW"
      }
    },
    {
      "cell_type": "code",
      "source": [
        "#RETURN all contents for row 1, column 2 ('text')\n",
        "pd.set_option(\"display.max_colwidth\", None)  # Set max column width to unlimited\n",
        "print(step1.iloc[0]['text'])"
      ],
      "metadata": {
        "colab": {
          "base_uri": "https://localhost:8080/"
        },
        "id": "PQ6rJ-Nf3Bgb",
        "outputId": "9a48f6a7-b9b6-4d37-cf81-2b7b526ee2dc"
      },
      "execution_count": 18,
      "outputs": [
        {
          "output_type": "stream",
          "name": "stdout",
          "text": [
            "digby morrell born 10 october 1979 is a former australian rules footballer who played with the kangaroos and carlton in the australian football league aflfrom western australia morrell played his early senior football for west perth his 44game senior career for the falcons spanned 19982000 and he was the clubs leading goalkicker in 2000 at the age of 21 morrell was recruited to the australian football league by the kangaroos football club with its third round selection in the 2001 afl rookie draft as a forward he twice kicked five goals during his time with the kangaroos the first was in a losing cause against sydney in 2002 and the other the following season in a drawn game against brisbaneafter the 2003 season morrell was traded along with david teague to the carlton football club in exchange for corey mckernan he played 32 games for the blues before being delisted at the end of 2005 he continued to play victorian football league vfl football with the northern bullants carltons vflaffiliate in 2006 and acted as playing assistant coach in 2007 in 2008 he shifted to the box hill hawks before retiring from playing at the end of the season from 2009 until 2013 morrell was the senior coach of the strathmore football club in the essendon district football league leading the club to the 2011 premier division premiership since 2014 he has coached the west coburg football club also in the edflhe currently teaches physical education at parade college in melbourne\n"
          ]
        }
      ]
    },
    {
      "cell_type": "markdown",
      "source": [
        "I wanted to see the contents in their entirety to see changes after each method.\n",
        "\n",
        "I saw lots of filler words like \"is, for, and\" etc"
      ],
      "metadata": {
        "id": "G09DsPlQ4T67"
      }
    },
    {
      "cell_type": "code",
      "source": [
        "#RETURN all contents for row 1, column 2 ('text') but wrapped\n",
        "import textwrap\n",
        "\n",
        "pd.set_option(\"display.max_colwidth\", None)  # Set maximum column width to unlimited\n",
        "\n",
        "text_0 = step1.loc[step1.index[0], 'text']\n",
        "wrapped_text0 = textwrap.fill(text, width=80)  # Wrap text to 80 characters wide\n",
        "print(wrapped_text0)"
      ],
      "metadata": {
        "colab": {
          "base_uri": "https://localhost:8080/"
        },
        "id": "3N7ZwL3d3Bch",
        "outputId": "a8a81f03-b588-43e6-d70c-89ae40d537ce"
      },
      "execution_count": 19,
      "outputs": [
        {
          "output_type": "stream",
          "name": "stdout",
          "text": [
            "harpdog brown is a singer and harmonica player who has been active in canadas\n",
            "blues scene since 1982 hailing from vancouver he crossed tens of thousands of\n",
            "miles playing club dates and festivals in canada the northwestern united states\n",
            "and germanyover the years he has issued seven cds in 1995 his home is where the\n",
            "harp is won the muddy award for the best nw blues release from the cascade blues\n",
            "association in portland oregon as well that year it was nominated for a canadian\n",
            "juno for the best bluesgospel recording teamed up with graham guest on piano his\n",
            "cd naturally was voted 1 canadian blues album of 2010 by the blind lemon\n",
            "surveybrown tours extensively with his guitarist j arthur edmonds performing\n",
            "their electric mid1950s chicago blues either as a duo or with the full band\n",
            "while he is home he juggles a few combos working many venues big and small he\n",
            "also leads the harpdog brown band which is a gutsy traditional chicago blues\n",
            "band in 2014 they released what it is comprising mainly original songs and a few\n",
            "classic covers influential blues promoter and broadcaster holger petersen called\n",
            "what it is browns best albumhe was just awarded the maple blues award in toronto\n",
            "for best harmonica player in canada 2014 and was honored with a life time\n",
            "membership to the hamilton blues society\n"
          ]
        }
      ]
    },
    {
      "cell_type": "markdown",
      "source": [
        "##Data Cleaning"
      ],
      "metadata": {
        "id": "tuiTD0DB4zot"
      }
    },
    {
      "cell_type": "markdown",
      "source": [
        "I ran each method individually to see the changes.\n",
        "\n",
        "All can be compiled into one code cell."
      ],
      "metadata": {
        "id": "fCrR06HA44kZ"
      }
    },
    {
      "cell_type": "code",
      "source": [
        "#Remove special characters, make lower case, remove stop words"
      ],
      "metadata": {
        "id": "COjuhrDl4vvs"
      },
      "execution_count": null,
      "outputs": []
    },
    {
      "cell_type": "markdown",
      "source": [
        "After applying lower case method multiple \\n appeared in output, indicating there was a break in line and these would have to be removed."
      ],
      "metadata": {
        "id": "1iSd1S1b63k0"
      }
    },
    {
      "cell_type": "code",
      "source": [
        "#make lower case\n",
        "wrapped_text0.lower()"
      ],
      "metadata": {
        "colab": {
          "base_uri": "https://localhost:8080/",
          "height": 122
        },
        "id": "xBt3e9-54vtx",
        "outputId": "69796418-91fc-4f48-e240-4eee00ed9243"
      },
      "execution_count": 20,
      "outputs": [
        {
          "output_type": "execute_result",
          "data": {
            "text/plain": [
              "'harpdog brown is a singer and harmonica player who has been active in canadas\\nblues scene since 1982 hailing from vancouver he crossed tens of thousands of\\nmiles playing club dates and festivals in canada the northwestern united states\\nand germanyover the years he has issued seven cds in 1995 his home is where the\\nharp is won the muddy award for the best nw blues release from the cascade blues\\nassociation in portland oregon as well that year it was nominated for a canadian\\njuno for the best bluesgospel recording teamed up with graham guest on piano his\\ncd naturally was voted 1 canadian blues album of 2010 by the blind lemon\\nsurveybrown tours extensively with his guitarist j arthur edmonds performing\\ntheir electric mid1950s chicago blues either as a duo or with the full band\\nwhile he is home he juggles a few combos working many venues big and small he\\nalso leads the harpdog brown band which is a gutsy traditional chicago blues\\nband in 2014 they released what it is comprising mainly original songs and a few\\nclassic covers influential blues promoter and broadcaster holger petersen called\\nwhat it is browns best albumhe was just awarded the maple blues award in toronto\\nfor best harmonica player in canada 2014 and was honored with a life time\\nmembership to the hamilton blues society'"
            ],
            "application/vnd.google.colaboratory.intrinsic+json": {
              "type": "string"
            }
          },
          "metadata": {},
          "execution_count": 20
        }
      ]
    },
    {
      "cell_type": "markdown",
      "source": [
        "Stop words were removed, including the \\n.\n",
        "\n",
        "This variable works backward-- it's telling the words to join back together after they have been split AND only if they are not stop words.\n",
        "\n",
        "It also includes turning the string to lower case."
      ],
      "metadata": {
        "id": "2Q0Xo6Q-7R4f"
      }
    },
    {
      "cell_type": "code",
      "source": [
        "# Remove stop words from wrapped_text\n",
        "wrapped_text_stop_lower = ' '.join([word for word in wrapped_text0.split() if word.lower() not in stop_words])\n",
        "wrapped_text_stop_lower"
      ],
      "metadata": {
        "colab": {
          "base_uri": "https://localhost:8080/",
          "height": 122
        },
        "id": "0jQhxe-P4vrh",
        "outputId": "14a5dc9d-6027-495f-9e9c-ccefc4f4608b"
      },
      "execution_count": 21,
      "outputs": [
        {
          "output_type": "execute_result",
          "data": {
            "text/plain": [
              "'harpdog brown singer harmonica player active canadas blues scene since 1982 hailing vancouver crossed tens thousands miles playing club dates festivals canada northwestern united states germanyover years issued seven cds 1995 home harp muddy award best nw blues release cascade blues association portland oregon well year nominated canadian juno best bluesgospel recording teamed graham guest piano cd naturally voted 1 canadian blues album 2010 blind lemon surveybrown tours extensively guitarist j arthur edmonds performing electric mid1950s chicago blues either duo full band home juggles combos working many venues big small also leads harpdog brown band gutsy traditional chicago blues band 2014 released comprising mainly original songs classic covers influential blues promoter broadcaster holger petersen called browns best albumhe awarded maple blues award toronto best harmonica player canada 2014 honored life time membership hamilton blues society'"
            ],
            "application/vnd.google.colaboratory.intrinsic+json": {
              "type": "string"
            }
          },
          "metadata": {},
          "execution_count": 21
        }
      ]
    },
    {
      "cell_type": "code",
      "source": [
        "#Turn string into text blob for further cleaning\n",
        "wrapped_textblob = TextBlob(wrapped_text_stop_lower)"
      ],
      "metadata": {
        "id": "ajNjKxaV4vpe"
      },
      "execution_count": 22,
      "outputs": []
    },
    {
      "cell_type": "code",
      "source": [
        "#Output sentiment\n",
        "wrapped_sentiment = wrapped_textblob.sentiment\n",
        "wrapped_sentiment"
      ],
      "metadata": {
        "colab": {
          "base_uri": "https://localhost:8080/"
        },
        "id": "9-0K6-2N4vnf",
        "outputId": "2609d2ae-9482-4f2e-f0aa-5103fa656526"
      },
      "execution_count": 23,
      "outputs": [
        {
          "output_type": "execute_result",
          "data": {
            "text/plain": [
              "Sentiment(polarity=0.30722222222222223, subjectivity=0.4277777777777778)"
            ]
          },
          "metadata": {},
          "execution_count": 23
        }
      ]
    },
    {
      "cell_type": "code",
      "source": [
        "#RETURN string as list of words\n",
        "words = wrapped_textblob.words\n",
        "words"
      ],
      "metadata": {
        "colab": {
          "base_uri": "https://localhost:8080/"
        },
        "id": "Hf1CDnqL8T9J",
        "outputId": "7cbb9d4a-4e0c-43f6-984d-a1845131719a"
      },
      "execution_count": 24,
      "outputs": [
        {
          "output_type": "execute_result",
          "data": {
            "text/plain": [
              "WordList(['harpdog', 'brown', 'singer', 'harmonica', 'player', 'active', 'canadas', 'blues', 'scene', 'since', '1982', 'hailing', 'vancouver', 'crossed', 'tens', 'thousands', 'miles', 'playing', 'club', 'dates', 'festivals', 'canada', 'northwestern', 'united', 'states', 'germanyover', 'years', 'issued', 'seven', 'cds', '1995', 'home', 'harp', 'muddy', 'award', 'best', 'nw', 'blues', 'release', 'cascade', 'blues', 'association', 'portland', 'oregon', 'well', 'year', 'nominated', 'canadian', 'juno', 'best', 'bluesgospel', 'recording', 'teamed', 'graham', 'guest', 'piano', 'cd', 'naturally', 'voted', '1', 'canadian', 'blues', 'album', '2010', 'blind', 'lemon', 'surveybrown', 'tours', 'extensively', 'guitarist', 'j', 'arthur', 'edmonds', 'performing', 'electric', 'mid1950s', 'chicago', 'blues', 'either', 'duo', 'full', 'band', 'home', 'juggles', 'combos', 'working', 'many', 'venues', 'big', 'small', 'also', 'leads', 'harpdog', 'brown', 'band', 'gutsy', 'traditional', 'chicago', 'blues', 'band', '2014', 'released', 'comprising', 'mainly', 'original', 'songs', 'classic', 'covers', 'influential', 'blues', 'promoter', 'broadcaster', 'holger', 'petersen', 'called', 'browns', 'best', 'albumhe', 'awarded', 'maple', 'blues', 'award', 'toronto', 'best', 'harmonica', 'player', 'canada', '2014', 'honored', 'life', 'time', 'membership', 'hamilton', 'blues', 'society'])"
            ]
          },
          "metadata": {},
          "execution_count": 24
        }
      ]
    },
    {
      "cell_type": "markdown",
      "source": [
        "Applying noun phrases method returned the string in neat noun phrases.\n",
        "\n",
        "Like looking for themes.\n",
        "\n",
        "Most years were not returned."
      ],
      "metadata": {
        "id": "h6PvPRao9ODt"
      }
    },
    {
      "cell_type": "code",
      "source": [
        "noun_phrases = wrapped_textblob.noun_phrases\n",
        "noun_phrases"
      ],
      "metadata": {
        "colab": {
          "base_uri": "https://localhost:8080/"
        },
        "id": "aPcd2mm78T6d",
        "outputId": "d79188cf-863b-401e-97f1-dd8a6e5e89fc"
      },
      "execution_count": 25,
      "outputs": [
        {
          "output_type": "execute_result",
          "data": {
            "text/plain": [
              "WordList(['brown singer harmonica player', 'active canadas blues scene', 'tens thousands miles', 'club dates festivals canada northwestern', 'states germanyover years', 'home harp muddy award', 'nw blues release cascade blues association portland oregon', 'canadian juno', 'graham guest piano cd', 'canadian blues album', 'blind lemon surveybrown tours', 'guitarist j arthur edmonds', 'electric mid1950s chicago blues', 'full band home juggles combos', 'brown band gutsy', 'traditional chicago blues band', 'original songs', 'influential blues promoter broadcaster holger petersen', 'maple blues', 'harmonica player canada', 'life time membership hamilton blues society'])"
            ]
          },
          "metadata": {},
          "execution_count": 25
        }
      ]
    },
    {
      "cell_type": "markdown",
      "source": [
        "re.sub is a function from the re module (regular expressions) in Python which finds and replaces patterns within strings\n",
        "\n",
        "I asked it to find and remove [^A-Za-z0-9\\w\\s] vs [^\\w\\s] because the first sweeps for and removes EVERYTHING that is not a string in upper/lower case or a number, a general word, and any whitespace. The second option does the same but only general word search and can leave things embedded in text such as _underscores.\n",
        "```\n",
        "For example - wild_horses would remain the same using [^\\w\\s]\n",
        "```"
      ],
      "metadata": {
        "id": "TY3PMyL2-Gnh"
      }
    },
    {
      "cell_type": "code",
      "source": [
        "# Remove special characters which are not alphanumeric and whitespace\n",
        "\n",
        "special = re.sub(r'[^A-Za-z0-9\\w\\s]', '', wrapped_text_stop_lower)\n",
        "special"
      ],
      "metadata": {
        "colab": {
          "base_uri": "https://localhost:8080/",
          "height": 122
        },
        "id": "6ARXc_hQ8T19",
        "outputId": "254a1ec4-ab91-4715-d40a-90d5745db5e8"
      },
      "execution_count": 26,
      "outputs": [
        {
          "output_type": "execute_result",
          "data": {
            "text/plain": [
              "'harpdog brown singer harmonica player active canadas blues scene since 1982 hailing vancouver crossed tens thousands miles playing club dates festivals canada northwestern united states germanyover years issued seven cds 1995 home harp muddy award best nw blues release cascade blues association portland oregon well year nominated canadian juno best bluesgospel recording teamed graham guest piano cd naturally voted 1 canadian blues album 2010 blind lemon surveybrown tours extensively guitarist j arthur edmonds performing electric mid1950s chicago blues either duo full band home juggles combos working many venues big small also leads harpdog brown band gutsy traditional chicago blues band 2014 released comprising mainly original songs classic covers influential blues promoter broadcaster holger petersen called browns best albumhe awarded maple blues award toronto best harmonica player canada 2014 honored life time membership hamilton blues society'"
            ],
            "application/vnd.google.colaboratory.intrinsic+json": {
              "type": "string"
            }
          },
          "metadata": {},
          "execution_count": 26
        }
      ]
    },
    {
      "cell_type": "markdown",
      "source": [
        "Will did it all in one code cell\n",
        "\n",
        "```\n",
        "# def process_data (text):\n",
        "#   '''\n",
        "#   This function will take a value and apply the lower case method, remove white spaces and characters and convert the text to TextBlob\n",
        "#   '''\n",
        "#   text = text.lower()\n",
        "#   text = re.sub(r\"[^\\w\\s]\", \"\", text)\n",
        "#   text = TextBlob(text)\n",
        "#   return text\n",
        "\n",
        "\n",
        "\n",
        "# df['text'] = df['text'].apply(process_data)\n",
        "```"
      ],
      "metadata": {
        "id": "fQ2rPfp-ABlz"
      }
    }
  ]
}